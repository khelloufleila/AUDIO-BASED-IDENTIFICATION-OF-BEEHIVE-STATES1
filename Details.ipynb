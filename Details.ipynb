{
 "cells": [
  {
   "cell_type": "markdown",
   "metadata": {},
   "source": [
    "#loads audio files which have annotations \n",
    "#segments and saves chunks accordingly to segment size, \n",
    "#reads labels from annotations and state, save both in csv file"
   ]
  },
  {
   "cell_type": "markdown",
   "metadata": {},
   "source": [
    "# Library"
   ]
  },
  {
   "cell_type": "code",
   "execution_count": 156,
   "metadata": {},
   "outputs": [],
   "source": [
    "# python -m pip install SoundFile\n",
    "import glob\n",
    "import os\n",
    "from info import i, printb, printr, printp, print\n",
    "import glob\n",
    "import os\n",
    "import librosa\n",
    "import pdb\n",
    "import csv\n",
    "import json\n",
    "import re\n",
    "import numpy as np\n",
    "import random\n",
    "import librosa.display\n",
    "import IPython.display as ipd\n",
    "from sklearn import preprocessing\n",
    "from collections import Counter\n",
    "from matplotlib import pyplot as plt\n",
    "from info import i, printb, printr, printp, print\n",
    "import muda\n",
    "import jams\n",
    "from sklearn import svm\n",
    "import librosa\n",
    "import keras"
   ]
  },
  {
   "cell_type": "markdown",
   "metadata": {},
   "source": [
    "# Pre processing "
   ]
  },
  {
   "cell_type": "code",
   "execution_count": 157,
   "metadata": {},
   "outputs": [],
   "source": [
    "#----------------------------------- parameters to change-----------------------------------#\n",
    "block_size=60 # blocks of 60 seconds\n",
    "thresholds=[0, 5]  # minimum length for nobee intervals: 0 or 5 seconds (creates one label file per threshold value)\n",
    "path_audioFiles=\"C:\\\\Users\\PC\\python\\Stage\\To Bee or not to Bee_the annotated dataset\"+os.sep  # path to audio files\n",
    "annotations_path=\"C:\\\\Users\\PC\\python\\Stage\\To Bee or not to Bee_the annotated dataset\"+os.sep # path to .lab files\n",
    "path_save_audio_labels= 'C:\\\\Users\\\\PC\\\\python\\\\Stage\\\\dataset_BeeNoBee2_'+str(block_size)+'sec'+os.sep  # path where to save audio segments and labels files.\n",
    "#-------------------------------------------------------------------------------------------#\n"
   ]
  },
  {
   "cell_type": "code",
   "execution_count": 57,
   "metadata": {},
   "outputs": [],
   "source": [
    "# if path doesn't exist then create one !!!\n",
    "if not os.path.exists(path_save_audio_labels):\n",
    "    os.makedirs(path_save_audio_labels)\n"
   ]
  },
  {
   "cell_type": "markdown",
   "metadata": {},
   "source": [
    "  \n",
    "    ## function: reads corresponding annotation file (.lab) and assigns a label to one block/sample. \n",
    "    ## Appends label into csv file.\n",
    "    ##\n",
    "    ## inputs: \n",
    "    ## audiofilename = name of the audio file (no path), \n",
    "    ## block_name = name of the sample/segment,  \n",
    "    ## blockStart = time point in seconds where block starts, \n",
    "    ## blockfinish = time point in seconds where block ends,\n",
    "    ## annotations_path = path to annotations folder (where .lab files are), \n",
    "    ## threshold = value tor threshold. \n",
    "    ##\n",
    "    ## outputs:\n",
    "    ## label_th= 2 element list, \n",
    "    ## [0] = a label (bee / nobee) for the block and threshold considered; \n",
    "    ## [1] = label strength, value that reflects the proportion of nobee interval in respect to the whole block.\n",
    "    \n",
    "    \n",
    "    # thershold gives the minimum duration of the no bee intervals we want to consider.\n",
    "    # trheshold=0 uses every event as notBee whatever the duration\n",
    "    # thershold=0.5 disregards intervals with less than half a second duration."
   ]
  },
  {
   "cell_type": "code",
   "execution_count": 58,
   "metadata": {},
   "outputs": [],
   "source": [
    "def read_beeNotBee_annotations_saves_labels(audiofilename, block_name,  blockStart, blockfinish, annotations_path, threshold=0):\n",
    "  \n",
    "    block_length=blockfinish-blockStart\n",
    "    #print(\"block_length: \", block_length)\n",
    "    if audiofilename.startswith('#'):\n",
    "        annotation_filename=audiofilename[1:-4]+'.lab'\n",
    "    else :\n",
    "        annotation_filename=audiofilename[0:-4]+'.lab'\n",
    "        \n",
    "        \n",
    "    try:    \n",
    "        with open(annotations_path + os.sep + annotation_filename,'r') as f:\n",
    "            # EXAMPLE FILE:\n",
    "            \n",
    "            # CF003 - Active - Day - (223)\n",
    "            # 0\t8.0\tbee\n",
    "            # 8.01\t15.05\tnobee\n",
    "            # 15.06\t300.0\tbee \n",
    "            # .\n",
    "            #\n",
    "            \n",
    "            # all files end with a dot followed by an empty line.\n",
    "\n",
    "            print(annotations_path + os.sep + annotation_filename)\n",
    "            lines = f.read().split('\\n')\n",
    "        \n",
    "            labels_th=['bee', 0.0]\n",
    "            label2assign='bee'\n",
    "            label_strength=0\n",
    "            intersected_s=0\n",
    "                            \n",
    "            for line in lines:\n",
    "                if (line == annotation_filename[0:-4]) or (line == '.') or (line ==''):\n",
    "                    #ignores title, '.', or empty line on the file.\n",
    "                    continue\n",
    "                \n",
    "               ## print(\"#############################  line \",line)\n",
    "                parsed_line= line.split('\\t')    \n",
    "                \n",
    "                assert (len(parsed_line)==3), ('expected 3 fields in each line, got: '+str(len(parsed_line))) \n",
    "                \n",
    "                \n",
    "                tp0=float(parsed_line[0])\n",
    "               ## print(\"tp0: \",tp0)\n",
    "                tp1=float(parsed_line[1])\n",
    "               ## print(\"tp1: \",tp1)\n",
    "                annotation_label=parsed_line[2]\n",
    "                if blockfinish < tp0: # no need to read further nobee intervals since annotation line is already after block finishes\n",
    "                    break\n",
    "                    \n",
    "                if annotation_label== 'nobee':\n",
    "               \n",
    "                   ## print(\"...............annotation_label=='nobee'..........................\")    \n",
    "                        \n",
    "                    if tp1-tp0 >= threshold:  # only progress if nobee interval is longer than defined threshold.\n",
    "                    \n",
    "                        if tp0 > blockStart and tp0 <= blockfinish and tp1 >= blockfinish:\n",
    "                            \n",
    "                            intersected_s=intersected_s + (blockfinish-tp0)  \n",
    "                           ## print(\" # bs          tp0 ######## bf########tp1\")\n",
    "                            # |____________########|########\n",
    "                            # bs          tp0      bf      tp1 \n",
    "                        \n",
    "                        elif tp1 >= blockStart and tp1 < blockfinish and tp0 <= blockStart:\n",
    "                            \n",
    "                            intersected_s=intersected_s+ (tp1-blockStart)\n",
    "                           ## print(\"# tp0 ######## bs  ########   tp1    bf\")\n",
    "                            # #####|########_____|\n",
    "                            # tp0  bs     tp1    bf\n",
    "                            \n",
    "                            \n",
    "                        elif tp1 >= blockStart and tp1 <= blockfinish and tp0 >= blockStart and tp0 <= blockfinish:\n",
    "                            \n",
    "                            intersected_s=intersected_s+ (tp1-tp0)\n",
    "                          ##  print(\"#bs   tp0  ########  tp1    bf\")\n",
    "                            # |_____########_____|\n",
    "                            # bs   tp0    tp1    bf\n",
    "                        \n",
    "                        elif tp0 <= blockStart and tp1 >= blockfinish:\n",
    "                            \n",
    "                            intersected_s=intersected_s + (blockfinish-blockStart)\n",
    "                          ##  print(\"tp0 #### bs############bf #### tp1\")\n",
    "                            #  ####|############|####\n",
    "                            # tp0  bs           bf  tp1\n",
    "                            \n",
    "                    if intersected_s > 0:\n",
    "                        label2assign='nobee'\n",
    "                    label_strength= intersected_s/block_length # proportion of nobee length in the block\n",
    "                    \n",
    "                    \n",
    "                    labels_th= [label2assign, round(label_strength,3)]  # if label_strehgth ==0 --> bee segment \n",
    "                    \n",
    "                    \n",
    "            assert (blockfinish <=tp1 ), ('the end of the request block falls outside the file: block ending: '+ str(blockfinish)+' end of file at: '+ str(tp1))\n",
    "            \n",
    "                \n",
    "    except FileNotFoundError as e:\n",
    "        print(e, '--Anotation file does not exist! label as unknown')\n",
    "        #print(annotation_filename=audiofilename[0:-4]+'.lab')\n",
    "            \n",
    "        label2assign = 'unknown'\n",
    "        label_strength=-1\n",
    "        \n",
    "        labels_th = [label2assign, label_strength]\n",
    "            \n",
    "    except Exception as e1:\n",
    "        print('unknown exception: '+str(e1))\n",
    "        #quit\n",
    "    \n",
    "    \n",
    "    return labels_th"
   ]
  },
  {
   "cell_type": "markdown",
   "metadata": {},
   "source": [
    "#segments audio files, assigns label BeeNotBee to each block, writes labels to csv , saves segmened blocks in wav.\n",
    "#independently of flag save_audioSegments, if .wav with same name already exists it won't save again.\n",
    "#new labels are just appended to existing labels file, if purpose is to redo the whole file delete before running.\n",
    "#load_audioFiles_saves_segments( path_audioFiles, path_save_audio_labels, block_size , thresholds, annotations_path, read_beeNotBee_annotations='yes', save_audioSegments='yes')\n",
    "    "
   ]
  },
  {
   "cell_type": "code",
   "execution_count": 59,
   "metadata": {},
   "outputs": [],
   "source": [
    "def load_audioFiles_saves_segments( path_audioFiles,path_save_audio_labels, block_size , thresholds, annotations_path, read_beeNotBee_annotations ='yes', save_audioSegments='yes'):\n",
    "\n",
    "    \n",
    "    audiofilenames_list = [os.path.basename(x) for x in glob.glob(path_audioFiles+'*.mp3')]\n",
    "    audiofilenames_list.extend([os.path.basename(x) for x in glob.glob(path_audioFiles+'*.wav')])\n",
    "    \n",
    "    printb(\"Number of audiofiles in folder: \"+str(len(audiofilenames_list)))\n",
    "    print(\"audiofilenames_list \",audiofilenames_list)\n",
    "    \n",
    "    fi=0\n",
    "    for file_name in audiofilenames_list:\n",
    "        fi=fi+1\n",
    "        print('\\n')\n",
    "        printb('Processing '+ file_name+'          :::file number:  '+str(fi)+' --------->of '+str(len(audiofilenames_list)))\n",
    "          \n",
    "\n",
    "        offset=0\n",
    "        block_id =0\n",
    "        \n",
    "        \n",
    "        while 1:\n",
    "                    \n",
    "            # READ ONE BLOCK OF THE AUDIO FILE\n",
    "            try:\n",
    "                ## Read one block of 60 seconds \n",
    "                block,sr = librosa.core.load(path_audioFiles+file_name, offset=offset, duration=block_size)\n",
    "                print(block.shape , sr)\n",
    "                print('-----------------Reading segment '+str(block_id))\n",
    "            except ValueError as e:\n",
    "                e\n",
    "                if 'Input signal length' in str(e):\n",
    "                    block=np.arange(0)\n",
    "            except FileNotFoundError as e1:\n",
    "                print(e1, ' but continuing anyway')\n",
    "                \n",
    "            ##print(\"test\")\n",
    "            if block.shape[0] > 0:    #when total length = multiple of blocksize, results that last block is 0-lenght, this if bypasses those cases.\n",
    "                \n",
    "                block_name=file_name[0:-4]+'__segment'+str(block_id)\n",
    "               ## print(block_name)\n",
    "                \n",
    "                # READ BEE NOT_BEE ANNOTATIONS:\n",
    "                if read_beeNotBee_annotations == 'yes':\n",
    "                    print('---------------------Will read BeeNotbee anotations and create labels for segment'+str(block_id))\n",
    "                    blockStart=offset\n",
    "                    ##print(\"blockStart: \",blockStart)\n",
    "                    blockfinish=offset+block_size\n",
    "                    ##print(\"blockfinish: \",blockfinish)\n",
    "                    \n",
    "                    for th in thresholds:\n",
    "                        print(\"th::::::::::\", th)\n",
    "                        label_file_exists = os.path.isfile(path_save_audio_labels+'labels_BeeNotBee_th'+str(th)+'.csv')\n",
    "                        with open(path_save_audio_labels+'labels_BeeNotBee_th'+str(th)+'.csv','a', newline='') as label_file:\n",
    "                            writer =csv.DictWriter(label_file, fieldnames=['sample_name', 'segment_start','segment_finish', 'label_strength', 'label'], delimiter=',')\n",
    "                            if not label_file_exists:\n",
    "                                writer.writeheader()\n",
    "                          ##  print(\"start read_beeNotBee_annotation_saves_labels\")\n",
    "                            label_block_th=read_beeNotBee_annotations_saves_labels(file_name, block_name,  blockStart, blockfinish, annotations_path, th)                            \n",
    "                            print(\"label_block_th : \", label_block_th)                           \n",
    "                            writer.writerow({'sample_name': block_name, 'segment_start': blockStart, 'segment_finish': blockfinish , 'label_strength': label_block_th[1],  'label': label_block_th[0]} )\n",
    "                            print('-----------------Wrote label for th '+ str(th)+' seconds of segment'+str(block_id)  ) \n",
    "                    \n",
    "               \n",
    "                # MAKE BLOCK OF THE SAME SIZE:\n",
    "                if block.shape[0] < block_size*sr:   \n",
    "                    block = uniform_block_size(block, block_size*sr, 'repeat')\n",
    "                    print('-----------------Uniformizing block length of segment'+str(block_id)  ) \n",
    "\n",
    "                        \n",
    "            \n",
    "                # Save audio segment:\n",
    "                if save_audioSegments=='yes' and (not os.path.exists(path_save_audio_labels+block_name+'.wav')): #saves only if option is chosen and if block file doesn't already exist.\n",
    "                    librosa.output.write_wav(path_save_audio_labels+block_name+'.wav', block, sr)\n",
    "                    print( '-----------------Saved wav file for segment '+str(block_id))\n",
    "                \n",
    "                    \n",
    "                    \n",
    "            else :\n",
    "                print('----------------- no more segments for this file--------------------------------------')\n",
    "                print('\\n')\n",
    "                break\n",
    "            offset += block_size\n",
    "            block_id += 1\n",
    "    printb('______________________________No more audioFiles___________________________________________________')\n",
    "       \n",
    "    return \n"
   ]
  },
  {
   "cell_type": "code",
   "execution_count": 79,
   "metadata": {},
   "outputs": [],
   "source": [
    "def uniform_block_size(undersized_block, block_size_samples, method='repeat' ):\n",
    "\n",
    "    lengthTofill=(block_size_samples)-(undersized_block.size)\n",
    "    if method == 'zero_padding':\n",
    "        new_block=np.pad(undersized_block, (0,lengthTofill), 'constant', constant_values=(0) )\n",
    "\n",
    "    elif method=='mean_padding':\n",
    "        new_block=np.pad(undersized_block, (0,lengthTofill), 'mean' )\n",
    "    \n",
    "    elif method=='repeat':        \n",
    "        new_block= np.pad(undersized_block, (0,lengthTofill), 'reflect')\n",
    "    else:\n",
    "        print('methods to choose are: \\'zero_padding\\' ,\\'mean_padding\\' and \\'repeat\\' ' )\n",
    "        new_block=0\n",
    "              \n",
    "    return new_block"
   ]
  },
  {
   "cell_type": "code",
   "execution_count": 254,
   "metadata": {},
   "outputs": [],
   "source": [
    "load_audioFiles_saves_segments( path_audioFiles, path_save_audio_labels, block_size , thresholds, annotations_path, read_beeNotBee_annotations='yes', save_audioSegments='yes')    "
   ]
  },
  {
   "cell_type": "markdown",
   "metadata": {},
   "source": [
    "# load_audioFiles_saves_segments return 2 files .csv: \n",
    "- sample_name,segment_start,segment_finish,label_strength,label\n",
    "- CF003 - Active - Day - (214)__segment0,0,60,0.479,nobee\n",
    "- CF003 - Active - Day - (214)__segment1,60,120,0.841,nobee\n",
    "- CF003 - Active - Day - (214)__segment2,120,180,1.0,nobee\n",
    "- CF003 - Active - Day - (214)__segment3,180,240,0.993,nobee\n",
    "- CF003 - Active - Day - (214)__segment4,240,300,0.944,nobee\n",
    "- CF003 - Active - Day - (215)__segment0,0,60,0.202,nobee"
   ]
  },
  {
   "cell_type": "code",
   "execution_count": 158,
   "metadata": {},
   "outputs": [
    {
     "name": "stdout",
     "output_type": "stream",
     "text": [
      "[2020-04-27 21:03:13 RAM68.1% 1.07GB] path_beeNotbee_labels:  C:\\Users\\PC\\python\\Stage\\dataset_BeeNoBee2_60sec\\labels_BeeNotBee_th0.csv\n"
     ]
    }
   ],
   "source": [
    "# \n",
    "path_beeNotbee_labels = path_save_audio_labels + 'labels_BeeNotBee_th'+str(thresholds[0])+'.csv'\n",
    "print(\"path_beeNotbee_labels: \",path_beeNotbee_labels)"
   ]
  },
  {
   "cell_type": "code",
   "execution_count": 81,
   "metadata": {},
   "outputs": [],
   "source": [
    "def read_HiveState_fromSampleName( filename, states):   #states: state_labels=['active','missing queen','swarm' ]\n",
    "    label_state='other'\n",
    "    for state in states:\n",
    "        if state in filename.lower():\n",
    "           # print(\"1 \", filename)\n",
    "            label_state = state\n",
    "    #incorporate condition for Nu-hive recordings which do not follow the same annotation: 'QueenBee' or 'NO_QueenBee'\n",
    "    \n",
    "    if label_state=='other':\n",
    "        if 'NO_QueenBee' in filename:\n",
    "            ##print(\"NO_QueenBee\",label_state )\n",
    "            label_state = states[1]\n",
    "        else:\n",
    "            label_state=states[0]\n",
    "    return label_state"
   ]
  },
  {
   "cell_type": "markdown",
   "metadata": {},
   "source": [
    "# read_HiveState_fromSampleName return label_state:\n",
    "- where it read filename and return  label_state=['active'or  'missing queen'or  'swarm'] \n",
    "- example : filename=  CF003 - Active - Day - (223)__segment2\n",
    "-           label_state :  active\n"
   ]
  },
  {
   "cell_type": "code",
   "execution_count": 154,
   "metadata": {},
   "outputs": [],
   "source": [
    "# \n",
    "def write_Statelabels_from_beeNotBeelabels(path_save, path_labels_BeeNotBee, states=['active','missing queen','swarm' ]):\n",
    "    \n",
    "    #label_file_exists = os.path.isfile(path_save+'state_labels.csv')\n",
    "    \n",
    "    with open(path_labels_BeeNotBee, 'r' ) as rfile, \\\n",
    "    open(path_save+'state_labels.csv', 'w', newline='') as f_out:\n",
    "        csvreader = csv.reader(rfile, delimiter=',')\n",
    "        writer= csv.DictWriter(f_out, fieldnames=['sample_name', 'label'], delimiter=',') \n",
    "        #if not label_file_exists:\n",
    "        writer.writeheader()\n",
    "        \n",
    "        for row in csvreader:\n",
    "            if not row[0]=='sample_name':\n",
    "                label_state=read_HiveState_fromSampleName(row[0], states)\n",
    "                print(row[0],\"label_state : \", label_state)\n",
    "                writer.writerow({'sample_name':row[0], 'label':label_state})\n",
    "    return"
   ]
  },
  {
   "cell_type": "markdown",
   "metadata": {},
   "source": [
    "#  write_Statelabels_from_beeNotBeelabels return a file sate_labels.csv:\n",
    "\n",
    "- sample_name,label\n",
    "- CF003 - Active - Day - (214)__segment0,active\n",
    "- CF003 - Active - Day - (214)__segment1,active\n",
    "- CF003 - Active - Day - (214)__segment2,active\n",
    "- CF003 - Active - Day - (214)__segment3,active\n",
    "- CF003 - Active - Day - (214)__segment4,active\n",
    "- CF003 - Active - Day - (215)__segment0,active\n"
   ]
  },
  {
   "cell_type": "code",
   "execution_count": 155,
   "metadata": {},
   "outputs": [
    {
     "ename": "NameError",
     "evalue": "name 'path_save_audio_labels' is not defined",
     "output_type": "error",
     "traceback": [
      "\u001b[1;31m---------------------------------------------------------------------------\u001b[0m",
      "\u001b[1;31mNameError\u001b[0m                                 Traceback (most recent call last)",
      "\u001b[1;32m<ipython-input-155-cd6e8aee6299>\u001b[0m in \u001b[0;36m<module>\u001b[1;34m\u001b[0m\n\u001b[0;32m      1\u001b[0m \u001b[1;31m# reads labels beeNotBee files and creates corresponding states label file\u001b[0m\u001b[1;33m\u001b[0m\u001b[1;33m\u001b[0m\u001b[1;33m\u001b[0m\u001b[0m\n\u001b[1;32m----> 2\u001b[1;33m \u001b[0mwrite_Statelabels_from_beeNotBeelabels\u001b[0m\u001b[1;33m(\u001b[0m\u001b[0mpath_save_audio_labels\u001b[0m\u001b[1;33m,\u001b[0m \u001b[0mpath_beeNotbee_labels\u001b[0m\u001b[1;33m,\u001b[0m \u001b[0mstates\u001b[0m\u001b[1;33m=\u001b[0m\u001b[1;33m[\u001b[0m\u001b[1;34m'active'\u001b[0m\u001b[1;33m,\u001b[0m\u001b[1;34m'missing queen'\u001b[0m\u001b[1;33m,\u001b[0m\u001b[1;34m'swarm'\u001b[0m \u001b[1;33m]\u001b[0m\u001b[1;33m)\u001b[0m\u001b[1;33m\u001b[0m\u001b[1;33m\u001b[0m\u001b[0m\n\u001b[0m\u001b[0;32m      3\u001b[0m \u001b[1;33m\u001b[0m\u001b[0m\n",
      "\u001b[1;31mNameError\u001b[0m: name 'path_save_audio_labels' is not defined"
     ]
    }
   ],
   "source": [
    " # reads labels beeNotBee files and creates corresponding states label file\n",
    "write_Statelabels_from_beeNotBeelabels(path_save_audio_labels, path_beeNotbee_labels, states=['active','missing queen','swarm' ])\n",
    "    "
   ]
  },
  {
   "cell_type": "code",
   "execution_count": 84,
   "metadata": {},
   "outputs": [],
   "source": [
    "def get_list_samples_names(path_audioSegments_folder, extension='.wav'):\n",
    "    # Recupèrer tout les audios d'extention .wav\"\"\"\"\"\" glob.glob(path_audioSegments_folder+'*'+extension)\"\"\"\"\"\"\n",
    "    sample_ids=[os.path.basename(x) for x in glob.glob(path_audioSegments_folder+'*'+extension)]\n",
    "    return sample_ids\n",
    "    "
   ]
  },
  {
   "cell_type": "code",
   "execution_count": 85,
   "metadata": {},
   "outputs": [
    {
     "name": "stdout",
     "output_type": "stream",
     "text": [
      "[2020-04-19 15:06:49 RAM59.7% 0.25GB] 429\n"
     ]
    },
    {
     "data": {
      "text/plain": [
       "['CF001 - Missing Queen - Day -__segment0.wav',\n",
       " 'CF003 - Active - Day - (214)__segment0.wav',\n",
       " 'CF003 - Active - Day - (214)__segment1.wav',\n",
       " 'CF003 - Active - Day - (214)__segment2.wav',\n",
       " 'CF003 - Active - Day - (214)__segment3.wav',\n",
       " 'CF003 - Active - Day - (214)__segment4.wav',\n",
       " 'CF003 - Active - Day - (215)__segment0.wav',\n",
       " 'CF003 - Active - Day - (215)__segment1.wav',\n",
       " 'CF003 - Active - Day - (215)__segment2.wav',\n",
       " 'CF003 - Active - Day - (215)__segment3.wav']"
      ]
     },
     "execution_count": 85,
     "metadata": {},
     "output_type": "execute_result"
    }
   ],
   "source": [
    "sample_ids=get_list_samples_names(path_save_audio_labels) # get sample ids from audio segments folder.\n",
    "print(len(sample_ids) ) \n",
    "sample_ids[0:10]"
   ]
  },
  {
   "cell_type": "markdown",
   "metadata": {},
   "source": [
    "# split data by Hive \n",
    "  "
   ]
  },
  {
   "cell_type": "code",
   "execution_count": 86,
   "metadata": {},
   "outputs": [],
   "source": [
    "def write_sample_ids_perHive(sample_ids , savepath):\n",
    "    \n",
    "#identify different hives:\n",
    "    #in the NU-Hive dataset the hives are identified in the string Hive1 or Hive3 in the beginning.\n",
    "    #in OSBH every file referring to the same person will be considered as if the same Hive: identified by nameInitials \n",
    "    #-other files that do not follow this can be grouped in the same hive ()\n",
    "    #get from unique filenames all unique identifiers of hives: either read the string until the first_  :example 'Hive3_\n",
    "    #or get the string starting in '#' until the first ' - '. example: '#CF003 - '\n",
    "#uniqueFilenames=['Hive3_20_07_2017_QueenBee_H3_audio___15_40_00.wav', \n",
    "    #                 'Hive1_20_07_2017_QueenBee_H3_audio___15_40_00.wav', \n",
    "    #                 'Hive3_20_07_22017_QueenBee_H3_audio___15_40_00.wav', \n",
    "    #                 'Sound Inside a Swarming Bee Hive  -25 to -15 minutes-sE02T8B2LfA.wav', \n",
    "    #                 'Sound Inside a Swarming Bee Hive  +25 to -15 minutes-sE02T8B2LfA.wav', \n",
    "    #                 '#CF003 - Active - Day - (222).csv', '#CF003 - Active - Day - (212).csv']\n",
    "    \n",
    "    \n",
    "    uniqueHivesNames={}\n",
    "    pat1=re.compile(\"(\\w+\\d)\\s-\\s\")\n",
    "    pat2=re.compile(\"^(Hive\\d)_\")\n",
    "    pat3=re.compile(\"^(Hive\\d)\\s\")\n",
    "    for sample in sample_ids:\n",
    "        match_pat1=pat1.match(sample)\n",
    "        match_pat2=pat2.match(sample)\n",
    "        match_pat3=pat3.match(sample)\n",
    "        \n",
    "        if match_pat1:\n",
    "            if match_pat1.group(1) in uniqueHivesNames.keys():\n",
    "                #print(match_pat1.group(1))\n",
    "                uniqueHivesNames[match_pat1.group(1)].append(sample)\n",
    "            else: \n",
    "                uniqueHivesNames[match_pat1.group(1)]=[sample]\n",
    "        \n",
    "        \n",
    "        elif match_pat3:\n",
    "            if match_pat3.group(1) in uniqueHivesNames.keys():\n",
    "                uniqueHivesNames[match_pat3.group(1)].append(sample)\n",
    "            else: \n",
    "                uniqueHivesNames[match_pat3.group(1)]=[sample]\n",
    "              \n",
    "        elif match_pat2:\n",
    "            if match_pat2.group(1) in uniqueHivesNames.keys():\n",
    "                uniqueHivesNames[match_pat2.group(1)].append(sample)\n",
    "            else: \n",
    "                uniqueHivesNames[match_pat2.group(1)]=[sample]\n",
    "        else: \n",
    "            #odd case, like files names 'Sound Inside a Swarming Bee Hive  -25 to -15 minutes-sE02T8B2LfA.wav'\n",
    "            #will be all gathred as the same hive, although we need to be careful if other names appear!\n",
    "            if 'Sound Inside a Swarming Bee Hive' in uniqueHivesNames.keys():\n",
    "                uniqueHivesNames['Sound Inside a Swarming Bee Hive'].append(sample)\n",
    "            else: \n",
    "                uniqueHivesNames['Sound Inside a Swarming Bee Hive']=[sample]  \n",
    "                \n",
    "    \n",
    "    \n",
    "    with open(savepath+'sampleID_perHive.json', 'w') as outfile:\n",
    "        json.dump(uniqueHivesNames, outfile)\n",
    "    \n",
    "    return uniqueHivesNames\n"
   ]
  },
  {
   "cell_type": "code",
   "execution_count": 87,
   "metadata": {},
   "outputs": [
    {
     "name": "stdout",
     "output_type": "stream",
     "text": [
      "[2020-04-19 15:06:58 RAM59.6% 0.25GB] dict_keys(['CF001', 'CF003', 'CJ001', 'GH001', 'Hive1', 'Hive3'])\n"
     ]
    }
   ],
   "source": [
    "# retrieves unique hives names and also writes these to a file\n",
    "hives=write_sample_ids_perHive(sample_ids , path_save_audio_labels)  \n",
    "#hives=get_uniqueHives_names_from_File(path_save_audio_labels)\n",
    "print(hives.keys())\n"
   ]
  },
  {
   "cell_type": "code",
   "execution_count": 88,
   "metadata": {},
   "outputs": [],
   "source": [
    "def split_samples_byHive(test_size, train_size, hives_data_dictionary, splitPath_save):\n",
    "    \n",
    "## creates 3 different sets intended for hive-independent classification. meaning that samples are separated accordingly \n",
    "## to the hive.\n",
    "    ## input: \n",
    "    ## test_size, ex: 0.1  : 10% hives for test\n",
    "    ## train_size, ex: 0.7: 70% hives for training, 30% for valisdation. (after having selected test samples!!)  \n",
    "    ## splitPath_save = path and name where to save the splitted samples id dictionary\n",
    "    \n",
    "    ## output:\n",
    "    ## returns and dumps a dictionary: {test : [sample_id1, sample_id2, ..], train : [], 'val': [sample_id2, sample_id2]}\n",
    "    \n",
    "    splittedSamples={'test': [], 'train': [], 'val':[]}\n",
    "    \n",
    "    n_hives = len(hives_data_dictionary.keys())  # n_hives=4\n",
    "    \n",
    "    hives_list=list(hives_data_dictionary.keys()) # hives_list= ['CF003', 'CJ001', 'Hive1', 'Hive3']\n",
    "        \n",
    "    hives_rest1=random.sample(hives_list, round(n_hives*(1-test_size))) # hives_rest1= ['Hive3', 'Hive1', 'CF003', 'CJ001']\n",
    "    \n",
    "    if len(hives_rest1) == len(hives_list):\n",
    "        rand_hive = random.sample(range(len(hives_rest1)),1)\n",
    "        hives_rest=hives_rest1[:]\n",
    "        del hives_rest[rand_hive[0]]\n",
    "    else:\n",
    "        \n",
    "        hives_rest = hives_rest1[:]\n",
    "  \n",
    "    hiveTEST=np.setdiff1d(hives_list , hives_rest)\n",
    "    \n",
    "    hiveVAL=random.sample(hives_rest, round(len(hives_rest)*train_size))\n",
    "    hiveTRAIN=np.setdiff1d(hives_rest , hiveVAL)\n",
    "    \n",
    "    \n",
    "    print('hives for testing: '+ str(list(hiveTEST)))\n",
    "    print('hives for training: '+ str(list(hiveTRAIN)) )\n",
    "    print('hives for validation: '+ str(hiveVAL))\n",
    "    \n",
    "    \n",
    "    for ht in list(hiveTEST):\n",
    "        splittedSamples['test'].extend(hives_data_dictionary[ht])\n",
    "\n",
    "    for h1 in list(hiveTRAIN):\n",
    "        splittedSamples['train'].extend(hives_data_dictionary[h1])\n",
    "    \n",
    "    for h2 in hiveVAL:\n",
    "        splittedSamples['val'].extend(hives_data_dictionary[h2])\n",
    "\n",
    "    with open(splitPath_save+'.json', 'w') as outfile:\n",
    "        json.dump(splittedSamples, outfile)\n",
    "    \n",
    "    return splittedSamples  "
   ]
  },
  {
   "cell_type": "code",
   "execution_count": 89,
   "metadata": {},
   "outputs": [
    {
     "name": "stdout",
     "output_type": "stream",
     "text": [
      "[2020-04-19 15:07:14 RAM59.4% 0.25GB] hives for testing: ['CF003']\n",
      "[2020-04-19 15:07:14 RAM59.4% 0.25GB] hives for training: ['CF001', 'CJ001', 'Hive1']\n",
      "[2020-04-19 15:07:14 RAM59.4% 0.25GB] hives for validation: ['GH001', 'Hive3']\n",
      "[2020-04-19 15:07:14 RAM59.4% 0.25GB] 70\n",
      "[2020-04-19 15:07:14 RAM59.4% 0.25GB] 136\n",
      "[2020-04-19 15:07:14 RAM59.4% 0.25GB] 223\n",
      "[2020-04-19 15:07:14 RAM59.4% 0.25GB] hives for testing: ['GH001']\n",
      "[2020-04-19 15:07:14 RAM59.4% 0.25GB] hives for training: ['CF003', 'CJ001', 'Hive1']\n",
      "[2020-04-19 15:07:14 RAM59.4% 0.25GB] hives for validation: ['Hive3', 'CF001']\n",
      "[2020-04-19 15:07:14 RAM59.4% 0.25GB] 53\n",
      "[2020-04-19 15:07:14 RAM59.4% 0.25GB] 205\n",
      "[2020-04-19 15:07:14 RAM59.4% 0.25GB] 171\n",
      "[2020-04-19 15:07:14 RAM59.4% 0.25GB] hives for testing: ['Hive3']\n",
      "[2020-04-19 15:07:14 RAM59.4% 0.25GB] hives for training: ['CF001', 'CF003', 'CJ001']\n",
      "[2020-04-19 15:07:14 RAM59.4% 0.25GB] hives for validation: ['Hive1', 'GH001']\n",
      "[2020-04-19 15:07:14 RAM59.4% 0.25GB] 170\n",
      "[2020-04-19 15:07:14 RAM59.4% 0.25GB] 96\n",
      "[2020-04-19 15:07:14 RAM59.4% 0.25GB] 163\n"
     ]
    }
   ],
   "source": [
    "# 10% hives for test , 50% for training \n",
    "for i in range(3):\n",
    "    split_dict = split_samples_byHive(0.1, 0.5, hives, path_save_audio_labels+'split_byHive_'+str(i))\n",
    "    #print(split_dict )\n",
    "    print(len(split_dict['test']) )  \n",
    "    print(len(split_dict['train']) )\n",
    "    print(len(split_dict['val']) )"
   ]
  },
  {
   "cell_type": "markdown",
   "metadata": {},
   "source": [
    "# split data randomly"
   ]
  },
  {
   "cell_type": "code",
   "execution_count": 90,
   "metadata": {},
   "outputs": [],
   "source": [
    "def split_samples_ramdom(test_size, train_size, path_audioSegments_folder, splitPath_save, extension ='.wav'):\n",
    "\n",
    "    \n",
    "    splittedSamples = {'test': [], 'train': [], 'val':[]}\n",
    "    \n",
    "    list_samples_id = get_list_samples_names(path_audioSegments_folder, extension)\n",
    "    n_segments = len(list_samples_id)\n",
    "    print(n_segments)\n",
    "    samplesTEST=random.sample(list_samples_id, round(n_segments*test_size))\n",
    "    samples_rest=np.setdiff1d(list_samples_id , samplesTEST)\n",
    "    samplesVAL=random.sample(samples_rest.tolist(), round(samples_rest.size*train_size))\n",
    "    samplesTRAIN=np.setdiff1d(samples_rest , samplesVAL).tolist()\n",
    "\n",
    "    print(\"size test: \",len((list(samplesTEST))),\"size train :\",len(list(samplesTRAIN)),\"size val: \",  len(samplesVAL))\n",
    "    print('samples for testing: '+ str(list(samplesTEST)))\n",
    "    print('samples for training: '+ str(list(samplesTRAIN)))\n",
    "    print('samples for validation: '+ str(samplesVAL))\n",
    "    \n",
    "    splittedSamples['val'] = samplesVAL\n",
    "    splittedSamples['test'] = samplesTEST\n",
    "    splittedSamples['train'] = samplesTRAIN\n",
    "    \n",
    "    with open(splitPath_save+'.json', 'w') as outfile:\n",
    "        json.dump(splittedSamples, outfile)\n",
    "    \n",
    "    return splittedSamples"
   ]
  },
  {
   "cell_type": "code",
   "execution_count": 255,
   "metadata": {},
   "outputs": [],
   "source": [
    "for i in range(3):\n",
    "    print(\"...................................\",i, \"............................................................\")\n",
    "    split_dict = split_samples_ramdom(0.1,0.5,path_save_audio_labels, path_save_audio_labels+'split_random_'+str(i))\n",
    "    "
   ]
  },
  {
   "cell_type": "markdown",
   "metadata": {},
   "source": [
    "# SVM_Classification: "
   ]
  },
  {
   "cell_type": "code",
   "execution_count": 117,
   "metadata": {},
   "outputs": [],
   "source": [
    "#----------------------------------- parameters to change-----------------------------------#\n",
    "block_size=60 # blocks of 60 seconds\n",
    "path_workingFolder='C:\\\\Users\\\\PC\\\\python\\\\Stage\\\\dataset_BeeNoBee2_'+str(block_size)+'sec'+os.sep  # path where to save audio segments and labels files.\n",
    "labels2read= 'labels_BeeNotBee_th0'\n",
    "feature = 'MFCCs20'\n",
    "#-------------------------------------------------------------------------------------------#\n"
   ]
  },
  {
   "cell_type": "markdown",
   "metadata": {},
   "source": [
    "# Feature extraction: "
   ]
  },
  {
   "cell_type": "code",
   "execution_count": 116,
   "metadata": {},
   "outputs": [],
   "source": [
    "def get_samples_id_perSet(pathSplitFile):  # reads split_id file\n",
    "\n",
    "   \n",
    "    split_dict=json.load(open (pathSplitFile, 'r'))\n",
    "    \n",
    "    sample_ids_test = split_dict['test'] \n",
    "    sample_ids_train = split_dict['train'] \n",
    "    sample_ids_val = split_dict['val']\n",
    "    return sample_ids_test, sample_ids_train, sample_ids_val"
   ]
  },
  {
   "cell_type": "markdown",
   "metadata": {},
   "source": [
    "# He used split_random_0.json where \n",
    "## size test:  43 size train : 193 size val:  193"
   ]
  },
  {
   "cell_type": "code",
   "execution_count": 118,
   "metadata": {},
   "outputs": [
    {
     "name": "stdout",
     "output_type": "stream",
     "text": [
      "[2020-04-27 20:12:40 RAM62.9% 0.04GB] 43 193 193\n"
     ]
    }
   ],
   "source": [
    "sample_ids_test, sample_ids_train, sample_ids_val = get_samples_id_perSet(path_workingFolder+'split_random_0.json') \n",
    "print(len(sample_ids_test),len( sample_ids_train) ,len( sample_ids_val))"
   ]
  },
  {
   "cell_type": "markdown",
   "metadata": {},
   "source": [
    "# raw_feature_fromSample return MFCCs matrix "
   ]
  },
  {
   "cell_type": "code",
   "execution_count": 119,
   "metadata": {},
   "outputs": [],
   "source": [
    "    \n",
    "def raw_feature_fromSample( path_audio_sample, feature2extract ):\n",
    "        \n",
    "    audio_sample, sr = librosa.core.load(path_audio_sample) # sr= 22050\n",
    "    m = re.match(r\"\\w+s(\\d+)\", feature2extract) #  m:  <re.Match object; span=(0, 7), match='MFCCs20'>\n",
    "    n_freqs=int(m.groups()[0]) ## n_freqs= 20\n",
    "    ## m.groups()==('20',)\n",
    "    Melspec = librosa.feature.melspectrogram(audio_sample, n_mels = n_freqs) # computes mel spectrograms from audio sample, \n",
    "    \n",
    "    if 'LOG' in feature2extract: #'LOG_MELfrequencies48'\n",
    "        Melspec=librosa.feature.melspectrogram(audio_sample, sr=sr, n_mels=n_freqs)\n",
    "        x=librosa.power_to_db(Melspec+1)\n",
    "        \n",
    "    elif 'MFCCs' in feature2extract:\n",
    "        n_freqs = int(feature2extract[5:len(feature2extract)]) ## n_freqs==20\n",
    "        Melspec = librosa.feature.melspectrogram(audio_sample, sr=sr)\n",
    "        x = librosa.feature.mfcc(S=librosa.power_to_db(Melspec),sr=sr, n_mfcc = n_freqs)\n",
    "        \n",
    "    else:\n",
    "        x = Melspec\n",
    "\n",
    "    return x  "
   ]
  },
  {
   "cell_type": "code",
   "execution_count": 120,
   "metadata": {},
   "outputs": [],
   "source": [
    "    \n",
    "def featureMap_normalization_block_level(feature_map, normalizationType='min_max'):\n",
    "   \n",
    "    \n",
    "    # TODO other levels of normalization (example: whole dataset, set (train, val or test) level)\n",
    "\n",
    "    if normalizationType== 'min_max': # min_max scaling\n",
    "        \n",
    "        min_max_scaler = preprocessing.MinMaxScaler()\n",
    "        print(\"min_max_scaler : \",min_max_scaler)\n",
    "        normalized_featureMap = min_max_scaler.fit_transform(feature_map)\n",
    "    \n",
    "    if normalizationType == 'z_norm': # standardization(z-normalization)\n",
    "        normalized_featureMap = preprocessing.scale(feature_map)   \n",
    "\n",
    "    return normalized_featureMap\n",
    "    "
   ]
  },
  {
   "cell_type": "code",
   "execution_count": 121,
   "metadata": {},
   "outputs": [],
   "source": [
    "def compute_statistics_overSpectogram(spectrogram):        \n",
    "        \n",
    "    x_diff=np.diff(spectrogram,1,0)    \n",
    "    \n",
    "    X_4features=np.concatenate((np.mean(spectrogram,1), np.std(spectrogram,1),np.mean(x_diff,1), np.std(x_diff,1)), axis=0)\n",
    "   \n",
    "    X_flat = np.asarray(X_4features)\n",
    "   \n",
    "    return X_flat\n",
    "\n",
    "\n",
    "   \n",
    "        "
   ]
  },
  {
   "cell_type": "code",
   "execution_count": 122,
   "metadata": {},
   "outputs": [],
   "source": [
    "def compute_statistics_overMFCCs(MFCC, first='yes'):\n",
    "    \n",
    "    x_delta=librosa.feature.delta(MFCC)\n",
    "    x_delta2=librosa.feature.delta(MFCC, order=2)\n",
    "    \n",
    "    if first=='no':\n",
    "        MFCC=MFCC[1:]\n",
    "        x_delta=x_delta[1:]\n",
    "        x_delta2=x_delta2[1:]\n",
    "                \n",
    "    X_4features=np.concatenate((np.mean(MFCC,1), np.std(MFCC,1),np.mean(x_delta,1), np.std(x_delta,1), np.mean(x_delta2,1), np.std(x_delta2,1)), axis=0)\n",
    "    \n",
    "    X_flat = np.asarray(X_4features)\n",
    "\n",
    "    return X_flat "
   ]
  },
  {
   "cell_type": "code",
   "execution_count": 123,
   "metadata": {},
   "outputs": [],
   "source": [
    "def get_features_from_samples(path_audio_samples, sample_ids, raw_feature, normalization, high_level_features ): \n",
    "    #normalization = NO, z_norm, min_max\n",
    "    ## function to extract features \n",
    "    #high_level_features = 0 or 1 \n",
    "    \n",
    "    n_samples_set = len(sample_ids) # 4\n",
    "    feature_Maps = []\n",
    "    \n",
    "    for sample in sample_ids:\n",
    "        # raw feature extraction:\n",
    "       # print(\"sample: \",sample)\n",
    "        x = raw_feature_fromSample( path_audio_samples+sample, raw_feature ) # x.shape: (4, 20, 2584)\n",
    "       # print(\"x.shape: \",x.shape)\n",
    "        \n",
    "        ##normalization here:si on veut les résultats pour Conv1D on utlise la normalisation \n",
    "        ##normalization here:\n",
    "        if not normalization == 'NO':\n",
    "             x_norm = featureMap_normalization_block_level(x, normalizationType = normalization) \n",
    "        else: x_norm = x\n",
    "        \n",
    "        if high_level_features:\n",
    "            # high level feature extraction:\n",
    "            if 'MFCCs' in raw_feature:\n",
    "                X = compute_statistics_overMFCCs(x_norm, 'yes') # X.shape: (4 , 120)\n",
    "            else: \n",
    "                X = compute_statistics_overSpectogram(x_norm)\n",
    "                \n",
    "            feature_map=X\n",
    "        else:\n",
    "            feature_map=x_norm\n",
    "        \n",
    "        \n",
    "        feature_Maps.append(feature_map)\n",
    "        \n",
    "    return feature_Maps"
   ]
  },
  {
   "cell_type": "code",
   "execution_count": 134,
   "metadata": {},
   "outputs": [],
   "source": [
    "X_train = get_features_from_samples(path_workingFolder, sample_ids_train, 'MFCCs20', 'NO', 0)\n",
    "X_val = get_features_from_samples(path_workingFolder, sample_ids_val, 'MFCCs20', 'NO', 0)\n",
    "X_test = get_features_from_samples(path_workingFolder, sample_ids_test, 'MFCCs20', 'NO', 0)"
   ]
  },
  {
   "cell_type": "code",
   "execution_count": 135,
   "metadata": {},
   "outputs": [],
   "source": [
    "def labels2binary(pos_label, list_labels):  # pos_label = missing queen / nobee\n",
    "    list_binary_labels=[]\n",
    "    for l in list_labels:\n",
    "        if l == pos_label:\n",
    "            list_binary_labels.append(1)\n",
    "        else:\n",
    "            list_binary_labels.append(0)\n",
    "    return list_binary_labels"
   ]
  },
  {
   "cell_type": "code",
   "execution_count": 145,
   "metadata": {},
   "outputs": [],
   "source": [
    "def get_GT_labels_fromFiles(path_labels, sample_ids, labels2read) : #labels2read =  name of the label file    \n",
    "    \n",
    "    ##reads labels files and retreives labels for a sample set given by sample_ids\n",
    "    # input:  path_labels: where label file is \n",
    "    #         sample_ids: list of sample names that we want the label\n",
    "    #         labels2read: name of the labels file: state_labels, labels_BeeNotBee_th0 ...\n",
    "    \n",
    "    # output: list of string labels, in same order as sample_ids list\n",
    "    \n",
    "    labels = []\n",
    "    fileAsdict={}\n",
    "    \n",
    "    with open(path_labels + labels2read+'.csv', 'r') as labfile:\n",
    "        csvreader = csv.reader(labfile, delimiter=',')    \n",
    "        for row in csvreader:\n",
    "            if not row[0] == 'sample_name':\n",
    "               # print(\"row[0]\",row[0]) # CF001 - Missing Queen - Day -__segment0\n",
    "               # print(\"row[-1]:\", row[-1])  # bee or nobee\n",
    "                fileAsdict[row[0]]=row[-1]   # row[-1] = '/missing queen/active' or 'bee/nobee'\n",
    "            \n",
    "    for sample in sample_ids:\n",
    "        #print(fileAsdict[sample[0:-4]]) # bee nobee or unknown \n",
    "        labels.append(fileAsdict[sample[0:-4]])  #remove .wav extension\n",
    "    \n",
    "       \n",
    "    return labels  \n"
   ]
  },
  {
   "cell_type": "code",
   "execution_count": 146,
   "metadata": {},
   "outputs": [],
   "source": [
    "#labels_test = get_GT_labels_fromFiles(path_workingFolder, sample_ids_test, labels2read)"
   ]
  },
  {
   "cell_type": "code",
   "execution_count": 147,
   "metadata": {},
   "outputs": [],
   "source": [
    "labels_train = get_GT_labels_fromFiles(path_workingFolder, sample_ids_train, labels2read)\n",
    "Y_train= labels2binary('nobee', labels_train)\n",
    "labels_val = get_GT_labels_fromFiles(path_workingFolder, sample_ids_val, labels2read)\n",
    "Y_val= labels2binary('nobee', labels_val)\n",
    "labels_test = get_GT_labels_fromFiles(path_workingFolder, sample_ids_test, labels2read)\n",
    "Y_test= labels2binary('nobee', labels_test)"
   ]
  },
  {
   "cell_type": "code",
   "execution_count": 128,
   "metadata": {},
   "outputs": [
    {
     "name": "stdout",
     "output_type": "stream",
     "text": [
      "[2020-04-27 20:13:11 RAM63.1% 0.04GB] [1, 0, 1, 1, 1, 1, 0, 0, 1, 1, 0, 0, 0, 0, 1, 0, 1, 1, 1, 0, 1, 0, 1, 1, 1, 0, 1, 1, 1, 1, 1, 0, 0, 1, 1, 1, 0, 1, 0, 1, 1, 0, 1]\n",
      "[2020-04-27 20:13:11 RAM63.1% 0.04GB] ['nobee', 'unknown', 'nobee', 'nobee', 'nobee', 'nobee', 'bee', 'bee', 'nobee', 'nobee', 'unknown', 'unknown', 'bee', 'bee', 'nobee', 'bee', 'nobee', 'nobee', 'nobee', 'bee', 'nobee', 'bee', 'nobee', 'nobee', 'nobee', 'bee', 'nobee', 'nobee', 'nobee', 'nobee', 'nobee', 'bee', 'bee', 'nobee', 'nobee', 'nobee', 'bee', 'nobee', 'bee', 'nobee', 'nobee', 'bee', 'nobee']\n"
     ]
    }
   ],
   "source": [
    "print(Y_test)\n",
    "print(labels_test)"
   ]
  },
  {
   "cell_type": "code",
   "execution_count": 130,
   "metadata": {},
   "outputs": [],
   "source": [
    "def get_items2replicate(list_Binary_labels, list_sample_ids):\n",
    "    \n",
    "    # get the samples to be replicated.\n",
    "    # input: list of labels and sample_ids with same oreder!\n",
    "    # ouptut: dictionary keys:name of samples to be replicated,  value: Number of times to replicate that sample.\n",
    "    \n",
    "    #assert( len(list_Binary_labels) - len(list_sample_ids) == 0), ('arguments should have the same number of elements)\n",
    "    dict_items_replicate={}\n",
    "    \n",
    "    n_samples = len(list_Binary_labels)# 193\n",
    "    #print(\"n_samples: \", list_Binary_labels)\n",
    "    n_positive_labels = sum(list_Binary_labels)#158 = le nbr de 1\n",
    "    #print(\"n_positive_labels: \",n_positive_labels)\n",
    "    n_negative_labels = n_samples - n_positive_labels #35= le nbr de 0\n",
    "    #print(\"n_negative_labels: \",n_negative_labels)\n",
    "    \n",
    "    pos_samples=[]\n",
    "    neg_samples=[]\n",
    "    \n",
    "    for i in range(n_samples):\n",
    "        if list_Binary_labels[i] == 1 :\n",
    "            #print(\"list_Binary_labels[i]==1: \", list_Binary_labels[i])\n",
    "            pos_samples.append(list_sample_ids[i])\n",
    "        else: \n",
    "            neg_samples.append(list_sample_ids[i])\n",
    "            \n",
    "    if n_positive_labels > n_negative_labels:\n",
    "        # Replicate negative samples as needed:\n",
    "        dif=n_positive_labels-n_negative_labels\n",
    "        items_replicate=random.choices(neg_samples, k=dif)\n",
    " \n",
    "    elif n_positive_labels < n_negative_labels:\n",
    "        dif=n_negative_labels-n_positive_labels\n",
    "        items_replicate=random.choices(pos_samples, k=dif)\n",
    "              \n",
    "    dict_items_replicate=Counter(items_replicate)\n",
    "    #print(dict_items_replicate)\n",
    "    return dict_items_replicate\n"
   ]
  },
  {
   "cell_type": "code",
   "execution_count": 131,
   "metadata": {},
   "outputs": [],
   "source": [
    "def BalanceData_online(y_set, x_set, sample_ids_set):\n",
    "    \n",
    "    ## balances already processed data (X and Y, just before classifier) by replicating samples of the least represented class.\n",
    "    # input: y_set - binary labels of set, x_set - feature_maps of set, sample_ids_set - sample names in set, ( all have the same order!)\n",
    "    # output: X, Y and sample_ids with replicated samples concatenated \n",
    "    \n",
    " \n",
    "    printb( 'Balancing training data:' )\n",
    "    print('will randomly replicate samples from least represented class')\n",
    "    \n",
    "    x2concatenate = x_set\n",
    "    y2concatenate = y_set\n",
    "    sample_ids2concatenate = sample_ids_set\n",
    "    \n",
    "    dict_items_replicate = get_items2replicate(y_set,sample_ids_set )\n",
    "    #print(\"dict_items_replicate: \",dict_items_replicate)\n",
    "    \n",
    "    for i in range(len(sample_ids_set)):\n",
    "        if sample_ids_set[i] in dict_items_replicate.keys() :\n",
    "            \n",
    "            sample_ids2concatenate =np.concatenate([sample_ids2concatenate, [sample_ids_set[i]]*dict_items_replicate[sample_ids_set[i]]])\n",
    "            y2concatenate = np.concatenate([y2concatenate, [y_set[i]]*dict_items_replicate[sample_ids_set[i]]])\n",
    "            x2concatenate = np.concatenate([x2concatenate, [x_set[i]]*dict_items_replicate[sample_ids_set[i]]])\n",
    "            \n",
    "    return y2concatenate, x2concatenate, sample_ids2concatenate"
   ]
  },
  {
   "cell_type": "code",
   "execution_count": 148,
   "metadata": {},
   "outputs": [
    {
     "name": "stdout",
     "output_type": "stream",
     "text": [
      "[2020-04-27 20:34:36 RAM77.5% 1.14GB] Balancing training data:\n",
      "[2020-04-27 20:34:36 RAM77.5% 1.14GB] will randomly replicate samples from least represented class\n",
      "[2020-04-27 20:34:41 RAM79.3% 1.26GB] Balancing training data:\n",
      "[2020-04-27 20:34:41 RAM79.3% 1.26GB] will randomly replicate samples from least represented class\n",
      "[2020-04-27 20:34:46 RAM80.6% 1.38GB] Balancing training data:\n",
      "[2020-04-27 20:34:46 RAM80.6% 1.38GB] will randomly replicate samples from least represented class\n"
     ]
    }
   ],
   "source": [
    "y_train_concat, x_train_concat, sample_ids_train_concat= BalanceData_online(Y_train, X_train, sample_ids_train)\n",
    "y_val_concat, x_val_concat, sample_ids_val_concat= BalanceData_online(Y_val, X_val, sample_ids_val)\n",
    "y_test_concat, x_test_concat, sample_ids_test_concat= BalanceData_online(Y_test, X_test, sample_ids_test)"
   ]
  },
  {
   "cell_type": "code",
   "execution_count": 149,
   "metadata": {},
   "outputs": [
    {
     "data": {
      "text/plain": [
       "((660, 51680), (660,))"
      ]
     },
     "execution_count": 149,
     "metadata": {},
     "output_type": "execute_result"
    }
   ],
   "source": [
    "X=np.concatenate((x_train_concat, x_val_concat, x_test_concat))\n",
    "Y=np.concatenate((y_train_concat, y_val_concat, y_test_concat))\n",
    "x,y,z= X.shape\n",
    "X=X.reshape(x, y*z)\n",
    "X.shape, Y.shape"
   ]
  },
  {
   "cell_type": "code",
   "execution_count": 150,
   "metadata": {},
   "outputs": [
    {
     "data": {
      "text/plain": [
       "array([1, 1, 1, 1, 1, 1, 1, 1, 1, 1, 1, 0, 0, 0, 1, 0, 0, 0, 0, 0, 0, 0,\n",
       "       0, 1, 0, 1, 0, 1, 1, 1, 1, 1, 1, 1, 1, 1, 1, 1, 0, 1, 1, 1, 1, 1,\n",
       "       0, 0, 1, 1, 1, 1, 0, 1, 1, 1, 1, 1, 1, 1, 1, 1, 0, 0, 1, 1, 1, 1,\n",
       "       1, 1, 1, 1, 1, 1, 1, 1, 1, 1, 1, 1, 1, 1, 1, 1, 1, 1, 1, 1, 1, 1,\n",
       "       1, 0, 0, 1, 1, 1, 1, 1, 1, 1, 0, 0, 0, 0, 1, 1, 1, 1, 0, 1, 1, 1,\n",
       "       1, 1, 1, 1, 1, 1, 1, 1, 1, 1, 1, 1, 1, 1, 1, 1, 1, 1, 1, 1, 1, 1,\n",
       "       1, 1, 0, 0, 1, 0, 1, 0, 1, 0, 0, 1, 1, 1, 1, 1, 1, 1, 1, 1, 1, 1,\n",
       "       1, 1, 1, 1, 1, 1, 1, 1, 1, 1, 1, 1, 1, 1, 1, 1, 0, 1, 1, 1, 0, 1,\n",
       "       1, 1, 1, 1, 1, 1, 1, 0, 1, 1, 1, 1, 1, 1, 1, 1, 1, 0, 0, 0, 0, 0,\n",
       "       0, 0, 0, 0, 0, 0, 0, 0, 0, 0, 0, 0, 0, 0, 0, 0, 0, 0, 0, 0, 0, 0,\n",
       "       0, 0, 0, 0, 0, 0, 0, 0, 0, 0, 0, 0, 0, 0, 0, 0, 0, 0, 0, 0, 0, 0,\n",
       "       0, 0, 0, 0, 0, 0, 0, 0, 0, 0, 0, 0, 0, 0, 0, 0, 0, 0, 0, 0, 0, 0,\n",
       "       0, 0, 0, 0, 0, 0, 0, 0, 0, 0, 0, 0, 0, 0, 0, 0, 0, 0, 0, 0, 0, 0,\n",
       "       0, 0, 0, 0, 0, 0, 0, 0, 0, 0, 0, 0, 0, 0, 0, 0, 0, 0, 0, 0, 0, 0,\n",
       "       0, 0, 0, 0, 0, 0, 0, 0, 1, 1, 1, 1, 1, 0, 1, 1, 1, 0, 1, 1, 1, 1,\n",
       "       1, 0, 1, 1, 1, 1, 1, 1, 1, 1, 0, 1, 0, 1, 1, 1, 1, 1, 1, 1, 0, 1,\n",
       "       0, 0, 1, 1, 1, 1, 1, 1, 1, 0, 1, 1, 0, 1, 0, 1, 1, 0, 1, 1, 1, 1,\n",
       "       0, 1, 1, 1, 1, 1, 1, 0, 1, 1, 1, 1, 1, 0, 1, 0, 1, 0, 1, 1, 1, 1,\n",
       "       1, 1, 0, 0, 1, 1, 0, 0, 1, 1, 1, 0, 1, 1, 1, 1, 1, 1, 1, 0, 1, 1,\n",
       "       1, 0, 1, 0, 0, 1, 1, 1, 0, 0, 1, 1, 1, 1, 1, 1, 1, 1, 1, 1, 1, 0,\n",
       "       1, 1, 1, 1, 1, 1, 1, 1, 1, 0, 1, 0, 1, 1, 0, 0, 1, 1, 0, 1, 1, 1,\n",
       "       0, 1, 1, 1, 0, 1, 1, 1, 0, 1, 1, 1, 1, 1, 1, 0, 1, 1, 1, 1, 0, 1,\n",
       "       1, 0, 1, 1, 1, 1, 0, 0, 0, 1, 1, 1, 0, 1, 0, 1, 0, 0, 1, 1, 0, 1,\n",
       "       1, 1, 1, 0, 0, 0, 0, 0, 0, 0, 0, 0, 0, 0, 0, 0, 0, 0, 0, 0, 0, 0,\n",
       "       0, 0, 0, 0, 0, 0, 0, 0, 0, 0, 0, 0, 0, 0, 0, 0, 0, 0, 0, 0, 0, 0,\n",
       "       0, 0, 0, 0, 0, 0, 0, 0, 0, 0, 0, 0, 0, 0, 0, 0, 0, 0, 0, 0, 0, 0,\n",
       "       0, 0, 0, 0, 0, 0, 0, 0, 0, 0, 0, 0, 0, 0, 0, 0, 0, 0, 0, 0, 0, 0,\n",
       "       0, 0, 0, 0, 0, 0, 0, 0, 0, 0, 0, 0, 1, 0, 1, 1, 1, 1, 0, 0, 1, 1,\n",
       "       0, 0, 0, 0, 1, 0, 1, 1, 1, 0, 1, 0, 1, 1, 1, 0, 1, 1, 1, 1, 1, 0,\n",
       "       0, 1, 1, 1, 0, 1, 0, 1, 1, 0, 1, 0, 0, 0, 0, 0, 0, 0, 0, 0, 0, 0])"
      ]
     },
     "execution_count": 150,
     "metadata": {},
     "output_type": "execute_result"
    }
   ],
   "source": [
    "Y"
   ]
  },
  {
   "cell_type": "code",
   "execution_count": 152,
   "metadata": {},
   "outputs": [
    {
     "data": {
      "text/plain": [
       "((594, 51680), (66, 51680), (594,), (66,))"
      ]
     },
     "execution_count": 152,
     "metadata": {},
     "output_type": "execute_result"
    }
   ],
   "source": [
    "from sklearn.preprocessing import LabelEncoder\n",
    "from keras.utils import to_categorical\n",
    "# split the dataset \n",
    "from sklearn.model_selection import train_test_split \n",
    "x_train, x_test, y_train, y_test = train_test_split(X, Y, test_size=0.1, random_state = 42)\n",
    "x_train.shape, x_test.shape, y_train.shape, y_test.shape"
   ]
  },
  {
   "cell_type": "code",
   "execution_count": 153,
   "metadata": {},
   "outputs": [
    {
     "data": {
      "text/plain": [
       "array([[-508.55054053, -503.56799232, -505.96180726, ...,    4.39125154,\n",
       "           5.80584987,    8.06312159],\n",
       "       [-399.15337978, -391.40574781, -392.36701976, ...,    3.25896415,\n",
       "           2.25271295,    7.48251662],\n",
       "       [-315.61408228, -308.55049787, -308.66658091, ...,    1.26931978,\n",
       "          -2.21454707,   -1.40994811],\n",
       "       ...,\n",
       "       [-329.44256601, -322.33113227, -320.60053261, ...,    4.49226945,\n",
       "           2.42382597,    0.97663388],\n",
       "       [-415.95556656, -407.87748886, -404.86042626, ...,    1.89514961,\n",
       "           0.7185358 ,    4.74478928],\n",
       "       [-529.66577309, -528.41533351, -532.31265151, ...,    6.59491937,\n",
       "           6.41913942,    8.77017999]])"
      ]
     },
     "execution_count": 153,
     "metadata": {},
     "output_type": "execute_result"
    }
   ],
   "source": [
    "x_test"
   ]
  },
  {
   "cell_type": "code",
   "execution_count": 128,
   "metadata": {},
   "outputs": [],
   "source": [
    "def SVM_Classification_BeehiveSTATE(X_flat_train, y_train, X_flat_test, y_test, kerneloption='rbf'):\n",
    "\n",
    "    print('\\n')\n",
    "    printb('Starting classification with SVM:')\n",
    "    Test_Preds=[]\n",
    "    Train_Preds=[]\n",
    "    Test_Preds_Proba=[]\n",
    "    Train_Preds_Proba=[]\n",
    "    Test_GroundT=[]\n",
    "    Train_GroundT=[]\n",
    "   \n",
    "    print('\\n')\n",
    "    printb('classification Beehive State into : Active or Missing Queen')\n",
    "        \n",
    "    #train :\n",
    "    CLF = svm.SVC(kernel=kerneloption, probability=True)\n",
    "    CLF.fit(X_flat_train, y_train)\n",
    "    y_pred_train = CLF.predict(X_flat_train)\n",
    "    y_pred_proba_train = CLF.predict_proba(X_flat_train)\n",
    "    \n",
    "    Train_GroundT = y_train\n",
    "    Train_Preds = y_pred_train\n",
    "    Train_Preds_Proba = y_pred_proba_train[:,1]\n",
    "    \n",
    "    # test:\n",
    "    y_pred_test = CLF.predict(X_flat_test)\n",
    "    y_pred_proba_test = CLF.predict_proba(X_flat_test)\n",
    "    Test_GroundT= y_test\n",
    "    Test_Preds = y_pred_test\n",
    "    Test_Preds_Proba = y_pred_proba_test[:,1]\n",
    "\n",
    "    return CLF, Test_GroundT, Train_GroundT, Test_Preds, Train_Preds, Test_Preds_Proba, Train_Preds_Proba "
   ]
  },
  {
   "cell_type": "code",
   "execution_count": 129,
   "metadata": {},
   "outputs": [
    {
     "name": "stdout",
     "output_type": "stream",
     "text": [
      "[2020-04-23 14:38:15 RAM75.8% 2.23GB] \n",
      "\n",
      "[2020-04-23 14:38:15 RAM75.8% 2.23GB] Starting classification with SVM:\n",
      "[2020-04-23 14:38:15 RAM75.8% 2.23GB] \n",
      "\n",
      "[2020-04-23 14:38:15 RAM75.8% 2.23GB] classification Beehive State into : Active or Missing Queen\n"
     ]
    }
   ],
   "source": [
    "#CLF, Test_GroundT, Train_GroundT, Test_Preds, Train_Preds, Test_Preds_Proba, Train_Preds_Proba = SVM_Classification_BeehiveSTATE(X_train, Y_train , X_test, Y_test, kerneloption='rbf')\n",
    "\n",
    "CLF, Test_GroundT, Train_GroundT, Test_Preds, Train_Preds, Test_Preds_Proba, Train_Preds_Proba = SVM_Classification_BeehiveSTATE(x_train, y_train , x_test, y_test, kerneloption='rbf')"
   ]
  },
  {
   "cell_type": "code",
   "execution_count": 130,
   "metadata": {},
   "outputs": [
    {
     "data": {
      "text/plain": [
       "((66,), (594,), (66,), (594,), (66,), (594,))"
      ]
     },
     "execution_count": 130,
     "metadata": {},
     "output_type": "execute_result"
    }
   ],
   "source": [
    "Test_GroundT.shape, Train_GroundT.shape, Test_Preds.shape, Train_Preds.shape, Test_Preds_Proba.shape, Train_Preds_Proba.shape"
   ]
  },
  {
   "cell_type": "code",
   "execution_count": 131,
   "metadata": {},
   "outputs": [
    {
     "name": "stdout",
     "output_type": "stream",
     "text": [
      "[2020-04-23 14:43:37 RAM75.9% 2.27GB] Accuracy:  0.6212121212121212\n",
      "[2020-04-23 14:43:37 RAM75.9% 2.27GB] Precision: 0.58\n",
      "[2020-04-23 14:43:37 RAM75.9% 2.27GB] Recall: 0.8787878787878788\n"
     ]
    }
   ],
   "source": [
    "from sklearn import metrics\n",
    "print(\"Accuracy: \", metrics.accuracy_score( Test_GroundT, Test_Preds))\n",
    "\n",
    "# Model Precision: what percentage of positive tuples are labeled as such?\n",
    "print(\"Precision:\",metrics.precision_score(Test_GroundT, Test_Preds))\n",
    "\n",
    "# Model Recall: what percentage of positive tuples are labelled as such?\n",
    "print(\"Recall:\",metrics.recall_score(Test_GroundT, Test_Preds))"
   ]
  },
  {
   "cell_type": "code",
   "execution_count": 132,
   "metadata": {
    "scrolled": true
   },
   "outputs": [
    {
     "name": "stdout",
     "output_type": "stream",
     "text": [
      "[2020-04-23 14:43:44 RAM75.8% 2.27GB] Confusion matrix, without normalization\n",
      "[2020-04-23 14:43:44 RAM75.8% 2.27GB] [[12 21]\n",
      " [ 4 29]]\n",
      "[2020-04-23 14:43:44 RAM75.8% 2.28GB] Normalized confusion matrix\n",
      "[2020-04-23 14:43:44 RAM75.8% 2.28GB] [[0.36 0.64]\n",
      " [0.12 0.88]]\n"
     ]
    },
    {
     "data": {
      "image/png": "[encoded data removed]",
      "text/plain": [
       "<Figure size 432x288 with 2 Axes>"
      ]
     },
     "metadata": {
      "needs_background": "light"
     },
     "output_type": "display_data"
    },
    {
     "data": {
      "image/png": "[encoded data removed]",
      "text/plain": [
       "<Figure size 432x288 with 2 Axes>"
      ]
     },
     "metadata": {
      "needs_background": "light"
     },
     "output_type": "display_data"
    },
    {
     "name": "stdout",
     "output_type": "stream",
     "text": [
      "[2020-04-23 14:43:45 RAM75.8% 2.28GB] \n",
      "Clasification report:\n",
      "               precision    recall  f1-score   support\n",
      "\n",
      "           0       0.75      0.36      0.49        33\n",
      "           1       0.58      0.88      0.70        33\n",
      "\n",
      "    accuracy                           0.62        66\n",
      "   macro avg       0.67      0.62      0.59        66\n",
      "weighted avg       0.67      0.62      0.59        66\n",
      "\n"
     ]
    }
   ],
   "source": [
    "from sklearn.metrics import confusion_matrix\n",
    "import itertools\n",
    "from sklearn.metrics import classification_report\n",
    "from sklearn.metrics import precision_recall_curve\n",
    "from sklearn.metrics import plot_precision_recall_curve\n",
    "from sklearn.metrics import plot_confusion_matrix\n",
    "import matplotlib.pyplot as plt\n",
    "\n",
    "class_names= ['bee', 'nobee']\n",
    "\n",
    "\n",
    "def plot_confusion_matrix(cm, classes,\n",
    "                          normalize=False,\n",
    "                          title='Confusion matrix',\n",
    "                          cmap=plt.cm.Blues):\n",
    "    \"\"\"\n",
    "    This function prints and plots the confusion matrix.\n",
    "    Normalization can be applied by setting `normalize=True`.\n",
    "    \"\"\"\n",
    "    plt.imshow(cm, interpolation='nearest', cmap=cmap)\n",
    "    plt.title(title)\n",
    "    plt.colorbar()\n",
    "    tick_marks = np.arange(len(classes))\n",
    "    plt.xticks(tick_marks, classes, rotation=45)\n",
    "    plt.yticks(tick_marks, classes)\n",
    "\n",
    "    if normalize:\n",
    "        cm = cm.astype('float') / cm.sum(axis=1)[:, np.newaxis]\n",
    "        print(\"Normalized confusion matrix\")\n",
    "    else:\n",
    "        print('Confusion matrix, without normalization')\n",
    "\n",
    "    print(cm)\n",
    "\n",
    "    thresh = cm.max() / 2.\n",
    "    for i, j in itertools.product(range(cm.shape[0]), range(cm.shape[1])):\n",
    "        plt.text(j, i, cm[i, j],\n",
    "                 horizontalalignment=\"center\",\n",
    "                 color=\"white\" if cm[i, j] > thresh else \"black\")\n",
    "\n",
    "    plt.tight_layout()\n",
    "    plt.ylabel('True label')\n",
    "    plt.xlabel('Predicted label')\n",
    "\n",
    "# Compute confusion matrix\n",
    "cnf_matrix = confusion_matrix(Test_GroundT, Test_Preds )\n",
    "np.set_printoptions(precision=2)\n",
    "\n",
    "# Plot non-normalized confusion matrix\n",
    "plt.figure()\n",
    "plot_confusion_matrix(cnf_matrix, classes=class_names,\n",
    "                      title='Confusion matrix, without normalization')\n",
    "\n",
    "# Plot normalized confusion matrix\n",
    "plt.figure()\n",
    "plot_confusion_matrix(cnf_matrix, classes=class_names, normalize=True,\n",
    "                      title='Normalized confusion matrix')\n",
    "\n",
    "plt.show()\n",
    "print ('\\nClasification report:\\n', classification_report(Test_GroundT, Test_Preds ))"
   ]
  },
  {
   "cell_type": "code",
   "execution_count": 28,
   "metadata": {},
   "outputs": [],
   "source": [
    "def show_sample(sample_path, sample_id, labels=['labels_BeeNotBee_th0', 'labels_BeeNotBee_th5', 'state_labels']):\n",
    "    \n",
    "    #TODO: make plot titles\n",
    "    # TODO visualize annotations on top of spectrograms\n",
    "    \n",
    "    sample, sr = librosa.core.load(sample_path+sample_id+'.wav')\n",
    "    # - listen audio \n",
    "    ipd.Audio(sample,rate=sr)\n",
    "    \n",
    "    feature_map_mel = librosa.power_to_db(librosa.feature.melspectrogram(sample, n_mels = 128) )\n",
    "    feature_map_MFCCs = librosa.feature.mfcc(S=librosa.power_to_db(feature_map_mel),sr=sr, n_mfcc = 20)\n",
    "    \n",
    "    fig = plt.figure(figsize=(10,20))\n",
    "    # - visualize in frequency, \n",
    "    plt.subplot(3,1, 1)\n",
    "    \n",
    "    librosa.display.specshow(feature_map_mel, sr = sr, y_axis='mel')\n",
    "    plt.subplot(3,1, 2)\n",
    "    librosa.display.specshow(feature_map_MFCCs, sr = sr, x_axis='time')\n",
    "    \n",
    "    \n",
    "    \n",
    "    # - visualize in time\n",
    "    plt.subplot(3,1,3)\n",
    "    librosa.display.waveplot( sample, sr=sr, x_axis='time')\n",
    "    plt.show()\n",
    "    \n",
    "    # - get labels\n",
    "    labels2show={}\n",
    "    for l in labels:\n",
    "        \n",
    "        with open( sample_path+l+'.csv', 'r') as labcsv:\n",
    "            reader= csv.reader(labcsv, delimiter=',')\n",
    "            for row in reader:\n",
    "                if sample_id in row:\n",
    "                    labels2show[l]=row\n",
    "\n",
    "\n",
    "    \n",
    "    \n",
    "    print(json.dumps(labels2show,sort_keys=True, indent=4))\n",
    "    \n",
    "    return"
   ]
  },
  {
   "cell_type": "code",
   "execution_count": 189,
   "metadata": {},
   "outputs": [
    {
     "data": {
      "image/png": "[encoded data removed]",
      "text/plain": [
       "<Figure size 720x1440 with 3 Axes>"
      ]
     },
     "metadata": {
      "needs_background": "light"
     },
     "output_type": "display_data"
    },
    {
     "name": "stdout",
     "output_type": "stream",
     "text": [
      "[2020-04-20 18:35:55 RAM81.3% 1.55GB] {\n",
      "    \"labels_BeeNotBee_th0\": [\n",
      "        \"CF001 - Missing Queen - Day -__segment0\",\n",
      "        \"0\",\n",
      "        \"60\",\n",
      "        \"0.004\",\n",
      "        \"nobee\"\n",
      "    ],\n",
      "    \"labels_BeeNotBee_th5\": [\n",
      "        \"CF001 - Missing Queen - Day -__segment0\",\n",
      "        \"0\",\n",
      "        \"60\",\n",
      "        \"0.0\",\n",
      "        \"bee\"\n",
      "    ],\n",
      "    \"state_labels\": [\n",
      "        \"CF001 - Missing Queen - Day -__segment0\",\n",
      "        \"missing queen\"\n",
      "    ]\n",
      "}\n"
     ]
    }
   ],
   "source": [
    "sample_ids= 'CF001 - Missing Queen - Day -__segment0'\n",
    "show_sample(path_workingFolder, sample_ids, labels=['labels_BeeNotBee_th0', 'labels_BeeNotBee_th5', 'state_labels'])"
   ]
  },
  {
   "cell_type": "markdown",
   "metadata": {},
   "source": [
    "# CNN Classification"
   ]
  },
  {
   "cell_type": "code",
   "execution_count": 133,
   "metadata": {},
   "outputs": [],
   "source": [
    "\n",
    "#x_test_concat=x_test_concat.reshape(54, 20, 2584)\n",
    "X=np.concatenate((x_train_concat, x_val_concat, x_test_concat))\n",
    "Y=np.concatenate((y_train_concat, y_val_concat, y_test_concat))\n",
    "\n",
    "#X.shape, Y.shape\n",
    "#x_train1=X_train.reshape(-1, 20, 2584, 1)\n",
    "#x_test1=X_test.reshape(-1, 20, 2584, 1)\n",
    "#y_train1=Y_train.reshape(-1, 1)\n",
    "#y_test1=Y_test.reshape(-1, 1)\n",
    "#x_train1.shape, x_test1.shape, y_train1.shape, y_test1.shape"
   ]
  },
  {
   "cell_type": "code",
   "execution_count": 134,
   "metadata": {},
   "outputs": [
    {
     "data": {
      "text/plain": [
       "((660, 20, 2584, 1), (660, 1))"
      ]
     },
     "execution_count": 134,
     "metadata": {},
     "output_type": "execute_result"
    }
   ],
   "source": [
    "X= X.reshape(-1, 20, 2584, 1)\n",
    "Y=Y.reshape(-1, 1)\n",
    "X.shape, Y.shape\n"
   ]
  },
  {
   "cell_type": "code",
   "execution_count": 135,
   "metadata": {},
   "outputs": [
    {
     "name": "stderr",
     "output_type": "stream",
     "text": [
      "C:\\Users\\PC\\anaconda3\\lib\\site-packages\\sklearn\\preprocessing\\_label.py:251: DataConversionWarning: A column-vector y was passed when a 1d array was expected. Please change the shape of y to (n_samples, ), for example using ravel().\n",
      "  y = column_or_1d(y, warn=True)\n"
     ]
    }
   ],
   "source": [
    "from sklearn.preprocessing import LabelEncoder\n",
    "from keras.utils import to_categorical\n",
    "\n",
    "# Convert features and corresponding classification labels into numpy arrays\n",
    "\n",
    "X = np.array(X.tolist())\n",
    "y = np.array(Y.tolist())\n",
    "# Encode the classification labels\n",
    "le = LabelEncoder()\n",
    "yy = to_categorical(le.fit_transform(y)) \n",
    "\n",
    "# split the dataset \n",
    "from sklearn.model_selection import train_test_split \n",
    "x_train, x_test, y_train, y_test = train_test_split(X, yy, test_size=0.1, random_state = 42)"
   ]
  },
  {
   "cell_type": "code",
   "execution_count": 40,
   "metadata": {},
   "outputs": [],
   "source": [
    "import keras \n",
    "from keras.models import Sequential, Input, Model \n",
    "from keras.layers import Dense, Dropout, Flatten\n",
    "from keras.layers import Conv2D , MaxPooling2D\n",
    "from keras.layers.normalization import BatchNormalization \n",
    "from keras.layers.advanced_activations import LeakyReLU\n",
    "from keras.optimizers import RMSprop\n",
    "\n",
    "\n",
    "\n",
    "# Neural Network Architecture \n",
    "model=Sequential()\n",
    "\n",
    "model.add(Conv2D(16, kernel_size=(3,3), activation='relu', input_shape=( 20, 2584, 1), padding='same'))\n",
    "model.add(LeakyReLU(alpha=0.1))\n",
    "model.add(MaxPooling2D((2, 2), padding='same'))\n",
    "# we add the dropout to skip the overfitting \n",
    "# model.add(Dropout(0.25))\n",
    "\n",
    "\n",
    "\n",
    "model.add(Conv2D(16, kernel_size=(3,3), activation='relu', padding='same'))\n",
    "model.add(LeakyReLU(alpha=0.1))\n",
    "model.add(MaxPooling2D((2, 2), padding='same'))\n",
    "\n",
    "# we add the dropout to skip the overfitting \n",
    "# model.add(Dropout(0.25))\n",
    "\n",
    "model.add(Conv2D(16, kernel_size=(3,1), activation='relu', padding='same'))\n",
    "model.add(LeakyReLU(alpha=0.1))\n",
    "model.add(MaxPooling2D((2, 2), padding='same'))\n",
    "#model.add(Dropout(0.25))\n",
    "\n",
    "model.add(Conv2D(16, kernel_size=(3,1), activation='relu', padding='same'))\n",
    "model.add(LeakyReLU(alpha=0.1))\n",
    "model.add(MaxPooling2D((2, 2), padding='same'))\n",
    "\n",
    "# we add the dropout to skip the overfitting \n",
    "model.add(Dropout(0.25))\n",
    "\n",
    "model.add(Flatten())\n",
    "\n",
    "model.add(Dense(256, activation='relu'))\n",
    "model.add(LeakyReLU(alpha=0.1))\n",
    "model.add(Dropout(0.25))\n",
    "\n",
    "model.add(Dense(32 , activation='relu'))\n",
    "model.add(LeakyReLU(alpha=0.1))\n",
    "#model.add(Dropout(0.5))\n",
    "\n",
    "model.add(Dense(2, activation='softmax'))"
   ]
  },
  {
   "cell_type": "code",
   "execution_count": 41,
   "metadata": {},
   "outputs": [],
   "source": [
    "model.compile(loss='categorical_crossentropy', optimizer=RMSprop(), metrics=['accuracy'])"
   ]
  },
  {
   "cell_type": "code",
   "execution_count": 42,
   "metadata": {},
   "outputs": [
    {
     "name": "stdout",
     "output_type": "stream",
     "text": [
      "Model: \"sequential_2\"\n",
      "_________________________________________________________________\n",
      "Layer (type)                 Output Shape              Param #   \n",
      "=================================================================\n",
      "conv2d_5 (Conv2D)            (None, 20, 2584, 16)      160       \n",
      "_________________________________________________________________\n",
      "leaky_re_lu_7 (LeakyReLU)    (None, 20, 2584, 16)      0         \n",
      "_________________________________________________________________\n",
      "max_pooling2d_5 (MaxPooling2 (None, 10, 1292, 16)      0         \n",
      "_________________________________________________________________\n",
      "conv2d_6 (Conv2D)            (None, 10, 1292, 16)      2320      \n",
      "_________________________________________________________________\n",
      "leaky_re_lu_8 (LeakyReLU)    (None, 10, 1292, 16)      0         \n",
      "_________________________________________________________________\n",
      "max_pooling2d_6 (MaxPooling2 (None, 5, 646, 16)        0         \n",
      "_________________________________________________________________\n",
      "conv2d_7 (Conv2D)            (None, 5, 646, 16)        784       \n",
      "_________________________________________________________________\n",
      "leaky_re_lu_9 (LeakyReLU)    (None, 5, 646, 16)        0         \n",
      "_________________________________________________________________\n",
      "max_pooling2d_7 (MaxPooling2 (None, 3, 323, 16)        0         \n",
      "_________________________________________________________________\n",
      "conv2d_8 (Conv2D)            (None, 3, 323, 16)        784       \n",
      "_________________________________________________________________\n",
      "leaky_re_lu_10 (LeakyReLU)   (None, 3, 323, 16)        0         \n",
      "_________________________________________________________________\n",
      "max_pooling2d_8 (MaxPooling2 (None, 2, 162, 16)        0         \n",
      "_________________________________________________________________\n",
      "dropout_4 (Dropout)          (None, 2, 162, 16)        0         \n",
      "_________________________________________________________________\n",
      "flatten_2 (Flatten)          (None, 5184)              0         \n",
      "_________________________________________________________________\n",
      "dense_4 (Dense)              (None, 256)               1327360   \n",
      "_________________________________________________________________\n",
      "leaky_re_lu_11 (LeakyReLU)   (None, 256)               0         \n",
      "_________________________________________________________________\n",
      "dropout_5 (Dropout)          (None, 256)               0         \n",
      "_________________________________________________________________\n",
      "dense_5 (Dense)              (None, 32)                8224      \n",
      "_________________________________________________________________\n",
      "leaky_re_lu_12 (LeakyReLU)   (None, 32)                0         \n",
      "_________________________________________________________________\n",
      "dense_6 (Dense)              (None, 2)                 66        \n",
      "=================================================================\n",
      "Total params: 1,339,698\n",
      "Trainable params: 1,339,698\n",
      "Non-trainable params: 0\n",
      "_________________________________________________________________\n"
     ]
    }
   ],
   "source": [
    "model.summary()"
   ]
  },
  {
   "cell_type": "code",
   "execution_count": 43,
   "metadata": {},
   "outputs": [
    {
     "name": "stdout",
     "output_type": "stream",
     "text": [
      "66/66 [==============================] - ETA:  - ETA:  - 1s 10ms/step\n"
     ]
    }
   ],
   "source": [
    "# Calculate pre-training accuracy \n",
    "score = model.evaluate(x_test, y_test, verbose=1)\n",
    "accuracy = 100*score[1] "
   ]
  },
  {
   "cell_type": "code",
   "execution_count": 44,
   "metadata": {},
   "outputs": [
    {
     "name": "stdout",
     "output_type": "stream",
     "text": [
      "[2020-04-22 18:29:34 RAM44.2% 1.18GB] Pre-training accuracy: 50.0000%\n"
     ]
    }
   ],
   "source": [
    "print(\"Pre-training accuracy: %.4f%%\" % accuracy)"
   ]
  },
  {
   "cell_type": "code",
   "execution_count": 45,
   "metadata": {},
   "outputs": [
    {
     "name": "stdout",
     "output_type": "stream",
     "text": [
      "Train on 594 samples, validate on 66 samples\n",
      "Epoch 1/100\n",
      "594/594 [==============================] - ETA: 11s - loss: 6.3390 - accuracy: 0.531 - ETA: 7s - loss: 31.5998 - accuracy: 0.506 - ETA: 3s - loss: 61.5666 - accuracy: 0.512 - ETA: 0s - loss: 51.4438 - accuracy: 0.493 - 14s 24ms/step - loss: 50.7745 - accuracy: 0.4933 - val_loss: 0.9937 - val_accuracy: 0.5152\n",
      "Epoch 2/100\n",
      "594/594 [==============================] - ETA: 9s - loss: 2.6893 - accuracy: 0.53 - ETA: 6s - loss: 2.9168 - accuracy: 0.51 - ETA: 3s - loss: 3.0220 - accuracy: 0.51 - ETA: 0s - loss: 2.9754 - accuracy: 0.51 - 14s 23ms/step - loss: 2.9562 - accuracy: 0.5168 - val_loss: 4.9593 - val_accuracy: 0.5000\n",
      "Epoch 3/100\n",
      "594/594 [==============================] - ETA: 9s - loss: 4.2520 - accuracy: 0.49 - ETA: 6s - loss: 3.1978 - accuracy: 0.53 - ETA: 3s - loss: 2.7284 - accuracy: 0.54 - ETA: 0s - loss: 2.4646 - accuracy: 0.54 - 14s 23ms/step - loss: 2.4611 - accuracy: 0.5354 - val_loss: 2.0544 - val_accuracy: 0.5000\n",
      "Epoch 4/100\n",
      "594/594 [==============================] - ETA: 9s - loss: 1.7568 - accuracy: 0.55 - ETA: 6s - loss: 1.5944 - accuracy: 0.56 - ETA: 3s - loss: 1.5573 - accuracy: 0.54 - ETA: 0s - loss: 1.5263 - accuracy: 0.55 - 14s 24ms/step - loss: 1.5467 - accuracy: 0.5522 - val_loss: 3.1231 - val_accuracy: 0.5000\n",
      "Epoch 5/100\n",
      "594/594 [==============================] - ETA: 11s - loss: 2.2623 - accuracy: 0.551 - ETA: 7s - loss: 1.9449 - accuracy: 0.496 - ETA: 3s - loss: 1.7574 - accuracy: 0.50 - ETA: 0s - loss: 1.6439 - accuracy: 0.48 - 14s 24ms/step - loss: 1.6302 - accuracy: 0.4865 - val_loss: 1.6448 - val_accuracy: 0.5000\n",
      "Epoch 6/100\n",
      "594/594 [==============================] - ETA: 9s - loss: 1.4464 - accuracy: 0.55 - ETA: 6s - loss: 1.3248 - accuracy: 0.50 - ETA: 3s - loss: 1.2108 - accuracy: 0.51 - ETA: 0s - loss: 1.1208 - accuracy: 0.52 - 14s 24ms/step - loss: 1.1193 - accuracy: 0.5185 - val_loss: 0.6927 - val_accuracy: 0.5606\n",
      "Epoch 7/100\n",
      "594/594 [==============================] - ETA: 10s - loss: 0.7790 - accuracy: 0.524 - ETA: 7s - loss: 0.7940 - accuracy: 0.513 - ETA: 3s - loss: 0.8033 - accuracy: 0.52 - ETA: 0s - loss: 0.8293 - accuracy: 0.51 - 14s 24ms/step - loss: 0.8242 - accuracy: 0.5135 - val_loss: 0.6910 - val_accuracy: 0.5000\n",
      "Epoch 8/100\n",
      "594/594 [==============================] - ETA: 9s - loss: 0.7712 - accuracy: 0.46 - ETA: 6s - loss: 0.7643 - accuracy: 0.51 - ETA: 3s - loss: 0.7555 - accuracy: 0.52 - ETA: 0s - loss: 0.7533 - accuracy: 0.53 - 14s 23ms/step - loss: 0.7511 - accuracy: 0.5320 - val_loss: 0.6914 - val_accuracy: 0.3939\n",
      "Epoch 9/100\n",
      "594/594 [==============================] - ETA: 9s - loss: 0.7499 - accuracy: 0.53 - ETA: 6s - loss: 0.7311 - accuracy: 0.52 - ETA: 3s - loss: 0.7385 - accuracy: 0.52 - ETA: 0s - loss: 0.7184 - accuracy: 0.54 - 14s 23ms/step - loss: 0.7157 - accuracy: 0.5455 - val_loss: 0.6880 - val_accuracy: 0.5303\n",
      "Epoch 10/100\n",
      "594/594 [==============================] - ETA: 10s - loss: 0.8677 - accuracy: 0.503 - ETA: 6s - loss: 0.7963 - accuracy: 0.541 - ETA: 3s - loss: 0.7747 - accuracy: 0.52 - ETA: 0s - loss: 0.7626 - accuracy: 0.52 - 14s 24ms/step - loss: 0.7627 - accuracy: 0.5253 - val_loss: 0.6914 - val_accuracy: 0.5000\n",
      "Epoch 11/100\n",
      "594/594 [==============================] - ETA: 9s - loss: 0.7110 - accuracy: 0.55 - ETA: 6s - loss: 0.7233 - accuracy: 0.55 - ETA: 3s - loss: 0.7165 - accuracy: 0.55 - ETA: 0s - loss: 0.7152 - accuracy: 0.56 - 14s 23ms/step - loss: 0.7167 - accuracy: 0.5673 - val_loss: 0.6884 - val_accuracy: 0.5303\n",
      "Epoch 12/100\n",
      "594/594 [==============================] - ETA: 10s - loss: 0.7536 - accuracy: 0.565 - ETA: 6s - loss: 0.7145 - accuracy: 0.586 - ETA: 3s - loss: 0.7060 - accuracy: 0.58 - ETA: 0s - loss: 0.7087 - accuracy: 0.56 - 14s 23ms/step - loss: 0.7052 - accuracy: 0.5758 - val_loss: 0.7853 - val_accuracy: 0.5152\n",
      "Epoch 13/100\n",
      "594/594 [==============================] - ETA: 9s - loss: 0.8712 - accuracy: 0.55 - ETA: 6s - loss: 0.7670 - accuracy: 0.57 - ETA: 3s - loss: 0.7572 - accuracy: 0.55 - ETA: 0s - loss: 0.7453 - accuracy: 0.53 - 14s 23ms/step - loss: 0.7443 - accuracy: 0.5387 - val_loss: 0.7750 - val_accuracy: 0.5000\n",
      "Epoch 14/100\n",
      "594/594 [==============================] - ETA: 12s - loss: 0.9414 - accuracy: 0.517 - ETA: 7s - loss: 0.8350 - accuracy: 0.500 - ETA: 4s - loss: 0.8003 - accuracy: 0.48 - ETA: 0s - loss: 0.7813 - accuracy: 0.49 - 16s 26ms/step - loss: 0.7817 - accuracy: 0.4933 - val_loss: 0.6970 - val_accuracy: 0.5455\n",
      "Epoch 15/100\n",
      "594/594 [==============================] - ETA: 10s - loss: 0.7665 - accuracy: 0.586 - ETA: 6s - loss: 0.7163 - accuracy: 0.562 - ETA: 3s - loss: 0.7055 - accuracy: 0.56 - ETA: 0s - loss: 0.7093 - accuracy: 0.56 - 14s 23ms/step - loss: 0.7073 - accuracy: 0.5690 - val_loss: 0.6910 - val_accuracy: 0.5758\n",
      "Epoch 16/100\n",
      "594/594 [==============================] - ETA: 10s - loss: 0.8155 - accuracy: 0.620 - ETA: 7s - loss: 0.7588 - accuracy: 0.579 - ETA: 3s - loss: 0.7453 - accuracy: 0.54 - ETA: 0s - loss: 0.7281 - accuracy: 0.54 - 15s 25ms/step - loss: 0.7277 - accuracy: 0.5404 - val_loss: 0.6833 - val_accuracy: 0.5303\n",
      "Epoch 17/100\n",
      "594/594 [==============================] - ETA: 10s - loss: 0.6909 - accuracy: 0.572 - ETA: 6s - loss: 0.6876 - accuracy: 0.610 - ETA: 3s - loss: 0.6864 - accuracy: 0.60 - ETA: 0s - loss: 0.6759 - accuracy: 0.61 - 14s 23ms/step - loss: 0.6773 - accuracy: 0.6128 - val_loss: 0.6828 - val_accuracy: 0.5303\n",
      "Epoch 18/100\n",
      "594/594 [==============================] - ETA: 9s - loss: 0.6564 - accuracy: 0.60 - ETA: 6s - loss: 0.6886 - accuracy: 0.59 - ETA: 3s - loss: 0.6827 - accuracy: 0.59 - ETA: 0s - loss: 0.6794 - accuracy: 0.60 - 14s 23ms/step - loss: 0.6794 - accuracy: 0.5993 - val_loss: 0.6860 - val_accuracy: 0.5606\n",
      "Epoch 19/100\n",
      "594/594 [==============================] - ETA: 10s - loss: 0.8031 - accuracy: 0.544 - ETA: 7s - loss: 0.7244 - accuracy: 0.596 - ETA: 3s - loss: 0.7098 - accuracy: 0.60 - ETA: 0s - loss: 0.7017 - accuracy: 0.60 - 15s 25ms/step - loss: 0.6992 - accuracy: 0.6128 - val_loss: 0.7011 - val_accuracy: 0.5303\n",
      "Epoch 20/100\n",
      "594/594 [==============================] - ETA: 10s - loss: 0.6393 - accuracy: 0.634 - ETA: 6s - loss: 0.6731 - accuracy: 0.579 - ETA: 3s - loss: 0.6651 - accuracy: 0.57 - ETA: 0s - loss: 0.6649 - accuracy: 0.58 - 15s 25ms/step - loss: 0.6672 - accuracy: 0.5825 - val_loss: 0.7291 - val_accuracy: 0.5000\n",
      "Epoch 21/100\n",
      "594/594 [==============================] - ETA: 11s - loss: 0.7638 - accuracy: 0.565 - ETA: 7s - loss: 0.8794 - accuracy: 0.531 - ETA: 4s - loss: 0.8099 - accuracy: 0.56 - ETA: 0s - loss: 0.7913 - accuracy: 0.55 - 15s 26ms/step - loss: 0.7869 - accuracy: 0.5572 - val_loss: 0.7014 - val_accuracy: 0.5455\n",
      "Epoch 22/100\n",
      "594/594 [==============================] - ETA: 9s - loss: 0.6782 - accuracy: 0.54 - ETA: 6s - loss: 0.7703 - accuracy: 0.51 - ETA: 3s - loss: 0.7322 - accuracy: 0.54 - ETA: 0s - loss: 0.7120 - accuracy: 0.56 - 14s 23ms/step - loss: 0.7080 - accuracy: 0.5741 - val_loss: 0.7795 - val_accuracy: 0.5606\n",
      "Epoch 23/100\n",
      "594/594 [==============================] - ETA: 9s - loss: 0.9965 - accuracy: 0.55 - ETA: 6s - loss: 0.9659 - accuracy: 0.51 - ETA: 3s - loss: 0.8712 - accuracy: 0.55 - ETA: 0s - loss: 0.8192 - accuracy: 0.57 - 14s 23ms/step - loss: 0.8150 - accuracy: 0.5741 - val_loss: 0.6847 - val_accuracy: 0.5303\n",
      "Epoch 24/100\n",
      "594/594 [==============================] - ETA: 9s - loss: 0.6631 - accuracy: 0.63 - ETA: 6s - loss: 0.6521 - accuracy: 0.64 - ETA: 3s - loss: 0.6587 - accuracy: 0.61 - ETA: 0s - loss: 0.6612 - accuracy: 0.61 - 14s 23ms/step - loss: 0.6624 - accuracy: 0.6128 - val_loss: 0.6888 - val_accuracy: 0.5455\n",
      "Epoch 25/100\n",
      "594/594 [==============================] - ETA: 9s - loss: 0.6606 - accuracy: 0.60 - ETA: 6s - loss: 0.6861 - accuracy: 0.58 - ETA: 3s - loss: 0.6710 - accuracy: 0.60 - ETA: 0s - loss: 0.6628 - accuracy: 0.61 - 14s 23ms/step - loss: 0.6607 - accuracy: 0.6212 - val_loss: 0.6800 - val_accuracy: 0.5606\n",
      "Epoch 26/100\n",
      "594/594 [==============================] - ETA: 9s - loss: 0.6931 - accuracy: 0.56 - ETA: 6s - loss: 0.6634 - accuracy: 0.62 - ETA: 3s - loss: 0.6511 - accuracy: 0.63 - ETA: 0s - loss: 0.6478 - accuracy: 0.64 - 14s 23ms/step - loss: 0.6491 - accuracy: 0.6481 - val_loss: 0.8018 - val_accuracy: 0.5000\n"
     ]
    },
    {
     "name": "stdout",
     "output_type": "stream",
     "text": [
      "Epoch 27/100\n",
      "594/594 [==============================] - ETA: 10s - loss: 0.7551 - accuracy: 0.524 - ETA: 6s - loss: 0.7019 - accuracy: 0.575 - ETA: 3s - loss: 0.6938 - accuracy: 0.58 - ETA: 0s - loss: 0.6821 - accuracy: 0.58 - 14s 23ms/step - loss: 0.6802 - accuracy: 0.5892 - val_loss: 0.7514 - val_accuracy: 0.5152\n",
      "Epoch 28/100\n",
      "594/594 [==============================] - ETA: 9s - loss: 0.7311 - accuracy: 0.55 - ETA: 6s - loss: 0.6863 - accuracy: 0.61 - ETA: 3s - loss: 0.6667 - accuracy: 0.62 - ETA: 0s - loss: 0.6463 - accuracy: 0.63 - 14s 23ms/step - loss: 0.6454 - accuracy: 0.6347 - val_loss: 0.6756 - val_accuracy: 0.5455\n",
      "Epoch 29/100\n",
      "594/594 [==============================] - ETA: 9s - loss: 0.7407 - accuracy: 0.63 - ETA: 6s - loss: 0.6819 - accuracy: 0.64 - ETA: 3s - loss: 0.6590 - accuracy: 0.65 - ETA: 0s - loss: 0.6859 - accuracy: 0.62 - 14s 23ms/step - loss: 0.6872 - accuracy: 0.6263 - val_loss: 0.6629 - val_accuracy: 0.5455\n",
      "Epoch 30/100\n",
      "594/594 [==============================] - ETA: 9s - loss: 0.6103 - accuracy: 0.70 - ETA: 6s - loss: 0.6376 - accuracy: 0.65 - ETA: 3s - loss: 0.6393 - accuracy: 0.65 - ETA: 0s - loss: 0.6453 - accuracy: 0.63 - 14s 23ms/step - loss: 0.6454 - accuracy: 0.6364 - val_loss: 0.6548 - val_accuracy: 0.6061\n",
      "Epoch 31/100\n",
      "594/594 [==============================] - ETA: 9s - loss: 0.6016 - accuracy: 0.70 - ETA: 6s - loss: 0.6162 - accuracy: 0.67 - ETA: 3s - loss: 0.6175 - accuracy: 0.65 - ETA: 0s - loss: 0.6428 - accuracy: 0.65 - 14s 23ms/step - loss: 0.6409 - accuracy: 0.6549 - val_loss: 0.6988 - val_accuracy: 0.5000\n",
      "Epoch 32/100\n",
      "594/594 [==============================] - ETA: 9s - loss: 0.6544 - accuracy: 0.61 - ETA: 6s - loss: 0.6876 - accuracy: 0.58 - ETA: 3s - loss: 0.6636 - accuracy: 0.60 - ETA: 0s - loss: 0.6918 - accuracy: 0.60 - 14s 23ms/step - loss: 0.6912 - accuracy: 0.6077 - val_loss: 0.6886 - val_accuracy: 0.5303\n",
      "Epoch 33/100\n",
      "594/594 [==============================] - ETA: 9s - loss: 0.6770 - accuracy: 0.63 - ETA: 6s - loss: 0.6659 - accuracy: 0.63 - ETA: 3s - loss: 0.6552 - accuracy: 0.63 - ETA: 0s - loss: 0.6534 - accuracy: 0.64 - 14s 23ms/step - loss: 0.6505 - accuracy: 0.6448 - val_loss: 0.6645 - val_accuracy: 0.5606\n",
      "Epoch 34/100\n",
      "594/594 [==============================] - ETA: 9s - loss: 0.6285 - accuracy: 0.69 - ETA: 6s - loss: 0.6350 - accuracy: 0.66 - ETA: 3s - loss: 0.6481 - accuracy: 0.64 - ETA: 0s - loss: 0.6438 - accuracy: 0.63 - 14s 23ms/step - loss: 0.6419 - accuracy: 0.6364 - val_loss: 0.7374 - val_accuracy: 0.6364\n",
      "Epoch 35/100\n",
      "594/594 [==============================] - ETA: 9s - loss: 0.7394 - accuracy: 0.64 - ETA: 6s - loss: 0.6876 - accuracy: 0.64 - ETA: 3s - loss: 0.6588 - accuracy: 0.65 - ETA: 0s - loss: 0.6419 - accuracy: 0.67 - 14s 23ms/step - loss: 0.6414 - accuracy: 0.6717 - val_loss: 0.6464 - val_accuracy: 0.6212\n",
      "Epoch 36/100\n",
      "594/594 [==============================] - ETA: 9s - loss: 0.6367 - accuracy: 0.62 - ETA: 6s - loss: 0.6227 - accuracy: 0.63 - ETA: 3s - loss: 0.6448 - accuracy: 0.61 - ETA: 0s - loss: 0.6270 - accuracy: 0.65 - 14s 23ms/step - loss: 0.6296 - accuracy: 0.6465 - val_loss: 0.6547 - val_accuracy: 0.5455\n",
      "Epoch 37/100\n",
      "594/594 [==============================] - ETA: 9s - loss: 0.6273 - accuracy: 0.66 - ETA: 6s - loss: 0.6192 - accuracy: 0.64 - ETA: 3s - loss: 0.6170 - accuracy: 0.65 - ETA: 0s - loss: 0.6110 - accuracy: 0.65 - 14s 23ms/step - loss: 0.6106 - accuracy: 0.6498 - val_loss: 0.7591 - val_accuracy: 0.5455\n",
      "Epoch 38/100\n",
      "594/594 [==============================] - ETA: 9s - loss: 0.7324 - accuracy: 0.62 - ETA: 6s - loss: 0.7399 - accuracy: 0.56 - ETA: 3s - loss: 0.7257 - accuracy: 0.55 - ETA: 0s - loss: 0.7005 - accuracy: 0.58 - 14s 23ms/step - loss: 0.6982 - accuracy: 0.5875 - val_loss: 0.8403 - val_accuracy: 0.5455\n",
      "Epoch 39/100\n",
      "594/594 [==============================] - ETA: 9s - loss: 0.7193 - accuracy: 0.66 - ETA: 6s - loss: 0.6916 - accuracy: 0.60 - ETA: 3s - loss: 0.7197 - accuracy: 0.57 - ETA: 0s - loss: 0.7029 - accuracy: 0.57 - 14s 23ms/step - loss: 0.7091 - accuracy: 0.5707 - val_loss: 0.6628 - val_accuracy: 0.6061\n",
      "Epoch 40/100\n",
      "594/594 [==============================] - ETA: 9s - loss: 0.6489 - accuracy: 0.65 - ETA: 6s - loss: 0.6392 - accuracy: 0.64 - ETA: 3s - loss: 0.6340 - accuracy: 0.65 - ETA: 0s - loss: 0.6286 - accuracy: 0.65 - 14s 24ms/step - loss: 0.6274 - accuracy: 0.6481 - val_loss: 0.6689 - val_accuracy: 0.5909\n",
      "Epoch 41/100\n",
      "594/594 [==============================] - ETA: 10s - loss: 0.6159 - accuracy: 0.655 - ETA: 7s - loss: 0.6467 - accuracy: 0.603 - ETA: 3s - loss: 0.6424 - accuracy: 0.63 - ETA: 0s - loss: 0.6447 - accuracy: 0.65 - 14s 24ms/step - loss: 0.6439 - accuracy: 0.6498 - val_loss: 0.6424 - val_accuracy: 0.6667\n",
      "Epoch 42/100\n",
      "594/594 [==============================] - ETA: 9s - loss: 0.5824 - accuracy: 0.71 - ETA: 6s - loss: 0.5738 - accuracy: 0.70 - ETA: 3s - loss: 0.5905 - accuracy: 0.70 - ETA: 0s - loss: 0.5975 - accuracy: 0.68 - 14s 23ms/step - loss: 0.5952 - accuracy: 0.6869 - val_loss: 0.7178 - val_accuracy: 0.5606\n",
      "Epoch 43/100\n",
      "594/594 [==============================] - ETA: 9s - loss: 0.6582 - accuracy: 0.65 - ETA: 6s - loss: 0.6283 - accuracy: 0.70 - ETA: 3s - loss: 0.6246 - accuracy: 0.70 - ETA: 0s - loss: 0.6236 - accuracy: 0.68 - 14s 23ms/step - loss: 0.6213 - accuracy: 0.6835 - val_loss: 0.6872 - val_accuracy: 0.5455\n",
      "Epoch 44/100\n",
      "594/594 [==============================] - ETA: 9s - loss: 0.6652 - accuracy: 0.55 - ETA: 6s - loss: 0.5923 - accuracy: 0.65 - ETA: 3s - loss: 0.5957 - accuracy: 0.67 - ETA: 0s - loss: 0.6050 - accuracy: 0.66 - 14s 23ms/step - loss: 0.6079 - accuracy: 0.6650 - val_loss: 0.7564 - val_accuracy: 0.5303\n",
      "Epoch 45/100\n",
      "594/594 [==============================] - ETA: 9s - loss: 0.7396 - accuracy: 0.55 - ETA: 6s - loss: 0.6829 - accuracy: 0.61 - ETA: 3s - loss: 0.6647 - accuracy: 0.62 - ETA: 0s - loss: 0.6492 - accuracy: 0.65 - 15s 25ms/step - loss: 0.6477 - accuracy: 0.6515 - val_loss: 0.6164 - val_accuracy: 0.6515\n",
      "Epoch 46/100\n",
      "594/594 [==============================] - ETA: 10s - loss: 0.5953 - accuracy: 0.682 - ETA: 6s - loss: 0.5873 - accuracy: 0.689 - ETA: 3s - loss: 0.5940 - accuracy: 0.67 - ETA: 0s - loss: 0.5853 - accuracy: 0.69 - 14s 24ms/step - loss: 0.5837 - accuracy: 0.6936 - val_loss: 1.0803 - val_accuracy: 0.4242\n",
      "Epoch 47/100\n",
      "594/594 [==============================] - ETA: 10s - loss: 0.9604 - accuracy: 0.579 - ETA: 7s - loss: 0.7814 - accuracy: 0.606 - ETA: 3s - loss: 0.7287 - accuracy: 0.63 - ETA: 0s - loss: 0.7082 - accuracy: 0.62 - 15s 24ms/step - loss: 0.7079 - accuracy: 0.6263 - val_loss: 0.5876 - val_accuracy: 0.6667\n",
      "Epoch 48/100\n",
      "594/594 [==============================] - ETA: 9s - loss: 0.6340 - accuracy: 0.57 - ETA: 7s - loss: 0.5979 - accuracy: 0.68 - ETA: 3s - loss: 0.5860 - accuracy: 0.69 - ETA: 0s - loss: 0.5898 - accuracy: 0.70 - 14s 24ms/step - loss: 0.5894 - accuracy: 0.7020 - val_loss: 0.5999 - val_accuracy: 0.6061\n",
      "Epoch 49/100\n",
      "594/594 [==============================] - ETA: 10s - loss: 0.5396 - accuracy: 0.731 - ETA: 7s - loss: 0.5234 - accuracy: 0.755 - ETA: 3s - loss: 0.5301 - accuracy: 0.74 - ETA: 0s - loss: 0.5533 - accuracy: 0.72 - 15s 25ms/step - loss: 0.5556 - accuracy: 0.7239 - val_loss: 1.0875 - val_accuracy: 0.5303\n",
      "Epoch 50/100\n",
      "594/594 [==============================] - ETA: 10s - loss: 0.9110 - accuracy: 0.606 - ETA: 7s - loss: 0.7789 - accuracy: 0.620 - ETA: 3s - loss: 0.7170 - accuracy: 0.62 - ETA: 0s - loss: 0.6808 - accuracy: 0.63 - 14s 24ms/step - loss: 0.6772 - accuracy: 0.6431 - val_loss: 0.5715 - val_accuracy: 0.6667\n",
      "Epoch 51/100\n",
      "594/594 [==============================] - ETA: 10s - loss: 0.5045 - accuracy: 0.758 - ETA: 6s - loss: 0.5230 - accuracy: 0.731 - ETA: 3s - loss: 0.5230 - accuracy: 0.75 - ETA: 0s - loss: 0.5186 - accuracy: 0.74 - 14s 23ms/step - loss: 0.5268 - accuracy: 0.7441 - val_loss: 0.6017 - val_accuracy: 0.5152\n",
      "Epoch 52/100\n",
      "594/594 [==============================] - ETA: 10s - loss: 0.5848 - accuracy: 0.634 - ETA: 6s - loss: 0.5743 - accuracy: 0.696 - ETA: 3s - loss: 0.5704 - accuracy: 0.70 - ETA: 0s - loss: 0.5652 - accuracy: 0.70 - 14s 23ms/step - loss: 0.5610 - accuracy: 0.7054 - val_loss: 0.7024 - val_accuracy: 0.5606\n",
      "Epoch 53/100\n",
      "594/594 [==============================] - ETA: 10s - loss: 0.6921 - accuracy: 0.641 - ETA: 7s - loss: 0.7388 - accuracy: 0.624 - ETA: 3s - loss: 0.7542 - accuracy: 0.63 - ETA: 0s - loss: 0.7067 - accuracy: 0.65 - 14s 24ms/step - loss: 0.7004 - accuracy: 0.6633 - val_loss: 0.6303 - val_accuracy: 0.5606\n",
      "Epoch 54/100\n",
      "594/594 [==============================] - ETA: 10s - loss: 0.5587 - accuracy: 0.669 - ETA: 6s - loss: 0.5473 - accuracy: 0.710 - ETA: 3s - loss: 0.5355 - accuracy: 0.73 - ETA: 0s - loss: 0.5393 - accuracy: 0.73 - 14s 23ms/step - loss: 0.5369 - accuracy: 0.7407 - val_loss: 0.5719 - val_accuracy: 0.5606\n",
      "Epoch 55/100\n",
      "594/594 [==============================] - ETA: 9s - loss: 0.5411 - accuracy: 0.71 - ETA: 6s - loss: 0.5282 - accuracy: 0.73 - ETA: 3s - loss: 0.5138 - accuracy: 0.76 - ETA: 0s - loss: 0.5042 - accuracy: 0.77 - 14s 23ms/step - loss: 0.5107 - accuracy: 0.7677 - val_loss: 0.9707 - val_accuracy: 0.5000\n",
      "Epoch 56/100\n",
      "594/594 [==============================] - ETA: 9s - loss: 1.0204 - accuracy: 0.58 - ETA: 6s - loss: 0.9734 - accuracy: 0.53 - ETA: 3s - loss: 0.8748 - accuracy: 0.55 - ETA: 0s - loss: 0.7949 - accuracy: 0.58 - 14s 24ms/step - loss: 0.7882 - accuracy: 0.5892 - val_loss: 0.5612 - val_accuracy: 0.6061\n",
      "Epoch 57/100\n",
      "594/594 [==============================] - ETA: 9s - loss: 0.5659 - accuracy: 0.69 - ETA: 6s - loss: 0.5309 - accuracy: 0.74 - ETA: 3s - loss: 0.5075 - accuracy: 0.76 - ETA: 0s - loss: 0.4873 - accuracy: 0.78 - 14s 23ms/step - loss: 0.4896 - accuracy: 0.7795 - val_loss: 0.6480 - val_accuracy: 0.6515\n",
      "Epoch 58/100\n",
      "594/594 [==============================] - ETA: 10s - loss: 0.6051 - accuracy: 0.634 - ETA: 6s - loss: 0.5632 - accuracy: 0.693 - ETA: 3s - loss: 0.5468 - accuracy: 0.71 - ETA: 0s - loss: 0.5764 - accuracy: 0.68 - 14s 23ms/step - loss: 0.5759 - accuracy: 0.6818 - val_loss: 0.5702 - val_accuracy: 0.7121\n",
      "Epoch 59/100\n",
      "594/594 [==============================] - ETA: 9s - loss: 0.5784 - accuracy: 0.73 - ETA: 6s - loss: 0.5365 - accuracy: 0.76 - ETA: 3s - loss: 0.5073 - accuracy: 0.77 - ETA: 0s - loss: 0.4811 - accuracy: 0.78 - 14s 23ms/step - loss: 0.4823 - accuracy: 0.7845 - val_loss: 0.5687 - val_accuracy: 0.5758\n",
      "Epoch 60/100\n",
      "594/594 [==============================] - ETA: 9s - loss: 0.5139 - accuracy: 0.73 - ETA: 6s - loss: 0.4783 - accuracy: 0.79 - ETA: 3s - loss: 0.4426 - accuracy: 0.82 - ETA: 0s - loss: 0.4480 - accuracy: 0.80 - 14s 23ms/step - loss: 0.4449 - accuracy: 0.8081 - val_loss: 1.0094 - val_accuracy: 0.5455\n",
      "Epoch 61/100\n",
      "594/594 [==============================] - ETA: 9s - loss: 0.9053 - accuracy: 0.62 - ETA: 6s - loss: 0.7404 - accuracy: 0.65 - ETA: 3s - loss: 0.6605 - accuracy: 0.68 - ETA: 0s - loss: 0.5998 - accuracy: 0.72 - 14s 23ms/step - loss: 0.5982 - accuracy: 0.7172 - val_loss: 0.5446 - val_accuracy: 0.7576\n",
      "Epoch 62/100\n",
      "594/594 [==============================] - ETA: 10s - loss: 0.4980 - accuracy: 0.827 - ETA: 6s - loss: 0.4358 - accuracy: 0.865 - ETA: 3s - loss: 0.4146 - accuracy: 0.86 - ETA: 0s - loss: 0.4583 - accuracy: 0.82 - 14s 24ms/step - loss: 0.4605 - accuracy: 0.8215 - val_loss: 0.5072 - val_accuracy: 0.7273\n",
      "Epoch 63/100\n",
      "594/594 [==============================] - ETA: 9s - loss: 0.3689 - accuracy: 0.82 - ETA: 6s - loss: 0.3748 - accuracy: 0.85 - ETA: 3s - loss: 0.4032 - accuracy: 0.83 - ETA: 0s - loss: 0.4671 - accuracy: 0.79 - 14s 23ms/step - loss: 0.4686 - accuracy: 0.7896 - val_loss: 0.5295 - val_accuracy: 0.7879\n",
      "Epoch 64/100\n",
      "594/594 [==============================] - ETA: 10s - loss: 0.4503 - accuracy: 0.910 - ETA: 6s - loss: 0.4185 - accuracy: 0.900 - ETA: 3s - loss: 0.3986 - accuracy: 0.90 - ETA: 0s - loss: 0.3789 - accuracy: 0.90 - 14s 23ms/step - loss: 0.3768 - accuracy: 0.9007 - val_loss: 0.4416 - val_accuracy: 0.7273\n",
      "Epoch 65/100\n",
      "594/594 [==============================] - ETA: 9s - loss: 0.3916 - accuracy: 0.84 - ETA: 6s - loss: 0.3854 - accuracy: 0.82 - ETA: 3s - loss: 0.3668 - accuracy: 0.83 - ETA: 0s - loss: 0.3992 - accuracy: 0.82 - 14s 23ms/step - loss: 0.4017 - accuracy: 0.8232 - val_loss: 0.4517 - val_accuracy: 0.7121\n",
      "Epoch 66/100\n",
      "594/594 [==============================] - ETA: 9s - loss: 0.4507 - accuracy: 0.77 - ETA: 6s - loss: 0.5116 - accuracy: 0.74 - ETA: 3s - loss: 0.4723 - accuracy: 0.76 - ETA: 0s - loss: 0.4584 - accuracy: 0.77 - 14s 23ms/step - loss: 0.4623 - accuracy: 0.7710 - val_loss: 0.5041 - val_accuracy: 0.7273\n",
      "Epoch 67/100\n",
      "594/594 [==============================] - ETA: 10s - loss: 0.4574 - accuracy: 0.813 - ETA: 6s - loss: 0.4471 - accuracy: 0.831 - ETA: 3s - loss: 0.4765 - accuracy: 0.80 - ETA: 0s - loss: 0.4753 - accuracy: 0.78 - 14s 23ms/step - loss: 0.4710 - accuracy: 0.7946 - val_loss: 0.3755 - val_accuracy: 0.8788\n",
      "Epoch 68/100\n",
      "594/594 [==============================] - ETA: 9s - loss: 0.3276 - accuracy: 0.88 - ETA: 6s - loss: 0.3399 - accuracy: 0.89 - ETA: 3s - loss: 0.3206 - accuracy: 0.89 - ETA: 0s - loss: 0.3065 - accuracy: 0.89 - 14s 23ms/step - loss: 0.3105 - accuracy: 0.8939 - val_loss: 0.5987 - val_accuracy: 0.6970\n",
      "Epoch 69/100\n",
      "594/594 [==============================] - ETA: 9s - loss: 0.7073 - accuracy: 0.64 - ETA: 6s - loss: 0.6082 - accuracy: 0.68 - ETA: 3s - loss: 0.5290 - accuracy: 0.73 - ETA: 0s - loss: 0.4794 - accuracy: 0.76 - 14s 23ms/step - loss: 0.4819 - accuracy: 0.7694 - val_loss: 0.4475 - val_accuracy: 0.8030\n",
      "Epoch 70/100\n",
      "594/594 [==============================] - ETA: 9s - loss: 0.4118 - accuracy: 0.85 - ETA: 6s - loss: 0.4127 - accuracy: 0.85 - ETA: 3s - loss: 0.4044 - accuracy: 0.85 - ETA: 0s - loss: 0.3877 - accuracy: 0.85 - 14s 23ms/step - loss: 0.3882 - accuracy: 0.8468 - val_loss: 0.3613 - val_accuracy: 0.8939\n",
      "Epoch 71/100\n",
      "594/594 [==============================] - ETA: 9s - loss: 0.2818 - accuracy: 0.92 - ETA: 6s - loss: 0.2834 - accuracy: 0.90 - ETA: 3s - loss: 0.2701 - accuracy: 0.91 - ETA: 0s - loss: 0.2744 - accuracy: 0.91 - 14s 23ms/step - loss: 0.2823 - accuracy: 0.9125 - val_loss: 0.7119 - val_accuracy: 0.6061\n",
      "Epoch 72/100\n",
      "594/594 [==============================] - ETA: 9s - loss: 0.8012 - accuracy: 0.64 - ETA: 6s - loss: 0.5925 - accuracy: 0.72 - ETA: 3s - loss: 0.5041 - accuracy: 0.77 - ETA: 0s - loss: 0.4479 - accuracy: 0.80 - 14s 23ms/step - loss: 0.4397 - accuracy: 0.8064 - val_loss: 0.3676 - val_accuracy: 0.8485\n",
      "Epoch 73/100\n",
      "594/594 [==============================] - ETA: 10s - loss: 0.2726 - accuracy: 0.889 - ETA: 6s - loss: 0.3118 - accuracy: 0.869 - ETA: 3s - loss: 0.3406 - accuracy: 0.86 - ETA: 0s - loss: 0.3380 - accuracy: 0.84 - 14s 23ms/step - loss: 0.3364 - accuracy: 0.8502 - val_loss: 0.3828 - val_accuracy: 0.7727\n",
      "Epoch 74/100\n",
      "594/594 [==============================] - ETA: 9s - loss: 0.3719 - accuracy: 0.83 - ETA: 6s - loss: 0.4062 - accuracy: 0.83 - ETA: 3s - loss: 0.3613 - accuracy: 0.84 - ETA: 0s - loss: 0.3396 - accuracy: 0.86 - 14s 23ms/step - loss: 0.3424 - accuracy: 0.8620 - val_loss: 0.4575 - val_accuracy: 0.7424\n",
      "Epoch 75/100\n",
      "594/594 [==============================] - ETA: 9s - loss: 0.3249 - accuracy: 0.86 - ETA: 6s - loss: 0.2867 - accuracy: 0.90 - ETA: 3s - loss: 0.2715 - accuracy: 0.90 - ETA: 0s - loss: 0.2665 - accuracy: 0.90 - 14s 23ms/step - loss: 0.2621 - accuracy: 0.9040 - val_loss: 0.5128 - val_accuracy: 0.7424\n",
      "Epoch 76/100\n",
      "594/594 [==============================] - ETA: 9s - loss: 0.2660 - accuracy: 0.88 - ETA: 6s - loss: 0.3038 - accuracy: 0.85 - ETA: 3s - loss: 0.4405 - accuracy: 0.79 - ETA: 0s - loss: 0.4430 - accuracy: 0.80 - 14s 23ms/step - loss: 0.4369 - accuracy: 0.8064 - val_loss: 0.6085 - val_accuracy: 0.8030\n",
      "Epoch 77/100\n",
      "594/594 [==============================] - ETA: 9s - loss: 0.3041 - accuracy: 0.88 - ETA: 6s - loss: 0.2628 - accuracy: 0.90 - ETA: 3s - loss: 0.2456 - accuracy: 0.91 - ETA: 0s - loss: 0.2300 - accuracy: 0.91 - 14s 23ms/step - loss: 0.2265 - accuracy: 0.9175 - val_loss: 0.3002 - val_accuracy: 0.8636\n",
      "Epoch 78/100\n",
      "594/594 [==============================] - ETA: 9s - loss: 0.2101 - accuracy: 0.95 - ETA: 6s - loss: 0.1996 - accuracy: 0.95 - ETA: 3s - loss: 0.1909 - accuracy: 0.94 - ETA: 0s - loss: 0.2126 - accuracy: 0.93 - 14s 23ms/step - loss: 0.2148 - accuracy: 0.9327 - val_loss: 0.6029 - val_accuracy: 0.7424\n"
     ]
    },
    {
     "name": "stdout",
     "output_type": "stream",
     "text": [
      "Epoch 79/100\n",
      "594/594 [==============================] - ETA: 9s - loss: 0.3514 - accuracy: 0.86 - ETA: 6s - loss: 0.3186 - accuracy: 0.87 - ETA: 3s - loss: 0.2789 - accuracy: 0.91 - ETA: 0s - loss: 0.2502 - accuracy: 0.91 - 14s 23ms/step - loss: 0.2480 - accuracy: 0.9141 - val_loss: 0.2075 - val_accuracy: 0.9545\n",
      "Epoch 80/100\n",
      "594/594 [==============================] - ETA: 9s - loss: 0.1590 - accuracy: 0.92 - ETA: 6s - loss: 0.1589 - accuracy: 0.93 - ETA: 3s - loss: 0.1588 - accuracy: 0.93 - ETA: 0s - loss: 0.1579 - accuracy: 0.94 - 14s 23ms/step - loss: 0.1591 - accuracy: 0.9411 - val_loss: 0.2540 - val_accuracy: 0.8939\n",
      "Epoch 81/100\n",
      "594/594 [==============================] - ETA: 9s - loss: 0.1601 - accuracy: 0.95 - ETA: 6s - loss: 0.1839 - accuracy: 0.93 - ETA: 3s - loss: 0.1982 - accuracy: 0.92 - ETA: 0s - loss: 0.1902 - accuracy: 0.93 - 14s 23ms/step - loss: 0.1881 - accuracy: 0.9343 - val_loss: 0.7974 - val_accuracy: 0.8485\n",
      "Epoch 82/100\n",
      "594/594 [==============================] - ETA: 9s - loss: 0.6525 - accuracy: 0.85 - ETA: 6s - loss: 0.6285 - accuracy: 0.76 - ETA: 3s - loss: 0.6110 - accuracy: 0.77 - ETA: 0s - loss: 0.5774 - accuracy: 0.77 - 14s 23ms/step - loss: 0.5705 - accuracy: 0.7744 - val_loss: 0.2869 - val_accuracy: 0.8636\n",
      "Epoch 83/100\n",
      "594/594 [==============================] - ETA: 9s - loss: 0.2093 - accuracy: 0.91 - ETA: 6s - loss: 0.2055 - accuracy: 0.92 - ETA: 3s - loss: 0.1813 - accuracy: 0.93 - ETA: 0s - loss: 0.1613 - accuracy: 0.94 - 14s 23ms/step - loss: 0.1586 - accuracy: 0.9444 - val_loss: 0.3002 - val_accuracy: 0.8939\n",
      "Epoch 84/100\n",
      "594/594 [==============================] - ETA: 9s - loss: 0.1725 - accuracy: 0.91 - ETA: 6s - loss: 0.1707 - accuracy: 0.93 - ETA: 3s - loss: 0.1613 - accuracy: 0.94 - ETA: 0s - loss: 0.1558 - accuracy: 0.95 - 14s 23ms/step - loss: 0.1550 - accuracy: 0.9529 - val_loss: 0.1744 - val_accuracy: 0.9545\n",
      "Epoch 85/100\n",
      "594/594 [==============================] - ETA: 9s - loss: 0.1002 - accuracy: 0.96 - ETA: 6s - loss: 0.0975 - accuracy: 0.96 - ETA: 3s - loss: 0.0980 - accuracy: 0.96 - ETA: 0s - loss: 0.0984 - accuracy: 0.96 - 14s 23ms/step - loss: 0.0973 - accuracy: 0.9663 - val_loss: 0.2527 - val_accuracy: 0.9091\n",
      "Epoch 86/100\n",
      "594/594 [==============================] - ETA: 9s - loss: 0.1495 - accuracy: 0.94 - ETA: 6s - loss: 0.1263 - accuracy: 0.95 - ETA: 3s - loss: 0.1430 - accuracy: 0.94 - ETA: 0s - loss: 0.1499 - accuracy: 0.94 - 14s 23ms/step - loss: 0.1504 - accuracy: 0.9478 - val_loss: 0.2171 - val_accuracy: 0.9091\n",
      "Epoch 87/100\n",
      "594/594 [==============================] - ETA: 9s - loss: 0.1615 - accuracy: 0.95 - ETA: 6s - loss: 0.1435 - accuracy: 0.96 - ETA: 3s - loss: 0.3739 - accuracy: 0.89 - ETA: 0s - loss: 0.4320 - accuracy: 0.86 - 14s 23ms/step - loss: 0.4623 - accuracy: 0.8552 - val_loss: 0.6884 - val_accuracy: 0.7121\n",
      "Epoch 88/100\n",
      "594/594 [==============================] - ETA: 9s - loss: 0.5580 - accuracy: 0.73 - ETA: 6s - loss: 0.4065 - accuracy: 0.82 - ETA: 3s - loss: 0.3227 - accuracy: 0.87 - ETA: 0s - loss: 0.2756 - accuracy: 0.89 - 14s 23ms/step - loss: 0.2721 - accuracy: 0.8973 - val_loss: 0.2945 - val_accuracy: 0.8636\n",
      "Epoch 89/100\n",
      "594/594 [==============================] - ETA: 9s - loss: 0.1466 - accuracy: 0.93 - ETA: 6s - loss: 0.1643 - accuracy: 0.93 - ETA: 3s - loss: 0.1915 - accuracy: 0.91 - ETA: 0s - loss: 0.1735 - accuracy: 0.93 - 14s 23ms/step - loss: 0.1757 - accuracy: 0.9276 - val_loss: 0.2886 - val_accuracy: 0.8788\n",
      "Epoch 90/100\n",
      "594/594 [==============================] - ETA: 9s - loss: 0.1943 - accuracy: 0.91 - ETA: 6s - loss: 0.1501 - accuracy: 0.93 - ETA: 3s - loss: 0.1406 - accuracy: 0.94 - ETA: 0s - loss: 0.1358 - accuracy: 0.94 - 14s 23ms/step - loss: 0.1379 - accuracy: 0.9444 - val_loss: 0.2374 - val_accuracy: 0.8788\n",
      "Epoch 91/100\n",
      "594/594 [==============================] - ETA: 9s - loss: 0.0987 - accuracy: 0.97 - ETA: 6s - loss: 0.1150 - accuracy: 0.96 - ETA: 3s - loss: 0.0946 - accuracy: 0.97 - ETA: 0s - loss: 0.0964 - accuracy: 0.97 - 14s 23ms/step - loss: 0.0969 - accuracy: 0.9714 - val_loss: 0.3665 - val_accuracy: 0.8636\n",
      "Epoch 92/100\n",
      "594/594 [==============================] - ETA: 9s - loss: 0.2267 - accuracy: 0.94 - ETA: 6s - loss: 0.1875 - accuracy: 0.94 - ETA: 3s - loss: 0.1437 - accuracy: 0.95 - ETA: 0s - loss: 0.1250 - accuracy: 0.96 - 14s 23ms/step - loss: 0.1234 - accuracy: 0.9680 - val_loss: 0.2183 - val_accuracy: 0.8939\n",
      "Epoch 93/100\n",
      "594/594 [==============================] - ETA: 9s - loss: 0.1259 - accuracy: 0.94 - ETA: 6s - loss: 0.1202 - accuracy: 0.95 - ETA: 3s - loss: 0.1022 - accuracy: 0.96 - ETA: 0s - loss: 0.0829 - accuracy: 0.97 - 14s 23ms/step - loss: 0.0839 - accuracy: 0.9714 - val_loss: 0.2205 - val_accuracy: 0.8636\n",
      "Epoch 94/100\n",
      "594/594 [==============================] - ETA: 9s - loss: 0.0495 - accuracy: 0.99 - ETA: 6s - loss: 0.0528 - accuracy: 0.98 - ETA: 3s - loss: 0.0530 - accuracy: 0.98 - ETA: 0s - loss: 0.0466 - accuracy: 0.98 - 14s 23ms/step - loss: 0.0458 - accuracy: 0.9865 - val_loss: 0.1659 - val_accuracy: 0.9242\n",
      "Epoch 95/100\n",
      "594/594 [==============================] - ETA: 9s - loss: 0.0332 - accuracy: 0.99 - ETA: 6s - loss: 0.0903 - accuracy: 0.97 - ETA: 3s - loss: 0.0939 - accuracy: 0.97 - ETA: 0s - loss: 0.1040 - accuracy: 0.97 - 14s 23ms/step - loss: 0.1260 - accuracy: 0.9680 - val_loss: 0.9902 - val_accuracy: 0.7576\n",
      "Epoch 96/100\n",
      "594/594 [==============================] - ETA: 9s - loss: 0.8453 - accuracy: 0.79 - ETA: 6s - loss: 1.0692 - accuracy: 0.75 - ETA: 3s - loss: 1.1797 - accuracy: 0.68 - ETA: 0s - loss: 0.9593 - accuracy: 0.75 - 14s 23ms/step - loss: 0.9381 - accuracy: 0.7576 - val_loss: 0.2028 - val_accuracy: 0.9394\n",
      "Epoch 97/100\n",
      "594/594 [==============================] - ETA: 9s - loss: 0.1420 - accuracy: 0.97 - ETA: 6s - loss: 0.1416 - accuracy: 0.97 - ETA: 3s - loss: 0.1335 - accuracy: 0.97 - ETA: 0s - loss: 0.1301 - accuracy: 0.97 - 14s 23ms/step - loss: 0.1280 - accuracy: 0.9747 - val_loss: 0.1798 - val_accuracy: 0.9394\n",
      "Epoch 98/100\n",
      "594/594 [==============================] - ETA: 9s - loss: 0.0640 - accuracy: 0.98 - ETA: 6s - loss: 0.0633 - accuracy: 0.98 - ETA: 3s - loss: 0.0628 - accuracy: 0.98 - ETA: 0s - loss: 0.0570 - accuracy: 0.98 - 14s 23ms/step - loss: 0.0560 - accuracy: 0.9882 - val_loss: 0.2351 - val_accuracy: 0.9242\n",
      "Epoch 99/100\n",
      "594/594 [==============================] - ETA: 9s - loss: 0.0473 - accuracy: 0.97 - ETA: 6s - loss: 0.0659 - accuracy: 0.97 - ETA: 3s - loss: 0.0659 - accuracy: 0.97 - ETA: 0s - loss: 0.0649 - accuracy: 0.98 - 14s 23ms/step - loss: 0.0638 - accuracy: 0.9815 - val_loss: 0.1706 - val_accuracy: 0.9545\n",
      "Epoch 100/100\n",
      "594/594 [==============================] - ETA: 9s - loss: 0.0351 - accuracy: 0.99 - ETA: 6s - loss: 0.0404 - accuracy: 0.98 - ETA: 3s - loss: 0.0339 - accuracy: 0.99 - ETA: 0s - loss: 0.0351 - accuracy: 0.98 - 14s 23ms/step - loss: 0.0344 - accuracy: 0.9882 - val_loss: 0.1711 - val_accuracy: 0.9545\n",
      "[2020-04-22 18:52:44 RAM41.5% 0.38GB] Training completed in time:  0:23:08.012422\n"
     ]
    }
   ],
   "source": [
    "from keras.callbacks import ModelCheckpoint \n",
    "from datetime import datetime \n",
    "\n",
    "num_epochs = 100\n",
    "num_batch_size = 145\n",
    "\n",
    "#checkpointer = ModelCheckpoint(filepath='saved_models/weights.best.basic_cnn.hdf5', \n",
    "                              # verbose=1, save_best_only=True)\n",
    "start = datetime.now()\n",
    "\n",
    "adam= model.fit(x_train, y_train, batch_size=num_batch_size, epochs=num_epochs, validation_data=(x_test, y_test), verbose=1)\n",
    "\n",
    "\n",
    "duration = datetime.now() - start\n",
    "print(\"Training completed in time: \", duration)"
   ]
  },
  {
   "cell_type": "code",
   "execution_count": 46,
   "metadata": {},
   "outputs": [
    {
     "name": "stdout",
     "output_type": "stream",
     "text": [
      "594/594 [==============================] - ETA:  - ETA:  - ETA:  - ETA:  - ETA:  - ETA:  - ETA:  - ETA:  - ETA:  - ETA:  - ETA:  - ETA:  - ETA:  - ETA:  - ETA:  - ETA:  - ETA:  - ETA:  - 5s 9ms/step\n",
      "[2020-04-22 19:01:19 RAM48.3% 0.38GB] Training Accuracy:  1.0\n"
     ]
    }
   ],
   "source": [
    "# Evaluating the model on the training and testing set\n",
    "score1 = model.evaluate(x_train, y_train, verbose=1)\n",
    "print(\"Training Accuracy: \", score1[1])\n",
    "# save the model \n",
    "#model.save(\"model_benotos.h5py\")"
   ]
  },
  {
   "cell_type": "code",
   "execution_count": 47,
   "metadata": {},
   "outputs": [
    {
     "name": "stdout",
     "output_type": "stream",
     "text": [
      "66/66 [==============================] - ETA:  - ETA:  - 1s 8ms/step\n",
      "[2020-04-22 19:01:19 RAM48.3% 0.38GB] Testing Accuracy:  0.9545454382896423\n"
     ]
    }
   ],
   "source": [
    "score = model.evaluate(x_test, y_test, verbose=1)\n",
    "print(\"Testing Accuracy: \", score[1])\n"
   ]
  },
  {
   "cell_type": "code",
   "execution_count": 48,
   "metadata": {},
   "outputs": [
    {
     "data": {
      "image/png": "[encoded data removed]",
      "text/plain": [
       "<Figure size 432x288 with 1 Axes>"
      ]
     },
     "metadata": {
      "needs_background": "light"
     },
     "output_type": "display_data"
    },
    {
     "data": {
      "image/png": "[encoded data removed]",
      "text/plain": [
       "<Figure size 432x288 with 1 Axes>"
      ]
     },
     "metadata": {
      "needs_background": "light"
     },
     "output_type": "display_data"
    }
   ],
   "source": [
    "# plot training history\n",
    "plt.plot(adam.history['accuracy'], label='train')\n",
    "plt.plot(adam.history['val_accuracy'], label='test')\n",
    "plt.legend()\n",
    "plt.show()\n",
    "# plot training history\n",
    "plt.plot(adam.history['loss'], label='train')\n",
    "plt.plot(adam.history['val_loss'], label='test')\n",
    "plt.legend()\n",
    "plt.show()\n"
   ]
  },
  {
   "cell_type": "code",
   "execution_count": 49,
   "metadata": {},
   "outputs": [
    {
     "name": "stdout",
     "output_type": "stream",
     "text": [
      "[2020-04-22 19:01:27 RAM48.6% 0.4GB] dict_keys(['val_loss', 'val_accuracy', 'loss', 'accuracy'])\n"
     ]
    },
    {
     "data": {
      "image/png": "[encoded data removed]",
      "text/plain": [
       "<Figure size 432x288 with 1 Axes>"
      ]
     },
     "metadata": {
      "needs_background": "light"
     },
     "output_type": "display_data"
    },
    {
     "data": {
      "image/png": "[encoded data removed]",
      "text/plain": [
       "<Figure size 432x288 with 1 Axes>"
      ]
     },
     "metadata": {
      "needs_background": "light"
     },
     "output_type": "display_data"
    }
   ],
   "source": [
    "# Visualise and list all data in history\n",
    "# ---------------------------------------------------    \n",
    "print(adam.history.keys())\n",
    "\n",
    "accuracy= adam.history['accuracy']\n",
    "val_accuracy=adam.history['val_accuracy']\n",
    "loss=adam.history['loss']\n",
    "\n",
    "val_loss=adam.history['val_loss']\n",
    "\n",
    "epochs=range(len(accuracy))\n",
    "\n",
    "plt.plot(epochs, accuracy,'ro',  label='Training accuracy')\n",
    "plt.plot(epochs, val_accuracy, 'b', label='Validation accuracy')\n",
    "plt.title('Training and validation accuracy')\n",
    "plt.legend()\n",
    "plt.figure()\n",
    "plt.plot(epochs, loss, 'ro', label='Training loss')\n",
    "plt.plot(epochs, val_loss, 'b', label='Validation loss')\n",
    "plt.title('Training and validation loss')\n",
    "plt.legend()\n",
    "plt.show()"
   ]
  },
  {
   "cell_type": "code",
   "execution_count": 50,
   "metadata": {},
   "outputs": [],
   "source": [
    "# Predict labels: \n",
    "predicted_classes= model.predict(x_test)\n",
    "\n",
    "predicted_classes=np.argmax(np.round(predicted_classes), axis=1)"
   ]
  },
  {
   "cell_type": "code",
   "execution_count": 52,
   "metadata": {},
   "outputs": [
    {
     "data": {
      "text/plain": [
       "1"
      ]
     },
     "execution_count": 52,
     "metadata": {},
     "output_type": "execute_result"
    }
   ],
   "source": [
    "rounded_predictions = model.predict_classes(x_test, batch_size=128, verbose=0)\n",
    "rounded_predictions[1]"
   ]
  },
  {
   "cell_type": "code",
   "execution_count": 53,
   "metadata": {},
   "outputs": [
    {
     "data": {
      "text/plain": [
       "1"
      ]
     },
     "execution_count": 53,
     "metadata": {},
     "output_type": "execute_result"
    }
   ],
   "source": [
    "import numpy as np\n",
    "rounded_labels=np.argmax(y_test, axis=1)\n",
    "rounded_labels[1]\n"
   ]
  },
  {
   "cell_type": "code",
   "execution_count": 54,
   "metadata": {},
   "outputs": [
    {
     "name": "stdout",
     "output_type": "stream",
     "text": [
      "[2020-04-22 19:01:46 RAM49.0% 0.41GB] Confusion matrix, without normalization\n",
      "[2020-04-22 19:01:46 RAM49.0% 0.41GB] [[31  2]\n",
      " [ 1 32]]\n",
      "[2020-04-22 19:01:46 RAM49.0% 0.42GB] Normalized confusion matrix\n",
      "[2020-04-22 19:01:46 RAM49.0% 0.42GB] [[0.94 0.06]\n",
      " [0.03 0.97]]\n"
     ]
    },
    {
     "data": {
      "image/png": "[encoded data removed]",
      "text/plain": [
       "<Figure size 432x288 with 2 Axes>"
      ]
     },
     "metadata": {
      "needs_background": "light"
     },
     "output_type": "display_data"
    },
    {
     "data": {
      "image/png": "[encoded data removed]",
      "text/plain": [
       "<Figure size 432x288 with 2 Axes>"
      ]
     },
     "metadata": {
      "needs_background": "light"
     },
     "output_type": "display_data"
    },
    {
     "name": "stdout",
     "output_type": "stream",
     "text": [
      "[2020-04-22 19:01:46 RAM49.0% 0.42GB] \n",
      "Clasification report:\n",
      "               precision    recall  f1-score   support\n",
      "\n",
      "           0       0.97      0.94      0.95        33\n",
      "           1       0.94      0.97      0.96        33\n",
      "\n",
      "    accuracy                           0.95        66\n",
      "   macro avg       0.95      0.95      0.95        66\n",
      "weighted avg       0.95      0.95      0.95        66\n",
      "\n"
     ]
    }
   ],
   "source": [
    "from sklearn.metrics import confusion_matrix\n",
    "#cm = confusion_matrix(rounded_labels, rounded_predictions)\n",
    "#cm\n",
    "\n",
    "# Compute confusion matrix\n",
    "cnf_matrix = confusion_matrix(rounded_labels, rounded_predictions)\n",
    "np.set_printoptions(precision=2)\n",
    "\n",
    "# Plot non-normalized confusion matrix\n",
    "plt.figure()\n",
    "plot_confusion_matrix(cnf_matrix, classes=class_names,\n",
    "                      title='Confusion matrix, without normalization')\n",
    "\n",
    "# Plot normalized confusion matrix\n",
    "plt.figure()\n",
    "plot_confusion_matrix(cnf_matrix, classes=class_names, normalize=True,\n",
    "                      title='Normalized confusion matrix')\n",
    "\n",
    "plt.show()\n",
    "print ('\\nClasification report:\\n', classification_report(rounded_labels, rounded_predictions ))"
   ]
  },
  {
   "cell_type": "code",
   "execution_count": 77,
   "metadata": {},
   "outputs": [],
   "source": [
    "import timbre_descriptor as td\n",
    "import numpy as np\n",
    "import scipy as sc\n",
    "import my_tools as mt\n",
    "from collections import namedtuple\n",
    "import scipy\n",
    "import scipy.signal\n",
    "from scipy.io import wavfile\n",
    "\n",
    "import matplotlib\n",
    "import swipep as swp             # used for sing le-F0 estimation\n",
    "import warnings                 # used for warning removal\n",
    "import time               # used performance benchmark\n",
    "import librosa\n"
   ]
  },
  {
   "cell_type": "code",
   "execution_count": 78,
   "metadata": {},
   "outputs": [],
   "source": [
    "nbits = 16;\n",
    "MAX_VAL = pow(2,(nbits-1)) * 1.0;"
   ]
  },
  {
   "cell_type": "code",
   "execution_count": 79,
   "metadata": {},
   "outputs": [
    {
     "name": "stdout",
     "output_type": "stream",
     "text": [
      "32000 [[ -26   89]\n",
      " [ -54   91]\n",
      " [ -46   89]\n",
      " ...\n",
      " [-117   25]\n",
      " [-126   28]\n",
      " [-144    2]]\n",
      "2\n",
      "channel1, channel2:  [ -26  -54  -46 ... -117 -126 -144] [89 91 89 ... 25 28  2]\n",
      "s.dtype: int16\n",
      "19148800\n",
      "taille:  96000\n",
      "param_val=  [ 4.00312500e-02  8.16187500e-01  2.97106250e+00 -9.85847129e-01\n",
      "  5.04533410e+00 -1.01012988e-01  1.51363372e+00  2.87221875e+00\n",
      "  4.15039062e+00  3.94592222e-02  1.37304291e-01  1.52846778e-02\n",
      "  9.80883563e-01  8.99620836e-03  9.42567388e-01  2.73127998e-02\n",
      "  9.04283651e-01  4.50494020e-02  8.72628982e-01  5.96167657e-02\n",
      "  8.45143433e-01  7.03466023e-02  8.20348891e-01  8.06513919e-02\n",
      "  7.97737355e-01  8.91393269e-02  7.77660185e-01  9.62201713e-02\n",
      "  7.56873011e-01  1.06713700e-01  7.33027409e-01  1.13611869e-01\n",
      "  7.07416279e-01  1.20376857e-01  6.78384423e-01  1.27082488e-01\n",
      "  1.72274563e+03  5.10828533e+02  4.48796366e-02  4.32477471e-03\n",
      "  8.84380958e-02  7.83118488e-03  3.55513827e+00  2.01382519e-01\n",
      "  1.61813217e+01  1.85637346e+00 -9.60358210e-03  2.02724008e-04\n",
      " -9.99329025e-02  8.64006769e-02  1.76757812e-01  1.44785156e-02\n",
      "  8.59055852e-02  3.70865896e-02  2.68427268e-02  3.60899394e-03\n",
      "  1.07145600e-01  2.21623318e-02  5.43724751e+01  1.60508648e+01\n",
      "  8.01898695e-03  2.64530394e-03  2.44564018e-02  6.73294592e-03\n",
      "  1.15747388e+01  3.16950656e+00  2.01832767e+02  9.49521151e+01\n",
      " -1.13314267e-02  1.23998740e-04  1.52635499e-02  1.68719901e-01\n",
      "  3.12500000e-02  1.73742187e-02  1.48361518e-01  1.27272102e-01\n",
      "  1.17834001e-02  5.78798344e-03  7.64297964e-04  3.83588556e-04\n",
      "  1.95845193e+02  7.40737755e+01  1.24014825e-01  2.25747206e-02\n",
      "  5.78926436e-03  3.86398102e-03  1.19005403e-01  2.05037434e-02\n",
      "  9.51024760e-01  2.79479451e-02  8.11063468e+01  5.90948261e+01\n",
      "  6.26432035e-02  3.16091980e-02  1.76295469e-01  1.19875868e-01\n",
      "  3.22663702e-01  8.75681640e-02  4.54638974e-01  9.01592191e-02\n",
      "  2.60156213e-03  1.40604122e-03  1.85081480e+00  2.26247346e+00\n",
      "  5.03078649e+02  2.76405228e+02  4.22921743e+02  3.11042086e+02\n",
      "  1.05022043e+00  2.50079739e-01  3.06676809e+00  5.63733431e-01\n",
      " -1.91009843e-05  1.09862296e-05 -4.04088753e-01  7.17615246e-01\n",
      "  1.38671875e+03  9.34588184e+02  9.41778097e-02  9.06039929e-02\n",
      "  7.63014413e-02  2.38725010e-03  1.10606764e-01  2.57305913e-03\n",
      "  2.17433489e+00  4.21002093e-02  6.02063680e+00  2.39716635e-01\n",
      " -2.84926915e-02  2.01273695e-03  3.52554698e-02  2.63655162e-03\n",
      "  2.29273468e-01  0.00000000e+00  6.53472181e-03  2.46315903e-03\n",
      "  1.31059908e+02  9.23155460e+00  8.16697152e-01  1.68938179e-02\n",
      "  1.94884932e+00  1.27131753e-01  7.64481566e-02  2.90008813e-03\n",
      "  1.11016991e-01  3.08822622e-03  2.17971581e+00  5.58796390e-02\n",
      "  6.03495473e+00  3.26455979e-01 -2.83689930e-02  2.44512066e-03\n",
      "  3.64713273e-02  2.17678307e-03  2.29273468e-01  9.80543289e-03\n",
      "  1.98243095e-02  6.41194517e-03  6.83390211e+00  5.34847172e-01\n",
      "  8.16273337e-01  1.73252601e-02  2.04366186e+00  1.76758523e-01] field_name=  ['TEE_Att', 'TEE_Dec', 'TEE_Rel', 'TEE_LAT', 'TEE_AttSlope', 'TEE_DecSlope', 'TEE_TempCent', 'TEE_EffDur', 'TEE_FreqMod', 'TEE_AmpMod', 'TEE_RMSEnv_median', 'TEE_RMSEnv_iqr', 'AS_AutoCorr1_median', 'AS_AutoCorr1_iqr', 'AS_AutoCorr2_median', 'AS_AutoCorr2_iqr', 'AS_AutoCorr3_median', 'AS_AutoCorr3_iqr', 'AS_AutoCorr4_median', 'AS_AutoCorr4_iqr', 'AS_AutoCorr5_median', 'AS_AutoCorr5_iqr', 'AS_AutoCorr6_median', 'AS_AutoCorr6_iqr', 'AS_AutoCorr7_median', 'AS_AutoCorr7_iqr', 'AS_AutoCorr8_median', 'AS_AutoCorr8_iqr', 'AS_AutoCorr9_median', 'AS_AutoCorr9_iqr', 'AS_AutoCorr10_median', 'AS_AutoCorr10_iqr', 'AS_AutoCorr11_median', 'AS_AutoCorr11_iqr', 'AS_AutoCorr12_median', 'AS_AutoCorr12_iqr', 'AS_ZcrRate_median', 'AS_ZcrRate_iqr', 'STFTmag_SpecCent_median', 'STFTmag_SpecCent_iqr', 'STFTmag_SpecSpread_median', 'STFTmag_SpecSpread_iqr', 'STFTmag_SpecSkew_median', 'STFTmag_SpecSkew_iqr', 'STFTmag_SpecKurt_median', 'STFTmag_SpecKurt_iqr', 'STFTmag_SpecSlope_median', 'STFTmag_SpecSlope_iqr', 'STFTmag_SpecDecr_median', 'STFTmag_SpecDecr_iqr', 'STFTmag_SpecRollOff_median', 'STFTmag_SpecRollOff_iqr', 'STFTmag_SpecVar_median', 'STFTmag_SpecVar_iqr', 'STFTmag_FrameErg_median', 'STFTmag_FrameErg_iqr', 'STFTmag_SpecFlat_median', 'STFTmag_SpecFlat_iqr', 'STFTmag_SpecCrest_median', 'STFTmag_SpecCrest_iqr', 'STFTpow_SpecCent_median', 'STFTpow_SpecCent_iqr', 'STFTpow_SpecSpread_median', 'STFTpow_SpecSpread_iqr', 'STFTpow_SpecSkew_median', 'STFTpow_SpecSkew_iqr', 'STFTpow_SpecKurt_median', 'STFTpow_SpecKurt_iqr', 'STFTpow_SpecSlope_median', 'STFTpow_SpecSlope_iqr', 'STFTpow_SpecDecr_median', 'STFTpow_SpecDecr_iqr', 'STFTpow_SpecRollOff_median', 'STFTpow_SpecRollOff_iqr', 'STFTpow_SpecVar_median', 'STFTpow_SpecVar_iqr', 'STFTpow_FrameErg_median', 'STFTpow_FrameErg_iqr', 'STFTpow_SpecFlat_median', 'STFTpow_SpecFlat_iqr', 'STFTpow_SpecCrest_median', 'STFTpow_SpecCrest_iqr', 'Harmonic_FrameErg_median', 'Harmonic_FrameErg_iqr', 'Harmonic_HarmErg_median', 'Harmonic_HarmErg_iqr', 'Harmonic_NoiseErg_median', 'Harmonic_NoiseErg_iqr', 'Harmonic_Noisiness_median', 'Harmonic_Noisiness_iqr', 'Harmonic_F0_median', 'Harmonic_F0_iqr', 'Harmonic_InHarm_median', 'Harmonic_InHarm_iqr', 'Harmonic_TriStim1_median', 'Harmonic_TriStim1_iqr', 'Harmonic_TriStim2_median', 'Harmonic_TriStim2_iqr', 'Harmonic_TriStim3_median', 'Harmonic_TriStim3_iqr', 'Harmonic_HarmDev_median', 'Harmonic_HarmDev_iqr', 'Harmonic_OddEvenRatio_median', 'Harmonic_OddEvenRatio_iqr', 'Harmonic_SpecCent_median', 'Harmonic_SpecCent_iqr', 'Harmonic_SpecSpread_median', 'Harmonic_SpecSpread_iqr', 'Harmonic_SpecSkew_median', 'Harmonic_SpecSkew_iqr', 'Harmonic_SpecKurt_median', 'Harmonic_SpecKurt_iqr', 'Harmonic_SpecSlope_median', 'Harmonic_SpecSlope_iqr', 'Harmonic_SpecDecr_median', 'Harmonic_SpecDecr_iqr', 'Harmonic_SpecRollOff_median', 'Harmonic_SpecRollOff_iqr', 'Harmonic_SpecVar_median', 'Harmonic_SpecVar_iqr', 'ERBfft_SpecCent_median', 'ERBfft_SpecCent_iqr', 'ERBfft_SpecSpread_median', 'ERBfft_SpecSpread_iqr', 'ERBfft_SpecSkew_median', 'ERBfft_SpecSkew_iqr', 'ERBfft_SpecKurt_median', 'ERBfft_SpecKurt_iqr', 'ERBfft_SpecSlope_median', 'ERBfft_SpecSlope_iqr', 'ERBfft_SpecDecr_median', 'ERBfft_SpecDecr_iqr', 'ERBfft_SpecRollOff_median', 'ERBfft_SpecRollOff_iqr', 'ERBfft_SpecVar_median', 'ERBfft_SpecVar_iqr', 'ERBfft_FrameErg_median', 'ERBfft_FrameErg_iqr', 'ERBfft_SpecFlat_median', 'ERBfft_SpecFlat_iqr', 'ERBfft_SpecCrest_median', 'ERBfft_SpecCrest_iqr', 'ERBgam_SpecCent_median', 'ERBgam_SpecCent_iqr', 'ERBgam_SpecSpread_median', 'ERBgam_SpecSpread_iqr', 'ERBgam_SpecSkew_median', 'ERBgam_SpecSkew_iqr', 'ERBgam_SpecKurt_median', 'ERBgam_SpecKurt_iqr', 'ERBgam_SpecSlope_median', 'ERBgam_SpecSlope_iqr', 'ERBgam_SpecDecr_median', 'ERBgam_SpecDecr_iqr', 'ERBgam_SpecRollOff_median', 'ERBgam_SpecRollOff_iqr', 'ERBgam_SpecVar_median', 'ERBgam_SpecVar_iqr', 'ERBgam_FrameErg_median', 'ERBgam_FrameErg_iqr', 'ERBgam_SpecFlat_median', 'ERBgam_SpecFlat_iqr', 'ERBgam_SpecCrest_median', 'ERBgam_SpecCrest_iqr']\n"
     ]
    }
   ],
   "source": [
    "filename = 'Hive1 12_06_2018_QueenBee____21_20_00.wav';\t\n",
    "Fs, s = wavfile.read(filename)\n",
    "print(Fs, s)\n",
    "#wav number of channels mono/stereo\n",
    "print(s.shape[1])\n",
    "#if stereo grab both channels\n",
    "channel1=s[:,0] #left\n",
    "channel2=s[:,1] #right\n",
    "print(\"channel1, channel2: \",channel1, channel2)\n",
    "print(\"s.dtype:\", s.dtype)\n",
    "s = s/MAX_VAL;\n",
    "print(len(s))\n",
    "#m = scipy.io.loadmat('test_d.mat');\n",
    "#s = m['s'];\n",
    "#Fs = m['Fs'][0];\n",
    "s = sum(s.T) / 2.;\n",
    "taille= int(3.0*Fs)\n",
    "#print(len(s))\n",
    "#N = len(s);\n",
    "#rec = 1;\n",
    "#d = timbre_desc_time(s, Fs, N, rec);\n",
    "print(\"taille: \",int(3.0*Fs))\n",
    "s = s[ 0:int(3.0*Fs)];\n",
    "#print(len(s))\n",
    "tic = time.time()\n",
    "desc_TEE, desc_AS, desc_STFTmag, desc_STFTpow, desc_Har, desc_ERB, desc_GAM = td.compute_all_descriptor(s, Fs);\n",
    "desc  = [desc_TEE, desc_AS, desc_STFTmag, desc_STFTpow, desc_Har, desc_ERB, desc_GAM];\n",
    "#print(\"desc= \",desc)\n",
    "### Time serie integration\n",
    "param_val, field_name = td.temporalmodeling(desc)\n",
    "\n",
    "print(\"param_val= \",param_val, \"field_name= \",field_name)"
   ]
  },
  {
   "cell_type": "code",
   "execution_count": 91,
   "metadata": {},
   "outputs": [
    {
     "name": "stdout",
     "output_type": "stream",
     "text": [
      "(2646000,) 22050 (1323000,)\n",
      "param_val=  [ 2.86621315e-02  1.22562358e-01  2.99997732e+00 -1.09359898e+00\n",
      "  1.12882115e+01 -3.33801470e-02  1.50429022e+00  2.94376417e+00\n",
      "  2.69165039e+00  4.12996328e-02  2.37599707e-01  2.19445524e-02\n",
      "  9.65063618e-01  1.12195256e-02  8.92384872e-01  3.39052399e-02\n",
      "  8.36930702e-01  4.85828464e-02  8.14857628e-01  5.35989076e-02\n",
      "  7.97590307e-01  5.76596058e-02  7.59054765e-01  6.76486759e-02\n",
      "  7.13657293e-01  7.90534705e-02  6.79804006e-01  8.84308423e-02\n",
      "  6.57124261e-01  9.62786057e-02  6.28788117e-01  1.01985477e-01\n",
      "  5.94440525e-01  1.08082444e-01  5.65455646e-01  1.12237743e-01\n",
      "  3.48837891e+03  6.38502539e+02  3.91230361e-02  3.29921088e-03\n",
      "  7.13450691e-02  7.14143003e-03  4.06164105e+00  2.25763000e-01\n",
      "  2.35207299e+01  2.52918806e+00 -4.93956900e-03  7.73252734e-05\n",
      " -1.16233117e-03  2.78248854e-02  1.08154297e-01  2.35275879e-03\n",
      "  9.34757011e-02  3.01439632e-02  6.08784762e-02  6.55600540e-03\n",
      "  4.40229633e-02  1.36196892e-02  4.86942322e+01  1.19423041e+01\n",
      "  1.10066650e-02  2.59256742e-03  2.43279494e-02  3.96293768e-03\n",
      "  6.01489641e+00  1.91474997e+00  7.84227387e+01  4.45880554e+01\n",
      " -5.59854660e-03  6.07633135e-05  7.30018771e-02  4.61386847e-02\n",
      "  5.49316406e-02  1.73742187e-02  1.58986113e-01  9.70012945e-02\n",
      "  3.43107643e-02  1.02294316e-02  1.50344411e-04  1.04944664e-04\n",
      "  1.86742371e+02  6.65104281e+01  5.40950667e-01  8.55827334e-02\n",
      "  1.28144662e-02  4.83974494e-03  5.26060888e-01  8.36640237e-02\n",
      "  9.76595457e-01  7.05129240e-03  9.45480141e+01  1.80721939e+01\n",
      "  4.47802476e-02  1.10779188e-02  1.69862921e-01  7.05908950e-02\n",
      "  2.85892038e-01  8.31680582e-02  5.21592397e-01  1.03967416e-01\n",
      "  4.79752514e-03  1.78243621e-03  1.93633529e+00  1.52899802e+00\n",
      "  6.05211974e+02  9.91682114e+01  4.99677399e+02  9.04065859e+01\n",
      "  9.67926078e-01  2.22275694e-01  2.98398946e+00  5.14719491e-01\n",
      " -1.52882369e-05  2.96693624e-06 -4.55860248e-01  3.72748211e-01\n",
      "  1.69170227e+03  3.36211493e+02  1.10231877e-01  1.00544520e-01\n",
      "  5.79237644e-02  1.61091070e-03  8.14663510e-02  1.74729166e-03\n",
      "  1.99740853e+00  3.60076133e-02  4.92551272e+00  1.91196522e-01\n",
      " -3.64763926e-02  2.28586403e-03  3.37104381e-02  2.00083684e-03\n",
      "  1.76120859e-01  0.00000000e+00  6.44793902e-03  2.25149024e-03\n",
      "  2.29925361e+02  1.32913237e+01  7.57099251e-01  1.80985236e-02\n",
      "  1.94333816e+00  1.60548748e-01  5.76283872e-02  1.93542083e-03\n",
      "  8.16241110e-02  1.90476593e-03  2.00843887e+00  4.58644016e-02\n",
      "  4.96958196e+00  2.26397363e-01 -3.68955294e-02  2.74634023e-03\n",
      "  3.52102297e-02  1.95592291e-03  1.76120859e-01  7.52156107e-03\n",
      "  2.16172117e-02  7.28573311e-03  1.03830456e+01  6.98060714e-01\n",
      "  7.64588717e-01  1.65319102e-02  2.03849459e+00  1.91365661e-01] field_name=  ['TEE_Att', 'TEE_Dec', 'TEE_Rel', 'TEE_LAT', 'TEE_AttSlope', 'TEE_DecSlope', 'TEE_TempCent', 'TEE_EffDur', 'TEE_FreqMod', 'TEE_AmpMod', 'TEE_RMSEnv_median', 'TEE_RMSEnv_iqr', 'AS_AutoCorr1_median', 'AS_AutoCorr1_iqr', 'AS_AutoCorr2_median', 'AS_AutoCorr2_iqr', 'AS_AutoCorr3_median', 'AS_AutoCorr3_iqr', 'AS_AutoCorr4_median', 'AS_AutoCorr4_iqr', 'AS_AutoCorr5_median', 'AS_AutoCorr5_iqr', 'AS_AutoCorr6_median', 'AS_AutoCorr6_iqr', 'AS_AutoCorr7_median', 'AS_AutoCorr7_iqr', 'AS_AutoCorr8_median', 'AS_AutoCorr8_iqr', 'AS_AutoCorr9_median', 'AS_AutoCorr9_iqr', 'AS_AutoCorr10_median', 'AS_AutoCorr10_iqr', 'AS_AutoCorr11_median', 'AS_AutoCorr11_iqr', 'AS_AutoCorr12_median', 'AS_AutoCorr12_iqr', 'AS_ZcrRate_median', 'AS_ZcrRate_iqr', 'STFTmag_SpecCent_median', 'STFTmag_SpecCent_iqr', 'STFTmag_SpecSpread_median', 'STFTmag_SpecSpread_iqr', 'STFTmag_SpecSkew_median', 'STFTmag_SpecSkew_iqr', 'STFTmag_SpecKurt_median', 'STFTmag_SpecKurt_iqr', 'STFTmag_SpecSlope_median', 'STFTmag_SpecSlope_iqr', 'STFTmag_SpecDecr_median', 'STFTmag_SpecDecr_iqr', 'STFTmag_SpecRollOff_median', 'STFTmag_SpecRollOff_iqr', 'STFTmag_SpecVar_median', 'STFTmag_SpecVar_iqr', 'STFTmag_FrameErg_median', 'STFTmag_FrameErg_iqr', 'STFTmag_SpecFlat_median', 'STFTmag_SpecFlat_iqr', 'STFTmag_SpecCrest_median', 'STFTmag_SpecCrest_iqr', 'STFTpow_SpecCent_median', 'STFTpow_SpecCent_iqr', 'STFTpow_SpecSpread_median', 'STFTpow_SpecSpread_iqr', 'STFTpow_SpecSkew_median', 'STFTpow_SpecSkew_iqr', 'STFTpow_SpecKurt_median', 'STFTpow_SpecKurt_iqr', 'STFTpow_SpecSlope_median', 'STFTpow_SpecSlope_iqr', 'STFTpow_SpecDecr_median', 'STFTpow_SpecDecr_iqr', 'STFTpow_SpecRollOff_median', 'STFTpow_SpecRollOff_iqr', 'STFTpow_SpecVar_median', 'STFTpow_SpecVar_iqr', 'STFTpow_FrameErg_median', 'STFTpow_FrameErg_iqr', 'STFTpow_SpecFlat_median', 'STFTpow_SpecFlat_iqr', 'STFTpow_SpecCrest_median', 'STFTpow_SpecCrest_iqr', 'Harmonic_FrameErg_median', 'Harmonic_FrameErg_iqr', 'Harmonic_HarmErg_median', 'Harmonic_HarmErg_iqr', 'Harmonic_NoiseErg_median', 'Harmonic_NoiseErg_iqr', 'Harmonic_Noisiness_median', 'Harmonic_Noisiness_iqr', 'Harmonic_F0_median', 'Harmonic_F0_iqr', 'Harmonic_InHarm_median', 'Harmonic_InHarm_iqr', 'Harmonic_TriStim1_median', 'Harmonic_TriStim1_iqr', 'Harmonic_TriStim2_median', 'Harmonic_TriStim2_iqr', 'Harmonic_TriStim3_median', 'Harmonic_TriStim3_iqr', 'Harmonic_HarmDev_median', 'Harmonic_HarmDev_iqr', 'Harmonic_OddEvenRatio_median', 'Harmonic_OddEvenRatio_iqr', 'Harmonic_SpecCent_median', 'Harmonic_SpecCent_iqr', 'Harmonic_SpecSpread_median', 'Harmonic_SpecSpread_iqr', 'Harmonic_SpecSkew_median', 'Harmonic_SpecSkew_iqr', 'Harmonic_SpecKurt_median', 'Harmonic_SpecKurt_iqr', 'Harmonic_SpecSlope_median', 'Harmonic_SpecSlope_iqr', 'Harmonic_SpecDecr_median', 'Harmonic_SpecDecr_iqr', 'Harmonic_SpecRollOff_median', 'Harmonic_SpecRollOff_iqr', 'Harmonic_SpecVar_median', 'Harmonic_SpecVar_iqr', 'ERBfft_SpecCent_median', 'ERBfft_SpecCent_iqr', 'ERBfft_SpecSpread_median', 'ERBfft_SpecSpread_iqr', 'ERBfft_SpecSkew_median', 'ERBfft_SpecSkew_iqr', 'ERBfft_SpecKurt_median', 'ERBfft_SpecKurt_iqr', 'ERBfft_SpecSlope_median', 'ERBfft_SpecSlope_iqr', 'ERBfft_SpecDecr_median', 'ERBfft_SpecDecr_iqr', 'ERBfft_SpecRollOff_median', 'ERBfft_SpecRollOff_iqr', 'ERBfft_SpecVar_median', 'ERBfft_SpecVar_iqr', 'ERBfft_FrameErg_median', 'ERBfft_FrameErg_iqr', 'ERBfft_SpecFlat_median', 'ERBfft_SpecFlat_iqr', 'ERBfft_SpecCrest_median', 'ERBfft_SpecCrest_iqr', 'ERBgam_SpecCent_median', 'ERBgam_SpecCent_iqr', 'ERBgam_SpecSpread_median', 'ERBgam_SpecSpread_iqr', 'ERBgam_SpecSkew_median', 'ERBgam_SpecSkew_iqr', 'ERBgam_SpecKurt_median', 'ERBgam_SpecKurt_iqr', 'ERBgam_SpecSlope_median', 'ERBgam_SpecSlope_iqr', 'ERBgam_SpecDecr_median', 'ERBgam_SpecDecr_iqr', 'ERBgam_SpecRollOff_median', 'ERBgam_SpecRollOff_iqr', 'ERBgam_SpecVar_median', 'ERBgam_SpecVar_iqr', 'ERBgam_FrameErg_median', 'ERBgam_FrameErg_iqr', 'ERBgam_SpecFlat_median', 'ERBgam_SpecFlat_iqr', 'ERBgam_SpecCrest_median', 'ERBgam_SpecCrest_iqr']\n"
     ]
    }
   ],
   "source": [
    "filename = 'CF003 - Active - Day - (214)__segment0.wav'\n",
    "#Fs, s = wavfile.read(filename)\n",
    "audio_sample, s =librosa.load(filename)\n",
    "Fs = librosa.resample(audio_sample, s, 44100)\n",
    "print(Fs.shape, s, audio_sample.shape)\n",
    "#print(\"s.dtype:\", s.dtype)\n",
    "sr = 44100;\n",
    "#Fs = Fs/MAX_VAL;\n",
    "#Fs = sum(Fs.T) / 2.;\n",
    "#print(\"taille: \",int(3.0*Fs))\n",
    "Fs = Fs[ 0:int(3.0*sr)];\n",
    "#print(len(s))\n",
    "tic = time.time()\n",
    "desc_TEE, desc_AS, desc_STFTmag, desc_STFTpow, desc_Har, desc_ERB, desc_GAM = td.compute_all_descriptor( Fs, sr);\n",
    "desc  = [desc_TEE, desc_AS, desc_STFTmag, desc_STFTpow, desc_Har, desc_ERB, desc_GAM];\n",
    "#print(\"desc= \",desc)\n",
    "### Time serie integration\n",
    "param_val, field_name = td.temporalmodeling(desc)\n",
    "\n",
    "print(\"param_val= \",param_val, \"field_name= \",field_name)"
   ]
  },
  {
   "cell_type": "code",
   "execution_count": 110,
   "metadata": {},
   "outputs": [
    {
     "data": {
      "text/plain": [
       "(164,)"
      ]
     },
     "execution_count": 110,
     "metadata": {},
     "output_type": "execute_result"
    }
   ],
   "source": [
    "param_val.shape"
   ]
  },
  {
   "cell_type": "code",
   "execution_count": 111,
   "metadata": {},
   "outputs": [],
   "source": [
    "def test_descriptor(filename):\n",
    "    audio_sample, s =librosa.load(filename)\n",
    "    Fs = librosa.resample(audio_sample, s, 44100)\n",
    "    #print(Fs.shape, s, audio_sample.shape)\n",
    "    #print(\"s.dtype:\", s.dtype)\n",
    "    sr = 44100;\n",
    "    #print(len(s))\n",
    "    #m = scipy.io.loadmat('test_d.mat');\n",
    "    #s = m['s'];\n",
    "    #Fs = m['Fs'][0];\n",
    "    #s = sum(s.T) / 2.;\n",
    "    #taille= int(3.0*Fs)\n",
    "    #print(len(s))\n",
    "    #N = len(s);\n",
    "    #rec = 1;\n",
    "    #d = timbre_desc_time(s, Fs, N, rec);\n",
    "    #print(\"taille: \",int(3.0*Fs))\n",
    "    Fs = Fs[ 0:int(3.0*sr)];\n",
    "    #print(len(s))\n",
    "    tic = time.time()\n",
    "    desc_TEE, desc_AS, desc_STFTmag, desc_STFTpow, desc_Har, desc_ERB, desc_GAM = td.compute_all_descriptor( Fs, sr);\n",
    "    desc  = [desc_TEE, desc_AS, desc_STFTmag, desc_STFTpow, desc_Har, desc_ERB, desc_GAM];\n",
    "    #print(\"desc= \",desc)\n",
    "    ### Time serie integration\n",
    "    param_val, field_name = td.temporalmodeling(desc)\n",
    "\n",
    "    ## for debug only\n",
    "    toc = time.time()-tic;\n",
    "    #print(\"Execution time (in sec):\", toc, \"\\n\\n\");\n",
    "    return param_val\n"
   ]
  },
  {
   "cell_type": "code",
   "execution_count": 112,
   "metadata": {},
   "outputs": [],
   "source": [
    "def get_features_from_samples(path_audio_samples, sample_ids, raw_feature, normalization): \n",
    "    #normalization = NO, z_norm, min_max\n",
    "    ## function to extract features \n",
    "    #high_level_features = 0 or 1 \n",
    "    \n",
    "    n_samples_set = len(sample_ids) # 4\n",
    "    feature_Maps = []\n",
    "    \n",
    "    for sample in sample_ids:\n",
    "        # raw feature extraction:\n",
    "       # print(\"sample: \",sample)\n",
    "        x = test_descriptor( path_audio_samples+sample) # x.shape: (4, 20, 2584)\n",
    "       # print(\"x.shape: \",x.shape)\n",
    "        \n",
    "        ##normalization here:si on veut les résultats pour Conv1D on utlise la normalisation \n",
    "        ##normalization here:\n",
    "        if not normalization == 'NO':\n",
    "             x_norm = featureMap_normalization_block_level(x, normalizationType = normalization) \n",
    "        else: x_norm = x\n",
    "        \n",
    "        feature_Maps.append(x)\n",
    "        \n",
    "    return feature_Maps"
   ]
  },
  {
   "cell_type": "code",
   "execution_count": 113,
   "metadata": {},
   "outputs": [],
   "source": [
    "X_train = get_features_from_samples(path_workingFolder, sample_ids_train, 'TTBox', 'NO')"
   ]
  },
  {
   "cell_type": "code",
   "execution_count": 115,
   "metadata": {},
   "outputs": [],
   "source": [
    "X_val = get_features_from_samples(path_workingFolder, sample_ids_val, 'TTBox', 'NO')"
   ]
  },
  {
   "cell_type": "code",
   "execution_count": 114,
   "metadata": {},
   "outputs": [],
   "source": [
    "X_test = get_features_from_samples(path_workingFolder, sample_ids_test, 'TTBox', 'NO')"
   ]
  },
  {
   "cell_type": "code",
   "execution_count": 174,
   "metadata": {},
   "outputs": [],
   "source": [
    "def labels2binary(pos_label, list_labels):  # pos_label = missing queen / nobee\n",
    "    list_binary_labels=[]\n",
    "    for l in list_labels:\n",
    "        if l == pos_label:\n",
    "            list_binary_labels.append(1)\n",
    "        else:\n",
    "            list_binary_labels.append(0)\n",
    "    return list_binary_labels"
   ]
  },
  {
   "cell_type": "code",
   "execution_count": 175,
   "metadata": {},
   "outputs": [],
   "source": [
    "def get_GT_labels_fromFiles(path_labels, sample_ids, labels2read) : #labels2read =  name of the label file    \n",
    "    \n",
    "    ##reads labels files and retreives labels for a sample set given by sample_ids\n",
    "    # input:  path_labels: where label file is \n",
    "    #         sample_ids: list of sample names that we want the label\n",
    "    #         labels2read: name of the labels file: state_labels, labels_BeeNotBee_th0 ...\n",
    "    \n",
    "    # output: list of string labels, in same order as sample_ids list\n",
    "    \n",
    "    labels = []\n",
    "    fileAsdict={}\n",
    "    \n",
    "    with open(path_labels + labels2read+'.csv', 'r') as labfile:\n",
    "        csvreader = csv.reader(labfile, delimiter=',')    \n",
    "        for row in csvreader:\n",
    "            if not row[0] == 'sample_name':\n",
    "                fileAsdict[row[0]]=row[-1]   # row[-1] = '/missing queen/active' or 'bee/nobee'\n",
    "            \n",
    "    for sample in sample_ids:\n",
    "        labels.append(fileAsdict[sample[0:-4]])  #remove .wav extension\n",
    "    \n",
    "       \n",
    "    return labels "
   ]
  },
  {
   "cell_type": "code",
   "execution_count": null,
   "metadata": {},
   "outputs": [],
   "source": [
    "labels_train = get_GT_labels_fromFiles(path_workingFolder, sample_ids_train, labels2read)\n",
    "Y_train= labels2binary('nobee', labels_train)\n",
    "labels_val = get_GT_labels_fromFiles(path_workingFolder, sample_ids_val, labels2read)\n",
    "Y_val= labels2binary('nobee', labels_val)\n",
    "labels_test = get_GT_labels_fromFiles(path_workingFolder, sample_ids_test, labels2read)\n",
    "Y_test= labels2binary('nobee', labels_test)"
   ]
  },
  {
   "cell_type": "code",
   "execution_count": 192,
   "metadata": {},
   "outputs": [],
   "source": [
    "# Claasification :\n",
    "\n",
    "from keras import Model\n",
    "from keras import backend as K\n",
    "from keras.layers import Conv2D, AveragePooling2D, BatchNormalization, ReLU, Concatenate, Dense, \\\n",
    "    GlobalAveragePooling2D, Dropout\n",
    "from keras.models import Input\n",
    "from keras.regularizers import l2\n"
   ]
  },
  {
   "cell_type": "code",
   "execution_count": null,
   "metadata": {},
   "outputs": [],
   "source": [
    "def dense_block(x, blocks, growth_rate, dropout_rate=0.0, weight_decay=0.5 * 1e-4, bottleneck=False):\n",
    "    for i in range(blocks):\n",
    "        y = conv_block(x, growth_rate, dropout_rate, weight_decay, bottleneck)\n",
    "        x = Concatenate(axis=-1)([x, y])\n",
    "    return x\n"
   ]
  },
  {
   "cell_type": "code",
   "execution_count": 190,
   "metadata": {},
   "outputs": [],
   "source": [
    "def bottleneck_layer(x, growth_rate, weight_decay=0.5 * 1e-4):\n",
    "    x = BatchNormalization(beta_regularizer=l2(weight_decay), gamma_regularizer=l2(weight_decay))(x)\n",
    "    x = ReLU()(x)\n",
    "    x = Conv2D(4 * growth_rate, (1, 1), kernel_regularizer=l2(weight_decay), kernel_initializer=\"he_uniform\",\n",
    "               padding=\"same\", use_bias=False)(x)\n",
    "    return x"
   ]
  },
  {
   "cell_type": "code",
   "execution_count": null,
   "metadata": {},
   "outputs": [],
   "source": [
    "\n",
    "def composite_function(x, growth_rate, dropout_rate=0.0, weight_decay=0.5 * 1e-4):\n",
    "    x = BatchNormalization(beta_regularizer=l2(weight_decay), gamma_regularizer=l2(weight_decay))(x)\n",
    "    x = ReLU()(x)\n",
    "    x = Conv2D(growth_rate, (3, 3), kernel_initializer=\"he_uniform\", padding=\"same\", use_bias=False,\n",
    "               kernel_regularizer=l2(weight_decay))(x)\n",
    "    if dropout_rate: x = Dropout(dropout_rate)(x)\n",
    "    return x"
   ]
  },
  {
   "cell_type": "code",
   "execution_count": null,
   "metadata": {},
   "outputs": [],
   "source": [
    "\n",
    "def conv_block(x, growth_rate, dropout_rate=0.0, weight_decay=0.5 * 1e-4, bottleneck=False):\n",
    "    if bottleneck:\n",
    "        y = bottleneck_layer(x, growth_rate, weight_decay)\n",
    "        x = composite_function(x, growth_rate, dropout_rate, weight_decay)\n",
    "        x = Concatenate(axis=-1)([x, y])\n",
    "    else:\n",
    "        x = composite_function(x, growth_rate, dropout_rate, weight_decay)\n",
    "    return x\n"
   ]
  },
  {
   "cell_type": "code",
   "execution_count": null,
   "metadata": {},
   "outputs": [],
   "source": [
    "\n",
    "def transition_layer(x, weight_decay=1e-4, dropout_rate=0.0, reduction=1.):\n",
    "    x = BatchNormalization(beta_regularizer=l2(weight_decay), gamma_regularizer=l2(weight_decay))(x)\n",
    "    x = Conv2D(int(K.int_shape(x)[3] * reduction), (1, 1), kernel_regularizer=l2(weight_decay),\n",
    "               kernel_initializer=\"he_uniform\", padding=\"same\", use_bias=False)(x)\n",
    "    if dropout_rate: x = Dropout(dropout_rate)(x)\n",
    "    x = AveragePooling2D()(x)\n",
    "    return x"
   ]
  },
  {
   "cell_type": "code",
   "execution_count": 191,
   "metadata": {},
   "outputs": [],
   "source": [
    "def DenseNet(num_classes, num_filter, growth_rate, depth, dropout_rate=0.0, reduction=1., weight_decay=1e-4,\n",
    "             bottleneck=False):\n",
    "    N = (depth - 4) // 3\n",
    "    if bottleneck:\n",
    "        N //= 2\n",
    "    blocks = [N, N, N]\n",
    "    weight_decay *= 0.5\n",
    "    inp = Input((32, 32, 3))\n",
    "    x = Conv2D(num_filter, (3, 3), kernel_initializer=\"he_uniform\", padding=\"same\", use_bias=False,\n",
    "               kernel_regularizer=l2(weight_decay))(inp)\n",
    "    x = dense_block(x, blocks[0], growth_rate, dropout_rate, weight_decay)\n",
    "    x = transition_layer(x, dropout_rate=dropout_rate, reduction=reduction)\n",
    "    x = dense_block(x, blocks[1], growth_rate, dropout_rate, weight_decay)\n",
    "    x = transition_layer(x, dropout_rate=dropout_rate, reduction=reduction)\n",
    "    x = dense_block(x, blocks[2], growth_rate, dropout_rate, weight_decay)\n",
    "    x = BatchNormalization(beta_regularizer=l2(weight_decay), gamma_regularizer=l2(weight_decay))(x)\n",
    "    x = ReLU()(x)\n",
    "    x = GlobalAveragePooling2D()(x)\n",
    "    x = Dense(num_classes, activation='softmax')(x)\n",
    "    model = Model(inp, x, name='densenet')\n",
    "    return model\n"
   ]
  },
  {
   "cell_type": "code",
   "execution_count": null,
   "metadata": {},
   "outputs": [],
   "source": [
    "def create_scheduler(learning_rate):\n",
    "    def lr_schedule(epoch):\n",
    "        lr = learning_rate\n",
    "        if epoch == 150:\n",
    "            lr *= 0.1\n",
    "        elif epoch == 225:\n",
    "            lr *= 0.1 ** 2\n",
    "        return lr\n",
    "\n",
    "    return "
   ]
  }
 ],
 "metadata": {
  "kernelspec": {
   "display_name": "Python 3",
   "language": "python",
   "name": "python3"
  },
  "language_info": {
   "codemirror_mode": {
    "name": "ipython",
    "version": 3
   },
   "file_extension": ".py",
   "mimetype": "text/x-python",
   "name": "python",
   "nbconvert_exporter": "python",
   "pygments_lexer": "ipython3",
   "version": "3.7.6"
  }
 },
 "nbformat": 4,
 "nbformat_minor": 2
}
