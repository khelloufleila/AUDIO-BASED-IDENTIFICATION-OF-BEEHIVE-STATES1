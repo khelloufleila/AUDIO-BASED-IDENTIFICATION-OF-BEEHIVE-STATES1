{
 "cells": [
  {
   "cell_type": "code",
   "execution_count": 121,
   "metadata": {},
   "outputs": [],
   "source": [
    "# python -m pip install SoundFile\n",
    "import glob\n",
    "import os\n",
    "from info import i, printb, printr, printp, print\n",
    "import glob\n",
    "import os\n",
    "import librosa\n",
    "import pdb\n",
    "import csv\n",
    "import json\n",
    "import re\n",
    "import numpy as np\n",
    "import random\n",
    "import librosa.display\n",
    "import IPython.display as ipd\n",
    "from sklearn import preprocessing\n",
    "from collections import Counter\n",
    "from matplotlib import pyplot as plt\n",
    "from info import i, printb, printr, printp\n",
    "import muda\n",
    "import jams\n",
    "from sklearn import svm\n",
    "import librosa\n",
    "import keras\n",
    "import scipy.io as sio\n",
    "import io\n",
    "import pandas as pd\n",
    "#-----------------------------------parameters for CNN -----------------------------------#\n",
    "from sklearn.preprocessing import LabelEncoder\n",
    "from keras.utils import to_categorical\n",
    "from sklearn.model_selection import train_test_split \n",
    "from sklearn import metrics\n",
    "from sklearn.metrics import confusion_matrix\n",
    "import itertools\n",
    "from sklearn.metrics import classification_report\n",
    "from sklearn.metrics import precision_recall_curve\n",
    "from sklearn.metrics import plot_precision_recall_curve\n",
    "#from sklearn.metrics import plot_confusion_matrix\n",
    "import matplotlib.pyplot as plt\n",
    "from keras.models import Sequential, Input, Model \n",
    "from keras.layers import Dense, Dropout, Flatten, Activation \n",
    "from keras.layers import Conv2D , MaxPooling2D\n",
    "from keras.layers.normalization import BatchNormalization \n",
    "from keras.layers.advanced_activations import LeakyReLU\n",
    "from keras.optimizers import RMSprop\n",
    "from keras.callbacks import ModelCheckpoint, EarlyStopping\n",
    "from sklearn.metrics import confusion_matrix\n",
    "from keras.models import Sequential, load_model\n",
    "#-----------------------------------parameters for TTBOX -----------------------------------#\n",
    "import timbre_descriptor as td\n",
    "import numpy as np\n",
    "import scipy as sc\n",
    "import my_tools as mt\n",
    "from collections import namedtuple\n",
    "import scipy\n",
    "import scipy.signal\n",
    "from scipy.io import wavfile\n",
    "\n",
    "import matplotlib\n",
    "import swipep as swp             # used for sing le-F0 estimation\n",
    "import warnings                 # used for warning removal\n",
    "import time               # used performance benchmark\n",
    "import librosa\n",
    "\n",
    "\n",
    "from utils import split_samples_byHive,get_list_samples_name_benetos,  write_sample_ids_perHive, get_list_samples_name_TTBOX, get_samples_id_perSet,  split_samples_ramdom, get_list_sample_ids, get_list_samples_name_STFT, get_features_from_samples_withAUGMENTATION,  raw_feature_fromSample_withAUGMENTATION , get_list_samples_names, get_features_from_samples, write_Statelabels_from_beeNotBeelabels,raw_feature_fromSample, labels2binary , get_GT_labels_fromFiles, get_items2replicate, BalanceData_online, get_list_samples_name_MFCC, SVM_Classification_BeehiveSTATE , fit_and_evaluate,deep_model, plot_confusion_matrix, get_list_samples_name_TTBOX, Dense_Net, plot_accuracy_val_accuracy, train_and_evaluate_model,save_confusion_matrix , read_HiveState_fromSampleName"
   ]
  },
  {
   "cell_type": "code",
   "execution_count": 122,
   "metadata": {},
   "outputs": [],
   "source": [
    "#----------------------------------- parameters to change-----------------------------------#\n",
    "block_size=1 # blocks of 1 second\n",
    "thresholds=[0, 0.5]  # minimum length for nobee intervals: 0 or 5 seconds (creates one label file per threshold value)\n",
    "path= \"C:\\\\Users\\PC\\python\\Stage\"\n",
    "path_audioFiles= path +\"\\To Bee or not to Bee_the annotated dataset\"+os.sep  # path to audio files\n",
    "annotations_path=path + \"To Bee or not to Bee_the annotated dataset\"+os.sep # path to .lab files\n",
    "path_save_audio_labels= path+ '\\dataset_BeeNoBee_2_second'+str(block_size)+'sec'+os.sep  # path where to save audio segments and labels files.\n",
    "#----------------------------------- parameters to change-----------------------------------#\n",
    "path_workingFolder= path+ '\\\\dataset_BeeNoBee_2_second'+str(block_size)+'sec'+os.sep  # path where to save audio segments and labels files.\n",
    "labels2read= 'state_labels'\n",
    "feature = 'MFCCs20'\n",
    "path1= 'C:\\\\Users\\PC\\python\\Stage\\\\dataset_BeeNoBee_2_second'+str(block_size)+'sec'\n",
    "path_working_MFCCs20= path1+'\\\\MFCCs20_matrix.mat'+os.sep\n",
    "path_working_TTBox= path1+'\\\\TTBox_matrix.mat'+os.sep\n",
    "path_save_audio_MFCCs= path1+'\\\\MFCCs20_matrix.mat'+os.sep \n",
    "path_working_stft= path1+'\\\\stft_matrix.mat'+os.sep\n",
    "\n",
    "nbits = 16;\n",
    "MAX_VAL = pow(2,(nbits-1)) * 1.0;\n",
    "class_names= ['missing queen', 'active' ]\n",
    "#----------------------------------parameter for CNN -----------------------------------------------------------#\n",
    "# Set early stopping critiria\n",
    "pat=5 # this is the number of epocks with no improvment after which the training will stop \n",
    "early_stopping= EarlyStopping(monitor='val_loss', patience=pat, verbose=1 )\n",
    "n_folds=2\n",
    "epochs=50\n",
    "batch_size=145\n",
    "history_MFCCs= []\n",
    "history_TTBOX= []\n",
    "#----------------------------------------------------------------------------------------------#\n",
    "# if path doesn't exist then create one !!!\n",
    "if not os.path.exists(path_save_audio_labels):\n",
    "    os.makedirs(path_save_audio_labels)  "
   ]
  },
  {
   "cell_type": "code",
   "execution_count": 123,
   "metadata": {},
   "outputs": [
    {
     "name": "stdout",
     "output_type": "stream",
     "text": [
      "[2020-07-20 16:17:26 RAM72.9% 0.6GB] path_beeNotbee_labels:  C:\\Users\\PC\\python\\Stage\\dataset_BeeNoBee_2_second1sec\\labels_BeeNotBee_th0.5.csv\n",
      "[2020-07-20 16:17:27 RAM72.9% 0.6GB] 17295\n"
     ]
    }
   ],
   "source": [
    "###load_audioFiles_saves_segments( path_audioFiles, path_save_audio_labels, block_size , thresholds, annotations_path, read_beeNotBee_annotations='yes', save_audioSegments='yes')  \n",
    "# read only labels_BeeNotBee_th0.5\n",
    "path_beeNotbee_labels = path_save_audio_labels + 'labels_BeeNotBee_th'+str(thresholds[1])+'.csv'\n",
    "print(\"path_beeNotbee_labels: \",path_beeNotbee_labels)  \n",
    "sample_ids=get_list_samples_names(path_save_audio_labels) # get sample ids from audio segments folder.\n",
    "print(len(sample_ids) ) "
   ]
  },
  {
   "cell_type": "code",
   "execution_count": 124,
   "metadata": {},
   "outputs": [
    {
     "name": "stdout",
     "output_type": "stream",
     "text": [
      "[2020-07-20 16:17:27 RAM72.9% 0.6GB] 5188 6053 6054\n"
     ]
    }
   ],
   "source": [
    "sample_ids_test, sample_ids_train, sample_ids_val = get_samples_id_perSet(path_workingFolder+'split_random_0.json') \n",
    "print(len(sample_ids_test), len(sample_ids_train), len(sample_ids_val))"
   ]
  },
  {
   "cell_type": "markdown",
   "metadata": {},
   "source": [
    "# MFCC+ SVM_PCA:"
   ]
  },
  {
   "cell_type": "code",
   "execution_count": 125,
   "metadata": {},
   "outputs": [
    {
     "name": "stdout",
     "output_type": "stream",
     "text": [
      "[2020-07-20 16:19:16 RAM72.5% 0.61GB] 6053 6054 5188 6053 6054 5188\n",
      "[2020-07-20 16:19:16 RAM72.5% 0.61GB] Reshape the data\n",
      "[2020-07-20 16:19:16 RAM73.9% 0.73GB] (12107, 880) (5188, 880) (12107,) (5188,)\n"
     ]
    }
   ],
   "source": [
    "x_test,y_test,labels_test, x_train,y_train,labels_train,  x_valid,y_valid,labels_valid, val_test, val_train, val_valid= get_list_samples_name_benetos( 'b', path_save_audio_MFCCs,sample_ids_test, sample_ids_val, sample_ids_train )\n",
    "\n",
    "\n",
    "#x_train, x_valid, x_test, y_train, y_valid, y_test = get_list_sample_ids(path_save_audio_MFCCs, sample_ids_test, sample_ids_val, sample_ids_train)\n",
    "print(len(x_train), len(x_valid), len(x_test) , len(y_train), len(y_valid), len(y_test))\n",
    "print(\"Reshape the data\")\n",
    "x_train= np.array(x_train)\n",
    "x_valid= np.array(x_valid)\n",
    "x_test= np.array(x_test)\n",
    "y_test=np.array(y_test)\n",
    "y_train=np.array(y_train)\n",
    "y_valid=np.array(y_valid)\n",
    "\n",
    "\n",
    "X_train= np.concatenate((x_train, x_valid))\n",
    "Y_train= np.concatenate((y_train, y_valid))\n",
    "x, y, z= X_train.shape\n",
    "X_train=X_train.reshape(x, y*z)\n",
    "t, u, v= x_test.shape\n",
    "x_test= x_test.reshape(t, u*v)\n",
    "\n",
    "print(X_train.shape, x_test.shape, Y_train.shape, y_test.shape )\n"
   ]
  },
  {
   "cell_type": "code",
   "execution_count": 126,
   "metadata": {},
   "outputs": [
    {
     "data": {
      "text/plain": [
       "2"
      ]
     },
     "execution_count": 126,
     "metadata": {},
     "output_type": "execute_result"
    }
   ],
   "source": [
    "from sklearn.decomposition import PCA\n",
    "pca=PCA(0.9)\n",
    "pca.fit(X_train)\n",
    "pca.n_components_"
   ]
  },
  {
   "cell_type": "code",
   "execution_count": 127,
   "metadata": {},
   "outputs": [],
   "source": [
    "x_train_pca= pca.transform(X_train)\n",
    "x_test_pca= pca.transform(x_test)"
   ]
  },
  {
   "cell_type": "code",
   "execution_count": 128,
   "metadata": {},
   "outputs": [
    {
     "name": "stdout",
     "output_type": "stream",
     "text": [
      "\n",
      "\n",
      "[2020-07-20 16:19:19 RAM74.1% 0.73GB] Starting classification with SVM:\n",
      "\n",
      "\n",
      "[2020-07-20 16:19:19 RAM74.1% 0.73GB] classification Beehive State into : Active or Missing Queen\n",
      "[2020-07-20 16:19:35 RAM74.3% 0.76GB] Accuracy:  0.8710485736314572\n",
      "[2020-07-20 16:19:35 RAM74.3% 0.76GB] Precision: 0.8981481481481481\n",
      "[2020-07-20 16:19:35 RAM74.3% 0.76GB] Recall: 0.8332682545880515\n"
     ]
    }
   ],
   "source": [
    "CLF, Test_GroundT, Train_GroundT, Test_Preds, Train_Preds, Test_Preds_Proba, Train_Preds_Proba = SVM_Classification_BeehiveSTATE(x_train_pca, Y_train , x_test_pca, y_test, kerneloption='rbf')\n",
    "# Metrics\n",
    "print(\"Accuracy: \", metrics.accuracy_score( Test_GroundT, Test_Preds))\n",
    "# Model Precision: what percentage of positive tuples are labeled as such?\n",
    "print(\"Precision:\",metrics.precision_score(Test_GroundT, Test_Preds))\n",
    "# Model Recall: what percentage of positive tuples are labelled as such?\n",
    "print(\"Recall:\",metrics.recall_score(Test_GroundT, Test_Preds))\n"
   ]
  },
  {
   "cell_type": "markdown",
   "metadata": {},
   "source": [
    "# MFCC+SVM_LDA:"
   ]
  },
  {
   "cell_type": "code",
   "execution_count": 129,
   "metadata": {},
   "outputs": [],
   "source": [
    "from sklearn.discriminant_analysis import LinearDiscriminantAnalysis"
   ]
  },
  {
   "cell_type": "code",
   "execution_count": 130,
   "metadata": {},
   "outputs": [
    {
     "name": "stdout",
     "output_type": "stream",
     "text": [
      "[2020-07-20 16:21:22 RAM73.7% 0.7GB] 6053 6054 5188 6053 6054 5188\n",
      "[2020-07-20 16:21:22 RAM73.7% 0.7GB] Reshape the data\n",
      "[2020-07-20 16:21:22 RAM74.5% 0.76GB] (12107, 880) (5188, 880) (12107,) (5188,)\n"
     ]
    }
   ],
   "source": [
    "x_test,y_test,labels_test, x_train,y_train,labels_train,  x_valid,y_valid,labels_valid, val_test, val_train, val_valid= get_list_samples_name_benetos( 'b', path_save_audio_MFCCs,sample_ids_test, sample_ids_val, sample_ids_train )\n",
    "\n",
    "\n",
    "#x_train, x_valid, x_test, y_train, y_valid, y_test = get_list_sample_ids(path_save_audio_MFCCs, sample_ids_test, sample_ids_val, sample_ids_train)\n",
    "print(len(x_train), len(x_valid), len(x_test) , len(y_train), len(y_valid), len(y_test))\n",
    "print(\"Reshape the data\")\n",
    "x_train= np.array(x_train)\n",
    "x_valid= np.array(x_valid)\n",
    "x_test= np.array(x_test)\n",
    "y_test=np.array(y_test)\n",
    "y_train=np.array(y_train)\n",
    "y_valid=np.array(y_valid)\n",
    "\n",
    "\n",
    "X_train= np.concatenate((x_train, x_valid))\n",
    "Y_train= np.concatenate((y_train, y_valid))\n",
    "x, y, z= X_train.shape\n",
    "X_train=X_train.reshape(x, y*z)\n",
    "t, u, v= x_test.shape\n",
    "x_test= x_test.reshape(t, u*v)\n",
    "\n",
    "print(X_train.shape, x_test.shape, Y_train.shape, y_test.shape )\n"
   ]
  },
  {
   "cell_type": "markdown",
   "metadata": {},
   "source": [
    "# Feature Scaling: "
   ]
  },
  {
   "cell_type": "code",
   "execution_count": 131,
   "metadata": {},
   "outputs": [],
   "source": [
    "from sklearn.preprocessing import StandardScaler\n",
    "\n",
    "sc = StandardScaler()\n",
    "X_train = sc.fit_transform(X_train)\n",
    "X_test = sc.transform(x_test)"
   ]
  },
  {
   "cell_type": "code",
   "execution_count": 132,
   "metadata": {},
   "outputs": [],
   "source": [
    "from sklearn.discriminant_analysis import LinearDiscriminantAnalysis as LDA\n",
    "\n",
    "lda = LDA(n_components=1)\n",
    "X_train = lda.fit_transform(X_train, Y_train)\n",
    "X_test = lda.transform(X_test)"
   ]
  },
  {
   "cell_type": "code",
   "execution_count": 133,
   "metadata": {},
   "outputs": [
    {
     "name": "stdout",
     "output_type": "stream",
     "text": [
      "\n",
      "\n",
      "[2020-07-20 16:21:27 RAM74.5% 0.68GB] Starting classification with SVM:\n",
      "\n",
      "\n",
      "[2020-07-20 16:21:27 RAM74.5% 0.68GB] classification Beehive State into : Active or Missing Queen\n",
      "[2020-07-20 16:21:40 RAM73.7% 0.69GB] Accuracy:  0.89745566692367\n",
      "[2020-07-20 16:21:40 RAM73.7% 0.69GB] Precision: 0.8879541108986616\n",
      "[2020-07-20 16:21:40 RAM73.7% 0.69GB] Recall: 0.9066770792659118\n"
     ]
    }
   ],
   "source": [
    "CLF, Test_GroundT, Train_GroundT, Test_Preds, Train_Preds, Test_Preds_Proba, Train_Preds_Proba = SVM_Classification_BeehiveSTATE(X_train, Y_train , X_test, y_test, kerneloption='rbf')\n",
    "# Metrics\n",
    "print(\"Accuracy: \", metrics.accuracy_score( Test_GroundT, Test_Preds))\n",
    "# Model Precision: what percentage of positive tuples are labeled as such?\n",
    "print(\"Precision:\",metrics.precision_score(Test_GroundT, Test_Preds))\n",
    "# Model Recall: what percentage of positive tuples are labelled as such?\n",
    "print(\"Recall:\",metrics.recall_score(Test_GroundT, Test_Preds))\n"
   ]
  },
  {
   "cell_type": "code",
   "execution_count": 134,
   "metadata": {},
   "outputs": [],
   "source": [
    "#from sklearn.metrics import confusion_matrix\n",
    "#from sklearn.metrics import accuracy_score\n",
    "\n",
    "#cm = confusion_matrix(y_test, Test_Preds)\n",
    "\n",
    "#print('Accuracy : ' + str(accuracy_score(y_test, Test_Preds)))\n",
    "#cm"
   ]
  },
  {
   "cell_type": "code",
   "execution_count": 135,
   "metadata": {},
   "outputs": [
    {
     "name": "stdout",
     "output_type": "stream",
     "text": [
      "Confusion matrix, without normalization\n",
      "[[2334  293]\n",
      " [ 239 2322]]\n"
     ]
    },
    {
     "data": {
      "image/png": "[encoded data removed]",
      "text/plain": [
       "<Figure size 432x288 with 2 Axes>"
      ]
     },
     "metadata": {
      "needs_background": "light"
     },
     "output_type": "display_data"
    },
    {
     "name": "stdout",
     "output_type": "stream",
     "text": [
      "[2020-07-20 16:21:41 RAM73.7% 0.69GB] \n",
      "Clasification report MFCCs + SVM:\n",
      "                precision    recall  f1-score   support\n",
      "\n",
      "missing_queen       0.91      0.89      0.90      2627\n",
      "       active       0.89      0.91      0.90      2561\n",
      "\n",
      "     accuracy                           0.90      5188\n",
      "    macro avg       0.90      0.90      0.90      5188\n",
      " weighted avg       0.90      0.90      0.90      5188\n",
      "\n"
     ]
    }
   ],
   "source": [
    "# Compute confusion matrix\n",
    "cnf_matrix = confusion_matrix(Test_GroundT, Test_Preds )\n",
    "np.set_printoptions(precision=2)\n",
    "\n",
    "# Plot non-normalized confusion matrix\n",
    "plt.figure()\n",
    "plot_confusion_matrix(cnf_matrix, classes=class_names,\n",
    "                      title='MFCCs + SVM Confusion matrix, without normalization')\n",
    "plt.show()\n",
    "# Plot normalized confusion matrix\n",
    "\n",
    "plt.show()\n",
    "target_names=['missing_queen', 'active']\n",
    "print ('\\nClasification report MFCCs + SVM:\\n', classification_report(Test_GroundT, Test_Preds , target_names=target_names))"
   ]
  },
  {
   "cell_type": "markdown",
   "metadata": {},
   "source": [
    "# MFCC+SVM _MI:"
   ]
  },
  {
   "cell_type": "code",
   "execution_count": 178,
   "metadata": {},
   "outputs": [
    {
     "name": "stdout",
     "output_type": "stream",
     "text": [
      "[2020-07-22 17:13:34 RAM70.0% 0.15GB] 6053 6054 5188 6053 6054 5188\n",
      "[2020-07-22 17:13:34 RAM70.0% 0.15GB] Reshape the data\n",
      "[2020-07-22 17:13:34 RAM71.4% 0.31GB] (12107, 880) (5188, 880) (12107,) (5188,)\n"
     ]
    }
   ],
   "source": [
    "x_test,y_test,labels_test, x_train,y_train,labels_train,  x_valid,y_valid,labels_valid, val_test, val_train, val_valid= get_list_samples_name_benetos( 'b', path_save_audio_MFCCs,sample_ids_test, sample_ids_val, sample_ids_train )\n",
    "\n",
    "\n",
    "#x_train, x_valid, x_test, y_train, y_valid, y_test = get_list_sample_ids(path_save_audio_MFCCs, sample_ids_test, sample_ids_val, sample_ids_train)\n",
    "print(len(x_train), len(x_valid), len(x_test) , len(y_train), len(y_valid), len(y_test))\n",
    "print(\"Reshape the data\")\n",
    "x_train= np.array(x_train)\n",
    "x_valid= np.array(x_valid)\n",
    "x_test= np.array(x_test)\n",
    "y_test=np.array(y_test)\n",
    "y_train=np.array(y_train)\n",
    "y_valid=np.array(y_valid)\n",
    "\n",
    "\n",
    "X_train= np.concatenate((x_train, x_valid))\n",
    "Y_train= np.concatenate((y_train, y_valid))\n",
    "x, y, z= X_train.shape\n",
    "X_train=X_train.reshape(x, y*z)\n",
    "t, u, v= x_test.shape\n",
    "x_test= x_test.reshape(t, u*v)\n",
    "\n",
    "print(X_train.shape, x_test.shape, Y_train.shape, y_test.shape )"
   ]
  },
  {
   "cell_type": "code",
   "execution_count": 180,
   "metadata": {},
   "outputs": [],
   "source": [
    "#import numpy as np\n",
    "#import matplotlib.pyplot as plt\n",
    "#from sklearn.feature_selection import mutual_info_regression\n",
    "\n",
    "\n",
    "#mi = mutual_info_regression(X_train, Y_train)\n",
    "#mi /= np.max(mi)\n",
    "\n",
    "#plt.figure(figsize=(15, 5))\n",
    "#for i in range(3):\n",
    " #   plt.subplot(1, 3, i + 1)\n",
    " #   plt.scatter(X[:, i], y, edgecolor='black', s=20)\n",
    " #plt.xlabel(\"$x_{}$\".format(i + 1), fontsize=14)\n",
    " #   if i == 0:\n",
    "  #      plt.ylabel(\"$y$\", fontsize=14)\n",
    "   # plt.title(\"MI={:.2f}\".format(mi[i]),\n",
    "    #          fontsize=16)\n",
    "#plt.show()"
   ]
  },
  {
   "cell_type": "code",
   "execution_count": 181,
   "metadata": {},
   "outputs": [
    {
     "name": "stdout",
     "output_type": "stream",
     "text": [
      "\n",
      "\n",
      "[2020-07-22 18:42:32 RAM69.9% 1.67GB] Starting classification with SVM:\n",
      "\n",
      "\n",
      "[2020-07-22 18:42:32 RAM69.9% 1.67GB] classification Beehive State into : Active or Missing Queen\n",
      "[2020-07-22 18:47:12 RAM61.6% 0.87GB] Accuracy:  0.7742868157286045\n",
      "[2020-07-22 18:47:12 RAM61.6% 0.87GB] Precision: 0.910271546635183\n",
      "[2020-07-22 18:47:12 RAM61.6% 0.87GB] Recall: 0.60210855134713\n",
      "[2020-07-22 18:47:12 RAM61.6% 0.87GB] MAE: 0.226\n"
     ]
    }
   ],
   "source": [
    "# evaluation of a model using 88 features chosen with mutual information\n",
    "from sklearn.datasets import make_regression\n",
    "from sklearn.model_selection import train_test_split\n",
    "from sklearn.feature_selection import SelectKBest\n",
    "from sklearn.feature_selection import mutual_info_regression\n",
    "from sklearn.linear_model import LinearRegression\n",
    "from sklearn.metrics import mean_absolute_error\n",
    "#Running the example fits the model on the 100 top selected features chosen using mutual information. \n",
    "# feature selection\n",
    "def select_features(X_train, y_train, X_test):\n",
    "    # configure to select a subset of features\n",
    "    fs = SelectKBest(score_func=mutual_info_regression, k=100)\n",
    "    # learn relationship from training data\n",
    "    fs.fit(X_train, y_train)\n",
    "    # transform train input data\n",
    "    X_train_fs = fs.transform(X_train)\n",
    "    # transform test input data\n",
    "    X_test_fs = fs.transform(X_test)\n",
    "    return X_train_fs, X_test_fs, fs\n",
    "\n",
    "# feature selection\n",
    "X_train_fs, X_test_fs, fs = select_features(X_train, Y_train, x_test)\n",
    "# fit the model\n",
    "CLF, Test_GroundT, Train_GroundT, Test_Preds, Train_Preds, Test_Preds_Proba, Train_Preds_Proba = SVM_Classification_BeehiveSTATE(X_train_fs, Y_train , X_test_fs, y_test, kerneloption='rbf')\n",
    "# Metrics\n",
    "print(\"Accuracy: \", metrics.accuracy_score( Test_GroundT, Test_Preds))\n",
    "# Model Precision: what percentage of positive tuples are labeled as such?\n",
    "print(\"Precision:\",metrics.precision_score(Test_GroundT, Test_Preds))\n",
    "# Model Recall: what percentage of positive tuples are labelled as such?\n",
    "print(\"Recall:\",metrics.recall_score(Test_GroundT, Test_Preds))\n",
    "\n",
    "\n",
    "#model = LinearRegression()\n",
    "#model.fit(X_train_fs, y_train)\n",
    "# evaluate the model\n",
    "#yhat = model.predict(X_test_fs)\n",
    "# evaluate predictions\n",
    "mae = mean_absolute_error(Test_GroundT, Test_Preds)\n",
    "print('MAE: %.3f' % mae)\n"
   ]
  },
  {
   "cell_type": "code",
   "execution_count": 182,
   "metadata": {},
   "outputs": [
    {
     "name": "stdout",
     "output_type": "stream",
     "text": [
      "Confusion matrix, without normalization\n",
      "[[2475  152]\n",
      " [1019 1542]]\n"
     ]
    },
    {
     "data": {
      "image/png": "[encoded data removed]",
      "text/plain": [
       "<Figure size 432x288 with 2 Axes>"
      ]
     },
     "metadata": {
      "needs_background": "light"
     },
     "output_type": "display_data"
    },
    {
     "name": "stdout",
     "output_type": "stream",
     "text": [
      "[2020-07-22 18:52:02 RAM60.4% 0.88GB] \n",
      "Clasification report MFCCs + SVM:\n",
      "                precision    recall  f1-score   support\n",
      "\n",
      "missing_queen       0.71      0.94      0.81      2627\n",
      "       active       0.91      0.60      0.72      2561\n",
      "\n",
      "     accuracy                           0.77      5188\n",
      "    macro avg       0.81      0.77      0.77      5188\n",
      " weighted avg       0.81      0.77      0.77      5188\n",
      "\n"
     ]
    }
   ],
   "source": [
    "\n",
    "# Compute confusion matrix\n",
    "cnf_matrix = confusion_matrix(Test_GroundT, Test_Preds )\n",
    "np.set_printoptions(precision=2)\n",
    "\n",
    "# Plot non-normalized confusion matrix\n",
    "plt.figure()\n",
    "plot_confusion_matrix(cnf_matrix, classes=class_names,\n",
    "                      title='MFCCs + SVM Confusion matrix, without normalization')\n",
    "plt.show()\n",
    "# Plot normalized confusion matrix\n",
    "\n",
    "plt.show()\n",
    "target_names=['missing_queen', 'active']\n",
    "print ('\\nClasification report MFCCs + SVM:\\n', classification_report(Test_GroundT, Test_Preds , target_names=target_names))\n"
   ]
  },
  {
   "cell_type": "markdown",
   "metadata": {},
   "source": [
    "# -----------------------------------------------------------------------------------"
   ]
  },
  {
   "cell_type": "markdown",
   "metadata": {},
   "source": [
    "# MFCC+DNN_PCA:"
   ]
  },
  {
   "cell_type": "code",
   "execution_count": 136,
   "metadata": {},
   "outputs": [
    {
     "name": "stdout",
     "output_type": "stream",
     "text": [
      "[2020-07-20 16:23:55 RAM71.8% 0.63GB] 6053 6054 5188 6053 6054 5188\n",
      "[2020-07-20 16:23:55 RAM73.5% 0.77GB] (12107, 20, 44) (5188, 20, 44) (12107,) (5188,)\n"
     ]
    }
   ],
   "source": [
    "x_test,y_test,labels_test, x_train,y_train,labels_train,  x_valid,y_valid,labels_valid, val_test, val_train, val_valid= get_list_samples_name_benetos( 'b', path_save_audio_MFCCs,sample_ids_test, sample_ids_val, sample_ids_train )\n",
    "\n",
    "#x_train, x_valid, x_test, y_train, y_valid, y_test = get_list_sample_ids(path_save_audio_MFCCs, sample_ids_test, sample_ids_val, sample_ids_train)\n",
    "print(len(x_train), len(x_valid), len(x_test) , len(y_train), len(y_valid), len(y_test))\n",
    "x_train= np.array(x_train)\n",
    "x_valid= np.array(x_valid)\n",
    "x_test= np.array(x_test)\n",
    "y_test=np.array(y_test)\n",
    "y_train=np.array(y_train)\n",
    "y_valid=np.array(y_valid)\n",
    "\n",
    "\n",
    "X_train= np.concatenate((x_train, x_valid))\n",
    "Y_train= np.concatenate((y_train, y_valid))\n",
    "\n",
    "print(X_train.shape, x_test.shape, Y_train.shape, y_test.shape )\n"
   ]
  },
  {
   "cell_type": "code",
   "execution_count": 137,
   "metadata": {},
   "outputs": [
    {
     "name": "stdout",
     "output_type": "stream",
     "text": [
      "[2020-07-20 16:23:56 RAM72.7% 0.66GB] (12107, 880) (5188, 880) (12107,) (5188,)\n",
      "[2020-07-20 16:23:56 RAM72.7% 0.66GB] calculate PCA \n",
      "[2020-07-20 16:23:59 RAM72.4% 0.66GB] (12107, 2) (5188, 2)\n",
      "[2020-07-20 16:23:59 RAM72.4% 0.66GB] (12107, 2) (5188, 2)\n"
     ]
    }
   ],
   "source": [
    "from sklearn.decomposition import PCA\n",
    "from keras.utils import np_utils\n",
    "\n",
    "\n",
    "X_train_flat=X_train.reshape(-1, 880)\n",
    "x_test_flat= x_test.reshape(-1, 880)\n",
    "print(X_train_flat.shape, x_test_flat.shape, Y_train.shape, y_test.shape )\n",
    "print(\"calculate PCA \")\n",
    "pca=PCA(0.9)\n",
    "pca.fit(X_train_flat)\n",
    "x_train_pca= pca.transform(X_train_flat)\n",
    "x_test_pca= pca.transform(x_test_flat)\n",
    "print(x_train_pca.shape, x_test_pca.shape)\n",
    "y_train = np_utils.to_categorical(Y_train)\n",
    "y_test = np_utils.to_categorical(y_test)\n",
    "print(y_train.shape, y_test.shape)"
   ]
  },
  {
   "cell_type": "code",
   "execution_count": 138,
   "metadata": {},
   "outputs": [],
   "source": [
    "from keras.models import Sequential\n",
    "from keras.layers import Dense \n",
    "from keras.utils import np_utils\n",
    "from keras.optimizers import RMSprop \n"
   ]
  },
  {
   "cell_type": "code",
   "execution_count": 139,
   "metadata": {},
   "outputs": [],
   "source": [
    "#model=deep_model(( 2 ,1))\n",
    "#model.summary()\n",
    "#model_history=[]\n",
    "#val_accuracy=[]   \n",
    "#model_filename = 'cnn_bee_PCA.h5'\n",
    "#results, val_acc, report, confusion_matrix = train_and_evaluate_model(model, X_train, y_train, x_test, y_test,  Y_test ,epochs, batch_size, model_filename )\n",
    "#model_history.append(results)\n",
    "#val_accuracy.append(val_acc)\n",
    "#df = pd.DataFrame(report).transpose()\n",
    "#name=\"PCA classification report for MFCC + CNN.csv \"\n",
    "#filename=\"PCA confusion_matrix for MFCC + CNN \"\n",
    "#df.to_csv(name)\n",
    "#save_confusion_matrix(confusion_matrix,filename, target_names )"
   ]
  },
  {
   "cell_type": "code",
   "execution_count": 140,
   "metadata": {},
   "outputs": [
    {
     "name": "stdout",
     "output_type": "stream",
     "text": [
      "Model: \"sequential_6\"\n",
      "_________________________________________________________________\n",
      "Layer (type)                 Output Shape              Param #   \n",
      "=================================================================\n",
      "dense_26 (Dense)             (None, 1024)              3072      \n",
      "_________________________________________________________________\n",
      "dense_27 (Dense)             (None, 1024)              1049600   \n",
      "_________________________________________________________________\n",
      "dense_28 (Dense)             (None, 512)               524800    \n",
      "_________________________________________________________________\n",
      "dense_29 (Dense)             (None, 256)               131328    \n",
      "_________________________________________________________________\n",
      "dense_30 (Dense)             (None, 2)                 514       \n",
      "=================================================================\n",
      "Total params: 1,709,314\n",
      "Trainable params: 1,709,314\n",
      "Non-trainable params: 0\n",
      "_________________________________________________________________\n"
     ]
    }
   ],
   "source": [
    "batch_size=128\n",
    "num_classes=2\n",
    "epochs=20\n",
    "\n",
    "model=Sequential()\n",
    "model.add(Dense(1024, activation='relu', input_shape=(2, )))\n",
    "model.add(Dense(1024, activation='relu'))\n",
    "model.add(Dense(512, activation='relu'))\n",
    "model.add(Dense(256, activation='relu'))\n",
    "model.add(Dense(num_classes, activation='softmax'))\n",
    "model.summary()"
   ]
  },
  {
   "cell_type": "code",
   "execution_count": 141,
   "metadata": {},
   "outputs": [
    {
     "name": "stdout",
     "output_type": "stream",
     "text": [
      "Train on 12107 samples, validate on 5188 samples\n",
      "Epoch 1/20\n",
      "12107/12107 [==============================] - ETA: 16s - loss: 3.4230 - accuracy: 0.601 - ETA: 7s - loss: 103.5043 - accuracy: 0.51 - ETA: 5s - loss: 73.4420 - accuracy: 0.5312 - ETA: 4s - loss: 55.3157 - accuracy: 0.544 - ETA: 4s - loss: 44.7066 - accuracy: 0.548 - ETA: 4s - loss: 37.1843 - accuracy: 0.546 - ETA: 3s - loss: 32.4983 - accuracy: 0.566 - ETA: 3s - loss: 28.3790 - accuracy: 0.592 - ETA: 3s - loss: 25.2987 - accuracy: 0.600 - ETA: 3s - loss: 23.9386 - accuracy: 0.613 - ETA: 3s - loss: 21.8426 - accuracy: 0.605 - ETA: 3s - loss: 20.3986 - accuracy: 0.616 - ETA: 3s - loss: 18.8160 - accuracy: 0.631 - ETA: 3s - loss: 17.4724 - accuracy: 0.634 - ETA: 2s - loss: 16.4720 - accuracy: 0.630 - ETA: 2s - loss: 15.5736 - accuracy: 0.633 - ETA: 2s - loss: 14.7476 - accuracy: 0.631 - ETA: 2s - loss: 13.9409 - accuracy: 0.634 - ETA: 2s - loss: 13.2336 - accuracy: 0.643 - ETA: 2s - loss: 12.5909 - accuracy: 0.648 - ETA: 2s - loss: 12.0207 - accuracy: 0.655 - ETA: 2s - loss: 11.5084 - accuracy: 0.659 - ETA: 2s - loss: 11.0206 - accuracy: 0.665 - ETA: 2s - loss: 10.5936 - accuracy: 0.669 - ETA: 1s - loss: 10.1940 - accuracy: 0.669 - ETA: 1s - loss: 9.8340 - accuracy: 0.672 - ETA: 1s - loss: 9.5164 - accuracy: 0.66 - ETA: 1s - loss: 9.2124 - accuracy: 0.67 - ETA: 1s - loss: 8.9132 - accuracy: 0.67 - ETA: 1s - loss: 8.6482 - accuracy: 0.67 - ETA: 1s - loss: 8.3730 - accuracy: 0.68 - ETA: 1s - loss: 8.1272 - accuracy: 0.68 - ETA: 1s - loss: 7.8882 - accuracy: 0.69 - ETA: 1s - loss: 7.6635 - accuracy: 0.69 - ETA: 1s - loss: 7.4577 - accuracy: 0.69 - ETA: 0s - loss: 7.2647 - accuracy: 0.69 - ETA: 0s - loss: 7.0924 - accuracy: 0.69 - ETA: 0s - loss: 6.9333 - accuracy: 0.69 - ETA: 0s - loss: 6.7844 - accuracy: 0.69 - ETA: 0s - loss: 6.6262 - accuracy: 0.69 - ETA: 0s - loss: 6.4753 - accuracy: 0.69 - ETA: 0s - loss: 6.3402 - accuracy: 0.69 - ETA: 0s - loss: 6.2114 - accuracy: 0.69 - ETA: 0s - loss: 6.1438 - accuracy: 0.69 - ETA: 0s - loss: 6.0777 - accuracy: 0.69 - ETA: 0s - loss: 5.9500 - accuracy: 0.70 - ETA: 0s - loss: 5.8307 - accuracy: 0.70 - ETA: 0s - loss: 5.7128 - accuracy: 0.70 - ETA: 0s - loss: 5.6050 - accuracy: 0.70 - 4s 348us/step - loss: 5.5733 - accuracy: 0.7081 - val_loss: 0.3969 - val_accuracy: 0.8180\n",
      "Epoch 2/20\n",
      "12107/12107 [==============================] - ETA: 3s - loss: 0.4986 - accuracy: 0.75 - ETA: 3s - loss: 0.4476 - accuracy: 0.82 - ETA: 3s - loss: 0.4104 - accuracy: 0.83 - ETA: 3s - loss: 0.4036 - accuracy: 0.83 - ETA: 3s - loss: 0.4164 - accuracy: 0.83 - ETA: 3s - loss: 0.4904 - accuracy: 0.79 - ETA: 2s - loss: 0.5382 - accuracy: 0.78 - ETA: 2s - loss: 0.5711 - accuracy: 0.77 - ETA: 2s - loss: 0.5730 - accuracy: 0.76 - ETA: 2s - loss: 0.5598 - accuracy: 0.77 - ETA: 2s - loss: 0.5475 - accuracy: 0.77 - ETA: 2s - loss: 0.5335 - accuracy: 0.78 - ETA: 2s - loss: 0.5242 - accuracy: 0.78 - ETA: 2s - loss: 0.5137 - accuracy: 0.78 - ETA: 2s - loss: 0.5044 - accuracy: 0.79 - ETA: 2s - loss: 0.5028 - accuracy: 0.78 - ETA: 2s - loss: 0.4972 - accuracy: 0.79 - ETA: 2s - loss: 0.5072 - accuracy: 0.79 - ETA: 2s - loss: 0.5052 - accuracy: 0.79 - ETA: 2s - loss: 0.5187 - accuracy: 0.78 - ETA: 2s - loss: 0.5166 - accuracy: 0.79 - ETA: 1s - loss: 0.5132 - accuracy: 0.79 - ETA: 1s - loss: 0.5110 - accuracy: 0.79 - ETA: 1s - loss: 0.5107 - accuracy: 0.79 - ETA: 1s - loss: 0.5074 - accuracy: 0.79 - ETA: 1s - loss: 0.5098 - accuracy: 0.78 - ETA: 1s - loss: 0.5065 - accuracy: 0.78 - ETA: 1s - loss: 0.5032 - accuracy: 0.79 - ETA: 1s - loss: 0.5041 - accuracy: 0.78 - ETA: 1s - loss: 0.4974 - accuracy: 0.79 - ETA: 1s - loss: 0.4956 - accuracy: 0.79 - ETA: 1s - loss: 0.5048 - accuracy: 0.79 - ETA: 1s - loss: 0.5033 - accuracy: 0.79 - ETA: 1s - loss: 0.4997 - accuracy: 0.79 - ETA: 0s - loss: 0.4953 - accuracy: 0.79 - ETA: 0s - loss: 0.4916 - accuracy: 0.79 - ETA: 0s - loss: 0.4887 - accuracy: 0.79 - ETA: 0s - loss: 0.4861 - accuracy: 0.79 - ETA: 0s - loss: 0.4900 - accuracy: 0.79 - ETA: 0s - loss: 0.4867 - accuracy: 0.79 - ETA: 0s - loss: 0.4836 - accuracy: 0.79 - ETA: 0s - loss: 0.4814 - accuracy: 0.79 - ETA: 0s - loss: 0.4802 - accuracy: 0.79 - ETA: 0s - loss: 0.4830 - accuracy: 0.79 - ETA: 0s - loss: 0.4900 - accuracy: 0.79 - ETA: 0s - loss: 0.4882 - accuracy: 0.79 - ETA: 0s - loss: 0.4862 - accuracy: 0.79 - ETA: 0s - loss: 0.4840 - accuracy: 0.79 - 4s 328us/step - loss: 0.4824 - accuracy: 0.7976 - val_loss: 0.3959 - val_accuracy: 0.8358\n",
      "Epoch 3/20\n",
      "12107/12107 [==============================] - ETA: 3s - loss: 0.3855 - accuracy: 0.86 - ETA: 3s - loss: 0.3676 - accuracy: 0.86 - ETA: 3s - loss: 0.3605 - accuracy: 0.85 - ETA: 3s - loss: 0.3690 - accuracy: 0.84 - ETA: 3s - loss: 0.4060 - accuracy: 0.81 - ETA: 3s - loss: 0.4061 - accuracy: 0.81 - ETA: 3s - loss: 0.3979 - accuracy: 0.81 - ETA: 3s - loss: 0.3950 - accuracy: 0.81 - ETA: 3s - loss: 0.4124 - accuracy: 0.81 - ETA: 2s - loss: 0.4042 - accuracy: 0.81 - ETA: 2s - loss: 0.3957 - accuracy: 0.81 - ETA: 2s - loss: 0.3920 - accuracy: 0.82 - ETA: 2s - loss: 0.3885 - accuracy: 0.82 - ETA: 2s - loss: 0.3845 - accuracy: 0.82 - ETA: 2s - loss: 0.3860 - accuracy: 0.82 - ETA: 2s - loss: 0.3861 - accuracy: 0.82 - ETA: 2s - loss: 0.3847 - accuracy: 0.82 - ETA: 2s - loss: 0.3848 - accuracy: 0.82 - ETA: 2s - loss: 0.3854 - accuracy: 0.82 - ETA: 2s - loss: 0.3896 - accuracy: 0.82 - ETA: 2s - loss: 0.3909 - accuracy: 0.82 - ETA: 2s - loss: 0.3922 - accuracy: 0.81 - ETA: 1s - loss: 0.3914 - accuracy: 0.81 - ETA: 1s - loss: 0.3909 - accuracy: 0.82 - ETA: 1s - loss: 0.3915 - accuracy: 0.81 - ETA: 1s - loss: 0.3969 - accuracy: 0.81 - ETA: 1s - loss: 0.3972 - accuracy: 0.81 - ETA: 1s - loss: 0.3980 - accuracy: 0.81 - ETA: 1s - loss: 0.3983 - accuracy: 0.81 - ETA: 1s - loss: 0.3956 - accuracy: 0.81 - ETA: 1s - loss: 0.3965 - accuracy: 0.81 - ETA: 1s - loss: 0.3961 - accuracy: 0.81 - ETA: 1s - loss: 0.3942 - accuracy: 0.81 - ETA: 1s - loss: 0.3922 - accuracy: 0.82 - ETA: 1s - loss: 0.3896 - accuracy: 0.82 - ETA: 0s - loss: 0.3902 - accuracy: 0.82 - ETA: 0s - loss: 0.4583 - accuracy: 0.81 - ETA: 0s - loss: 0.4560 - accuracy: 0.81 - ETA: 0s - loss: 0.4541 - accuracy: 0.81 - ETA: 0s - loss: 0.4529 - accuracy: 0.81 - ETA: 0s - loss: 0.4499 - accuracy: 0.81 - ETA: 0s - loss: 0.4478 - accuracy: 0.81 - ETA: 0s - loss: 0.4466 - accuracy: 0.81 - ETA: 0s - loss: 0.4448 - accuracy: 0.81 - ETA: 0s - loss: 0.4422 - accuracy: 0.81 - ETA: 0s - loss: 0.4396 - accuracy: 0.82 - ETA: 0s - loss: 0.4378 - accuracy: 0.82 - ETA: 0s - loss: 0.4365 - accuracy: 0.82 - 4s 329us/step - loss: 0.4343 - accuracy: 0.8215 - val_loss: 0.3236 - val_accuracy: 0.8421\n",
      "Epoch 4/20\n"
     ]
    },
    {
     "name": "stdout",
     "output_type": "stream",
     "text": [
      "12107/12107 [==============================] - ETA: 3s - loss: 0.4786 - accuracy: 0.77 - ETA: 3s - loss: 0.4088 - accuracy: 0.80 - ETA: 3s - loss: 0.3656 - accuracy: 0.82 - ETA: 3s - loss: 0.3587 - accuracy: 0.82 - ETA: 3s - loss: 0.3491 - accuracy: 0.82 - ETA: 3s - loss: 0.3432 - accuracy: 0.83 - ETA: 3s - loss: 0.3478 - accuracy: 0.83 - ETA: 2s - loss: 0.3464 - accuracy: 0.82 - ETA: 2s - loss: 0.3553 - accuracy: 0.82 - ETA: 2s - loss: 0.3520 - accuracy: 0.82 - ETA: 2s - loss: 0.3505 - accuracy: 0.82 - ETA: 2s - loss: 0.3502 - accuracy: 0.83 - ETA: 2s - loss: 0.3503 - accuracy: 0.83 - ETA: 2s - loss: 0.3738 - accuracy: 0.82 - ETA: 2s - loss: 0.3715 - accuracy: 0.82 - ETA: 2s - loss: 0.3675 - accuracy: 0.82 - ETA: 2s - loss: 0.3673 - accuracy: 0.82 - ETA: 2s - loss: 0.3686 - accuracy: 0.82 - ETA: 2s - loss: 0.3679 - accuracy: 0.82 - ETA: 2s - loss: 0.3659 - accuracy: 0.82 - ETA: 2s - loss: 0.3614 - accuracy: 0.83 - ETA: 2s - loss: 0.3623 - accuracy: 0.82 - ETA: 1s - loss: 0.3628 - accuracy: 0.82 - ETA: 1s - loss: 0.3631 - accuracy: 0.83 - ETA: 1s - loss: 0.3639 - accuracy: 0.83 - ETA: 1s - loss: 0.3639 - accuracy: 0.82 - ETA: 1s - loss: 0.3652 - accuracy: 0.82 - ETA: 1s - loss: 0.3652 - accuracy: 0.82 - ETA: 1s - loss: 0.3663 - accuracy: 0.82 - ETA: 1s - loss: 0.3675 - accuracy: 0.82 - ETA: 1s - loss: 0.3675 - accuracy: 0.82 - ETA: 1s - loss: 0.3674 - accuracy: 0.82 - ETA: 1s - loss: 0.3672 - accuracy: 0.82 - ETA: 1s - loss: 0.3653 - accuracy: 0.82 - ETA: 1s - loss: 0.3654 - accuracy: 0.82 - ETA: 0s - loss: 0.3652 - accuracy: 0.82 - ETA: 0s - loss: 0.3654 - accuracy: 0.82 - ETA: 0s - loss: 0.3649 - accuracy: 0.82 - ETA: 0s - loss: 0.3640 - accuracy: 0.82 - ETA: 0s - loss: 0.3639 - accuracy: 0.82 - ETA: 0s - loss: 0.3629 - accuracy: 0.83 - ETA: 0s - loss: 0.3630 - accuracy: 0.83 - ETA: 0s - loss: 0.3687 - accuracy: 0.82 - ETA: 0s - loss: 0.3713 - accuracy: 0.82 - ETA: 0s - loss: 0.3714 - accuracy: 0.82 - ETA: 0s - loss: 0.3704 - accuracy: 0.82 - ETA: 0s - loss: 0.3716 - accuracy: 0.82 - ETA: 0s - loss: 0.3716 - accuracy: 0.82 - ETA: 0s - loss: 0.3707 - accuracy: 0.82 - 4s 332us/step - loss: 0.3705 - accuracy: 0.8271 - val_loss: 0.3513 - val_accuracy: 0.8283\n",
      "Epoch 5/20\n",
      "12107/12107 [==============================] - ETA: 3s - loss: 0.4296 - accuracy: 0.78 - ETA: 4s - loss: 0.3512 - accuracy: 0.83 - ETA: 3s - loss: 0.3606 - accuracy: 0.83 - ETA: 3s - loss: 0.3614 - accuracy: 0.82 - ETA: 3s - loss: 0.3909 - accuracy: 0.81 - ETA: 3s - loss: 0.3807 - accuracy: 0.81 - ETA: 3s - loss: 0.3706 - accuracy: 0.82 - ETA: 3s - loss: 0.3805 - accuracy: 0.81 - ETA: 3s - loss: 0.3745 - accuracy: 0.82 - ETA: 2s - loss: 0.3766 - accuracy: 0.83 - ETA: 2s - loss: 0.3781 - accuracy: 0.83 - ETA: 2s - loss: 0.3733 - accuracy: 0.83 - ETA: 2s - loss: 0.3653 - accuracy: 0.83 - ETA: 2s - loss: 0.3771 - accuracy: 0.83 - ETA: 2s - loss: 0.3741 - accuracy: 0.83 - ETA: 2s - loss: 0.3729 - accuracy: 0.83 - ETA: 2s - loss: 0.3731 - accuracy: 0.83 - ETA: 2s - loss: 0.3671 - accuracy: 0.83 - ETA: 2s - loss: 0.3688 - accuracy: 0.83 - ETA: 2s - loss: 0.3663 - accuracy: 0.83 - ETA: 2s - loss: 0.3636 - accuracy: 0.83 - ETA: 2s - loss: 0.3623 - accuracy: 0.83 - ETA: 1s - loss: 0.3611 - accuracy: 0.83 - ETA: 1s - loss: 0.3572 - accuracy: 0.83 - ETA: 1s - loss: 0.3565 - accuracy: 0.83 - ETA: 1s - loss: 0.3573 - accuracy: 0.83 - ETA: 1s - loss: 0.3601 - accuracy: 0.83 - ETA: 1s - loss: 0.3603 - accuracy: 0.83 - ETA: 1s - loss: 0.3631 - accuracy: 0.83 - ETA: 1s - loss: 0.3615 - accuracy: 0.83 - ETA: 1s - loss: 0.3630 - accuracy: 0.83 - ETA: 1s - loss: 0.3616 - accuracy: 0.83 - ETA: 1s - loss: 0.3596 - accuracy: 0.83 - ETA: 1s - loss: 0.3586 - accuracy: 0.83 - ETA: 1s - loss: 0.3568 - accuracy: 0.83 - ETA: 0s - loss: 0.3554 - accuracy: 0.83 - ETA: 0s - loss: 0.3555 - accuracy: 0.83 - ETA: 0s - loss: 0.3555 - accuracy: 0.83 - ETA: 0s - loss: 0.3545 - accuracy: 0.83 - ETA: 0s - loss: 0.3548 - accuracy: 0.83 - ETA: 0s - loss: 0.3556 - accuracy: 0.83 - ETA: 0s - loss: 0.3548 - accuracy: 0.83 - ETA: 0s - loss: 0.3560 - accuracy: 0.83 - ETA: 0s - loss: 0.3560 - accuracy: 0.83 - ETA: 0s - loss: 0.3566 - accuracy: 0.83 - ETA: 0s - loss: 0.3571 - accuracy: 0.83 - ETA: 0s - loss: 0.3562 - accuracy: 0.83 - ETA: 0s - loss: 0.3567 - accuracy: 0.83 - 4s 328us/step - loss: 0.3567 - accuracy: 0.8347 - val_loss: 0.3874 - val_accuracy: 0.8344\n",
      "Epoch 6/20\n",
      "12107/12107 [==============================] - ETA: 3s - loss: 0.3848 - accuracy: 0.82 - ETA: 3s - loss: 0.3262 - accuracy: 0.83 - ETA: 3s - loss: 0.3174 - accuracy: 0.83 - ETA: 3s - loss: 0.3400 - accuracy: 0.83 - ETA: 3s - loss: 0.3426 - accuracy: 0.83 - ETA: 3s - loss: 0.3518 - accuracy: 0.82 - ETA: 3s - loss: 0.3470 - accuracy: 0.82 - ETA: 3s - loss: 0.3447 - accuracy: 0.83 - ETA: 2s - loss: 0.3472 - accuracy: 0.83 - ETA: 2s - loss: 0.3496 - accuracy: 0.83 - ETA: 2s - loss: 0.3509 - accuracy: 0.83 - ETA: 2s - loss: 0.3498 - accuracy: 0.83 - ETA: 2s - loss: 0.3506 - accuracy: 0.83 - ETA: 2s - loss: 0.3518 - accuracy: 0.83 - ETA: 2s - loss: 0.3529 - accuracy: 0.83 - ETA: 2s - loss: 0.3491 - accuracy: 0.83 - ETA: 2s - loss: 0.3545 - accuracy: 0.83 - ETA: 2s - loss: 0.3542 - accuracy: 0.83 - ETA: 2s - loss: 0.3593 - accuracy: 0.83 - ETA: 2s - loss: 0.3580 - accuracy: 0.83 - ETA: 2s - loss: 0.3551 - accuracy: 0.83 - ETA: 2s - loss: 0.3533 - accuracy: 0.83 - ETA: 1s - loss: 0.3529 - accuracy: 0.83 - ETA: 1s - loss: 0.3557 - accuracy: 0.83 - ETA: 1s - loss: 0.3533 - accuracy: 0.83 - ETA: 1s - loss: 0.3531 - accuracy: 0.83 - ETA: 1s - loss: 0.3504 - accuracy: 0.84 - ETA: 1s - loss: 0.3488 - accuracy: 0.84 - ETA: 1s - loss: 0.3489 - accuracy: 0.84 - ETA: 1s - loss: 0.3494 - accuracy: 0.84 - ETA: 1s - loss: 0.3488 - accuracy: 0.84 - ETA: 1s - loss: 0.3489 - accuracy: 0.84 - ETA: 1s - loss: 0.3493 - accuracy: 0.83 - ETA: 1s - loss: 0.3498 - accuracy: 0.83 - ETA: 1s - loss: 0.3498 - accuracy: 0.83 - ETA: 0s - loss: 0.3515 - accuracy: 0.83 - ETA: 0s - loss: 0.3507 - accuracy: 0.83 - ETA: 0s - loss: 0.3497 - accuracy: 0.83 - ETA: 0s - loss: 0.3487 - accuracy: 0.83 - ETA: 0s - loss: 0.3481 - accuracy: 0.83 - ETA: 0s - loss: 0.3462 - accuracy: 0.84 - ETA: 0s - loss: 0.3461 - accuracy: 0.83 - ETA: 0s - loss: 0.3467 - accuracy: 0.84 - ETA: 0s - loss: 0.3461 - accuracy: 0.84 - ETA: 0s - loss: 0.3471 - accuracy: 0.83 - ETA: 0s - loss: 0.3474 - accuracy: 0.83 - ETA: 0s - loss: 0.3468 - accuracy: 0.83 - ETA: 0s - loss: 0.3457 - accuracy: 0.83 - ETA: 0s - loss: 0.3451 - accuracy: 0.84 - 4s 331us/step - loss: 0.3455 - accuracy: 0.8402 - val_loss: 0.4143 - val_accuracy: 0.8421\n",
      "Epoch 7/20\n"
     ]
    },
    {
     "name": "stdout",
     "output_type": "stream",
     "text": [
      "12107/12107 [==============================] - ETA: 3s - loss: 0.3312 - accuracy: 0.89 - ETA: 3s - loss: 0.3381 - accuracy: 0.86 - ETA: 3s - loss: 0.4204 - accuracy: 0.85 - ETA: 3s - loss: 0.3969 - accuracy: 0.85 - ETA: 3s - loss: 0.3910 - accuracy: 0.85 - ETA: 3s - loss: 0.3836 - accuracy: 0.85 - ETA: 2s - loss: 0.3715 - accuracy: 0.85 - ETA: 2s - loss: 0.3666 - accuracy: 0.85 - ETA: 2s - loss: 0.3566 - accuracy: 0.85 - ETA: 2s - loss: 0.3524 - accuracy: 0.85 - ETA: 2s - loss: 0.3479 - accuracy: 0.85 - ETA: 2s - loss: 0.3507 - accuracy: 0.84 - ETA: 2s - loss: 0.3435 - accuracy: 0.85 - ETA: 2s - loss: 0.3451 - accuracy: 0.85 - ETA: 2s - loss: 0.3418 - accuracy: 0.85 - ETA: 2s - loss: 0.3464 - accuracy: 0.85 - ETA: 2s - loss: 0.3459 - accuracy: 0.85 - ETA: 2s - loss: 0.3450 - accuracy: 0.85 - ETA: 2s - loss: 0.3438 - accuracy: 0.85 - ETA: 2s - loss: 0.3427 - accuracy: 0.85 - ETA: 2s - loss: 0.3414 - accuracy: 0.85 - ETA: 1s - loss: 0.3415 - accuracy: 0.85 - ETA: 1s - loss: 0.3421 - accuracy: 0.84 - ETA: 1s - loss: 0.3423 - accuracy: 0.84 - ETA: 1s - loss: 0.3417 - accuracy: 0.84 - ETA: 1s - loss: 0.3405 - accuracy: 0.84 - ETA: 1s - loss: 0.3407 - accuracy: 0.84 - ETA: 1s - loss: 0.3404 - accuracy: 0.84 - ETA: 1s - loss: 0.3400 - accuracy: 0.84 - ETA: 1s - loss: 0.3394 - accuracy: 0.84 - ETA: 1s - loss: 0.3364 - accuracy: 0.84 - ETA: 1s - loss: 0.3343 - accuracy: 0.84 - ETA: 1s - loss: 0.3343 - accuracy: 0.84 - ETA: 1s - loss: 0.3343 - accuracy: 0.84 - ETA: 0s - loss: 0.3362 - accuracy: 0.84 - ETA: 0s - loss: 0.3368 - accuracy: 0.84 - ETA: 0s - loss: 0.3358 - accuracy: 0.84 - ETA: 0s - loss: 0.3351 - accuracy: 0.84 - ETA: 0s - loss: 0.3345 - accuracy: 0.84 - ETA: 0s - loss: 0.3332 - accuracy: 0.84 - ETA: 0s - loss: 0.3331 - accuracy: 0.84 - ETA: 0s - loss: 0.3340 - accuracy: 0.84 - ETA: 0s - loss: 0.3344 - accuracy: 0.84 - ETA: 0s - loss: 0.3354 - accuracy: 0.84 - ETA: 0s - loss: 0.3347 - accuracy: 0.84 - ETA: 0s - loss: 0.3368 - accuracy: 0.84 - ETA: 0s - loss: 0.3376 - accuracy: 0.84 - ETA: 0s - loss: 0.3368 - accuracy: 0.84 - ETA: 0s - loss: 0.3364 - accuracy: 0.84 - 4s 333us/step - loss: 0.3376 - accuracy: 0.8460 - val_loss: 0.3100 - val_accuracy: 0.8562\n",
      "Epoch 8/20\n",
      "12107/12107 [==============================] - ETA: 3s - loss: 0.3245 - accuracy: 0.84 - ETA: 3s - loss: 0.2840 - accuracy: 0.87 - ETA: 3s - loss: 0.3479 - accuracy: 0.84 - ETA: 3s - loss: 0.3691 - accuracy: 0.83 - ETA: 3s - loss: 0.3624 - accuracy: 0.83 - ETA: 3s - loss: 0.3504 - accuracy: 0.84 - ETA: 3s - loss: 0.3435 - accuracy: 0.84 - ETA: 3s - loss: 0.3408 - accuracy: 0.84 - ETA: 2s - loss: 0.3397 - accuracy: 0.84 - ETA: 2s - loss: 0.3396 - accuracy: 0.84 - ETA: 2s - loss: 0.3378 - accuracy: 0.84 - ETA: 2s - loss: 0.3358 - accuracy: 0.84 - ETA: 2s - loss: 0.3321 - accuracy: 0.84 - ETA: 2s - loss: 0.3335 - accuracy: 0.84 - ETA: 2s - loss: 0.3303 - accuracy: 0.85 - ETA: 2s - loss: 0.3283 - accuracy: 0.85 - ETA: 2s - loss: 0.3265 - accuracy: 0.85 - ETA: 2s - loss: 0.3243 - accuracy: 0.85 - ETA: 2s - loss: 0.3263 - accuracy: 0.85 - ETA: 2s - loss: 0.3256 - accuracy: 0.85 - ETA: 2s - loss: 0.3278 - accuracy: 0.84 - ETA: 1s - loss: 0.3281 - accuracy: 0.84 - ETA: 1s - loss: 0.3289 - accuracy: 0.84 - ETA: 1s - loss: 0.3294 - accuracy: 0.84 - ETA: 1s - loss: 0.3298 - accuracy: 0.84 - ETA: 1s - loss: 0.3285 - accuracy: 0.84 - ETA: 1s - loss: 0.3289 - accuracy: 0.84 - ETA: 1s - loss: 0.3262 - accuracy: 0.85 - ETA: 1s - loss: 0.3280 - accuracy: 0.85 - ETA: 1s - loss: 0.3292 - accuracy: 0.84 - ETA: 1s - loss: 0.3301 - accuracy: 0.84 - ETA: 1s - loss: 0.3300 - accuracy: 0.84 - ETA: 1s - loss: 0.3302 - accuracy: 0.84 - ETA: 1s - loss: 0.3291 - accuracy: 0.84 - ETA: 1s - loss: 0.3288 - accuracy: 0.84 - ETA: 0s - loss: 0.3284 - accuracy: 0.84 - ETA: 0s - loss: 0.3284 - accuracy: 0.84 - ETA: 0s - loss: 0.3266 - accuracy: 0.84 - ETA: 0s - loss: 0.3273 - accuracy: 0.84 - ETA: 0s - loss: 0.3267 - accuracy: 0.84 - ETA: 0s - loss: 0.3274 - accuracy: 0.84 - ETA: 0s - loss: 0.3265 - accuracy: 0.84 - ETA: 0s - loss: 0.3263 - accuracy: 0.84 - ETA: 0s - loss: 0.3265 - accuracy: 0.84 - ETA: 0s - loss: 0.3250 - accuracy: 0.84 - ETA: 0s - loss: 0.3243 - accuracy: 0.84 - ETA: 0s - loss: 0.3241 - accuracy: 0.84 - ETA: 0s - loss: 0.3253 - accuracy: 0.84 - 4s 327us/step - loss: 0.3243 - accuracy: 0.8482 - val_loss: 0.3145 - val_accuracy: 0.8481\n",
      "Epoch 9/20\n",
      "12107/12107 [==============================] - ETA: 3s - loss: 0.2572 - accuracy: 0.89 - ETA: 3s - loss: 0.3215 - accuracy: 0.84 - ETA: 3s - loss: 0.3279 - accuracy: 0.85 - ETA: 3s - loss: 0.3456 - accuracy: 0.84 - ETA: 3s - loss: 0.3298 - accuracy: 0.85 - ETA: 3s - loss: 0.3332 - accuracy: 0.85 - ETA: 3s - loss: 0.3316 - accuracy: 0.85 - ETA: 3s - loss: 0.3316 - accuracy: 0.85 - ETA: 3s - loss: 0.3268 - accuracy: 0.85 - ETA: 2s - loss: 0.3295 - accuracy: 0.85 - ETA: 2s - loss: 0.3259 - accuracy: 0.85 - ETA: 2s - loss: 0.3195 - accuracy: 0.85 - ETA: 2s - loss: 0.3219 - accuracy: 0.84 - ETA: 2s - loss: 0.3170 - accuracy: 0.85 - ETA: 2s - loss: 0.3196 - accuracy: 0.85 - ETA: 2s - loss: 0.3208 - accuracy: 0.85 - ETA: 2s - loss: 0.3207 - accuracy: 0.85 - ETA: 2s - loss: 0.3215 - accuracy: 0.85 - ETA: 2s - loss: 0.3205 - accuracy: 0.85 - ETA: 2s - loss: 0.3181 - accuracy: 0.85 - ETA: 2s - loss: 0.3167 - accuracy: 0.85 - ETA: 2s - loss: 0.3174 - accuracy: 0.85 - ETA: 1s - loss: 0.3159 - accuracy: 0.85 - ETA: 1s - loss: 0.3137 - accuracy: 0.85 - ETA: 1s - loss: 0.3127 - accuracy: 0.85 - ETA: 1s - loss: 0.3133 - accuracy: 0.85 - ETA: 1s - loss: 0.3137 - accuracy: 0.85 - ETA: 1s - loss: 0.3127 - accuracy: 0.85 - ETA: 1s - loss: 0.3117 - accuracy: 0.85 - ETA: 1s - loss: 0.3121 - accuracy: 0.85 - ETA: 1s - loss: 0.3109 - accuracy: 0.85 - ETA: 1s - loss: 0.3121 - accuracy: 0.85 - ETA: 1s - loss: 0.3131 - accuracy: 0.85 - ETA: 1s - loss: 0.3135 - accuracy: 0.85 - ETA: 1s - loss: 0.3116 - accuracy: 0.85 - ETA: 0s - loss: 0.3118 - accuracy: 0.85 - ETA: 0s - loss: 0.3091 - accuracy: 0.85 - ETA: 0s - loss: 0.3102 - accuracy: 0.85 - ETA: 0s - loss: 0.3086 - accuracy: 0.85 - ETA: 0s - loss: 0.3089 - accuracy: 0.85 - ETA: 0s - loss: 0.3103 - accuracy: 0.85 - ETA: 0s - loss: 0.3101 - accuracy: 0.85 - ETA: 0s - loss: 0.3112 - accuracy: 0.85 - ETA: 0s - loss: 0.3116 - accuracy: 0.85 - ETA: 0s - loss: 0.3127 - accuracy: 0.85 - ETA: 0s - loss: 0.3128 - accuracy: 0.85 - ETA: 0s - loss: 0.3129 - accuracy: 0.85 - ETA: 0s - loss: 0.3123 - accuracy: 0.85 - 4s 331us/step - loss: 0.3127 - accuracy: 0.8537 - val_loss: 0.2923 - val_accuracy: 0.8543\n",
      "Epoch 10/20\n"
     ]
    },
    {
     "name": "stdout",
     "output_type": "stream",
     "text": [
      "12107/12107 [==============================] - ETA: 3s - loss: 0.2530 - accuracy: 0.85 - ETA: 3s - loss: 0.2580 - accuracy: 0.87 - ETA: 3s - loss: 0.2688 - accuracy: 0.87 - ETA: 3s - loss: 0.2760 - accuracy: 0.88 - ETA: 3s - loss: 0.2889 - accuracy: 0.87 - ETA: 3s - loss: 0.2949 - accuracy: 0.86 - ETA: 3s - loss: 0.3079 - accuracy: 0.86 - ETA: 2s - loss: 0.3009 - accuracy: 0.86 - ETA: 2s - loss: 0.3102 - accuracy: 0.86 - ETA: 2s - loss: 0.3122 - accuracy: 0.86 - ETA: 2s - loss: 0.3081 - accuracy: 0.86 - ETA: 2s - loss: 0.3073 - accuracy: 0.86 - ETA: 2s - loss: 0.3065 - accuracy: 0.86 - ETA: 2s - loss: 0.3114 - accuracy: 0.85 - ETA: 2s - loss: 0.3127 - accuracy: 0.85 - ETA: 2s - loss: 0.3090 - accuracy: 0.85 - ETA: 2s - loss: 0.3078 - accuracy: 0.85 - ETA: 2s - loss: 0.3096 - accuracy: 0.85 - ETA: 2s - loss: 0.3086 - accuracy: 0.85 - ETA: 2s - loss: 0.3080 - accuracy: 0.85 - ETA: 2s - loss: 0.3092 - accuracy: 0.85 - ETA: 1s - loss: 0.3117 - accuracy: 0.85 - ETA: 1s - loss: 0.3113 - accuracy: 0.85 - ETA: 1s - loss: 0.3343 - accuracy: 0.85 - ETA: 1s - loss: 0.3360 - accuracy: 0.85 - ETA: 1s - loss: 0.3337 - accuracy: 0.85 - ETA: 1s - loss: 0.3322 - accuracy: 0.85 - ETA: 1s - loss: 0.3299 - accuracy: 0.85 - ETA: 1s - loss: 0.3290 - accuracy: 0.85 - ETA: 1s - loss: 0.3274 - accuracy: 0.85 - ETA: 1s - loss: 0.3303 - accuracy: 0.85 - ETA: 1s - loss: 0.3279 - accuracy: 0.85 - ETA: 1s - loss: 0.3252 - accuracy: 0.85 - ETA: 1s - loss: 0.3239 - accuracy: 0.85 - ETA: 0s - loss: 0.3235 - accuracy: 0.85 - ETA: 0s - loss: 0.3221 - accuracy: 0.85 - ETA: 0s - loss: 0.3215 - accuracy: 0.85 - ETA: 0s - loss: 0.3226 - accuracy: 0.85 - ETA: 0s - loss: 0.3223 - accuracy: 0.85 - ETA: 0s - loss: 0.3235 - accuracy: 0.85 - ETA: 0s - loss: 0.3227 - accuracy: 0.85 - ETA: 0s - loss: 0.3221 - accuracy: 0.85 - ETA: 0s - loss: 0.3217 - accuracy: 0.85 - ETA: 0s - loss: 0.3204 - accuracy: 0.85 - ETA: 0s - loss: 0.3188 - accuracy: 0.85 - ETA: 0s - loss: 0.3181 - accuracy: 0.85 - ETA: 0s - loss: 0.3198 - accuracy: 0.85 - ETA: 0s - loss: 0.3195 - accuracy: 0.85 - 4s 327us/step - loss: 0.3187 - accuracy: 0.8588 - val_loss: 0.3174 - val_accuracy: 0.8475\n",
      "Epoch 11/20\n",
      "12107/12107 [==============================] - ETA: 3s - loss: 0.3278 - accuracy: 0.82 - ETA: 3s - loss: 0.3406 - accuracy: 0.83 - ETA: 3s - loss: 0.3155 - accuracy: 0.84 - ETA: 3s - loss: 0.3027 - accuracy: 0.85 - ETA: 3s - loss: 0.3021 - accuracy: 0.85 - ETA: 3s - loss: 0.3000 - accuracy: 0.85 - ETA: 3s - loss: 0.3034 - accuracy: 0.85 - ETA: 3s - loss: 0.2964 - accuracy: 0.85 - ETA: 2s - loss: 0.2873 - accuracy: 0.86 - ETA: 2s - loss: 0.2896 - accuracy: 0.86 - ETA: 2s - loss: 0.2908 - accuracy: 0.86 - ETA: 2s - loss: 0.2921 - accuracy: 0.86 - ETA: 2s - loss: 0.2930 - accuracy: 0.86 - ETA: 2s - loss: 0.3010 - accuracy: 0.86 - ETA: 2s - loss: 0.2975 - accuracy: 0.86 - ETA: 2s - loss: 0.2984 - accuracy: 0.86 - ETA: 2s - loss: 0.2964 - accuracy: 0.86 - ETA: 2s - loss: 0.2963 - accuracy: 0.86 - ETA: 2s - loss: 0.2973 - accuracy: 0.86 - ETA: 2s - loss: 0.3038 - accuracy: 0.86 - ETA: 2s - loss: 0.3090 - accuracy: 0.86 - ETA: 1s - loss: 0.3078 - accuracy: 0.86 - ETA: 1s - loss: 0.3085 - accuracy: 0.86 - ETA: 1s - loss: 0.3082 - accuracy: 0.86 - ETA: 1s - loss: 0.3067 - accuracy: 0.86 - ETA: 1s - loss: 0.3062 - accuracy: 0.86 - ETA: 1s - loss: 0.3055 - accuracy: 0.86 - ETA: 1s - loss: 0.3048 - accuracy: 0.86 - ETA: 1s - loss: 0.3036 - accuracy: 0.86 - ETA: 1s - loss: 0.3041 - accuracy: 0.86 - ETA: 1s - loss: 0.3037 - accuracy: 0.86 - ETA: 1s - loss: 0.3031 - accuracy: 0.86 - ETA: 1s - loss: 0.3027 - accuracy: 0.86 - ETA: 1s - loss: 0.3035 - accuracy: 0.86 - ETA: 1s - loss: 0.3026 - accuracy: 0.86 - ETA: 0s - loss: 0.3024 - accuracy: 0.86 - ETA: 0s - loss: 0.2999 - accuracy: 0.86 - ETA: 0s - loss: 0.2995 - accuracy: 0.86 - ETA: 0s - loss: 0.2983 - accuracy: 0.86 - ETA: 0s - loss: 0.2991 - accuracy: 0.86 - ETA: 0s - loss: 0.2991 - accuracy: 0.86 - ETA: 0s - loss: 0.2979 - accuracy: 0.86 - ETA: 0s - loss: 0.2987 - accuracy: 0.86 - ETA: 0s - loss: 0.3008 - accuracy: 0.86 - ETA: 0s - loss: 0.3006 - accuracy: 0.86 - ETA: 0s - loss: 0.2995 - accuracy: 0.86 - ETA: 0s - loss: 0.2989 - accuracy: 0.86 - ETA: 0s - loss: 0.2997 - accuracy: 0.86 - 4s 329us/step - loss: 0.2995 - accuracy: 0.8633 - val_loss: 0.2912 - val_accuracy: 0.8635\n",
      "Epoch 12/20\n",
      "12107/12107 [==============================] - ETA: 3s - loss: 0.3416 - accuracy: 0.81 - ETA: 3s - loss: 0.3611 - accuracy: 0.81 - ETA: 3s - loss: 0.3473 - accuracy: 0.82 - ETA: 3s - loss: 0.3510 - accuracy: 0.82 - ETA: 3s - loss: 0.3430 - accuracy: 0.83 - ETA: 3s - loss: 0.3221 - accuracy: 0.84 - ETA: 3s - loss: 0.3150 - accuracy: 0.84 - ETA: 3s - loss: 0.3181 - accuracy: 0.84 - ETA: 2s - loss: 0.3137 - accuracy: 0.85 - ETA: 2s - loss: 0.3124 - accuracy: 0.85 - ETA: 2s - loss: 0.3104 - accuracy: 0.85 - ETA: 2s - loss: 0.3079 - accuracy: 0.85 - ETA: 2s - loss: 0.3066 - accuracy: 0.85 - ETA: 2s - loss: 0.3039 - accuracy: 0.85 - ETA: 2s - loss: 0.2987 - accuracy: 0.86 - ETA: 2s - loss: 0.2974 - accuracy: 0.86 - ETA: 2s - loss: 0.2955 - accuracy: 0.86 - ETA: 2s - loss: 0.2978 - accuracy: 0.86 - ETA: 2s - loss: 0.2977 - accuracy: 0.86 - ETA: 2s - loss: 0.3027 - accuracy: 0.85 - ETA: 2s - loss: 0.3028 - accuracy: 0.85 - ETA: 2s - loss: 0.3021 - accuracy: 0.85 - ETA: 1s - loss: 0.2989 - accuracy: 0.86 - ETA: 1s - loss: 0.2981 - accuracy: 0.86 - ETA: 1s - loss: 0.2981 - accuracy: 0.86 - ETA: 1s - loss: 0.2985 - accuracy: 0.86 - ETA: 1s - loss: 0.2978 - accuracy: 0.86 - ETA: 1s - loss: 0.2971 - accuracy: 0.86 - ETA: 1s - loss: 0.2975 - accuracy: 0.86 - ETA: 1s - loss: 0.2993 - accuracy: 0.86 - ETA: 1s - loss: 0.2990 - accuracy: 0.86 - ETA: 1s - loss: 0.2966 - accuracy: 0.86 - ETA: 1s - loss: 0.2949 - accuracy: 0.86 - ETA: 1s - loss: 0.2963 - accuracy: 0.86 - ETA: 1s - loss: 0.3006 - accuracy: 0.86 - ETA: 0s - loss: 0.2988 - accuracy: 0.86 - ETA: 0s - loss: 0.2986 - accuracy: 0.86 - ETA: 0s - loss: 0.2989 - accuracy: 0.86 - ETA: 0s - loss: 0.2981 - accuracy: 0.86 - ETA: 0s - loss: 0.2965 - accuracy: 0.86 - ETA: 0s - loss: 0.2950 - accuracy: 0.86 - ETA: 0s - loss: 0.2947 - accuracy: 0.86 - ETA: 0s - loss: 0.2939 - accuracy: 0.86 - ETA: 0s - loss: 0.2934 - accuracy: 0.86 - ETA: 0s - loss: 0.2938 - accuracy: 0.86 - ETA: 0s - loss: 0.2947 - accuracy: 0.86 - ETA: 0s - loss: 0.2945 - accuracy: 0.86 - ETA: 0s - loss: 0.2938 - accuracy: 0.86 - 4s 328us/step - loss: 0.2942 - accuracy: 0.8655 - val_loss: 0.3855 - val_accuracy: 0.8207\n",
      "Epoch 13/20\n"
     ]
    },
    {
     "name": "stdout",
     "output_type": "stream",
     "text": [
      "12107/12107 [==============================] - ETA: 3s - loss: 0.4136 - accuracy: 0.80 - ETA: 3s - loss: 0.3426 - accuracy: 0.82 - ETA: 3s - loss: 0.3269 - accuracy: 0.85 - ETA: 3s - loss: 0.3129 - accuracy: 0.85 - ETA: 3s - loss: 0.3042 - accuracy: 0.86 - ETA: 3s - loss: 0.3079 - accuracy: 0.86 - ETA: 3s - loss: 0.3045 - accuracy: 0.86 - ETA: 3s - loss: 0.2957 - accuracy: 0.86 - ETA: 2s - loss: 0.2900 - accuracy: 0.86 - ETA: 2s - loss: 0.2914 - accuracy: 0.86 - ETA: 2s - loss: 0.2898 - accuracy: 0.87 - ETA: 2s - loss: 0.2891 - accuracy: 0.86 - ETA: 2s - loss: 0.2900 - accuracy: 0.86 - ETA: 2s - loss: 0.3112 - accuracy: 0.86 - ETA: 2s - loss: 0.3090 - accuracy: 0.86 - ETA: 2s - loss: 0.3060 - accuracy: 0.86 - ETA: 2s - loss: 0.3039 - accuracy: 0.86 - ETA: 2s - loss: 0.3002 - accuracy: 0.86 - ETA: 2s - loss: 0.3018 - accuracy: 0.86 - ETA: 2s - loss: 0.3009 - accuracy: 0.86 - ETA: 2s - loss: 0.2993 - accuracy: 0.86 - ETA: 2s - loss: 0.3021 - accuracy: 0.86 - ETA: 1s - loss: 0.3007 - accuracy: 0.86 - ETA: 1s - loss: 0.3019 - accuracy: 0.86 - ETA: 1s - loss: 0.3020 - accuracy: 0.86 - ETA: 1s - loss: 0.2984 - accuracy: 0.86 - ETA: 1s - loss: 0.3009 - accuracy: 0.86 - ETA: 1s - loss: 0.2988 - accuracy: 0.86 - ETA: 1s - loss: 0.2976 - accuracy: 0.86 - ETA: 1s - loss: 0.2967 - accuracy: 0.86 - ETA: 1s - loss: 0.2979 - accuracy: 0.86 - ETA: 1s - loss: 0.2981 - accuracy: 0.86 - ETA: 1s - loss: 0.2986 - accuracy: 0.86 - ETA: 1s - loss: 0.2975 - accuracy: 0.86 - ETA: 1s - loss: 0.2956 - accuracy: 0.86 - ETA: 0s - loss: 0.2952 - accuracy: 0.86 - ETA: 0s - loss: 0.2957 - accuracy: 0.86 - ETA: 0s - loss: 0.2946 - accuracy: 0.86 - ETA: 0s - loss: 0.2935 - accuracy: 0.86 - ETA: 0s - loss: 0.2941 - accuracy: 0.86 - ETA: 0s - loss: 0.2940 - accuracy: 0.86 - ETA: 0s - loss: 0.2933 - accuracy: 0.86 - ETA: 0s - loss: 0.2912 - accuracy: 0.86 - ETA: 0s - loss: 0.2920 - accuracy: 0.86 - ETA: 0s - loss: 0.2911 - accuracy: 0.86 - ETA: 0s - loss: 0.2911 - accuracy: 0.86 - ETA: 0s - loss: 0.2910 - accuracy: 0.86 - ETA: 0s - loss: 0.2914 - accuracy: 0.86 - 4s 327us/step - loss: 0.2911 - accuracy: 0.8658 - val_loss: 0.3045 - val_accuracy: 0.8651\n",
      "Epoch 14/20\n",
      "12107/12107 [==============================] - ETA: 3s - loss: 0.2983 - accuracy: 0.83 - ETA: 3s - loss: 0.2729 - accuracy: 0.86 - ETA: 3s - loss: 0.2718 - accuracy: 0.87 - ETA: 3s - loss: 0.2551 - accuracy: 0.88 - ETA: 3s - loss: 0.2547 - accuracy: 0.88 - ETA: 3s - loss: 0.2580 - accuracy: 0.88 - ETA: 3s - loss: 0.2594 - accuracy: 0.88 - ETA: 3s - loss: 0.2579 - accuracy: 0.88 - ETA: 2s - loss: 0.2632 - accuracy: 0.88 - ETA: 2s - loss: 0.2660 - accuracy: 0.87 - ETA: 2s - loss: 0.2675 - accuracy: 0.87 - ETA: 2s - loss: 0.2674 - accuracy: 0.87 - ETA: 2s - loss: 0.2669 - accuracy: 0.87 - ETA: 2s - loss: 0.2633 - accuracy: 0.87 - ETA: 2s - loss: 0.2692 - accuracy: 0.87 - ETA: 2s - loss: 0.2787 - accuracy: 0.87 - ETA: 2s - loss: 0.2775 - accuracy: 0.87 - ETA: 2s - loss: 0.2769 - accuracy: 0.87 - ETA: 2s - loss: 0.2772 - accuracy: 0.87 - ETA: 2s - loss: 0.2761 - accuracy: 0.87 - ETA: 2s - loss: 0.2741 - accuracy: 0.87 - ETA: 1s - loss: 0.2721 - accuracy: 0.87 - ETA: 1s - loss: 0.2724 - accuracy: 0.87 - ETA: 1s - loss: 0.2732 - accuracy: 0.87 - ETA: 1s - loss: 0.2758 - accuracy: 0.87 - ETA: 1s - loss: 0.2771 - accuracy: 0.87 - ETA: 1s - loss: 0.2783 - accuracy: 0.87 - ETA: 1s - loss: 0.2809 - accuracy: 0.87 - ETA: 1s - loss: 0.2809 - accuracy: 0.87 - ETA: 1s - loss: 0.2799 - accuracy: 0.87 - ETA: 1s - loss: 0.2803 - accuracy: 0.87 - ETA: 1s - loss: 0.2794 - accuracy: 0.87 - ETA: 1s - loss: 0.2789 - accuracy: 0.87 - ETA: 1s - loss: 0.2780 - accuracy: 0.87 - ETA: 1s - loss: 0.2774 - accuracy: 0.87 - ETA: 0s - loss: 0.2766 - accuracy: 0.87 - ETA: 0s - loss: 0.2770 - accuracy: 0.87 - ETA: 0s - loss: 0.2777 - accuracy: 0.87 - ETA: 0s - loss: 0.2773 - accuracy: 0.87 - ETA: 0s - loss: 0.2779 - accuracy: 0.87 - ETA: 0s - loss: 0.2782 - accuracy: 0.87 - ETA: 0s - loss: 0.2774 - accuracy: 0.87 - ETA: 0s - loss: 0.2778 - accuracy: 0.87 - ETA: 0s - loss: 0.2778 - accuracy: 0.87 - ETA: 0s - loss: 0.2772 - accuracy: 0.87 - ETA: 0s - loss: 0.2772 - accuracy: 0.87 - ETA: 0s - loss: 0.2772 - accuracy: 0.87 - ETA: 0s - loss: 0.2778 - accuracy: 0.87 - 4s 329us/step - loss: 0.3038 - accuracy: 0.8725 - val_loss: 0.2966 - val_accuracy: 0.8643\n",
      "Epoch 15/20\n",
      "12107/12107 [==============================] - ETA: 3s - loss: 0.3296 - accuracy: 0.84 - ETA: 3s - loss: 0.2992 - accuracy: 0.85 - ETA: 3s - loss: 0.2790 - accuracy: 0.87 - ETA: 3s - loss: 0.2847 - accuracy: 0.86 - ETA: 3s - loss: 0.2814 - accuracy: 0.87 - ETA: 3s - loss: 0.2731 - accuracy: 0.87 - ETA: 3s - loss: 0.2769 - accuracy: 0.87 - ETA: 3s - loss: 0.2756 - accuracy: 0.87 - ETA: 2s - loss: 0.2702 - accuracy: 0.87 - ETA: 2s - loss: 0.2695 - accuracy: 0.87 - ETA: 2s - loss: 0.2684 - accuracy: 0.87 - ETA: 2s - loss: 0.2707 - accuracy: 0.87 - ETA: 2s - loss: 0.2735 - accuracy: 0.87 - ETA: 2s - loss: 0.2698 - accuracy: 0.87 - ETA: 2s - loss: 0.2673 - accuracy: 0.87 - ETA: 2s - loss: 0.2682 - accuracy: 0.87 - ETA: 2s - loss: 0.2727 - accuracy: 0.87 - ETA: 2s - loss: 0.2706 - accuracy: 0.87 - ETA: 2s - loss: 0.2754 - accuracy: 0.87 - ETA: 2s - loss: 0.2733 - accuracy: 0.87 - ETA: 2s - loss: 0.2698 - accuracy: 0.87 - ETA: 1s - loss: 0.2700 - accuracy: 0.87 - ETA: 1s - loss: 0.2716 - accuracy: 0.87 - ETA: 1s - loss: 0.2709 - accuracy: 0.87 - ETA: 1s - loss: 0.2721 - accuracy: 0.87 - ETA: 1s - loss: 0.2696 - accuracy: 0.87 - ETA: 1s - loss: 0.2716 - accuracy: 0.87 - ETA: 1s - loss: 0.2701 - accuracy: 0.87 - ETA: 1s - loss: 0.2695 - accuracy: 0.87 - ETA: 1s - loss: 0.2692 - accuracy: 0.87 - ETA: 1s - loss: 0.2671 - accuracy: 0.87 - ETA: 1s - loss: 0.2687 - accuracy: 0.87 - ETA: 1s - loss: 0.2671 - accuracy: 0.87 - ETA: 1s - loss: 0.2678 - accuracy: 0.87 - ETA: 0s - loss: 0.2691 - accuracy: 0.87 - ETA: 0s - loss: 0.2684 - accuracy: 0.87 - ETA: 0s - loss: 0.2678 - accuracy: 0.87 - ETA: 0s - loss: 0.2721 - accuracy: 0.87 - ETA: 0s - loss: 0.2716 - accuracy: 0.87 - ETA: 0s - loss: 0.2724 - accuracy: 0.87 - ETA: 0s - loss: 0.2714 - accuracy: 0.87 - ETA: 0s - loss: 0.2714 - accuracy: 0.87 - ETA: 0s - loss: 0.2708 - accuracy: 0.87 - ETA: 0s - loss: 0.2712 - accuracy: 0.87 - ETA: 0s - loss: 0.2719 - accuracy: 0.87 - ETA: 0s - loss: 0.2720 - accuracy: 0.87 - ETA: 0s - loss: 0.2717 - accuracy: 0.87 - 4s 330us/step - loss: 0.2718 - accuracy: 0.8782 - val_loss: 0.2651 - val_accuracy: 0.8842\n",
      "Epoch 16/20\n"
     ]
    },
    {
     "name": "stdout",
     "output_type": "stream",
     "text": [
      "12107/12107 [==============================] - ETA: 3s - loss: 0.2399 - accuracy: 0.89 - ETA: 3s - loss: 0.2393 - accuracy: 0.88 - ETA: 3s - loss: 0.2606 - accuracy: 0.88 - ETA: 3s - loss: 0.2565 - accuracy: 0.88 - ETA: 3s - loss: 0.2596 - accuracy: 0.88 - ETA: 3s - loss: 0.2574 - accuracy: 0.87 - ETA: 3s - loss: 0.2602 - accuracy: 0.87 - ETA: 3s - loss: 0.2522 - accuracy: 0.88 - ETA: 3s - loss: 0.2568 - accuracy: 0.88 - ETA: 2s - loss: 0.2660 - accuracy: 0.87 - ETA: 2s - loss: 0.2667 - accuracy: 0.87 - ETA: 2s - loss: 0.2632 - accuracy: 0.88 - ETA: 2s - loss: 0.2586 - accuracy: 0.88 - ETA: 2s - loss: 0.2562 - accuracy: 0.88 - ETA: 2s - loss: 0.2606 - accuracy: 0.88 - ETA: 2s - loss: 0.2581 - accuracy: 0.88 - ETA: 2s - loss: 0.2580 - accuracy: 0.88 - ETA: 2s - loss: 0.2580 - accuracy: 0.88 - ETA: 2s - loss: 0.2570 - accuracy: 0.88 - ETA: 2s - loss: 0.2566 - accuracy: 0.88 - ETA: 2s - loss: 0.2542 - accuracy: 0.88 - ETA: 1s - loss: 0.2540 - accuracy: 0.88 - ETA: 1s - loss: 0.2533 - accuracy: 0.88 - ETA: 1s - loss: 0.2568 - accuracy: 0.88 - ETA: 1s - loss: 0.2557 - accuracy: 0.88 - ETA: 1s - loss: 0.2568 - accuracy: 0.88 - ETA: 1s - loss: 0.2586 - accuracy: 0.88 - ETA: 1s - loss: 0.2574 - accuracy: 0.88 - ETA: 1s - loss: 0.2548 - accuracy: 0.88 - ETA: 1s - loss: 0.2562 - accuracy: 0.88 - ETA: 1s - loss: 0.2574 - accuracy: 0.88 - ETA: 1s - loss: 0.2562 - accuracy: 0.88 - ETA: 1s - loss: 0.2578 - accuracy: 0.88 - ETA: 1s - loss: 0.2586 - accuracy: 0.88 - ETA: 0s - loss: 0.2586 - accuracy: 0.88 - ETA: 0s - loss: 0.2592 - accuracy: 0.88 - ETA: 0s - loss: 0.2601 - accuracy: 0.88 - ETA: 0s - loss: 0.2598 - accuracy: 0.88 - ETA: 0s - loss: 0.2602 - accuracy: 0.88 - ETA: 0s - loss: 0.2619 - accuracy: 0.88 - ETA: 0s - loss: 0.2627 - accuracy: 0.88 - ETA: 0s - loss: 0.2642 - accuracy: 0.88 - ETA: 0s - loss: 0.2652 - accuracy: 0.88 - ETA: 0s - loss: 0.2651 - accuracy: 0.88 - ETA: 0s - loss: 0.2657 - accuracy: 0.88 - ETA: 0s - loss: 0.2658 - accuracy: 0.88 - ETA: 0s - loss: 0.2654 - accuracy: 0.88 - 4s 329us/step - loss: 0.2645 - accuracy: 0.8827 - val_loss: 0.2836 - val_accuracy: 0.8836\n",
      "Epoch 17/20\n",
      "12107/12107 [==============================] - ETA: 3s - loss: 0.3786 - accuracy: 0.85 - ETA: 3s - loss: 0.3415 - accuracy: 0.85 - ETA: 3s - loss: 0.2827 - accuracy: 0.88 - ETA: 3s - loss: 0.2873 - accuracy: 0.87 - ETA: 3s - loss: 0.2779 - accuracy: 0.88 - ETA: 3s - loss: 0.2719 - accuracy: 0.88 - ETA: 3s - loss: 0.2729 - accuracy: 0.88 - ETA: 3s - loss: 0.2653 - accuracy: 0.88 - ETA: 2s - loss: 0.2692 - accuracy: 0.88 - ETA: 2s - loss: 0.2700 - accuracy: 0.88 - ETA: 2s - loss: 0.2632 - accuracy: 0.89 - ETA: 2s - loss: 0.2635 - accuracy: 0.89 - ETA: 2s - loss: 0.2614 - accuracy: 0.89 - ETA: 2s - loss: 0.2610 - accuracy: 0.89 - ETA: 2s - loss: 0.2604 - accuracy: 0.89 - ETA: 2s - loss: 0.2640 - accuracy: 0.88 - ETA: 2s - loss: 0.2620 - accuracy: 0.89 - ETA: 2s - loss: 0.2598 - accuracy: 0.89 - ETA: 2s - loss: 0.2582 - accuracy: 0.89 - ETA: 2s - loss: 0.2596 - accuracy: 0.89 - ETA: 2s - loss: 0.2574 - accuracy: 0.89 - ETA: 1s - loss: 0.2562 - accuracy: 0.89 - ETA: 1s - loss: 0.2575 - accuracy: 0.88 - ETA: 1s - loss: 0.2580 - accuracy: 0.88 - ETA: 1s - loss: 0.2609 - accuracy: 0.88 - ETA: 1s - loss: 0.2626 - accuracy: 0.88 - ETA: 1s - loss: 0.2614 - accuracy: 0.88 - ETA: 1s - loss: 0.2618 - accuracy: 0.88 - ETA: 1s - loss: 0.2624 - accuracy: 0.88 - ETA: 1s - loss: 0.2637 - accuracy: 0.88 - ETA: 1s - loss: 0.2629 - accuracy: 0.88 - ETA: 1s - loss: 0.2618 - accuracy: 0.88 - ETA: 1s - loss: 0.2613 - accuracy: 0.88 - ETA: 1s - loss: 0.2597 - accuracy: 0.88 - ETA: 0s - loss: 0.2617 - accuracy: 0.88 - ETA: 0s - loss: 0.2620 - accuracy: 0.88 - ETA: 0s - loss: 0.2621 - accuracy: 0.88 - ETA: 0s - loss: 0.2600 - accuracy: 0.88 - ETA: 0s - loss: 0.2603 - accuracy: 0.88 - ETA: 0s - loss: 0.2613 - accuracy: 0.88 - ETA: 0s - loss: 0.2633 - accuracy: 0.88 - ETA: 0s - loss: 0.2632 - accuracy: 0.88 - ETA: 0s - loss: 0.2643 - accuracy: 0.88 - ETA: 0s - loss: 0.2642 - accuracy: 0.88 - ETA: 0s - loss: 0.2632 - accuracy: 0.88 - ETA: 0s - loss: 0.2640 - accuracy: 0.88 - ETA: 0s - loss: 0.2637 - accuracy: 0.88 - 4s 326us/step - loss: 0.2639 - accuracy: 0.8859 - val_loss: 0.2667 - val_accuracy: 0.8899\n",
      "Epoch 18/20\n",
      "12107/12107 [==============================] - ETA: 3s - loss: 0.2011 - accuracy: 0.92 - ETA: 3s - loss: 0.2568 - accuracy: 0.89 - ETA: 3s - loss: 0.2610 - accuracy: 0.88 - ETA: 3s - loss: 0.2456 - accuracy: 0.88 - ETA: 3s - loss: 0.2378 - accuracy: 0.89 - ETA: 3s - loss: 0.2398 - accuracy: 0.89 - ETA: 3s - loss: 0.2351 - accuracy: 0.89 - ETA: 2s - loss: 0.2408 - accuracy: 0.89 - ETA: 2s - loss: 0.2386 - accuracy: 0.89 - ETA: 2s - loss: 0.2416 - accuracy: 0.89 - ETA: 2s - loss: 0.2450 - accuracy: 0.89 - ETA: 2s - loss: 0.2480 - accuracy: 0.89 - ETA: 2s - loss: 0.2477 - accuracy: 0.89 - ETA: 2s - loss: 0.2504 - accuracy: 0.89 - ETA: 2s - loss: 0.2526 - accuracy: 0.89 - ETA: 2s - loss: 0.2477 - accuracy: 0.89 - ETA: 2s - loss: 0.2502 - accuracy: 0.89 - ETA: 2s - loss: 0.2483 - accuracy: 0.89 - ETA: 2s - loss: 0.2486 - accuracy: 0.89 - ETA: 2s - loss: 0.2529 - accuracy: 0.89 - ETA: 2s - loss: 0.2539 - accuracy: 0.89 - ETA: 2s - loss: 0.2591 - accuracy: 0.89 - ETA: 1s - loss: 0.2599 - accuracy: 0.89 - ETA: 1s - loss: 0.2584 - accuracy: 0.89 - ETA: 1s - loss: 0.2582 - accuracy: 0.89 - ETA: 1s - loss: 0.2585 - accuracy: 0.89 - ETA: 1s - loss: 0.2590 - accuracy: 0.89 - ETA: 1s - loss: 0.2578 - accuracy: 0.89 - ETA: 1s - loss: 0.2579 - accuracy: 0.89 - ETA: 1s - loss: 0.2589 - accuracy: 0.89 - ETA: 1s - loss: 0.2598 - accuracy: 0.88 - ETA: 1s - loss: 0.2590 - accuracy: 0.88 - ETA: 1s - loss: 0.2593 - accuracy: 0.88 - ETA: 1s - loss: 0.2573 - accuracy: 0.89 - ETA: 1s - loss: 0.2573 - accuracy: 0.88 - ETA: 0s - loss: 0.2585 - accuracy: 0.88 - ETA: 0s - loss: 0.2591 - accuracy: 0.88 - ETA: 0s - loss: 0.2596 - accuracy: 0.88 - ETA: 0s - loss: 0.2584 - accuracy: 0.88 - ETA: 0s - loss: 0.2572 - accuracy: 0.88 - ETA: 0s - loss: 0.2593 - accuracy: 0.88 - ETA: 0s - loss: 0.2581 - accuracy: 0.88 - ETA: 0s - loss: 0.2576 - accuracy: 0.88 - ETA: 0s - loss: 0.2574 - accuracy: 0.88 - ETA: 0s - loss: 0.2583 - accuracy: 0.88 - ETA: 0s - loss: 0.2585 - accuracy: 0.88 - ETA: 0s - loss: 0.2583 - accuracy: 0.88 - ETA: 0s - loss: 0.2585 - accuracy: 0.88 - 4s 327us/step - loss: 0.2585 - accuracy: 0.8873 - val_loss: 0.2561 - val_accuracy: 0.9044\n",
      "Epoch 19/20\n"
     ]
    },
    {
     "name": "stdout",
     "output_type": "stream",
     "text": [
      "12107/12107 [==============================] - ETA: 3s - loss: 0.2796 - accuracy: 0.90 - ETA: 3s - loss: 0.2822 - accuracy: 0.89 - ETA: 3s - loss: 0.2577 - accuracy: 0.90 - ETA: 3s - loss: 0.2565 - accuracy: 0.90 - ETA: 3s - loss: 0.2474 - accuracy: 0.90 - ETA: 3s - loss: 0.2540 - accuracy: 0.89 - ETA: 3s - loss: 0.2587 - accuracy: 0.89 - ETA: 3s - loss: 0.2629 - accuracy: 0.88 - ETA: 2s - loss: 0.2550 - accuracy: 0.89 - ETA: 2s - loss: 0.2550 - accuracy: 0.88 - ETA: 2s - loss: 0.2590 - accuracy: 0.88 - ETA: 2s - loss: 0.2592 - accuracy: 0.88 - ETA: 2s - loss: 0.2611 - accuracy: 0.88 - ETA: 2s - loss: 0.2574 - accuracy: 0.88 - ETA: 2s - loss: 0.2623 - accuracy: 0.88 - ETA: 2s - loss: 0.2637 - accuracy: 0.88 - ETA: 2s - loss: 0.2619 - accuracy: 0.88 - ETA: 2s - loss: 0.2637 - accuracy: 0.88 - ETA: 2s - loss: 0.2659 - accuracy: 0.88 - ETA: 2s - loss: 0.2649 - accuracy: 0.88 - ETA: 2s - loss: 0.2635 - accuracy: 0.88 - ETA: 1s - loss: 0.2612 - accuracy: 0.88 - ETA: 1s - loss: 0.2610 - accuracy: 0.88 - ETA: 1s - loss: 0.2605 - accuracy: 0.88 - ETA: 1s - loss: 0.2597 - accuracy: 0.88 - ETA: 1s - loss: 0.2598 - accuracy: 0.88 - ETA: 1s - loss: 0.2607 - accuracy: 0.88 - ETA: 1s - loss: 0.2621 - accuracy: 0.88 - ETA: 1s - loss: 0.2615 - accuracy: 0.88 - ETA: 1s - loss: 0.2609 - accuracy: 0.88 - ETA: 1s - loss: 0.2625 - accuracy: 0.88 - ETA: 1s - loss: 0.2618 - accuracy: 0.88 - ETA: 1s - loss: 0.2604 - accuracy: 0.88 - ETA: 1s - loss: 0.2597 - accuracy: 0.88 - ETA: 1s - loss: 0.2592 - accuracy: 0.88 - ETA: 1s - loss: 0.2591 - accuracy: 0.88 - ETA: 0s - loss: 0.2599 - accuracy: 0.88 - ETA: 0s - loss: 0.2592 - accuracy: 0.88 - ETA: 0s - loss: 0.2584 - accuracy: 0.88 - ETA: 0s - loss: 0.2591 - accuracy: 0.88 - ETA: 0s - loss: 0.2577 - accuracy: 0.88 - ETA: 0s - loss: 0.2587 - accuracy: 0.88 - ETA: 0s - loss: 0.2589 - accuracy: 0.88 - ETA: 0s - loss: 0.2593 - accuracy: 0.88 - ETA: 0s - loss: 0.2585 - accuracy: 0.88 - ETA: 0s - loss: 0.2568 - accuracy: 0.88 - ETA: 0s - loss: 0.2566 - accuracy: 0.88 - ETA: 0s - loss: 0.2578 - accuracy: 0.88 - 4s 330us/step - loss: 0.2601 - accuracy: 0.8867 - val_loss: 0.2426 - val_accuracy: 0.9023\n",
      "Epoch 20/20\n",
      "12107/12107 [==============================] - ETA: 3s - loss: 0.2663 - accuracy: 0.88 - ETA: 3s - loss: 0.2238 - accuracy: 0.89 - ETA: 3s - loss: 0.2408 - accuracy: 0.90 - ETA: 3s - loss: 0.2302 - accuracy: 0.90 - ETA: 3s - loss: 0.2371 - accuracy: 0.90 - ETA: 3s - loss: 0.2496 - accuracy: 0.89 - ETA: 3s - loss: 0.2518 - accuracy: 0.89 - ETA: 3s - loss: 0.2483 - accuracy: 0.89 - ETA: 2s - loss: 0.2519 - accuracy: 0.89 - ETA: 2s - loss: 0.2501 - accuracy: 0.89 - ETA: 2s - loss: 0.2488 - accuracy: 0.89 - ETA: 2s - loss: 0.2513 - accuracy: 0.89 - ETA: 2s - loss: 0.2541 - accuracy: 0.89 - ETA: 2s - loss: 0.2572 - accuracy: 0.89 - ETA: 2s - loss: 0.2564 - accuracy: 0.88 - ETA: 2s - loss: 0.2541 - accuracy: 0.88 - ETA: 2s - loss: 0.2553 - accuracy: 0.89 - ETA: 2s - loss: 0.2563 - accuracy: 0.88 - ETA: 2s - loss: 0.2534 - accuracy: 0.89 - ETA: 2s - loss: 0.2514 - accuracy: 0.89 - ETA: 2s - loss: 0.2478 - accuracy: 0.89 - ETA: 1s - loss: 0.2493 - accuracy: 0.89 - ETA: 1s - loss: 0.2482 - accuracy: 0.89 - ETA: 1s - loss: 0.2486 - accuracy: 0.89 - ETA: 1s - loss: 0.2494 - accuracy: 0.89 - ETA: 1s - loss: 0.2490 - accuracy: 0.89 - ETA: 1s - loss: 0.2511 - accuracy: 0.89 - ETA: 1s - loss: 0.2513 - accuracy: 0.89 - ETA: 1s - loss: 0.2519 - accuracy: 0.89 - ETA: 1s - loss: 0.2524 - accuracy: 0.89 - ETA: 1s - loss: 0.2534 - accuracy: 0.89 - ETA: 1s - loss: 0.2519 - accuracy: 0.89 - ETA: 1s - loss: 0.2517 - accuracy: 0.89 - ETA: 1s - loss: 0.2518 - accuracy: 0.89 - ETA: 0s - loss: 0.2515 - accuracy: 0.89 - ETA: 0s - loss: 0.2516 - accuracy: 0.89 - ETA: 0s - loss: 0.2513 - accuracy: 0.89 - ETA: 0s - loss: 0.2504 - accuracy: 0.89 - ETA: 0s - loss: 0.2512 - accuracy: 0.89 - ETA: 0s - loss: 0.2510 - accuracy: 0.89 - ETA: 0s - loss: 0.2500 - accuracy: 0.89 - ETA: 0s - loss: 0.2503 - accuracy: 0.89 - ETA: 0s - loss: 0.2547 - accuracy: 0.89 - ETA: 0s - loss: 0.2541 - accuracy: 0.89 - ETA: 0s - loss: 0.2537 - accuracy: 0.89 - ETA: 0s - loss: 0.2532 - accuracy: 0.89 - ETA: 0s - loss: 0.2527 - accuracy: 0.89 - 4s 325us/step - loss: 0.2523 - accuracy: 0.8929 - val_loss: 0.2612 - val_accuracy: 0.8820\n"
     ]
    }
   ],
   "source": [
    "model.compile(loss='categorical_crossentropy', optimizer= RMSprop(), metrics=['accuracy'])\n",
    "history_MFCCs.append(model.fit(x_train_pca, y_train, batch_size=batch_size, epochs=epochs, verbose=1, validation_data=(x_test_pca, y_test) ))"
   ]
  },
  {
   "cell_type": "code",
   "execution_count": 142,
   "metadata": {},
   "outputs": [
    {
     "data": {
      "image/png": "[encoded data removed]",
      "text/plain": [
       "<Figure size 432x288 with 1 Axes>"
      ]
     },
     "metadata": {
      "needs_background": "light"
     },
     "output_type": "display_data"
    },
    {
     "data": {
      "image/png": "[encoded data removed]",
      "text/plain": [
       "<Figure size 432x288 with 1 Axes>"
      ]
     },
     "metadata": {
      "needs_background": "light"
     },
     "output_type": "display_data"
    }
   ],
   "source": [
    "plt.title('Accuracies vs Epochs ')\n",
    "plt.plot(history_MFCCs[0].history['accuracy'], label='Training Accuracy pca  ')\n",
    "plt.legend()\n",
    "plt.show()\n",
    "plt.title('Train Accuracy vs Val Accuracy')\n",
    "plt.plot(history_MFCCs[0].history['accuracy'], label='Train Accuracy')\n",
    "plt.plot(history_MFCCs[0].history['val_accuracy'], label='Val Accuracy', linestyle = \"dashdot\")\n",
    "\n",
    "plt.legend()\n",
    "plt.show()"
   ]
  },
  {
   "cell_type": "markdown",
   "metadata": {},
   "source": [
    "# MFCC+DNN_LDA:"
   ]
  },
  {
   "cell_type": "code",
   "execution_count": 143,
   "metadata": {},
   "outputs": [
    {
     "name": "stdout",
     "output_type": "stream",
     "text": [
      "[2020-07-20 16:27:40 RAM73.6% 0.65GB] 6053 6054 5188 6053 6054 5188\n",
      "[2020-07-20 16:27:41 RAM75.1% 0.79GB] (12107, 20, 44) (5188, 20, 44) (12107,) (5188,)\n"
     ]
    }
   ],
   "source": [
    "x_test,y_test,labels_test, x_train,y_train,labels_train,  x_valid,y_valid,labels_valid, val_test, val_train, val_valid= get_list_samples_name_benetos( 'b', path_save_audio_MFCCs,sample_ids_test, sample_ids_val, sample_ids_train )\n",
    "print(len(x_train), len(x_valid), len(x_test) , len(y_train), len(y_valid), len(y_test))\n",
    "\n",
    "x_train= np.array(x_train)\n",
    "x_valid= np.array(x_valid)\n",
    "x_test= np.array(x_test)\n",
    "y_test=np.array(y_test)\n",
    "y_train=np.array(y_train)\n",
    "y_valid=np.array(y_valid)\n",
    "\n",
    "X_train= np.concatenate((x_train, x_valid))\n",
    "Y_train= np.concatenate((y_train, y_valid))\n",
    "\n",
    "print(X_train.shape, x_test.shape, Y_train.shape, y_test.shape )\n"
   ]
  },
  {
   "cell_type": "code",
   "execution_count": 144,
   "metadata": {},
   "outputs": [
    {
     "name": "stdout",
     "output_type": "stream",
     "text": [
      "[2020-07-20 16:27:41 RAM73.8% 0.68GB] (12107, 880) (5188, 880) (12107,) (5188,)\n",
      "[2020-07-20 16:27:46 RAM74.2% 0.68GB] (12107, 1) (5188, 1)\n",
      "[2020-07-20 16:27:46 RAM74.2% 0.68GB] (12107, 2) (5188, 2)\n"
     ]
    }
   ],
   "source": [
    "from keras.utils import np_utils\n",
    "#from sklearn.preprocessing import StandardScaler\n",
    "\n",
    "X_train_flat=X_train.reshape(-1, 880)\n",
    "x_test_flat= x_test.reshape(-1, 880)\n",
    "print(X_train_flat.shape, x_test_flat.shape, Y_train.shape, y_test.shape )\n",
    "\n",
    "\n",
    "sc = StandardScaler()\n",
    "X_train = sc.fit_transform(X_train_flat)\n",
    "X_test = sc.transform(x_test_flat)\n",
    "\n",
    "\n",
    "\n",
    "lda = LDA(n_components=1)\n",
    "X_train = lda.fit_transform(X_train, Y_train)\n",
    "X_test = lda.transform(X_test)\n",
    "\n",
    "print(X_train.shape, X_test.shape)\n",
    "y_train = np_utils.to_categorical(Y_train)\n",
    "y_test = np_utils.to_categorical(y_test)\n",
    "print(y_train.shape, y_test.shape)"
   ]
  },
  {
   "cell_type": "code",
   "execution_count": 145,
   "metadata": {},
   "outputs": [
    {
     "name": "stdout",
     "output_type": "stream",
     "text": [
      "Model: \"sequential_7\"\n",
      "_________________________________________________________________\n",
      "Layer (type)                 Output Shape              Param #   \n",
      "=================================================================\n",
      "dense_31 (Dense)             (None, 1024)              2048      \n",
      "_________________________________________________________________\n",
      "dense_32 (Dense)             (None, 1024)              1049600   \n",
      "_________________________________________________________________\n",
      "dense_33 (Dense)             (None, 512)               524800    \n",
      "_________________________________________________________________\n",
      "dense_34 (Dense)             (None, 256)               131328    \n",
      "_________________________________________________________________\n",
      "dense_35 (Dense)             (None, 2)                 514       \n",
      "=================================================================\n",
      "Total params: 1,708,290\n",
      "Trainable params: 1,708,290\n",
      "Non-trainable params: 0\n",
      "_________________________________________________________________\n"
     ]
    }
   ],
   "source": [
    "batch_size=128\n",
    "num_classes=2\n",
    "epochs=20\n",
    "\n",
    "model=Sequential()\n",
    "model.add(Dense(1024, activation='relu', input_shape=(1, )))\n",
    "model.add(Dense(1024, activation='relu'))\n",
    "model.add(Dense(512, activation='relu'))\n",
    "model.add(Dense(256, activation='relu'))\n",
    "model.add(Dense(num_classes, activation='softmax'))\n",
    "model.summary()"
   ]
  },
  {
   "cell_type": "code",
   "execution_count": 146,
   "metadata": {},
   "outputs": [
    {
     "name": "stdout",
     "output_type": "stream",
     "text": [
      "Train on 12107 samples, validate on 5188 samples\n",
      "Epoch 1/20\n",
      "12107/12107 [==============================] - ETA: 13s - loss: 0.6906 - accuracy: 0.531 - ETA: 6s - loss: 0.4150 - accuracy: 0.794 - ETA: 5s - loss: 0.3683 - accuracy: 0.83 - ETA: 4s - loss: 0.3347 - accuracy: 0.85 - ETA: 4s - loss: 0.3028 - accuracy: 0.87 - ETA: 4s - loss: 0.2835 - accuracy: 0.88 - ETA: 3s - loss: 0.2676 - accuracy: 0.89 - ETA: 3s - loss: 0.2653 - accuracy: 0.89 - ETA: 3s - loss: 0.2601 - accuracy: 0.89 - ETA: 3s - loss: 0.2571 - accuracy: 0.89 - ETA: 3s - loss: 0.2532 - accuracy: 0.90 - ETA: 3s - loss: 0.2516 - accuracy: 0.90 - ETA: 3s - loss: 0.2502 - accuracy: 0.90 - ETA: 3s - loss: 0.2474 - accuracy: 0.90 - ETA: 2s - loss: 0.2436 - accuracy: 0.90 - ETA: 2s - loss: 0.2415 - accuracy: 0.90 - ETA: 2s - loss: 0.2421 - accuracy: 0.90 - ETA: 2s - loss: 0.2394 - accuracy: 0.90 - ETA: 2s - loss: 0.2405 - accuracy: 0.90 - ETA: 2s - loss: 0.2404 - accuracy: 0.90 - ETA: 2s - loss: 0.2407 - accuracy: 0.90 - ETA: 2s - loss: 0.2390 - accuracy: 0.90 - ETA: 2s - loss: 0.2375 - accuracy: 0.90 - ETA: 2s - loss: 0.2419 - accuracy: 0.90 - ETA: 2s - loss: 0.2416 - accuracy: 0.90 - ETA: 2s - loss: 0.2401 - accuracy: 0.90 - ETA: 2s - loss: 0.2397 - accuracy: 0.90 - ETA: 2s - loss: 0.2389 - accuracy: 0.90 - ETA: 2s - loss: 0.2401 - accuracy: 0.90 - ETA: 2s - loss: 0.2415 - accuracy: 0.90 - ETA: 2s - loss: 0.2413 - accuracy: 0.90 - ETA: 2s - loss: 0.2401 - accuracy: 0.90 - ETA: 2s - loss: 0.2408 - accuracy: 0.90 - ETA: 2s - loss: 0.2412 - accuracy: 0.90 - ETA: 2s - loss: 0.2406 - accuracy: 0.90 - ETA: 1s - loss: 0.2412 - accuracy: 0.90 - ETA: 1s - loss: 0.2407 - accuracy: 0.90 - ETA: 1s - loss: 0.2419 - accuracy: 0.90 - ETA: 1s - loss: 0.2401 - accuracy: 0.90 - ETA: 1s - loss: 0.2385 - accuracy: 0.90 - ETA: 1s - loss: 0.2387 - accuracy: 0.90 - ETA: 1s - loss: 0.2378 - accuracy: 0.90 - ETA: 1s - loss: 0.2358 - accuracy: 0.90 - ETA: 1s - loss: 0.2350 - accuracy: 0.90 - ETA: 1s - loss: 0.2345 - accuracy: 0.90 - ETA: 0s - loss: 0.2363 - accuracy: 0.90 - ETA: 0s - loss: 0.2361 - accuracy: 0.90 - ETA: 0s - loss: 0.2343 - accuracy: 0.90 - ETA: 0s - loss: 0.2344 - accuracy: 0.90 - ETA: 0s - loss: 0.2337 - accuracy: 0.90 - ETA: 0s - loss: 0.2336 - accuracy: 0.90 - ETA: 0s - loss: 0.2329 - accuracy: 0.90 - ETA: 0s - loss: 0.2331 - accuracy: 0.90 - ETA: 0s - loss: 0.2331 - accuracy: 0.90 - ETA: 0s - loss: 0.2328 - accuracy: 0.90 - ETA: 0s - loss: 0.2323 - accuracy: 0.90 - ETA: 0s - loss: 0.2315 - accuracy: 0.90 - ETA: 0s - loss: 0.2312 - accuracy: 0.90 - ETA: 0s - loss: 0.2313 - accuracy: 0.90 - ETA: 0s - loss: 0.2300 - accuracy: 0.90 - 5s 402us/step - loss: 0.2298 - accuracy: 0.9100 - val_loss: 0.2729 - val_accuracy: 0.8973\n",
      "Epoch 2/20\n",
      "12107/12107 [==============================] - ETA: 4s - loss: 0.1285 - accuracy: 0.95 - ETA: 4s - loss: 0.1875 - accuracy: 0.93 - ETA: 3s - loss: 0.1868 - accuracy: 0.93 - ETA: 3s - loss: 0.1880 - accuracy: 0.93 - ETA: 3s - loss: 0.1966 - accuracy: 0.92 - ETA: 3s - loss: 0.1938 - accuracy: 0.92 - ETA: 3s - loss: 0.1917 - accuracy: 0.92 - ETA: 3s - loss: 0.1892 - accuracy: 0.92 - ETA: 3s - loss: 0.1888 - accuracy: 0.93 - ETA: 3s - loss: 0.1907 - accuracy: 0.92 - ETA: 3s - loss: 0.1924 - accuracy: 0.92 - ETA: 3s - loss: 0.1949 - accuracy: 0.92 - ETA: 3s - loss: 0.1991 - accuracy: 0.92 - ETA: 2s - loss: 0.2032 - accuracy: 0.92 - ETA: 2s - loss: 0.2002 - accuracy: 0.92 - ETA: 2s - loss: 0.2021 - accuracy: 0.92 - ETA: 2s - loss: 0.2029 - accuracy: 0.92 - ETA: 2s - loss: 0.2015 - accuracy: 0.92 - ETA: 2s - loss: 0.1998 - accuracy: 0.92 - ETA: 2s - loss: 0.2005 - accuracy: 0.92 - ETA: 2s - loss: 0.2067 - accuracy: 0.92 - ETA: 2s - loss: 0.2063 - accuracy: 0.92 - ETA: 2s - loss: 0.2036 - accuracy: 0.92 - ETA: 2s - loss: 0.2064 - accuracy: 0.92 - ETA: 2s - loss: 0.2060 - accuracy: 0.92 - ETA: 2s - loss: 0.2057 - accuracy: 0.92 - ETA: 2s - loss: 0.2060 - accuracy: 0.92 - ETA: 2s - loss: 0.2054 - accuracy: 0.92 - ETA: 2s - loss: 0.2059 - accuracy: 0.92 - ETA: 2s - loss: 0.2056 - accuracy: 0.92 - ETA: 2s - loss: 0.2089 - accuracy: 0.92 - ETA: 2s - loss: 0.2096 - accuracy: 0.92 - ETA: 2s - loss: 0.2092 - accuracy: 0.92 - ETA: 1s - loss: 0.2097 - accuracy: 0.92 - ETA: 1s - loss: 0.2099 - accuracy: 0.92 - ETA: 1s - loss: 0.2099 - accuracy: 0.92 - ETA: 1s - loss: 0.2091 - accuracy: 0.92 - ETA: 1s - loss: 0.2086 - accuracy: 0.92 - ETA: 1s - loss: 0.2080 - accuracy: 0.92 - ETA: 1s - loss: 0.2082 - accuracy: 0.92 - ETA: 1s - loss: 0.2092 - accuracy: 0.92 - ETA: 1s - loss: 0.2108 - accuracy: 0.91 - ETA: 1s - loss: 0.2109 - accuracy: 0.91 - ETA: 1s - loss: 0.2121 - accuracy: 0.91 - ETA: 1s - loss: 0.2128 - accuracy: 0.91 - ETA: 1s - loss: 0.2147 - accuracy: 0.91 - ETA: 1s - loss: 0.2150 - accuracy: 0.91 - ETA: 0s - loss: 0.2161 - accuracy: 0.91 - ETA: 0s - loss: 0.2175 - accuracy: 0.91 - ETA: 0s - loss: 0.2172 - accuracy: 0.91 - ETA: 0s - loss: 0.2173 - accuracy: 0.91 - ETA: 0s - loss: 0.2179 - accuracy: 0.91 - ETA: 0s - loss: 0.2168 - accuracy: 0.91 - ETA: 0s - loss: 0.2172 - accuracy: 0.91 - ETA: 0s - loss: 0.2170 - accuracy: 0.91 - ETA: 0s - loss: 0.2183 - accuracy: 0.91 - ETA: 0s - loss: 0.2191 - accuracy: 0.91 - ETA: 0s - loss: 0.2186 - accuracy: 0.91 - ETA: 0s - loss: 0.2192 - accuracy: 0.91 - ETA: 0s - loss: 0.2202 - accuracy: 0.91 - 5s 399us/step - loss: 0.2206 - accuracy: 0.9150 - val_loss: 0.2662 - val_accuracy: 0.8973\n",
      "Epoch 3/20\n",
      "12107/12107 [==============================] - ETA: 3s - loss: 0.1967 - accuracy: 0.93 - ETA: 3s - loss: 0.1727 - accuracy: 0.93 - ETA: 3s - loss: 0.1886 - accuracy: 0.92 - ETA: 4s - loss: 0.1862 - accuracy: 0.92 - ETA: 4s - loss: 0.1766 - accuracy: 0.93 - ETA: 4s - loss: 0.1870 - accuracy: 0.92 - ETA: 4s - loss: 0.1835 - accuracy: 0.93 - ETA: 3s - loss: 0.1929 - accuracy: 0.92 - ETA: 3s - loss: 0.1980 - accuracy: 0.92 - ETA: 3s - loss: 0.2045 - accuracy: 0.91 - ETA: 3s - loss: 0.2076 - accuracy: 0.92 - ETA: 3s - loss: 0.2058 - accuracy: 0.92 - ETA: 3s - loss: 0.2085 - accuracy: 0.92 - ETA: 3s - loss: 0.2100 - accuracy: 0.91 - ETA: 3s - loss: 0.2134 - accuracy: 0.91 - ETA: 3s - loss: 0.2143 - accuracy: 0.91 - ETA: 3s - loss: 0.2156 - accuracy: 0.91 - ETA: 3s - loss: 0.2172 - accuracy: 0.91 - ETA: 3s - loss: 0.2171 - accuracy: 0.91 - ETA: 3s - loss: 0.2181 - accuracy: 0.91 - ETA: 3s - loss: 0.2198 - accuracy: 0.91 - ETA: 3s - loss: 0.2197 - accuracy: 0.91 - ETA: 2s - loss: 0.2204 - accuracy: 0.91 - ETA: 2s - loss: 0.2206 - accuracy: 0.91 - ETA: 2s - loss: 0.2168 - accuracy: 0.91 - ETA: 2s - loss: 0.2180 - accuracy: 0.91 - ETA: 2s - loss: 0.2161 - accuracy: 0.91 - ETA: 2s - loss: 0.2162 - accuracy: 0.91 - ETA: 2s - loss: 0.2154 - accuracy: 0.91 - ETA: 2s - loss: 0.2146 - accuracy: 0.91 - ETA: 2s - loss: 0.2140 - accuracy: 0.91 - ETA: 2s - loss: 0.2125 - accuracy: 0.91 - ETA: 1s - loss: 0.2129 - accuracy: 0.91 - ETA: 1s - loss: 0.2104 - accuracy: 0.91 - ETA: 1s - loss: 0.2139 - accuracy: 0.91 - ETA: 1s - loss: 0.2141 - accuracy: 0.91 - ETA: 1s - loss: 0.2143 - accuracy: 0.91 - ETA: 1s - loss: 0.2145 - accuracy: 0.91 - ETA: 1s - loss: 0.2143 - accuracy: 0.91 - ETA: 1s - loss: 0.2162 - accuracy: 0.91 - ETA: 1s - loss: 0.2164 - accuracy: 0.91 - ETA: 1s - loss: 0.2164 - accuracy: 0.91 - ETA: 1s - loss: 0.2159 - accuracy: 0.91 - ETA: 1s - loss: 0.2153 - accuracy: 0.91 - ETA: 1s - loss: 0.2144 - accuracy: 0.91 - ETA: 1s - loss: 0.2151 - accuracy: 0.91 - ETA: 0s - loss: 0.2152 - accuracy: 0.91 - ETA: 0s - loss: 0.2148 - accuracy: 0.91 - ETA: 0s - loss: 0.2151 - accuracy: 0.91 - ETA: 0s - loss: 0.2173 - accuracy: 0.91 - ETA: 0s - loss: 0.2175 - accuracy: 0.91 - ETA: 0s - loss: 0.2173 - accuracy: 0.91 - ETA: 0s - loss: 0.2166 - accuracy: 0.91 - ETA: 0s - loss: 0.2173 - accuracy: 0.91 - ETA: 0s - loss: 0.2183 - accuracy: 0.91 - ETA: 0s - loss: 0.2177 - accuracy: 0.91 - ETA: 0s - loss: 0.2176 - accuracy: 0.91 - ETA: 0s - loss: 0.2187 - accuracy: 0.91 - ETA: 0s - loss: 0.2187 - accuracy: 0.91 - ETA: 0s - loss: 0.2186 - accuracy: 0.91 - 5s 404us/step - loss: 0.2189 - accuracy: 0.9144 - val_loss: 0.2662 - val_accuracy: 0.8973\n",
      "Epoch 4/20\n"
     ]
    },
    {
     "name": "stdout",
     "output_type": "stream",
     "text": [
      "12107/12107 [==============================] - ETA: 3s - loss: 0.1979 - accuracy: 0.91 - ETA: 4s - loss: 0.2518 - accuracy: 0.89 - ETA: 3s - loss: 0.2484 - accuracy: 0.89 - ETA: 3s - loss: 0.2299 - accuracy: 0.90 - ETA: 3s - loss: 0.2285 - accuracy: 0.90 - ETA: 3s - loss: 0.2246 - accuracy: 0.91 - ETA: 4s - loss: 0.2245 - accuracy: 0.91 - ETA: 4s - loss: 0.2116 - accuracy: 0.92 - ETA: 4s - loss: 0.2099 - accuracy: 0.92 - ETA: 4s - loss: 0.2131 - accuracy: 0.91 - ETA: 3s - loss: 0.2148 - accuracy: 0.91 - ETA: 3s - loss: 0.2160 - accuracy: 0.91 - ETA: 3s - loss: 0.2154 - accuracy: 0.91 - ETA: 3s - loss: 0.2125 - accuracy: 0.91 - ETA: 3s - loss: 0.2102 - accuracy: 0.91 - ETA: 3s - loss: 0.2145 - accuracy: 0.91 - ETA: 3s - loss: 0.2152 - accuracy: 0.91 - ETA: 3s - loss: 0.2132 - accuracy: 0.91 - ETA: 3s - loss: 0.2117 - accuracy: 0.91 - ETA: 3s - loss: 0.2116 - accuracy: 0.91 - ETA: 3s - loss: 0.2140 - accuracy: 0.91 - ETA: 3s - loss: 0.2115 - accuracy: 0.91 - ETA: 3s - loss: 0.2114 - accuracy: 0.91 - ETA: 3s - loss: 0.2113 - accuracy: 0.91 - ETA: 3s - loss: 0.2136 - accuracy: 0.91 - ETA: 3s - loss: 0.2130 - accuracy: 0.91 - ETA: 3s - loss: 0.2139 - accuracy: 0.91 - ETA: 2s - loss: 0.2154 - accuracy: 0.91 - ETA: 2s - loss: 0.2158 - accuracy: 0.91 - ETA: 2s - loss: 0.2158 - accuracy: 0.91 - ETA: 2s - loss: 0.2131 - accuracy: 0.91 - ETA: 2s - loss: 0.2114 - accuracy: 0.91 - ETA: 2s - loss: 0.2120 - accuracy: 0.91 - ETA: 2s - loss: 0.2120 - accuracy: 0.91 - ETA: 2s - loss: 0.2130 - accuracy: 0.91 - ETA: 2s - loss: 0.2128 - accuracy: 0.91 - ETA: 2s - loss: 0.2165 - accuracy: 0.91 - ETA: 2s - loss: 0.2174 - accuracy: 0.91 - ETA: 2s - loss: 0.2168 - accuracy: 0.91 - ETA: 2s - loss: 0.2185 - accuracy: 0.91 - ETA: 2s - loss: 0.2175 - accuracy: 0.91 - ETA: 2s - loss: 0.2165 - accuracy: 0.91 - ETA: 1s - loss: 0.2156 - accuracy: 0.91 - ETA: 1s - loss: 0.2150 - accuracy: 0.91 - ETA: 1s - loss: 0.2143 - accuracy: 0.91 - ETA: 1s - loss: 0.2161 - accuracy: 0.91 - ETA: 1s - loss: 0.2147 - accuracy: 0.91 - ETA: 1s - loss: 0.2146 - accuracy: 0.91 - ETA: 1s - loss: 0.2141 - accuracy: 0.91 - ETA: 1s - loss: 0.2137 - accuracy: 0.91 - ETA: 1s - loss: 0.2135 - accuracy: 0.91 - ETA: 0s - loss: 0.2146 - accuracy: 0.91 - ETA: 0s - loss: 0.2149 - accuracy: 0.91 - ETA: 0s - loss: 0.2164 - accuracy: 0.91 - ETA: 0s - loss: 0.2160 - accuracy: 0.91 - ETA: 0s - loss: 0.2157 - accuracy: 0.91 - ETA: 0s - loss: 0.2164 - accuracy: 0.91 - ETA: 0s - loss: 0.2161 - accuracy: 0.91 - ETA: 0s - loss: 0.2159 - accuracy: 0.91 - ETA: 0s - loss: 0.2159 - accuracy: 0.91 - ETA: 0s - loss: 0.2172 - accuracy: 0.91 - ETA: 0s - loss: 0.2178 - accuracy: 0.91 - 5s 395us/step - loss: 0.2177 - accuracy: 0.9153 - val_loss: 0.2642 - val_accuracy: 0.8926\n",
      "Epoch 5/20\n",
      "12107/12107 [==============================] - ETA: 3s - loss: 0.1927 - accuracy: 0.90 - ETA: 3s - loss: 0.2513 - accuracy: 0.88 - ETA: 3s - loss: 0.2270 - accuracy: 0.89 - ETA: 3s - loss: 0.2153 - accuracy: 0.90 - ETA: 3s - loss: 0.2142 - accuracy: 0.90 - ETA: 3s - loss: 0.2149 - accuracy: 0.90 - ETA: 3s - loss: 0.2178 - accuracy: 0.90 - ETA: 3s - loss: 0.2203 - accuracy: 0.90 - ETA: 3s - loss: 0.2169 - accuracy: 0.91 - ETA: 3s - loss: 0.2114 - accuracy: 0.91 - ETA: 3s - loss: 0.2086 - accuracy: 0.91 - ETA: 3s - loss: 0.2165 - accuracy: 0.91 - ETA: 3s - loss: 0.2125 - accuracy: 0.91 - ETA: 3s - loss: 0.2115 - accuracy: 0.91 - ETA: 3s - loss: 0.2140 - accuracy: 0.91 - ETA: 3s - loss: 0.2128 - accuracy: 0.91 - ETA: 3s - loss: 0.2197 - accuracy: 0.91 - ETA: 3s - loss: 0.2202 - accuracy: 0.91 - ETA: 3s - loss: 0.2191 - accuracy: 0.91 - ETA: 3s - loss: 0.2176 - accuracy: 0.91 - ETA: 3s - loss: 0.2144 - accuracy: 0.91 - ETA: 2s - loss: 0.2128 - accuracy: 0.91 - ETA: 2s - loss: 0.2115 - accuracy: 0.91 - ETA: 2s - loss: 0.2112 - accuracy: 0.91 - ETA: 2s - loss: 0.2112 - accuracy: 0.91 - ETA: 2s - loss: 0.2114 - accuracy: 0.91 - ETA: 2s - loss: 0.2119 - accuracy: 0.91 - ETA: 2s - loss: 0.2115 - accuracy: 0.91 - ETA: 2s - loss: 0.2130 - accuracy: 0.91 - ETA: 2s - loss: 0.2118 - accuracy: 0.91 - ETA: 2s - loss: 0.2148 - accuracy: 0.91 - ETA: 2s - loss: 0.2147 - accuracy: 0.91 - ETA: 2s - loss: 0.2142 - accuracy: 0.91 - ETA: 2s - loss: 0.2148 - accuracy: 0.91 - ETA: 2s - loss: 0.2152 - accuracy: 0.91 - ETA: 2s - loss: 0.2149 - accuracy: 0.91 - ETA: 2s - loss: 0.2159 - accuracy: 0.91 - ETA: 2s - loss: 0.2149 - accuracy: 0.91 - ETA: 2s - loss: 0.2146 - accuracy: 0.91 - ETA: 2s - loss: 0.2147 - accuracy: 0.91 - ETA: 2s - loss: 0.2167 - accuracy: 0.91 - ETA: 2s - loss: 0.2161 - accuracy: 0.91 - ETA: 2s - loss: 0.2161 - accuracy: 0.91 - ETA: 1s - loss: 0.2157 - accuracy: 0.91 - ETA: 1s - loss: 0.2144 - accuracy: 0.91 - ETA: 1s - loss: 0.2154 - accuracy: 0.91 - ETA: 1s - loss: 0.2157 - accuracy: 0.91 - ETA: 1s - loss: 0.2161 - accuracy: 0.91 - ETA: 1s - loss: 0.2158 - accuracy: 0.91 - ETA: 1s - loss: 0.2153 - accuracy: 0.91 - ETA: 1s - loss: 0.2160 - accuracy: 0.91 - ETA: 1s - loss: 0.2156 - accuracy: 0.91 - ETA: 0s - loss: 0.2159 - accuracy: 0.91 - ETA: 0s - loss: 0.2152 - accuracy: 0.91 - ETA: 0s - loss: 0.2166 - accuracy: 0.91 - ETA: 0s - loss: 0.2160 - accuracy: 0.91 - ETA: 0s - loss: 0.2163 - accuracy: 0.91 - ETA: 0s - loss: 0.2160 - accuracy: 0.91 - ETA: 0s - loss: 0.2160 - accuracy: 0.91 - ETA: 0s - loss: 0.2167 - accuracy: 0.91 - ETA: 0s - loss: 0.2178 - accuracy: 0.91 - ETA: 0s - loss: 0.2174 - accuracy: 0.91 - ETA: 0s - loss: 0.2177 - accuracy: 0.91 - 5s 414us/step - loss: 0.2180 - accuracy: 0.9154 - val_loss: 0.2741 - val_accuracy: 0.8967\n",
      "Epoch 6/20\n",
      "12107/12107 [==============================] - ETA: 3s - loss: 0.2517 - accuracy: 0.90 - ETA: 3s - loss: 0.2230 - accuracy: 0.91 - ETA: 4s - loss: 0.2249 - accuracy: 0.91 - ETA: 3s - loss: 0.2250 - accuracy: 0.91 - ETA: 3s - loss: 0.2348 - accuracy: 0.91 - ETA: 3s - loss: 0.2264 - accuracy: 0.91 - ETA: 3s - loss: 0.2211 - accuracy: 0.91 - ETA: 3s - loss: 0.2228 - accuracy: 0.91 - ETA: 3s - loss: 0.2221 - accuracy: 0.91 - ETA: 3s - loss: 0.2200 - accuracy: 0.91 - ETA: 3s - loss: 0.2193 - accuracy: 0.91 - ETA: 2s - loss: 0.2211 - accuracy: 0.91 - ETA: 2s - loss: 0.2169 - accuracy: 0.91 - ETA: 2s - loss: 0.2113 - accuracy: 0.91 - ETA: 2s - loss: 0.2123 - accuracy: 0.91 - ETA: 2s - loss: 0.2126 - accuracy: 0.91 - ETA: 2s - loss: 0.2134 - accuracy: 0.91 - ETA: 2s - loss: 0.2146 - accuracy: 0.91 - ETA: 2s - loss: 0.2107 - accuracy: 0.91 - ETA: 2s - loss: 0.2149 - accuracy: 0.91 - ETA: 2s - loss: 0.2138 - accuracy: 0.91 - ETA: 2s - loss: 0.2135 - accuracy: 0.92 - ETA: 1s - loss: 0.2129 - accuracy: 0.92 - ETA: 1s - loss: 0.2130 - accuracy: 0.92 - ETA: 1s - loss: 0.2141 - accuracy: 0.92 - ETA: 1s - loss: 0.2149 - accuracy: 0.91 - ETA: 1s - loss: 0.2128 - accuracy: 0.92 - ETA: 1s - loss: 0.2124 - accuracy: 0.91 - ETA: 1s - loss: 0.2128 - accuracy: 0.91 - ETA: 1s - loss: 0.2141 - accuracy: 0.91 - ETA: 1s - loss: 0.2136 - accuracy: 0.91 - ETA: 1s - loss: 0.2154 - accuracy: 0.91 - ETA: 1s - loss: 0.2154 - accuracy: 0.91 - ETA: 1s - loss: 0.2152 - accuracy: 0.91 - ETA: 1s - loss: 0.2152 - accuracy: 0.91 - ETA: 0s - loss: 0.2164 - accuracy: 0.91 - ETA: 0s - loss: 0.2174 - accuracy: 0.91 - ETA: 0s - loss: 0.2170 - accuracy: 0.91 - ETA: 0s - loss: 0.2164 - accuracy: 0.91 - ETA: 0s - loss: 0.2175 - accuracy: 0.91 - ETA: 0s - loss: 0.2187 - accuracy: 0.91 - ETA: 0s - loss: 0.2192 - accuracy: 0.91 - ETA: 0s - loss: 0.2197 - accuracy: 0.91 - ETA: 0s - loss: 0.2188 - accuracy: 0.91 - ETA: 0s - loss: 0.2188 - accuracy: 0.91 - ETA: 0s - loss: 0.2180 - accuracy: 0.91 - ETA: 0s - loss: 0.2173 - accuracy: 0.91 - ETA: 0s - loss: 0.2172 - accuracy: 0.91 - 4s 336us/step - loss: 0.2171 - accuracy: 0.9145 - val_loss: 0.2754 - val_accuracy: 0.8967\n",
      "Epoch 7/20\n"
     ]
    },
    {
     "name": "stdout",
     "output_type": "stream",
     "text": [
      "12107/12107 [==============================] - ETA: 3s - loss: 0.2097 - accuracy: 0.93 - ETA: 3s - loss: 0.1868 - accuracy: 0.92 - ETA: 3s - loss: 0.1928 - accuracy: 0.92 - ETA: 3s - loss: 0.2078 - accuracy: 0.92 - ETA: 3s - loss: 0.2092 - accuracy: 0.92 - ETA: 2s - loss: 0.2291 - accuracy: 0.91 - ETA: 2s - loss: 0.2293 - accuracy: 0.90 - ETA: 2s - loss: 0.2276 - accuracy: 0.90 - ETA: 2s - loss: 0.2236 - accuracy: 0.91 - ETA: 2s - loss: 0.2195 - accuracy: 0.91 - ETA: 2s - loss: 0.2190 - accuracy: 0.91 - ETA: 2s - loss: 0.2157 - accuracy: 0.91 - ETA: 2s - loss: 0.2151 - accuracy: 0.91 - ETA: 2s - loss: 0.2198 - accuracy: 0.91 - ETA: 2s - loss: 0.2188 - accuracy: 0.91 - ETA: 2s - loss: 0.2159 - accuracy: 0.91 - ETA: 2s - loss: 0.2184 - accuracy: 0.91 - ETA: 2s - loss: 0.2185 - accuracy: 0.91 - ETA: 2s - loss: 0.2172 - accuracy: 0.91 - ETA: 2s - loss: 0.2155 - accuracy: 0.91 - ETA: 1s - loss: 0.2178 - accuracy: 0.91 - ETA: 1s - loss: 0.2171 - accuracy: 0.91 - ETA: 1s - loss: 0.2170 - accuracy: 0.91 - ETA: 1s - loss: 0.2158 - accuracy: 0.91 - ETA: 1s - loss: 0.2144 - accuracy: 0.91 - ETA: 1s - loss: 0.2156 - accuracy: 0.91 - ETA: 1s - loss: 0.2144 - accuracy: 0.91 - ETA: 1s - loss: 0.2148 - accuracy: 0.91 - ETA: 1s - loss: 0.2162 - accuracy: 0.91 - ETA: 1s - loss: 0.2151 - accuracy: 0.91 - ETA: 1s - loss: 0.2151 - accuracy: 0.91 - ETA: 1s - loss: 0.2162 - accuracy: 0.91 - ETA: 1s - loss: 0.2160 - accuracy: 0.91 - ETA: 1s - loss: 0.2155 - accuracy: 0.91 - ETA: 1s - loss: 0.2168 - accuracy: 0.91 - ETA: 0s - loss: 0.2175 - accuracy: 0.91 - ETA: 0s - loss: 0.2171 - accuracy: 0.91 - ETA: 0s - loss: 0.2175 - accuracy: 0.91 - ETA: 0s - loss: 0.2163 - accuracy: 0.91 - ETA: 0s - loss: 0.2159 - accuracy: 0.91 - ETA: 0s - loss: 0.2166 - accuracy: 0.91 - ETA: 0s - loss: 0.2150 - accuracy: 0.91 - ETA: 0s - loss: 0.2158 - accuracy: 0.91 - ETA: 0s - loss: 0.2158 - accuracy: 0.91 - ETA: 0s - loss: 0.2161 - accuracy: 0.91 - ETA: 0s - loss: 0.2162 - accuracy: 0.91 - ETA: 0s - loss: 0.2157 - accuracy: 0.91 - ETA: 0s - loss: 0.2164 - accuracy: 0.91 - 4s 323us/step - loss: 0.2161 - accuracy: 0.9148 - val_loss: 0.2725 - val_accuracy: 0.8969\n",
      "Epoch 8/20\n",
      "12107/12107 [==============================] - ETA: 2s - loss: 0.2866 - accuracy: 0.87 - ETA: 3s - loss: 0.2167 - accuracy: 0.91 - ETA: 3s - loss: 0.2131 - accuracy: 0.90 - ETA: 3s - loss: 0.2175 - accuracy: 0.90 - ETA: 3s - loss: 0.2268 - accuracy: 0.90 - ETA: 3s - loss: 0.2347 - accuracy: 0.90 - ETA: 3s - loss: 0.2436 - accuracy: 0.90 - ETA: 3s - loss: 0.2388 - accuracy: 0.90 - ETA: 2s - loss: 0.2313 - accuracy: 0.90 - ETA: 2s - loss: 0.2322 - accuracy: 0.90 - ETA: 2s - loss: 0.2284 - accuracy: 0.90 - ETA: 2s - loss: 0.2279 - accuracy: 0.90 - ETA: 2s - loss: 0.2292 - accuracy: 0.90 - ETA: 2s - loss: 0.2306 - accuracy: 0.90 - ETA: 2s - loss: 0.2294 - accuracy: 0.90 - ETA: 2s - loss: 0.2265 - accuracy: 0.90 - ETA: 2s - loss: 0.2294 - accuracy: 0.90 - ETA: 2s - loss: 0.2313 - accuracy: 0.90 - ETA: 2s - loss: 0.2298 - accuracy: 0.90 - ETA: 2s - loss: 0.2288 - accuracy: 0.90 - ETA: 2s - loss: 0.2260 - accuracy: 0.90 - ETA: 1s - loss: 0.2253 - accuracy: 0.90 - ETA: 1s - loss: 0.2239 - accuracy: 0.90 - ETA: 1s - loss: 0.2219 - accuracy: 0.91 - ETA: 1s - loss: 0.2234 - accuracy: 0.90 - ETA: 1s - loss: 0.2232 - accuracy: 0.90 - ETA: 1s - loss: 0.2227 - accuracy: 0.90 - ETA: 1s - loss: 0.2207 - accuracy: 0.91 - ETA: 1s - loss: 0.2212 - accuracy: 0.91 - ETA: 1s - loss: 0.2195 - accuracy: 0.91 - ETA: 1s - loss: 0.2188 - accuracy: 0.91 - ETA: 1s - loss: 0.2188 - accuracy: 0.91 - ETA: 1s - loss: 0.2170 - accuracy: 0.91 - ETA: 1s - loss: 0.2163 - accuracy: 0.91 - ETA: 1s - loss: 0.2181 - accuracy: 0.91 - ETA: 1s - loss: 0.2181 - accuracy: 0.91 - ETA: 0s - loss: 0.2176 - accuracy: 0.91 - ETA: 0s - loss: 0.2173 - accuracy: 0.91 - ETA: 0s - loss: 0.2178 - accuracy: 0.91 - ETA: 0s - loss: 0.2167 - accuracy: 0.91 - ETA: 0s - loss: 0.2174 - accuracy: 0.91 - ETA: 0s - loss: 0.2162 - accuracy: 0.91 - ETA: 0s - loss: 0.2157 - accuracy: 0.91 - ETA: 0s - loss: 0.2156 - accuracy: 0.91 - ETA: 0s - loss: 0.2176 - accuracy: 0.91 - ETA: 0s - loss: 0.2179 - accuracy: 0.91 - ETA: 0s - loss: 0.2182 - accuracy: 0.91 - ETA: 0s - loss: 0.2166 - accuracy: 0.91 - ETA: 0s - loss: 0.2166 - accuracy: 0.91 - 4s 323us/step - loss: 0.2162 - accuracy: 0.9143 - val_loss: 0.2620 - val_accuracy: 0.8975\n",
      "Epoch 9/20\n",
      "12107/12107 [==============================] - ETA: 3s - loss: 0.2703 - accuracy: 0.88 - ETA: 3s - loss: 0.2407 - accuracy: 0.90 - ETA: 3s - loss: 0.2401 - accuracy: 0.90 - ETA: 3s - loss: 0.2414 - accuracy: 0.90 - ETA: 3s - loss: 0.2310 - accuracy: 0.90 - ETA: 3s - loss: 0.2215 - accuracy: 0.91 - ETA: 3s - loss: 0.2127 - accuracy: 0.91 - ETA: 3s - loss: 0.2203 - accuracy: 0.91 - ETA: 2s - loss: 0.2183 - accuracy: 0.91 - ETA: 2s - loss: 0.2228 - accuracy: 0.91 - ETA: 2s - loss: 0.2256 - accuracy: 0.90 - ETA: 2s - loss: 0.2342 - accuracy: 0.90 - ETA: 2s - loss: 0.2356 - accuracy: 0.90 - ETA: 2s - loss: 0.2313 - accuracy: 0.90 - ETA: 2s - loss: 0.2289 - accuracy: 0.90 - ETA: 2s - loss: 0.2267 - accuracy: 0.90 - ETA: 2s - loss: 0.2239 - accuracy: 0.90 - ETA: 2s - loss: 0.2203 - accuracy: 0.91 - ETA: 2s - loss: 0.2186 - accuracy: 0.91 - ETA: 2s - loss: 0.2164 - accuracy: 0.91 - ETA: 2s - loss: 0.2157 - accuracy: 0.91 - ETA: 2s - loss: 0.2183 - accuracy: 0.91 - ETA: 1s - loss: 0.2184 - accuracy: 0.91 - ETA: 1s - loss: 0.2196 - accuracy: 0.91 - ETA: 1s - loss: 0.2202 - accuracy: 0.91 - ETA: 1s - loss: 0.2201 - accuracy: 0.91 - ETA: 1s - loss: 0.2197 - accuracy: 0.91 - ETA: 1s - loss: 0.2183 - accuracy: 0.91 - ETA: 1s - loss: 0.2171 - accuracy: 0.91 - ETA: 1s - loss: 0.2169 - accuracy: 0.91 - ETA: 1s - loss: 0.2160 - accuracy: 0.91 - ETA: 1s - loss: 0.2142 - accuracy: 0.91 - ETA: 1s - loss: 0.2143 - accuracy: 0.91 - ETA: 1s - loss: 0.2140 - accuracy: 0.91 - ETA: 1s - loss: 0.2126 - accuracy: 0.91 - ETA: 1s - loss: 0.2127 - accuracy: 0.91 - ETA: 0s - loss: 0.2137 - accuracy: 0.91 - ETA: 0s - loss: 0.2142 - accuracy: 0.91 - ETA: 0s - loss: 0.2141 - accuracy: 0.91 - ETA: 0s - loss: 0.2147 - accuracy: 0.91 - ETA: 0s - loss: 0.2145 - accuracy: 0.91 - ETA: 0s - loss: 0.2156 - accuracy: 0.91 - ETA: 0s - loss: 0.2150 - accuracy: 0.91 - ETA: 0s - loss: 0.2162 - accuracy: 0.91 - ETA: 0s - loss: 0.2156 - accuracy: 0.91 - ETA: 0s - loss: 0.2160 - accuracy: 0.91 - ETA: 0s - loss: 0.2164 - accuracy: 0.91 - ETA: 0s - loss: 0.2167 - accuracy: 0.91 - ETA: 0s - loss: 0.2168 - accuracy: 0.91 - 4s 327us/step - loss: 0.2161 - accuracy: 0.9143 - val_loss: 0.2712 - val_accuracy: 0.8975\n",
      "Epoch 10/20\n"
     ]
    },
    {
     "name": "stdout",
     "output_type": "stream",
     "text": [
      "12107/12107 [==============================] - ETA: 3s - loss: 0.2003 - accuracy: 0.92 - ETA: 3s - loss: 0.1989 - accuracy: 0.92 - ETA: 3s - loss: 0.1856 - accuracy: 0.92 - ETA: 3s - loss: 0.2014 - accuracy: 0.91 - ETA: 3s - loss: 0.2140 - accuracy: 0.91 - ETA: 3s - loss: 0.2119 - accuracy: 0.91 - ETA: 3s - loss: 0.2092 - accuracy: 0.91 - ETA: 2s - loss: 0.2075 - accuracy: 0.91 - ETA: 2s - loss: 0.2140 - accuracy: 0.91 - ETA: 2s - loss: 0.2154 - accuracy: 0.91 - ETA: 2s - loss: 0.2191 - accuracy: 0.91 - ETA: 2s - loss: 0.2165 - accuracy: 0.91 - ETA: 2s - loss: 0.2170 - accuracy: 0.91 - ETA: 2s - loss: 0.2193 - accuracy: 0.91 - ETA: 2s - loss: 0.2190 - accuracy: 0.91 - ETA: 2s - loss: 0.2131 - accuracy: 0.91 - ETA: 2s - loss: 0.2113 - accuracy: 0.91 - ETA: 2s - loss: 0.2106 - accuracy: 0.91 - ETA: 2s - loss: 0.2102 - accuracy: 0.91 - ETA: 2s - loss: 0.2111 - accuracy: 0.91 - ETA: 2s - loss: 0.2130 - accuracy: 0.91 - ETA: 2s - loss: 0.2130 - accuracy: 0.91 - ETA: 1s - loss: 0.2121 - accuracy: 0.91 - ETA: 1s - loss: 0.2112 - accuracy: 0.91 - ETA: 1s - loss: 0.2114 - accuracy: 0.91 - ETA: 1s - loss: 0.2106 - accuracy: 0.91 - ETA: 1s - loss: 0.2107 - accuracy: 0.91 - ETA: 1s - loss: 0.2100 - accuracy: 0.91 - ETA: 1s - loss: 0.2086 - accuracy: 0.91 - ETA: 1s - loss: 0.2073 - accuracy: 0.91 - ETA: 1s - loss: 0.2083 - accuracy: 0.91 - ETA: 1s - loss: 0.2084 - accuracy: 0.91 - ETA: 1s - loss: 0.2087 - accuracy: 0.91 - ETA: 1s - loss: 0.2075 - accuracy: 0.91 - ETA: 1s - loss: 0.2095 - accuracy: 0.91 - ETA: 1s - loss: 0.2103 - accuracy: 0.91 - ETA: 0s - loss: 0.2112 - accuracy: 0.91 - ETA: 0s - loss: 0.2123 - accuracy: 0.91 - ETA: 0s - loss: 0.2150 - accuracy: 0.91 - ETA: 0s - loss: 0.2149 - accuracy: 0.91 - ETA: 0s - loss: 0.2139 - accuracy: 0.91 - ETA: 0s - loss: 0.2132 - accuracy: 0.91 - ETA: 0s - loss: 0.2142 - accuracy: 0.91 - ETA: 0s - loss: 0.2150 - accuracy: 0.91 - ETA: 0s - loss: 0.2149 - accuracy: 0.91 - ETA: 0s - loss: 0.2145 - accuracy: 0.91 - ETA: 0s - loss: 0.2141 - accuracy: 0.91 - ETA: 0s - loss: 0.2147 - accuracy: 0.91 - ETA: 0s - loss: 0.2150 - accuracy: 0.91 - 4s 338us/step - loss: 0.2159 - accuracy: 0.9140 - val_loss: 0.2631 - val_accuracy: 0.8971\n",
      "Epoch 11/20\n",
      "12107/12107 [==============================] - ETA: 4s - loss: 0.2229 - accuracy: 0.92 - ETA: 4s - loss: 0.2506 - accuracy: 0.89 - ETA: 4s - loss: 0.2193 - accuracy: 0.91 - ETA: 4s - loss: 0.2086 - accuracy: 0.91 - ETA: 4s - loss: 0.2156 - accuracy: 0.91 - ETA: 3s - loss: 0.2118 - accuracy: 0.91 - ETA: 3s - loss: 0.2072 - accuracy: 0.91 - ETA: 3s - loss: 0.2131 - accuracy: 0.91 - ETA: 3s - loss: 0.2096 - accuracy: 0.91 - ETA: 3s - loss: 0.2173 - accuracy: 0.91 - ETA: 3s - loss: 0.2132 - accuracy: 0.91 - ETA: 3s - loss: 0.2115 - accuracy: 0.91 - ETA: 3s - loss: 0.2127 - accuracy: 0.91 - ETA: 2s - loss: 0.2108 - accuracy: 0.91 - ETA: 2s - loss: 0.2091 - accuracy: 0.91 - ETA: 2s - loss: 0.2105 - accuracy: 0.91 - ETA: 2s - loss: 0.2101 - accuracy: 0.91 - ETA: 2s - loss: 0.2090 - accuracy: 0.91 - ETA: 2s - loss: 0.2101 - accuracy: 0.91 - ETA: 2s - loss: 0.2120 - accuracy: 0.91 - ETA: 2s - loss: 0.2127 - accuracy: 0.91 - ETA: 2s - loss: 0.2116 - accuracy: 0.91 - ETA: 2s - loss: 0.2106 - accuracy: 0.91 - ETA: 2s - loss: 0.2125 - accuracy: 0.91 - ETA: 2s - loss: 0.2093 - accuracy: 0.91 - ETA: 1s - loss: 0.2102 - accuracy: 0.91 - ETA: 1s - loss: 0.2101 - accuracy: 0.91 - ETA: 1s - loss: 0.2095 - accuracy: 0.91 - ETA: 1s - loss: 0.2104 - accuracy: 0.91 - ETA: 1s - loss: 0.2099 - accuracy: 0.91 - ETA: 1s - loss: 0.2126 - accuracy: 0.91 - ETA: 1s - loss: 0.2130 - accuracy: 0.91 - ETA: 1s - loss: 0.2137 - accuracy: 0.91 - ETA: 1s - loss: 0.2154 - accuracy: 0.91 - ETA: 1s - loss: 0.2152 - accuracy: 0.91 - ETA: 1s - loss: 0.2143 - accuracy: 0.91 - ETA: 1s - loss: 0.2142 - accuracy: 0.91 - ETA: 0s - loss: 0.2137 - accuracy: 0.91 - ETA: 0s - loss: 0.2134 - accuracy: 0.91 - ETA: 0s - loss: 0.2146 - accuracy: 0.91 - ETA: 0s - loss: 0.2145 - accuracy: 0.91 - ETA: 0s - loss: 0.2149 - accuracy: 0.91 - ETA: 0s - loss: 0.2130 - accuracy: 0.91 - ETA: 0s - loss: 0.2121 - accuracy: 0.91 - ETA: 0s - loss: 0.2132 - accuracy: 0.91 - ETA: 0s - loss: 0.2150 - accuracy: 0.91 - ETA: 0s - loss: 0.2147 - accuracy: 0.91 - ETA: 0s - loss: 0.2162 - accuracy: 0.91 - ETA: 0s - loss: 0.2161 - accuracy: 0.91 - ETA: 0s - loss: 0.2177 - accuracy: 0.91 - ETA: 0s - loss: 0.2171 - accuracy: 0.91 - 4s 345us/step - loss: 0.2165 - accuracy: 0.9162 - val_loss: 0.2801 - val_accuracy: 0.8942\n",
      "Epoch 12/20\n",
      "12107/12107 [==============================] - ETA: 3s - loss: 0.2287 - accuracy: 0.91 - ETA: 3s - loss: 0.1868 - accuracy: 0.92 - ETA: 3s - loss: 0.1849 - accuracy: 0.92 - ETA: 3s - loss: 0.1900 - accuracy: 0.92 - ETA: 3s - loss: 0.1926 - accuracy: 0.92 - ETA: 3s - loss: 0.1977 - accuracy: 0.92 - ETA: 3s - loss: 0.1900 - accuracy: 0.92 - ETA: 3s - loss: 0.1832 - accuracy: 0.93 - ETA: 3s - loss: 0.1848 - accuracy: 0.93 - ETA: 3s - loss: 0.1860 - accuracy: 0.92 - ETA: 3s - loss: 0.1886 - accuracy: 0.92 - ETA: 3s - loss: 0.1968 - accuracy: 0.92 - ETA: 3s - loss: 0.1960 - accuracy: 0.92 - ETA: 3s - loss: 0.1946 - accuracy: 0.92 - ETA: 3s - loss: 0.1932 - accuracy: 0.92 - ETA: 2s - loss: 0.1992 - accuracy: 0.92 - ETA: 2s - loss: 0.1982 - accuracy: 0.92 - ETA: 2s - loss: 0.1997 - accuracy: 0.92 - ETA: 2s - loss: 0.1982 - accuracy: 0.92 - ETA: 2s - loss: 0.1980 - accuracy: 0.92 - ETA: 2s - loss: 0.2007 - accuracy: 0.92 - ETA: 2s - loss: 0.1995 - accuracy: 0.92 - ETA: 2s - loss: 0.1988 - accuracy: 0.92 - ETA: 2s - loss: 0.1984 - accuracy: 0.92 - ETA: 2s - loss: 0.1997 - accuracy: 0.92 - ETA: 2s - loss: 0.2018 - accuracy: 0.92 - ETA: 2s - loss: 0.2021 - accuracy: 0.92 - ETA: 1s - loss: 0.2019 - accuracy: 0.92 - ETA: 1s - loss: 0.2040 - accuracy: 0.92 - ETA: 1s - loss: 0.2062 - accuracy: 0.91 - ETA: 1s - loss: 0.2081 - accuracy: 0.91 - ETA: 1s - loss: 0.2069 - accuracy: 0.91 - ETA: 1s - loss: 0.2076 - accuracy: 0.91 - ETA: 1s - loss: 0.2082 - accuracy: 0.91 - ETA: 1s - loss: 0.2097 - accuracy: 0.91 - ETA: 1s - loss: 0.2101 - accuracy: 0.91 - ETA: 1s - loss: 0.2115 - accuracy: 0.91 - ETA: 1s - loss: 0.2114 - accuracy: 0.91 - ETA: 0s - loss: 0.2110 - accuracy: 0.91 - ETA: 0s - loss: 0.2130 - accuracy: 0.91 - ETA: 0s - loss: 0.2129 - accuracy: 0.91 - ETA: 0s - loss: 0.2128 - accuracy: 0.91 - ETA: 0s - loss: 0.2134 - accuracy: 0.91 - ETA: 0s - loss: 0.2134 - accuracy: 0.91 - ETA: 0s - loss: 0.2149 - accuracy: 0.91 - ETA: 0s - loss: 0.2160 - accuracy: 0.91 - ETA: 0s - loss: 0.2160 - accuracy: 0.91 - ETA: 0s - loss: 0.2168 - accuracy: 0.91 - ETA: 0s - loss: 0.2162 - accuracy: 0.91 - ETA: 0s - loss: 0.2153 - accuracy: 0.91 - 4s 340us/step - loss: 0.2156 - accuracy: 0.9154 - val_loss: 0.2629 - val_accuracy: 0.8961\n",
      "Epoch 13/20\n"
     ]
    },
    {
     "name": "stdout",
     "output_type": "stream",
     "text": [
      "12107/12107 [==============================] - ETA: 2s - loss: 0.1716 - accuracy: 0.94 - ETA: 2s - loss: 0.2224 - accuracy: 0.90 - ETA: 3s - loss: 0.2338 - accuracy: 0.89 - ETA: 2s - loss: 0.2321 - accuracy: 0.89 - ETA: 2s - loss: 0.2290 - accuracy: 0.89 - ETA: 2s - loss: 0.2196 - accuracy: 0.90 - ETA: 2s - loss: 0.2113 - accuracy: 0.90 - ETA: 2s - loss: 0.2105 - accuracy: 0.90 - ETA: 2s - loss: 0.2158 - accuracy: 0.90 - ETA: 2s - loss: 0.2113 - accuracy: 0.91 - ETA: 2s - loss: 0.2064 - accuracy: 0.91 - ETA: 2s - loss: 0.2085 - accuracy: 0.91 - ETA: 2s - loss: 0.2083 - accuracy: 0.91 - ETA: 2s - loss: 0.2106 - accuracy: 0.91 - ETA: 2s - loss: 0.2082 - accuracy: 0.91 - ETA: 2s - loss: 0.2062 - accuracy: 0.91 - ETA: 2s - loss: 0.2066 - accuracy: 0.91 - ETA: 2s - loss: 0.2064 - accuracy: 0.91 - ETA: 2s - loss: 0.2090 - accuracy: 0.91 - ETA: 2s - loss: 0.2082 - accuracy: 0.91 - ETA: 2s - loss: 0.2089 - accuracy: 0.91 - ETA: 1s - loss: 0.2082 - accuracy: 0.91 - ETA: 1s - loss: 0.2115 - accuracy: 0.91 - ETA: 1s - loss: 0.2125 - accuracy: 0.91 - ETA: 1s - loss: 0.2125 - accuracy: 0.91 - ETA: 1s - loss: 0.2128 - accuracy: 0.91 - ETA: 1s - loss: 0.2127 - accuracy: 0.91 - ETA: 1s - loss: 0.2137 - accuracy: 0.91 - ETA: 1s - loss: 0.2165 - accuracy: 0.91 - ETA: 1s - loss: 0.2151 - accuracy: 0.91 - ETA: 1s - loss: 0.2145 - accuracy: 0.91 - ETA: 1s - loss: 0.2132 - accuracy: 0.91 - ETA: 1s - loss: 0.2147 - accuracy: 0.91 - ETA: 1s - loss: 0.2139 - accuracy: 0.91 - ETA: 1s - loss: 0.2118 - accuracy: 0.91 - ETA: 0s - loss: 0.2148 - accuracy: 0.91 - ETA: 0s - loss: 0.2154 - accuracy: 0.91 - ETA: 0s - loss: 0.2152 - accuracy: 0.91 - ETA: 0s - loss: 0.2152 - accuracy: 0.91 - ETA: 0s - loss: 0.2152 - accuracy: 0.91 - ETA: 0s - loss: 0.2141 - accuracy: 0.91 - ETA: 0s - loss: 0.2153 - accuracy: 0.91 - ETA: 0s - loss: 0.2158 - accuracy: 0.91 - ETA: 0s - loss: 0.2157 - accuracy: 0.91 - ETA: 0s - loss: 0.2154 - accuracy: 0.91 - ETA: 0s - loss: 0.2156 - accuracy: 0.91 - ETA: 0s - loss: 0.2146 - accuracy: 0.91 - ETA: 0s - loss: 0.2162 - accuracy: 0.91 - ETA: 0s - loss: 0.2166 - accuracy: 0.91 - 4s 325us/step - loss: 0.2164 - accuracy: 0.9147 - val_loss: 0.2643 - val_accuracy: 0.8973\n",
      "Epoch 14/20\n",
      "12107/12107 [==============================] - ETA: 3s - loss: 0.2140 - accuracy: 0.92 - ETA: 3s - loss: 0.2227 - accuracy: 0.90 - ETA: 3s - loss: 0.2291 - accuracy: 0.91 - ETA: 3s - loss: 0.2361 - accuracy: 0.91 - ETA: 3s - loss: 0.2293 - accuracy: 0.90 - ETA: 3s - loss: 0.2220 - accuracy: 0.91 - ETA: 3s - loss: 0.2244 - accuracy: 0.90 - ETA: 3s - loss: 0.2238 - accuracy: 0.90 - ETA: 2s - loss: 0.2244 - accuracy: 0.90 - ETA: 2s - loss: 0.2172 - accuracy: 0.91 - ETA: 2s - loss: 0.2103 - accuracy: 0.91 - ETA: 2s - loss: 0.2127 - accuracy: 0.91 - ETA: 2s - loss: 0.2099 - accuracy: 0.91 - ETA: 2s - loss: 0.2122 - accuracy: 0.91 - ETA: 2s - loss: 0.2128 - accuracy: 0.91 - ETA: 2s - loss: 0.2142 - accuracy: 0.91 - ETA: 2s - loss: 0.2157 - accuracy: 0.91 - ETA: 2s - loss: 0.2151 - accuracy: 0.91 - ETA: 2s - loss: 0.2143 - accuracy: 0.91 - ETA: 2s - loss: 0.2148 - accuracy: 0.91 - ETA: 2s - loss: 0.2137 - accuracy: 0.91 - ETA: 1s - loss: 0.2133 - accuracy: 0.91 - ETA: 1s - loss: 0.2143 - accuracy: 0.91 - ETA: 1s - loss: 0.2173 - accuracy: 0.91 - ETA: 1s - loss: 0.2190 - accuracy: 0.91 - ETA: 1s - loss: 0.2196 - accuracy: 0.91 - ETA: 1s - loss: 0.2180 - accuracy: 0.91 - ETA: 1s - loss: 0.2183 - accuracy: 0.91 - ETA: 1s - loss: 0.2185 - accuracy: 0.91 - ETA: 1s - loss: 0.2176 - accuracy: 0.91 - ETA: 1s - loss: 0.2171 - accuracy: 0.91 - ETA: 1s - loss: 0.2182 - accuracy: 0.91 - ETA: 1s - loss: 0.2173 - accuracy: 0.91 - ETA: 1s - loss: 0.2169 - accuracy: 0.91 - ETA: 1s - loss: 0.2151 - accuracy: 0.91 - ETA: 0s - loss: 0.2147 - accuracy: 0.91 - ETA: 0s - loss: 0.2155 - accuracy: 0.91 - ETA: 0s - loss: 0.2157 - accuracy: 0.91 - ETA: 0s - loss: 0.2159 - accuracy: 0.91 - ETA: 0s - loss: 0.2165 - accuracy: 0.91 - ETA: 0s - loss: 0.2158 - accuracy: 0.91 - ETA: 0s - loss: 0.2153 - accuracy: 0.91 - ETA: 0s - loss: 0.2153 - accuracy: 0.91 - ETA: 0s - loss: 0.2168 - accuracy: 0.91 - ETA: 0s - loss: 0.2171 - accuracy: 0.91 - ETA: 0s - loss: 0.2168 - accuracy: 0.91 - ETA: 0s - loss: 0.2164 - accuracy: 0.91 - ETA: 0s - loss: 0.2159 - accuracy: 0.91 - 4s 328us/step - loss: 0.2154 - accuracy: 0.9149 - val_loss: 0.2726 - val_accuracy: 0.8975\n",
      "Epoch 15/20\n",
      "12107/12107 [==============================] - ETA: 3s - loss: 0.2164 - accuracy: 0.90 - ETA: 3s - loss: 0.1980 - accuracy: 0.90 - ETA: 3s - loss: 0.2224 - accuracy: 0.90 - ETA: 3s - loss: 0.2186 - accuracy: 0.90 - ETA: 3s - loss: 0.2195 - accuracy: 0.90 - ETA: 3s - loss: 0.2177 - accuracy: 0.91 - ETA: 3s - loss: 0.2248 - accuracy: 0.91 - ETA: 3s - loss: 0.2161 - accuracy: 0.91 - ETA: 2s - loss: 0.2160 - accuracy: 0.91 - ETA: 2s - loss: 0.2132 - accuracy: 0.91 - ETA: 2s - loss: 0.2144 - accuracy: 0.91 - ETA: 2s - loss: 0.2137 - accuracy: 0.91 - ETA: 2s - loss: 0.2161 - accuracy: 0.91 - ETA: 2s - loss: 0.2145 - accuracy: 0.91 - ETA: 2s - loss: 0.2169 - accuracy: 0.91 - ETA: 2s - loss: 0.2157 - accuracy: 0.91 - ETA: 2s - loss: 0.2177 - accuracy: 0.91 - ETA: 2s - loss: 0.2185 - accuracy: 0.91 - ETA: 2s - loss: 0.2185 - accuracy: 0.91 - ETA: 2s - loss: 0.2184 - accuracy: 0.91 - ETA: 2s - loss: 0.2184 - accuracy: 0.91 - ETA: 1s - loss: 0.2175 - accuracy: 0.91 - ETA: 1s - loss: 0.2185 - accuracy: 0.91 - ETA: 1s - loss: 0.2188 - accuracy: 0.91 - ETA: 1s - loss: 0.2188 - accuracy: 0.91 - ETA: 1s - loss: 0.2210 - accuracy: 0.91 - ETA: 1s - loss: 0.2218 - accuracy: 0.91 - ETA: 1s - loss: 0.2233 - accuracy: 0.91 - ETA: 1s - loss: 0.2248 - accuracy: 0.90 - ETA: 1s - loss: 0.2222 - accuracy: 0.91 - ETA: 1s - loss: 0.2220 - accuracy: 0.91 - ETA: 1s - loss: 0.2215 - accuracy: 0.91 - ETA: 1s - loss: 0.2210 - accuracy: 0.91 - ETA: 1s - loss: 0.2206 - accuracy: 0.91 - ETA: 0s - loss: 0.2203 - accuracy: 0.91 - ETA: 0s - loss: 0.2218 - accuracy: 0.91 - ETA: 0s - loss: 0.2207 - accuracy: 0.91 - ETA: 0s - loss: 0.2204 - accuracy: 0.91 - ETA: 0s - loss: 0.2201 - accuracy: 0.91 - ETA: 0s - loss: 0.2200 - accuracy: 0.91 - ETA: 0s - loss: 0.2198 - accuracy: 0.91 - ETA: 0s - loss: 0.2195 - accuracy: 0.91 - ETA: 0s - loss: 0.2164 - accuracy: 0.91 - ETA: 0s - loss: 0.2167 - accuracy: 0.91 - ETA: 0s - loss: 0.2167 - accuracy: 0.91 - ETA: 0s - loss: 0.2158 - accuracy: 0.91 - ETA: 0s - loss: 0.2153 - accuracy: 0.91 - 4s 328us/step - loss: 0.2151 - accuracy: 0.9151 - val_loss: 0.2656 - val_accuracy: 0.8973\n",
      "Epoch 16/20\n"
     ]
    },
    {
     "name": "stdout",
     "output_type": "stream",
     "text": [
      "12107/12107 [==============================] - ETA: 3s - loss: 0.2495 - accuracy: 0.86 - ETA: 3s - loss: 0.2614 - accuracy: 0.88 - ETA: 3s - loss: 0.2356 - accuracy: 0.89 - ETA: 3s - loss: 0.2467 - accuracy: 0.89 - ETA: 3s - loss: 0.2344 - accuracy: 0.90 - ETA: 3s - loss: 0.2247 - accuracy: 0.90 - ETA: 2s - loss: 0.2306 - accuracy: 0.90 - ETA: 2s - loss: 0.2277 - accuracy: 0.90 - ETA: 2s - loss: 0.2281 - accuracy: 0.90 - ETA: 2s - loss: 0.2260 - accuracy: 0.90 - ETA: 2s - loss: 0.2241 - accuracy: 0.91 - ETA: 2s - loss: 0.2218 - accuracy: 0.91 - ETA: 2s - loss: 0.2248 - accuracy: 0.91 - ETA: 2s - loss: 0.2223 - accuracy: 0.91 - ETA: 2s - loss: 0.2231 - accuracy: 0.91 - ETA: 2s - loss: 0.2252 - accuracy: 0.91 - ETA: 2s - loss: 0.2242 - accuracy: 0.91 - ETA: 2s - loss: 0.2232 - accuracy: 0.91 - ETA: 2s - loss: 0.2213 - accuracy: 0.91 - ETA: 2s - loss: 0.2170 - accuracy: 0.91 - ETA: 2s - loss: 0.2153 - accuracy: 0.91 - ETA: 1s - loss: 0.2137 - accuracy: 0.91 - ETA: 1s - loss: 0.2136 - accuracy: 0.91 - ETA: 1s - loss: 0.2139 - accuracy: 0.91 - ETA: 1s - loss: 0.2167 - accuracy: 0.91 - ETA: 1s - loss: 0.2171 - accuracy: 0.91 - ETA: 1s - loss: 0.2167 - accuracy: 0.91 - ETA: 1s - loss: 0.2166 - accuracy: 0.91 - ETA: 1s - loss: 0.2159 - accuracy: 0.91 - ETA: 1s - loss: 0.2159 - accuracy: 0.91 - ETA: 1s - loss: 0.2169 - accuracy: 0.91 - ETA: 1s - loss: 0.2166 - accuracy: 0.91 - ETA: 1s - loss: 0.2159 - accuracy: 0.91 - ETA: 1s - loss: 0.2169 - accuracy: 0.91 - ETA: 1s - loss: 0.2163 - accuracy: 0.91 - ETA: 0s - loss: 0.2175 - accuracy: 0.91 - ETA: 0s - loss: 0.2168 - accuracy: 0.91 - ETA: 0s - loss: 0.2181 - accuracy: 0.91 - ETA: 0s - loss: 0.2182 - accuracy: 0.91 - ETA: 0s - loss: 0.2177 - accuracy: 0.91 - ETA: 0s - loss: 0.2171 - accuracy: 0.91 - ETA: 0s - loss: 0.2163 - accuracy: 0.91 - ETA: 0s - loss: 0.2158 - accuracy: 0.91 - ETA: 0s - loss: 0.2153 - accuracy: 0.91 - ETA: 0s - loss: 0.2163 - accuracy: 0.91 - ETA: 0s - loss: 0.2161 - accuracy: 0.91 - ETA: 0s - loss: 0.2168 - accuracy: 0.91 - ETA: 0s - loss: 0.2162 - accuracy: 0.91 - ETA: 0s - loss: 0.2160 - accuracy: 0.91 - 4s 328us/step - loss: 0.2162 - accuracy: 0.9154 - val_loss: 0.2654 - val_accuracy: 0.8967\n",
      "Epoch 17/20\n",
      "12107/12107 [==============================] - ETA: 3s - loss: 0.2069 - accuracy: 0.92 - ETA: 4s - loss: 0.2115 - accuracy: 0.90 - ETA: 4s - loss: 0.2149 - accuracy: 0.91 - ETA: 3s - loss: 0.2301 - accuracy: 0.90 - ETA: 3s - loss: 0.2285 - accuracy: 0.90 - ETA: 3s - loss: 0.2316 - accuracy: 0.90 - ETA: 3s - loss: 0.2230 - accuracy: 0.90 - ETA: 3s - loss: 0.2227 - accuracy: 0.90 - ETA: 3s - loss: 0.2169 - accuracy: 0.91 - ETA: 3s - loss: 0.2244 - accuracy: 0.90 - ETA: 2s - loss: 0.2227 - accuracy: 0.90 - ETA: 2s - loss: 0.2250 - accuracy: 0.90 - ETA: 2s - loss: 0.2234 - accuracy: 0.90 - ETA: 2s - loss: 0.2219 - accuracy: 0.90 - ETA: 2s - loss: 0.2216 - accuracy: 0.91 - ETA: 2s - loss: 0.2223 - accuracy: 0.91 - ETA: 2s - loss: 0.2220 - accuracy: 0.91 - ETA: 2s - loss: 0.2235 - accuracy: 0.91 - ETA: 2s - loss: 0.2204 - accuracy: 0.91 - ETA: 2s - loss: 0.2193 - accuracy: 0.91 - ETA: 2s - loss: 0.2200 - accuracy: 0.91 - ETA: 2s - loss: 0.2197 - accuracy: 0.91 - ETA: 2s - loss: 0.2191 - accuracy: 0.91 - ETA: 1s - loss: 0.2189 - accuracy: 0.91 - ETA: 1s - loss: 0.2191 - accuracy: 0.91 - ETA: 1s - loss: 0.2186 - accuracy: 0.91 - ETA: 1s - loss: 0.2202 - accuracy: 0.91 - ETA: 1s - loss: 0.2185 - accuracy: 0.91 - ETA: 1s - loss: 0.2164 - accuracy: 0.91 - ETA: 1s - loss: 0.2159 - accuracy: 0.91 - ETA: 1s - loss: 0.2137 - accuracy: 0.91 - ETA: 1s - loss: 0.2141 - accuracy: 0.91 - ETA: 1s - loss: 0.2126 - accuracy: 0.91 - ETA: 1s - loss: 0.2124 - accuracy: 0.91 - ETA: 1s - loss: 0.2122 - accuracy: 0.91 - ETA: 0s - loss: 0.2143 - accuracy: 0.91 - ETA: 0s - loss: 0.2148 - accuracy: 0.91 - ETA: 0s - loss: 0.2159 - accuracy: 0.91 - ETA: 0s - loss: 0.2160 - accuracy: 0.91 - ETA: 0s - loss: 0.2164 - accuracy: 0.91 - ETA: 0s - loss: 0.2169 - accuracy: 0.91 - ETA: 0s - loss: 0.2166 - accuracy: 0.91 - ETA: 0s - loss: 0.2167 - accuracy: 0.91 - ETA: 0s - loss: 0.2145 - accuracy: 0.91 - ETA: 0s - loss: 0.2146 - accuracy: 0.91 - ETA: 0s - loss: 0.2142 - accuracy: 0.91 - ETA: 0s - loss: 0.2155 - accuracy: 0.91 - ETA: 0s - loss: 0.2160 - accuracy: 0.91 - ETA: 0s - loss: 0.2152 - accuracy: 0.91 - 4s 330us/step - loss: 0.2156 - accuracy: 0.9152 - val_loss: 0.2693 - val_accuracy: 0.8971\n",
      "Epoch 18/20\n",
      "12107/12107 [==============================] - ETA: 3s - loss: 0.2648 - accuracy: 0.90 - ETA: 3s - loss: 0.2613 - accuracy: 0.89 - ETA: 3s - loss: 0.2334 - accuracy: 0.91 - ETA: 3s - loss: 0.2218 - accuracy: 0.91 - ETA: 3s - loss: 0.2246 - accuracy: 0.91 - ETA: 3s - loss: 0.2157 - accuracy: 0.91 - ETA: 3s - loss: 0.2150 - accuracy: 0.91 - ETA: 3s - loss: 0.2188 - accuracy: 0.91 - ETA: 3s - loss: 0.2144 - accuracy: 0.91 - ETA: 2s - loss: 0.2164 - accuracy: 0.91 - ETA: 2s - loss: 0.2193 - accuracy: 0.91 - ETA: 2s - loss: 0.2164 - accuracy: 0.91 - ETA: 2s - loss: 0.2140 - accuracy: 0.91 - ETA: 2s - loss: 0.2132 - accuracy: 0.91 - ETA: 2s - loss: 0.2109 - accuracy: 0.91 - ETA: 2s - loss: 0.2123 - accuracy: 0.91 - ETA: 2s - loss: 0.2127 - accuracy: 0.91 - ETA: 2s - loss: 0.2116 - accuracy: 0.91 - ETA: 2s - loss: 0.2118 - accuracy: 0.91 - ETA: 2s - loss: 0.2129 - accuracy: 0.91 - ETA: 2s - loss: 0.2135 - accuracy: 0.91 - ETA: 2s - loss: 0.2158 - accuracy: 0.91 - ETA: 2s - loss: 0.2158 - accuracy: 0.91 - ETA: 1s - loss: 0.2155 - accuracy: 0.91 - ETA: 1s - loss: 0.2156 - accuracy: 0.91 - ETA: 1s - loss: 0.2144 - accuracy: 0.91 - ETA: 1s - loss: 0.2154 - accuracy: 0.91 - ETA: 1s - loss: 0.2147 - accuracy: 0.91 - ETA: 1s - loss: 0.2146 - accuracy: 0.91 - ETA: 1s - loss: 0.2143 - accuracy: 0.91 - ETA: 1s - loss: 0.2149 - accuracy: 0.91 - ETA: 1s - loss: 0.2153 - accuracy: 0.91 - ETA: 1s - loss: 0.2151 - accuracy: 0.91 - ETA: 1s - loss: 0.2143 - accuracy: 0.91 - ETA: 1s - loss: 0.2147 - accuracy: 0.91 - ETA: 0s - loss: 0.2170 - accuracy: 0.91 - ETA: 0s - loss: 0.2177 - accuracy: 0.91 - ETA: 0s - loss: 0.2160 - accuracy: 0.91 - ETA: 0s - loss: 0.2171 - accuracy: 0.91 - ETA: 0s - loss: 0.2189 - accuracy: 0.91 - ETA: 0s - loss: 0.2188 - accuracy: 0.91 - ETA: 0s - loss: 0.2188 - accuracy: 0.91 - ETA: 0s - loss: 0.2179 - accuracy: 0.91 - ETA: 0s - loss: 0.2162 - accuracy: 0.91 - ETA: 0s - loss: 0.2156 - accuracy: 0.91 - ETA: 0s - loss: 0.2161 - accuracy: 0.91 - ETA: 0s - loss: 0.2152 - accuracy: 0.91 - ETA: 0s - loss: 0.2150 - accuracy: 0.91 - 4s 325us/step - loss: 0.2158 - accuracy: 0.9145 - val_loss: 0.2707 - val_accuracy: 0.8957\n",
      "Epoch 19/20\n"
     ]
    },
    {
     "name": "stdout",
     "output_type": "stream",
     "text": [
      "12107/12107 [==============================] - ETA: 3s - loss: 0.2126 - accuracy: 0.91 - ETA: 3s - loss: 0.2004 - accuracy: 0.92 - ETA: 3s - loss: 0.1982 - accuracy: 0.91 - ETA: 3s - loss: 0.1948 - accuracy: 0.91 - ETA: 3s - loss: 0.2076 - accuracy: 0.91 - ETA: 2s - loss: 0.2157 - accuracy: 0.91 - ETA: 2s - loss: 0.2182 - accuracy: 0.91 - ETA: 2s - loss: 0.2161 - accuracy: 0.91 - ETA: 2s - loss: 0.2208 - accuracy: 0.91 - ETA: 2s - loss: 0.2210 - accuracy: 0.91 - ETA: 2s - loss: 0.2164 - accuracy: 0.91 - ETA: 2s - loss: 0.2137 - accuracy: 0.91 - ETA: 2s - loss: 0.2132 - accuracy: 0.91 - ETA: 2s - loss: 0.2141 - accuracy: 0.91 - ETA: 2s - loss: 0.2152 - accuracy: 0.91 - ETA: 2s - loss: 0.2158 - accuracy: 0.91 - ETA: 2s - loss: 0.2130 - accuracy: 0.91 - ETA: 2s - loss: 0.2121 - accuracy: 0.91 - ETA: 2s - loss: 0.2097 - accuracy: 0.91 - ETA: 2s - loss: 0.2134 - accuracy: 0.91 - ETA: 1s - loss: 0.2119 - accuracy: 0.91 - ETA: 1s - loss: 0.2123 - accuracy: 0.91 - ETA: 1s - loss: 0.2130 - accuracy: 0.91 - ETA: 1s - loss: 0.2134 - accuracy: 0.91 - ETA: 1s - loss: 0.2159 - accuracy: 0.91 - ETA: 1s - loss: 0.2174 - accuracy: 0.91 - ETA: 1s - loss: 0.2179 - accuracy: 0.91 - ETA: 1s - loss: 0.2167 - accuracy: 0.91 - ETA: 1s - loss: 0.2158 - accuracy: 0.91 - ETA: 1s - loss: 0.2162 - accuracy: 0.91 - ETA: 1s - loss: 0.2177 - accuracy: 0.91 - ETA: 1s - loss: 0.2169 - accuracy: 0.91 - ETA: 1s - loss: 0.2169 - accuracy: 0.91 - ETA: 1s - loss: 0.2169 - accuracy: 0.91 - ETA: 1s - loss: 0.2164 - accuracy: 0.91 - ETA: 0s - loss: 0.2164 - accuracy: 0.91 - ETA: 0s - loss: 0.2171 - accuracy: 0.91 - ETA: 0s - loss: 0.2170 - accuracy: 0.91 - ETA: 0s - loss: 0.2180 - accuracy: 0.91 - ETA: 0s - loss: 0.2178 - accuracy: 0.91 - ETA: 0s - loss: 0.2177 - accuracy: 0.91 - ETA: 0s - loss: 0.2181 - accuracy: 0.91 - ETA: 0s - loss: 0.2174 - accuracy: 0.91 - ETA: 0s - loss: 0.2172 - accuracy: 0.91 - ETA: 0s - loss: 0.2167 - accuracy: 0.91 - ETA: 0s - loss: 0.2165 - accuracy: 0.91 - ETA: 0s - loss: 0.2163 - accuracy: 0.91 - ETA: 0s - loss: 0.2162 - accuracy: 0.91 - 4s 322us/step - loss: 0.2156 - accuracy: 0.9143 - val_loss: 0.2700 - val_accuracy: 0.8969\n",
      "Epoch 20/20\n",
      "12107/12107 [==============================] - ETA: 3s - loss: 0.3212 - accuracy: 0.88 - ETA: 3s - loss: 0.2322 - accuracy: 0.91 - ETA: 3s - loss: 0.2330 - accuracy: 0.90 - ETA: 3s - loss: 0.2228 - accuracy: 0.91 - ETA: 3s - loss: 0.2148 - accuracy: 0.91 - ETA: 3s - loss: 0.2068 - accuracy: 0.92 - ETA: 3s - loss: 0.2164 - accuracy: 0.91 - ETA: 3s - loss: 0.2162 - accuracy: 0.91 - ETA: 3s - loss: 0.2099 - accuracy: 0.91 - ETA: 2s - loss: 0.2110 - accuracy: 0.91 - ETA: 2s - loss: 0.2136 - accuracy: 0.91 - ETA: 2s - loss: 0.2084 - accuracy: 0.91 - ETA: 2s - loss: 0.2118 - accuracy: 0.91 - ETA: 2s - loss: 0.2152 - accuracy: 0.91 - ETA: 2s - loss: 0.2144 - accuracy: 0.91 - ETA: 2s - loss: 0.2140 - accuracy: 0.91 - ETA: 2s - loss: 0.2140 - accuracy: 0.91 - ETA: 2s - loss: 0.2125 - accuracy: 0.91 - ETA: 2s - loss: 0.2115 - accuracy: 0.91 - ETA: 2s - loss: 0.2112 - accuracy: 0.91 - ETA: 2s - loss: 0.2119 - accuracy: 0.91 - ETA: 2s - loss: 0.2113 - accuracy: 0.91 - ETA: 2s - loss: 0.2116 - accuracy: 0.91 - ETA: 1s - loss: 0.2106 - accuracy: 0.91 - ETA: 1s - loss: 0.2115 - accuracy: 0.91 - ETA: 1s - loss: 0.2133 - accuracy: 0.91 - ETA: 1s - loss: 0.2148 - accuracy: 0.91 - ETA: 1s - loss: 0.2152 - accuracy: 0.91 - ETA: 1s - loss: 0.2166 - accuracy: 0.91 - ETA: 1s - loss: 0.2155 - accuracy: 0.91 - ETA: 1s - loss: 0.2157 - accuracy: 0.91 - ETA: 1s - loss: 0.2159 - accuracy: 0.91 - ETA: 1s - loss: 0.2187 - accuracy: 0.91 - ETA: 1s - loss: 0.2179 - accuracy: 0.91 - ETA: 1s - loss: 0.2187 - accuracy: 0.91 - ETA: 1s - loss: 0.2188 - accuracy: 0.91 - ETA: 0s - loss: 0.2182 - accuracy: 0.91 - ETA: 0s - loss: 0.2177 - accuracy: 0.91 - ETA: 0s - loss: 0.2165 - accuracy: 0.91 - ETA: 0s - loss: 0.2165 - accuracy: 0.91 - ETA: 0s - loss: 0.2161 - accuracy: 0.91 - ETA: 0s - loss: 0.2143 - accuracy: 0.91 - ETA: 0s - loss: 0.2139 - accuracy: 0.91 - ETA: 0s - loss: 0.2155 - accuracy: 0.91 - ETA: 0s - loss: 0.2152 - accuracy: 0.91 - ETA: 0s - loss: 0.2159 - accuracy: 0.91 - ETA: 0s - loss: 0.2169 - accuracy: 0.91 - ETA: 0s - loss: 0.2162 - accuracy: 0.91 - ETA: 0s - loss: 0.2159 - accuracy: 0.91 - 4s 322us/step - loss: 0.2158 - accuracy: 0.9151 - val_loss: 0.2666 - val_accuracy: 0.8969\n"
     ]
    }
   ],
   "source": [
    "model.compile(loss='categorical_crossentropy', optimizer= RMSprop(), metrics=['accuracy'])\n",
    "history_MFCCs.append( model.fit(X_train, y_train, batch_size=batch_size, epochs=epochs, verbose=1, validation_data=(X_test, y_test) ))"
   ]
  },
  {
   "cell_type": "code",
   "execution_count": 169,
   "metadata": {},
   "outputs": [
    {
     "data": {
      "image/png": "[encoded data removed]",
      "text/plain": [
       "<Figure size 432x288 with 1 Axes>"
      ]
     },
     "metadata": {
      "needs_background": "light"
     },
     "output_type": "display_data"
    },
    {
     "data": {
      "image/png": "[encoded data removed]",
      "text/plain": [
       "<Figure size 432x288 with 1 Axes>"
      ]
     },
     "metadata": {
      "needs_background": "light"
     },
     "output_type": "display_data"
    }
   ],
   "source": [
    "plt.title('Accuracies vs Epochs ')\n",
    "plt.plot(history_MFCCs[0].history['accuracy'], label='Training Accuracy PCA  ', color='green')\n",
    "plt.plot(history_MFCCs[1].history['accuracy'], label='Training Accuracy LDA  ', color='red')\n",
    "plt.legend()\n",
    "plt.show()\n",
    "plt.title('Train Accuracy vs Val Accuracy for MFCCs + DNN')\n",
    "plt.plot(history_MFCCs[0].history['accuracy'], label='Train Accuracy_PCA', color='green')\n",
    "plt.plot(history_MFCCs[1].history['accuracy'], label='Train Accuracy_LDA', color='red')\n",
    "\n",
    "plt.plot(history_MFCCs[0].history['val_accuracy'], label='Val Accuracy_PCA', linestyle = \"dashdot\", color='green')\n",
    "plt.plot(history_MFCCs[1].history['val_accuracy'], label='Val Accuracy_LDA', linestyle = \"dashdot\", color='red')\n",
    "\n",
    "plt.legend()\n",
    "plt.show()"
   ]
  },
  {
   "cell_type": "code",
   "execution_count": 184,
   "metadata": {},
   "outputs": [],
   "source": [
    "test_eval= model.evaluate(X_test, y_test, verbose=0)\n",
    "print('test loss: ', test_eval[0])\n",
    "print('test accuracy: ', test_eval[1])"
   ]
  },
  {
   "cell_type": "markdown",
   "metadata": {},
   "source": [
    "# MFCC+ DNN_MI:"
   ]
  },
  {
   "cell_type": "code",
   "execution_count": 236,
   "metadata": {},
   "outputs": [
    {
     "name": "stdout",
     "output_type": "stream",
     "text": [
      "[2020-07-24 11:19:04 RAM65.2% 0.28GB] 6053 6054 5188 6053 6054 5188\n",
      "[2020-07-24 11:19:05 RAM66.6% 0.39GB] (12107, 20, 44) (5188, 20, 44) (12107,) (5188,)\n"
     ]
    }
   ],
   "source": [
    "x_test,y_test,labels_test, x_train,y_train,labels_train,  x_valid,y_valid,labels_valid, val_test, val_train, val_valid= get_list_samples_name_benetos( 'b', path_save_audio_MFCCs,sample_ids_test, sample_ids_val, sample_ids_train )\n",
    "print(len(x_train), len(x_valid), len(x_test) , len(y_train), len(y_valid), len(y_test))\n",
    "\n",
    "x_train= np.array(x_train)\n",
    "x_valid= np.array(x_valid)\n",
    "x_test= np.array(x_test)\n",
    "y_test=np.array(y_test)\n",
    "y_train=np.array(y_train)\n",
    "y_valid=np.array(y_valid)\n",
    "\n",
    "X_train= np.concatenate((x_train, x_valid))\n",
    "Y_train= np.concatenate((y_train, y_valid))\n",
    "\n",
    "print(X_train.shape, x_test.shape, Y_train.shape, y_test.shape )\n"
   ]
  },
  {
   "cell_type": "code",
   "execution_count": 237,
   "metadata": {},
   "outputs": [
    {
     "name": "stdout",
     "output_type": "stream",
     "text": [
      "[2020-07-24 12:15:03 RAM81.4% 1.26GB] (12107, 100) (5188, 100) (12107, 2) (5188, 2)\n"
     ]
    }
   ],
   "source": [
    "X_train=X_train.reshape(-1, 880)\n",
    "x_test= x_test.reshape(-1, 880)\n",
    "# feature selection\n",
    "X_train_fs, X_test_fs, fs = select_features(X_train, Y_train, x_test)\n",
    "# One hot encoder \n",
    "Y_train = np_utils.to_categorical(Y_train)\n",
    "y_test = np_utils.to_categorical(y_test)\n",
    "print(X_train_fs.shape, X_test_fs.shape, Y_train.shape, y_test.shape )"
   ]
  },
  {
   "cell_type": "code",
   "execution_count": 240,
   "metadata": {},
   "outputs": [
    {
     "name": "stdout",
     "output_type": "stream",
     "text": [
      "Model: \"sequential_34\"\n",
      "_________________________________________________________________\n",
      "Layer (type)                 Output Shape              Param #   \n",
      "=================================================================\n",
      "dense_142 (Dense)            (None, 1024)              103424    \n",
      "_________________________________________________________________\n",
      "dense_143 (Dense)            (None, 1024)              1049600   \n",
      "_________________________________________________________________\n",
      "dense_144 (Dense)            (None, 512)               524800    \n",
      "_________________________________________________________________\n",
      "dense_145 (Dense)            (None, 256)               131328    \n",
      "_________________________________________________________________\n",
      "dense_146 (Dense)            (None, 2)                 514       \n",
      "=================================================================\n",
      "Total params: 1,809,666\n",
      "Trainable params: 1,809,666\n",
      "Non-trainable params: 0\n",
      "_________________________________________________________________\n"
     ]
    }
   ],
   "source": [
    "batch_size=128\n",
    "num_classes=2\n",
    "epochs=20\n",
    "\n",
    "model=Sequential()\n",
    "model.add(Dense(1024 , activation='relu', input_shape= (100,)))\n",
    "model.add(Dense(1024, activation='relu'))\n",
    "model.add(Dense(512   , activation='relu'))\n",
    "model.add(Dense(256   , activation='relu'))\n",
    "model.add(Dense(num_classes, activation='softmax'))\n",
    "model.summary()"
   ]
  },
  {
   "cell_type": "code",
   "execution_count": 234,
   "metadata": {},
   "outputs": [
    {
     "ename": "ValueError",
     "evalue": "Error when checking target: expected dense_140 to have shape (2,) but got array with shape (1,)",
     "output_type": "error",
     "traceback": [
      "\u001b[1;31m---------------------------------------------------------------------------\u001b[0m",
      "\u001b[1;31mValueError\u001b[0m                                Traceback (most recent call last)",
      "\u001b[1;32m<ipython-input-234-25c824eee470>\u001b[0m in \u001b[0;36m<module>\u001b[1;34m\u001b[0m\n\u001b[0;32m      1\u001b[0m \u001b[0mmodel\u001b[0m\u001b[1;33m.\u001b[0m\u001b[0mcompile\u001b[0m\u001b[1;33m(\u001b[0m\u001b[0mloss\u001b[0m\u001b[1;33m=\u001b[0m\u001b[1;34m'categorical_crossentropy'\u001b[0m\u001b[1;33m,\u001b[0m \u001b[0moptimizer\u001b[0m\u001b[1;33m=\u001b[0m \u001b[0mRMSprop\u001b[0m\u001b[1;33m(\u001b[0m\u001b[1;33m)\u001b[0m\u001b[1;33m,\u001b[0m \u001b[0mmetrics\u001b[0m\u001b[1;33m=\u001b[0m\u001b[1;33m[\u001b[0m\u001b[1;34m'accuracy'\u001b[0m\u001b[1;33m]\u001b[0m\u001b[1;33m)\u001b[0m\u001b[1;33m\u001b[0m\u001b[1;33m\u001b[0m\u001b[0m\n\u001b[1;32m----> 2\u001b[1;33m \u001b[0mhistory_MFCCs\u001b[0m\u001b[1;33m.\u001b[0m\u001b[0mappend\u001b[0m\u001b[1;33m(\u001b[0m \u001b[0mmodel\u001b[0m\u001b[1;33m.\u001b[0m\u001b[0mfit\u001b[0m\u001b[1;33m(\u001b[0m\u001b[0mX_train_fs\u001b[0m\u001b[1;33m,\u001b[0m \u001b[0mY_train\u001b[0m\u001b[1;33m,\u001b[0m \u001b[0mbatch_size\u001b[0m\u001b[1;33m=\u001b[0m\u001b[0mbatch_size\u001b[0m\u001b[1;33m,\u001b[0m \u001b[0mepochs\u001b[0m\u001b[1;33m=\u001b[0m\u001b[0mepochs\u001b[0m\u001b[1;33m,\u001b[0m \u001b[0mverbose\u001b[0m\u001b[1;33m=\u001b[0m\u001b[1;36m1\u001b[0m\u001b[1;33m,\u001b[0m \u001b[0mvalidation_data\u001b[0m\u001b[1;33m=\u001b[0m\u001b[1;33m(\u001b[0m\u001b[0mX_test_fs\u001b[0m\u001b[1;33m,\u001b[0m \u001b[0my_test\u001b[0m\u001b[1;33m)\u001b[0m \u001b[1;33m)\u001b[0m\u001b[1;33m)\u001b[0m\u001b[1;33m\u001b[0m\u001b[1;33m\u001b[0m\u001b[0m\n\u001b[0m",
      "\u001b[1;32m~\\anaconda3\\lib\\site-packages\\keras\\engine\\training.py\u001b[0m in \u001b[0;36mfit\u001b[1;34m(self, x, y, batch_size, epochs, verbose, callbacks, validation_split, validation_data, shuffle, class_weight, sample_weight, initial_epoch, steps_per_epoch, validation_steps, validation_freq, max_queue_size, workers, use_multiprocessing, **kwargs)\u001b[0m\n\u001b[0;32m   1152\u001b[0m             \u001b[0msample_weight\u001b[0m\u001b[1;33m=\u001b[0m\u001b[0msample_weight\u001b[0m\u001b[1;33m,\u001b[0m\u001b[1;33m\u001b[0m\u001b[1;33m\u001b[0m\u001b[0m\n\u001b[0;32m   1153\u001b[0m             \u001b[0mclass_weight\u001b[0m\u001b[1;33m=\u001b[0m\u001b[0mclass_weight\u001b[0m\u001b[1;33m,\u001b[0m\u001b[1;33m\u001b[0m\u001b[1;33m\u001b[0m\u001b[0m\n\u001b[1;32m-> 1154\u001b[1;33m             batch_size=batch_size)\n\u001b[0m\u001b[0;32m   1155\u001b[0m \u001b[1;33m\u001b[0m\u001b[0m\n\u001b[0;32m   1156\u001b[0m         \u001b[1;31m# Prepare validation data.\u001b[0m\u001b[1;33m\u001b[0m\u001b[1;33m\u001b[0m\u001b[1;33m\u001b[0m\u001b[0m\n",
      "\u001b[1;32m~\\anaconda3\\lib\\site-packages\\keras\\engine\\training.py\u001b[0m in \u001b[0;36m_standardize_user_data\u001b[1;34m(self, x, y, sample_weight, class_weight, check_array_lengths, batch_size)\u001b[0m\n\u001b[0;32m    619\u001b[0m                 \u001b[0mfeed_output_shapes\u001b[0m\u001b[1;33m,\u001b[0m\u001b[1;33m\u001b[0m\u001b[1;33m\u001b[0m\u001b[0m\n\u001b[0;32m    620\u001b[0m                 \u001b[0mcheck_batch_axis\u001b[0m\u001b[1;33m=\u001b[0m\u001b[1;32mFalse\u001b[0m\u001b[1;33m,\u001b[0m  \u001b[1;31m# Don't enforce the batch size.\u001b[0m\u001b[1;33m\u001b[0m\u001b[1;33m\u001b[0m\u001b[0m\n\u001b[1;32m--> 621\u001b[1;33m                 exception_prefix='target')\n\u001b[0m\u001b[0;32m    622\u001b[0m \u001b[1;33m\u001b[0m\u001b[0m\n\u001b[0;32m    623\u001b[0m             \u001b[1;31m# Generate sample-wise weight values given the `sample_weight` and\u001b[0m\u001b[1;33m\u001b[0m\u001b[1;33m\u001b[0m\u001b[1;33m\u001b[0m\u001b[0m\n",
      "\u001b[1;32m~\\anaconda3\\lib\\site-packages\\keras\\engine\\training_utils.py\u001b[0m in \u001b[0;36mstandardize_input_data\u001b[1;34m(data, names, shapes, check_batch_axis, exception_prefix)\u001b[0m\n\u001b[0;32m    143\u001b[0m                             \u001b[1;34m': expected '\u001b[0m \u001b[1;33m+\u001b[0m \u001b[0mnames\u001b[0m\u001b[1;33m[\u001b[0m\u001b[0mi\u001b[0m\u001b[1;33m]\u001b[0m \u001b[1;33m+\u001b[0m \u001b[1;34m' to have shape '\u001b[0m \u001b[1;33m+\u001b[0m\u001b[1;33m\u001b[0m\u001b[1;33m\u001b[0m\u001b[0m\n\u001b[0;32m    144\u001b[0m                             \u001b[0mstr\u001b[0m\u001b[1;33m(\u001b[0m\u001b[0mshape\u001b[0m\u001b[1;33m)\u001b[0m \u001b[1;33m+\u001b[0m \u001b[1;34m' but got array with shape '\u001b[0m \u001b[1;33m+\u001b[0m\u001b[1;33m\u001b[0m\u001b[1;33m\u001b[0m\u001b[0m\n\u001b[1;32m--> 145\u001b[1;33m                             str(data_shape))\n\u001b[0m\u001b[0;32m    146\u001b[0m     \u001b[1;32mreturn\u001b[0m \u001b[0mdata\u001b[0m\u001b[1;33m\u001b[0m\u001b[1;33m\u001b[0m\u001b[0m\n\u001b[0;32m    147\u001b[0m \u001b[1;33m\u001b[0m\u001b[0m\n",
      "\u001b[1;31mValueError\u001b[0m: Error when checking target: expected dense_140 to have shape (2,) but got array with shape (1,)"
     ]
    }
   ],
   "source": [
    "model.compile(loss='categorical_crossentropy', optimizer= RMSprop(), metrics=['accuracy'])\n",
    "history_MFCCs.append( model.fit(X_train_fs, Y_train, batch_size=batch_size, epochs=epochs, verbose=1, validation_data=(X_test_fs, y_test) ))"
   ]
  },
  {
   "cell_type": "code",
   "execution_count": null,
   "metadata": {},
   "outputs": [],
   "source": []
  },
  {
   "cell_type": "markdown",
   "metadata": {},
   "source": [
    "# --------------------------------------------------------------------------------------"
   ]
  },
  {
   "cell_type": "markdown",
   "metadata": {},
   "source": [
    "# TTBOX+ SVM_PCA:"
   ]
  },
  {
   "cell_type": "code",
   "execution_count": 149,
   "metadata": {},
   "outputs": [
    {
     "name": "stdout",
     "output_type": "stream",
     "text": [
      "[2020-07-20 16:31:11 RAM73.8% 0.52GB] Reshape the data\n",
      "[2020-07-20 16:31:11 RAM73.8% 0.52GB] 6053 6054 5188 6053 6054 5188\n",
      "[2020-07-20 16:31:12 RAM73.8% 0.52GB] Reshape the data\n",
      "[2020-07-20 16:31:12 RAM74.2% 0.55GB] (12107, 164) (5188, 164) (12107,) (5188,)\n"
     ]
    }
   ],
   "source": [
    "path_save_audio= 'C:\\\\Users\\\\PC\\\\python\\\\Stage\\\\dataset_BeeNoBee_2_second'+str(block_size)+'sec'+'\\\\ttb_mat'+os.sep \n",
    "#x_train, x_valid, x_test, y_train, y_valid, y_test = get_list_samples_name_TTBOX(path_save_audio, sample_ids_test, sample_ids_val, sample_ids_train)\n",
    "x_test,y_test,labels_test, x_train,y_train,labels_train,  x_valid,y_valid,labels_valid, val_test, val_train, val_valid= get_list_samples_name_benetos( 'ttb_vec', path_save_audio ,sample_ids_test, sample_ids_val, sample_ids_train )\n",
    "print(\"Reshape the data\")\n",
    "#x_train, x_valid, x_test, y_train, y_valid, y_test = get_list_sample_ids(path_save_audio_MFCCs, sample_ids_test, sample_ids_val, sample_ids_train)\n",
    "print(len(x_train), len(x_valid), len(x_test) , len(y_train), len(y_valid), len(y_test))\n",
    "print(\"Reshape the data\")\n",
    "x_train= np.array(x_train)\n",
    "x_valid= np.array(x_valid)\n",
    "x_test= np.array(x_test)\n",
    "y_test=np.array(y_test)\n",
    "y_train=np.array(y_train)\n",
    "y_valid=np.array(y_valid)\n",
    "\n",
    "\n",
    "X_train= np.concatenate((x_train, x_valid))\n",
    "Y_train= np.concatenate((y_train, y_valid))\n",
    "x, y, z= X_train.shape\n",
    "X_train=X_train.reshape(x, y*z)\n",
    "t, u, v= x_test.shape\n",
    "x_test= x_test.reshape(t, u*v)\n",
    "\n",
    "print(X_train.shape, x_test.shape, Y_train.shape, y_test.shape )\n"
   ]
  },
  {
   "cell_type": "code",
   "execution_count": 150,
   "metadata": {},
   "outputs": [
    {
     "name": "stdout",
     "output_type": "stream",
     "text": [
      "\n",
      "\n",
      "[2020-07-20 16:31:12 RAM74.3% 0.55GB] Starting classification with SVM:\n",
      "\n",
      "\n",
      "[2020-07-20 16:31:12 RAM74.3% 0.55GB] classification Beehive State into : Active or Missing Queen\n",
      "[2020-07-20 16:31:33 RAM75.9% 0.62GB] Accuracy:  0.7781418658442559\n",
      "[2020-07-20 16:31:33 RAM75.9% 0.62GB] Precision: 0.8178539224526601\n",
      "[2020-07-20 16:31:33 RAM75.9% 0.62GB] Recall: 0.7083170636470129\n"
     ]
    }
   ],
   "source": [
    "from sklearn.decomposition import PCA\n",
    "pca=PCA(0.9)\n",
    "pca.fit(X_train)\n",
    "x_train_pca= pca.transform(X_train)\n",
    "x_test_pca= pca.transform(x_test)\n",
    "CLF, Test_GroundT, Train_GroundT, Test_Preds, Train_Preds, Test_Preds_Proba, Train_Preds_Proba = SVM_Classification_BeehiveSTATE(x_train_pca, Y_train , x_test_pca, y_test, kerneloption='rbf')\n",
    "# Metrics\n",
    "print(\"Accuracy: \", metrics.accuracy_score( Test_GroundT, Test_Preds))\n",
    "# Model Precision: what percentage of positive tuples are labeled as such?\n",
    "print(\"Precision:\",metrics.precision_score(Test_GroundT, Test_Preds))\n",
    "# Model Recall: what percentage of positive tuples are labelled as such?\n",
    "print(\"Recall:\",metrics.recall_score(Test_GroundT, Test_Preds))\n"
   ]
  },
  {
   "cell_type": "markdown",
   "metadata": {},
   "source": [
    "# TTBOX+SVM_LDA:"
   ]
  },
  {
   "cell_type": "code",
   "execution_count": 151,
   "metadata": {},
   "outputs": [
    {
     "name": "stdout",
     "output_type": "stream",
     "text": [
      "[2020-07-20 16:33:35 RAM75.0% 0.6GB] Reshape the data\n",
      "[2020-07-20 16:33:35 RAM75.2% 0.62GB] (12107, 164) (5188, 164) (12107,) (5188,)\n"
     ]
    }
   ],
   "source": [
    "path_save_audio= 'C:\\\\Users\\\\PC\\\\python\\\\Stage\\\\dataset_BeeNoBee_2_second'+str(block_size)+'sec'+'\\\\ttb_mat'+os.sep \n",
    "#x_train, x_valid, x_test, y_train, y_valid, y_test = get_list_samples_name_TTBOX(path_save_audio, sample_ids_test, sample_ids_val, sample_ids_train)\n",
    "x_test,y_test,labels_test, x_train,y_train,labels_train,  x_valid,y_valid,labels_valid, val_test, val_train, val_valid= get_list_samples_name_benetos( 'ttb_vec', path_save_audio ,sample_ids_test, sample_ids_val, sample_ids_train )\n",
    "print(\"Reshape the data\")\n",
    "x_train= np.array(x_train)\n",
    "x_valid= np.array(x_valid)\n",
    "x_test= np.array(x_test)\n",
    "y_test=np.array(y_test)\n",
    "y_train=np.array(y_train)\n",
    "y_valid=np.array(y_valid)\n",
    "\n",
    "\n",
    "X_train= np.concatenate((x_train, x_valid))\n",
    "Y_train= np.concatenate((y_train, y_valid))\n",
    "x, y, z= X_train.shape\n",
    "X_train=X_train.reshape(x, y*z)\n",
    "t, u, v= x_test.shape\n",
    "x_test= x_test.reshape(t, u*v)\n",
    "\n",
    "print(X_train.shape, x_test.shape, Y_train.shape, y_test.shape )\n"
   ]
  },
  {
   "cell_type": "code",
   "execution_count": 152,
   "metadata": {},
   "outputs": [],
   "source": [
    "from sklearn.preprocessing import StandardScaler\n",
    "\n",
    "sc = StandardScaler()\n",
    "X_train = sc.fit_transform(X_train)\n",
    "X_test = sc.transform(x_test)"
   ]
  },
  {
   "cell_type": "code",
   "execution_count": 153,
   "metadata": {},
   "outputs": [],
   "source": [
    "from sklearn.discriminant_analysis import LinearDiscriminantAnalysis as LDA\n",
    "\n",
    "lda = LDA(n_components=1)\n",
    "X_train = lda.fit_transform(X_train, Y_train)\n",
    "X_test = lda.transform(X_test)"
   ]
  },
  {
   "cell_type": "code",
   "execution_count": 154,
   "metadata": {},
   "outputs": [
    {
     "name": "stdout",
     "output_type": "stream",
     "text": [
      "\n",
      "\n",
      "[2020-07-20 16:33:36 RAM75.0% 0.61GB] Starting classification with SVM:\n",
      "\n",
      "\n",
      "[2020-07-20 16:33:36 RAM75.0% 0.61GB] classification Beehive State into : Active or Missing Queen\n",
      "[2020-07-20 16:33:51 RAM72.2% 0.49GB] Accuracy:  0.9286815728604472\n",
      "[2020-07-20 16:33:51 RAM72.2% 0.49GB] Precision: 0.9458689458689459\n",
      "[2020-07-20 16:33:51 RAM72.2% 0.49GB] Recall: 0.9074580242092932\n"
     ]
    }
   ],
   "source": [
    "CLF, Test_GroundT, Train_GroundT, Test_Preds, Train_Preds, Test_Preds_Proba, Train_Preds_Proba = SVM_Classification_BeehiveSTATE(X_train, Y_train , X_test, y_test, kerneloption='rbf')\n",
    "# Metrics\n",
    "print(\"Accuracy: \", metrics.accuracy_score( Test_GroundT, Test_Preds))\n",
    "# Model Precision: what percentage of positive tuples are labeled as such?\n",
    "print(\"Precision:\",metrics.precision_score(Test_GroundT, Test_Preds))\n",
    "# Model Recall: what percentage of positive tuples are labelled as such?\n",
    "print(\"Recall:\",metrics.recall_score(Test_GroundT, Test_Preds))\n"
   ]
  },
  {
   "cell_type": "code",
   "execution_count": 155,
   "metadata": {},
   "outputs": [
    {
     "name": "stdout",
     "output_type": "stream",
     "text": [
      "Confusion matrix, without normalization\n",
      "[[2494  133]\n",
      " [ 237 2324]]\n"
     ]
    },
    {
     "data": {
      "image/png": "[encoded data removed]",
      "text/plain": [
       "<Figure size 432x288 with 2 Axes>"
      ]
     },
     "metadata": {
      "needs_background": "light"
     },
     "output_type": "display_data"
    },
    {
     "name": "stdout",
     "output_type": "stream",
     "text": [
      "[2020-07-20 16:33:51 RAM72.2% 0.5GB] \n",
      "Clasification report TTBOX + SVM_LDA:\n",
      "                precision    recall  f1-score   support\n",
      "\n",
      "missing_queen       0.91      0.95      0.93      2627\n",
      "       active       0.95      0.91      0.93      2561\n",
      "\n",
      "     accuracy                           0.93      5188\n",
      "    macro avg       0.93      0.93      0.93      5188\n",
      " weighted avg       0.93      0.93      0.93      5188\n",
      "\n"
     ]
    }
   ],
   "source": [
    "# Compute confusion matrix\n",
    "cnf_matrix = confusion_matrix(Test_GroundT, Test_Preds )\n",
    "np.set_printoptions(precision=2)\n",
    "\n",
    "# Plot non-normalized confusion matrix\n",
    "plt.figure()\n",
    "plot_confusion_matrix(cnf_matrix, classes=class_names,\n",
    "                      title='ttbox + SVM_LDA Confusion matrix, without normalization')\n",
    "plt.show()\n",
    "# Plot normalized confusion matrix\n",
    "\n",
    "plt.show()\n",
    "target_names=['missing_queen', 'active']\n",
    "print ('\\nClasification report TTBOX + SVM_LDA:\\n', classification_report(Test_GroundT, Test_Preds , target_names=target_names))"
   ]
  },
  {
   "cell_type": "markdown",
   "metadata": {},
   "source": [
    "# TTBOX+SVM_MI:"
   ]
  },
  {
   "cell_type": "code",
   "execution_count": 217,
   "metadata": {},
   "outputs": [
    {
     "name": "stdout",
     "output_type": "stream",
     "text": [
      "[2020-07-23 12:45:58 RAM68.1% 0.48GB] Reshape the data\n",
      "[2020-07-23 12:45:58 RAM68.5% 0.52GB] (12107, 164) (5188, 164) (12107,) (5188,)\n"
     ]
    }
   ],
   "source": [
    "path_save_audio= 'C:\\\\Users\\\\PC\\\\python\\\\Stage\\\\dataset_BeeNoBee_2_second'+str(block_size)+'sec'+'\\\\ttb_mat'+os.sep \n",
    "#x_train, x_valid, x_test, y_train, y_valid, y_test = get_list_samples_name_TTBOX(path_save_audio, sample_ids_test, sample_ids_val, sample_ids_train)\n",
    "x_test,y_test,labels_test, x_train,y_train,labels_train,  x_valid,y_valid,labels_valid, val_test, val_train, val_valid= get_list_samples_name_benetos( 'ttb_vec', path_save_audio ,sample_ids_test, sample_ids_val, sample_ids_train )\n",
    "print(\"Reshape the data\")\n",
    "x_train= np.array(x_train)\n",
    "x_valid= np.array(x_valid)\n",
    "x_test= np.array(x_test)\n",
    "y_test=np.array(y_test)\n",
    "y_train=np.array(y_train)\n",
    "y_valid=np.array(y_valid)\n",
    "\n",
    "\n",
    "X_train= np.concatenate((x_train, x_valid))\n",
    "Y_train= np.concatenate((y_train, y_valid))\n",
    "x, y, z= X_train.shape\n",
    "X_train=X_train.reshape(x, y*z)\n",
    "t, u, v= x_test.shape\n",
    "x_test= x_test.reshape(t, u*v)\n",
    "\n",
    "print(X_train.shape, x_test.shape, Y_train.shape, y_test.shape )"
   ]
  },
  {
   "cell_type": "code",
   "execution_count": 218,
   "metadata": {},
   "outputs": [
    {
     "name": "stdout",
     "output_type": "stream",
     "text": [
      "\n",
      "\n",
      "[2020-07-23 12:52:19 RAM79.7% 1.64GB] Starting classification with SVM:\n",
      "\n",
      "\n",
      "[2020-07-23 12:52:19 RAM79.7% 1.64GB] classification Beehive State into : Active or Missing Queen\n",
      "[2020-07-23 12:55:16 RAM68.2% 1.66GB] Accuracy:  0.8614109483423285\n",
      "[2020-07-23 12:55:16 RAM68.2% 1.66GB] Precision: 0.9213174748398902\n",
      "[2020-07-23 12:55:16 RAM68.2% 1.66GB] Recall: 0.786411557985162\n",
      "[2020-07-23 12:55:16 RAM68.2% 1.66GB] MAE: 0.139\n"
     ]
    }
   ],
   "source": [
    "# evaluation of a model using 88 features chosen with mutual information\n",
    "from sklearn.datasets import make_regression\n",
    "from sklearn.model_selection import train_test_split\n",
    "from sklearn.feature_selection import SelectKBest\n",
    "from sklearn.feature_selection import mutual_info_regression\n",
    "from sklearn.linear_model import LinearRegression\n",
    "from sklearn.metrics import mean_absolute_error\n",
    "#Running the example fits the model on the 100 top selected features chosen using mutual information. \n",
    "# feature selection\n",
    "def select_features(X_train, y_train, X_test):\n",
    "    # configure to select a subset of features\n",
    "    fs = SelectKBest(score_func=mutual_info_regression, k=100)\n",
    "    # learn relationship from training data\n",
    "    fs.fit(X_train, y_train)\n",
    "    # transform train input data\n",
    "    X_train_fs = fs.transform(X_train)\n",
    "    # transform test input data\n",
    "    X_test_fs = fs.transform(X_test)\n",
    "    return X_train_fs, X_test_fs, fs\n",
    "\n",
    "# feature selection\n",
    "X_train_fs, X_test_fs, fs = select_features(X_train, Y_train, x_test)\n",
    "# fit the model\n",
    "CLF, Test_GroundT, Train_GroundT, Test_Preds, Train_Preds, Test_Preds_Proba, Train_Preds_Proba = SVM_Classification_BeehiveSTATE(X_train_fs, Y_train , X_test_fs, y_test, kerneloption='rbf')\n",
    "# Metrics\n",
    "print(\"Accuracy: \", metrics.accuracy_score( Test_GroundT, Test_Preds))\n",
    "# Model Precision: what percentage of positive tuples are labeled as such?\n",
    "print(\"Precision:\",metrics.precision_score(Test_GroundT, Test_Preds))\n",
    "# Model Recall: what percentage of positive tuples are labelled as such?\n",
    "print(\"Recall:\",metrics.recall_score(Test_GroundT, Test_Preds))\n",
    "\n",
    "mae = mean_absolute_error(Test_GroundT, Test_Preds)\n",
    "print('MAE: %.3f' % mae)\n"
   ]
  },
  {
   "cell_type": "code",
   "execution_count": 219,
   "metadata": {},
   "outputs": [
    {
     "name": "stdout",
     "output_type": "stream",
     "text": [
      "Confusion matrix, without normalization\n",
      "[[2455  172]\n",
      " [ 547 2014]]\n"
     ]
    },
    {
     "data": {
      "image/png": "[encoded data removed]",
      "text/plain": [
       "<Figure size 432x288 with 2 Axes>"
      ]
     },
     "metadata": {
      "needs_background": "light"
     },
     "output_type": "display_data"
    },
    {
     "name": "stdout",
     "output_type": "stream",
     "text": [
      "[2020-07-23 13:44:11 RAM61.6% 1.38GB] \n",
      "Clasification report TTBOX + SVM_LDA:\n",
      "                precision    recall  f1-score   support\n",
      "\n",
      "missing_queen       0.82      0.93      0.87      2627\n",
      "       active       0.92      0.79      0.85      2561\n",
      "\n",
      "     accuracy                           0.86      5188\n",
      "    macro avg       0.87      0.86      0.86      5188\n",
      " weighted avg       0.87      0.86      0.86      5188\n",
      "\n"
     ]
    }
   ],
   "source": [
    "# Compute confusion matrix\n",
    "cnf_matrix = confusion_matrix(Test_GroundT, Test_Preds )\n",
    "np.set_printoptions(precision=2)\n",
    "\n",
    "# Plot non-normalized confusion matrix\n",
    "plt.figure()\n",
    "plot_confusion_matrix(cnf_matrix, classes=class_names,\n",
    "                      title='ttbox + SVM_LDA Confusion matrix, without normalization')\n",
    "plt.show()\n",
    "# Plot normalized confusion matrix\n",
    "\n",
    "plt.show()\n",
    "target_names=['missing_queen', 'active']\n",
    "print ('\\nClasification report TTBOX + SVM_LDA:\\n', classification_report(Test_GroundT, Test_Preds , target_names=target_names))"
   ]
  },
  {
   "cell_type": "code",
   "execution_count": null,
   "metadata": {},
   "outputs": [],
   "source": [
    "\n"
   ]
  },
  {
   "cell_type": "code",
   "execution_count": null,
   "metadata": {},
   "outputs": [],
   "source": []
  },
  {
   "cell_type": "markdown",
   "metadata": {},
   "source": [
    "# TTBOX+ DNN_PCA:"
   ]
  },
  {
   "cell_type": "code",
   "execution_count": 156,
   "metadata": {},
   "outputs": [
    {
     "name": "stdout",
     "output_type": "stream",
     "text": [
      "[2020-07-20 16:35:33 RAM71.9% 0.49GB] 6053 6054 5188 6053 6054 5188\n",
      "[2020-07-20 16:35:33 RAM72.2% 0.53GB] (12107, 1, 164) (5188, 1, 164) (12107,) (5188,)\n"
     ]
    }
   ],
   "source": [
    "path_save_audio= 'C:\\\\Users\\\\PC\\\\python\\\\Stage\\\\dataset_BeeNoBee_2_second'+str(block_size)+'sec'+'\\\\ttb_mat'+os.sep \n",
    "#x_train, x_valid, x_test, y_train, y_valid, y_test = get_list_samples_name_TTBOX(path_save_audio, sample_ids_test, sample_ids_val, sample_ids_train)\n",
    "x_test,y_test,labels_test, x_train,y_train,labels_train,  x_valid,y_valid,labels_valid, val_test, val_train, val_valid= get_list_samples_name_benetos( 'ttb_vec', path_save_audio ,sample_ids_test, sample_ids_val, sample_ids_train )\n",
    "\n",
    "print(len(x_train), len(x_valid), len(x_test) , len(y_train), len(y_valid), len(y_test))\n",
    "x_train= np.array(x_train)\n",
    "x_valid= np.array(x_valid)\n",
    "x_test= np.array(x_test)\n",
    "y_test=np.array(y_test)\n",
    "y_train=np.array(y_train)\n",
    "y_valid=np.array(y_valid)\n",
    "\n",
    "\n",
    "X_train= np.concatenate((x_train, x_valid))\n",
    "Y_train= np.concatenate((y_train, y_valid))\n",
    "\n",
    "print(X_train.shape, x_test.shape, Y_train.shape, y_test.shape )\n"
   ]
  },
  {
   "cell_type": "code",
   "execution_count": 157,
   "metadata": {},
   "outputs": [
    {
     "name": "stdout",
     "output_type": "stream",
     "text": [
      "[2020-07-20 16:35:33 RAM70.9% 0.42GB] (12107, 164) (5188, 164) (12107,) (5188,)\n",
      "[2020-07-20 16:35:33 RAM70.9% 0.42GB] calculate PCA \n",
      "[2020-07-20 16:35:34 RAM70.8% 0.42GB] (12107, 2) (5188, 2)\n",
      "[2020-07-20 16:35:34 RAM70.9% 0.42GB] (12107, 2) (5188, 2)\n"
     ]
    }
   ],
   "source": [
    "from sklearn.decomposition import PCA\n",
    "from keras.utils import np_utils\n",
    "\n",
    "\n",
    "X_train_flat=X_train.reshape(-1, 164)\n",
    "x_test_flat= x_test.reshape(-1, 164)\n",
    "print(X_train_flat.shape, x_test_flat.shape, Y_train.shape, y_test.shape )\n",
    "print(\"calculate PCA \")\n",
    "pca=PCA(0.9)\n",
    "pca.fit(X_train_flat)\n",
    "x_train_pca= pca.transform(X_train_flat)\n",
    "x_test_pca= pca.transform(x_test_flat)\n",
    "print(x_train_pca.shape, x_test_pca.shape)\n",
    "y_train = np_utils.to_categorical(Y_train)\n",
    "y_test = np_utils.to_categorical(y_test)\n",
    "print(y_train.shape, y_test.shape)"
   ]
  },
  {
   "cell_type": "code",
   "execution_count": 158,
   "metadata": {},
   "outputs": [
    {
     "name": "stdout",
     "output_type": "stream",
     "text": [
      "Model: \"sequential_8\"\n",
      "_________________________________________________________________\n",
      "Layer (type)                 Output Shape              Param #   \n",
      "=================================================================\n",
      "dense_36 (Dense)             (None, 1024)              3072      \n",
      "_________________________________________________________________\n",
      "dense_37 (Dense)             (None, 1024)              1049600   \n",
      "_________________________________________________________________\n",
      "dense_38 (Dense)             (None, 512)               524800    \n",
      "_________________________________________________________________\n",
      "dense_39 (Dense)             (None, 256)               131328    \n",
      "_________________________________________________________________\n",
      "dense_40 (Dense)             (None, 2)                 514       \n",
      "=================================================================\n",
      "Total params: 1,709,314\n",
      "Trainable params: 1,709,314\n",
      "Non-trainable params: 0\n",
      "_________________________________________________________________\n"
     ]
    }
   ],
   "source": [
    "batch_size=128\n",
    "num_classes=2\n",
    "epochs=20\n",
    "\n",
    "model=Sequential()\n",
    "model.add(Dense(1024, activation='relu', input_shape=(2, )))\n",
    "model.add(Dense(1024, activation='relu'))\n",
    "model.add(Dense(512, activation='relu'))\n",
    "model.add(Dense(256, activation='relu'))\n",
    "model.add(Dense(num_classes, activation='softmax'))\n",
    "model.summary()"
   ]
  },
  {
   "cell_type": "code",
   "execution_count": 159,
   "metadata": {},
   "outputs": [
    {
     "name": "stdout",
     "output_type": "stream",
     "text": [
      "Train on 12107 samples, validate on 5188 samples\n",
      "Epoch 1/20\n",
      "12107/12107 [==============================] - ETA: 13s - loss: 33.6593 - accuracy: 0.45 - ETA: 6s - loss: 366.8139 - accuracy: 0.48 - ETA: 4s - loss: 243.6891 - accuracy: 0.53 - ETA: 4s - loss: 179.0405 - accuracy: 0.56 - ETA: 3s - loss: 142.3543 - accuracy: 0.59 - ETA: 3s - loss: 117.1848 - accuracy: 0.62 - ETA: 3s - loss: 100.7817 - accuracy: 0.61 - ETA: 3s - loss: 87.8590 - accuracy: 0.6323 - ETA: 3s - loss: 78.2703 - accuracy: 0.632 - ETA: 3s - loss: 70.4790 - accuracy: 0.641 - ETA: 3s - loss: 63.9997 - accuracy: 0.645 - ETA: 2s - loss: 58.6604 - accuracy: 0.655 - ETA: 2s - loss: 54.5299 - accuracy: 0.651 - ETA: 2s - loss: 52.6560 - accuracy: 0.655 - ETA: 2s - loss: 49.0005 - accuracy: 0.657 - ETA: 2s - loss: 45.8106 - accuracy: 0.664 - ETA: 2s - loss: 43.1062 - accuracy: 0.665 - ETA: 2s - loss: 40.7441 - accuracy: 0.665 - ETA: 2s - loss: 38.8180 - accuracy: 0.664 - ETA: 2s - loss: 36.9686 - accuracy: 0.661 - ETA: 2s - loss: 35.2960 - accuracy: 0.662 - ETA: 2s - loss: 33.7887 - accuracy: 0.658 - ETA: 2s - loss: 32.4185 - accuracy: 0.661 - ETA: 1s - loss: 31.0479 - accuracy: 0.664 - ETA: 1s - loss: 29.8065 - accuracy: 0.668 - ETA: 1s - loss: 28.7296 - accuracy: 0.663 - ETA: 1s - loss: 27.7862 - accuracy: 0.659 - ETA: 1s - loss: 26.8335 - accuracy: 0.660 - ETA: 1s - loss: 26.4153 - accuracy: 0.658 - ETA: 1s - loss: 25.5878 - accuracy: 0.660 - ETA: 1s - loss: 24.7668 - accuracy: 0.663 - ETA: 1s - loss: 24.0076 - accuracy: 0.663 - ETA: 1s - loss: 23.2967 - accuracy: 0.661 - ETA: 1s - loss: 22.6347 - accuracy: 0.663 - ETA: 1s - loss: 22.0016 - accuracy: 0.662 - ETA: 1s - loss: 21.4101 - accuracy: 0.662 - ETA: 0s - loss: 20.8562 - accuracy: 0.664 - ETA: 0s - loss: 20.3077 - accuracy: 0.664 - ETA: 0s - loss: 19.8001 - accuracy: 0.665 - ETA: 0s - loss: 19.3084 - accuracy: 0.665 - ETA: 0s - loss: 18.8452 - accuracy: 0.667 - ETA: 0s - loss: 18.4172 - accuracy: 0.668 - ETA: 0s - loss: 18.0455 - accuracy: 0.666 - ETA: 0s - loss: 17.8384 - accuracy: 0.667 - ETA: 0s - loss: 17.4598 - accuracy: 0.666 - ETA: 0s - loss: 17.0983 - accuracy: 0.668 - ETA: 0s - loss: 16.7336 - accuracy: 0.667 - ETA: 0s - loss: 16.3886 - accuracy: 0.670 - ETA: 0s - loss: 16.0575 - accuracy: 0.670 - 4s 333us/step - loss: 15.9639 - accuracy: 0.6711 - val_loss: 0.6744 - val_accuracy: 0.7583\n",
      "Epoch 2/20\n",
      "12107/12107 [==============================] - ETA: 3s - loss: 0.4622 - accuracy: 0.78 - ETA: 4s - loss: 0.4774 - accuracy: 0.79 - ETA: 3s - loss: 0.6281 - accuracy: 0.71 - ETA: 3s - loss: 0.6947 - accuracy: 0.71 - ETA: 3s - loss: 0.7273 - accuracy: 0.70 - ETA: 3s - loss: 0.7899 - accuracy: 0.70 - ETA: 3s - loss: 0.8191 - accuracy: 0.70 - ETA: 3s - loss: 0.7642 - accuracy: 0.71 - ETA: 3s - loss: 0.7373 - accuracy: 0.72 - ETA: 3s - loss: 0.7151 - accuracy: 0.72 - ETA: 2s - loss: 0.6902 - accuracy: 0.72 - ETA: 2s - loss: 0.7210 - accuracy: 0.72 - ETA: 2s - loss: 0.7410 - accuracy: 0.71 - ETA: 2s - loss: 0.7593 - accuracy: 0.71 - ETA: 2s - loss: 0.7482 - accuracy: 0.71 - ETA: 2s - loss: 0.7781 - accuracy: 0.71 - ETA: 2s - loss: 0.7772 - accuracy: 0.71 - ETA: 2s - loss: 0.7633 - accuracy: 0.72 - ETA: 2s - loss: 0.7653 - accuracy: 0.71 - ETA: 2s - loss: 0.7564 - accuracy: 0.72 - ETA: 2s - loss: 0.7563 - accuracy: 0.72 - ETA: 2s - loss: 0.7724 - accuracy: 0.71 - ETA: 2s - loss: 0.7853 - accuracy: 0.71 - ETA: 1s - loss: 0.8024 - accuracy: 0.70 - ETA: 1s - loss: 0.8038 - accuracy: 0.70 - ETA: 1s - loss: 0.7912 - accuracy: 0.71 - ETA: 1s - loss: 0.7813 - accuracy: 0.71 - ETA: 1s - loss: 0.7700 - accuracy: 0.71 - ETA: 1s - loss: 0.7570 - accuracy: 0.71 - ETA: 1s - loss: 0.7476 - accuracy: 0.71 - ETA: 1s - loss: 0.7382 - accuracy: 0.72 - ETA: 1s - loss: 0.7295 - accuracy: 0.72 - ETA: 1s - loss: 0.7227 - accuracy: 0.72 - ETA: 1s - loss: 0.7179 - accuracy: 0.72 - ETA: 1s - loss: 0.7333 - accuracy: 0.72 - ETA: 1s - loss: 0.7347 - accuracy: 0.72 - ETA: 1s - loss: 0.7331 - accuracy: 0.72 - ETA: 0s - loss: 0.7296 - accuracy: 0.72 - ETA: 0s - loss: 0.7314 - accuracy: 0.72 - ETA: 0s - loss: 0.7288 - accuracy: 0.72 - ETA: 0s - loss: 0.7256 - accuracy: 0.71 - ETA: 0s - loss: 0.7190 - accuracy: 0.72 - ETA: 0s - loss: 0.7140 - accuracy: 0.72 - ETA: 0s - loss: 0.7105 - accuracy: 0.72 - ETA: 0s - loss: 0.7048 - accuracy: 0.72 - ETA: 0s - loss: 0.6992 - accuracy: 0.72 - ETA: 0s - loss: 0.6931 - accuracy: 0.72 - ETA: 0s - loss: 0.6872 - accuracy: 0.72 - ETA: 0s - loss: 0.6845 - accuracy: 0.72 - ETA: 0s - loss: 0.6796 - accuracy: 0.72 - 4s 326us/step - loss: 0.6781 - accuracy: 0.7297 - val_loss: 1.2124 - val_accuracy: 0.5727\n",
      "Epoch 3/20\n",
      "12107/12107 [==============================] - ETA: 3s - loss: 1.0098 - accuracy: 0.62 - ETA: 3s - loss: 0.6678 - accuracy: 0.69 - ETA: 3s - loss: 0.7408 - accuracy: 0.64 - ETA: 3s - loss: 0.6789 - accuracy: 0.67 - ETA: 3s - loss: 0.6444 - accuracy: 0.69 - ETA: 2s - loss: 0.6103 - accuracy: 0.70 - ETA: 2s - loss: 0.5902 - accuracy: 0.71 - ETA: 2s - loss: 0.5704 - accuracy: 0.71 - ETA: 2s - loss: 0.5559 - accuracy: 0.72 - ETA: 2s - loss: 0.5459 - accuracy: 0.72 - ETA: 2s - loss: 0.5418 - accuracy: 0.72 - ETA: 2s - loss: 0.5379 - accuracy: 0.72 - ETA: 2s - loss: 0.5345 - accuracy: 0.73 - ETA: 2s - loss: 0.5251 - accuracy: 0.73 - ETA: 2s - loss: 0.5226 - accuracy: 0.74 - ETA: 2s - loss: 0.5192 - accuracy: 0.74 - ETA: 2s - loss: 0.5140 - accuracy: 0.74 - ETA: 2s - loss: 0.5105 - accuracy: 0.74 - ETA: 2s - loss: 0.5115 - accuracy: 0.74 - ETA: 2s - loss: 0.5143 - accuracy: 0.74 - ETA: 2s - loss: 0.5149 - accuracy: 0.74 - ETA: 2s - loss: 0.5154 - accuracy: 0.74 - ETA: 2s - loss: 0.5176 - accuracy: 0.74 - ETA: 2s - loss: 0.5158 - accuracy: 0.74 - ETA: 1s - loss: 0.5144 - accuracy: 0.74 - ETA: 1s - loss: 0.5114 - accuracy: 0.74 - ETA: 1s - loss: 0.5104 - accuracy: 0.74 - ETA: 1s - loss: 0.5067 - accuracy: 0.74 - ETA: 1s - loss: 0.5029 - accuracy: 0.74 - ETA: 1s - loss: 0.5013 - accuracy: 0.74 - ETA: 1s - loss: 0.4994 - accuracy: 0.75 - ETA: 1s - loss: 0.4993 - accuracy: 0.75 - ETA: 1s - loss: 0.4965 - accuracy: 0.75 - ETA: 1s - loss: 0.4970 - accuracy: 0.75 - ETA: 1s - loss: 0.4988 - accuracy: 0.75 - ETA: 1s - loss: 0.4980 - accuracy: 0.75 - ETA: 1s - loss: 0.4980 - accuracy: 0.75 - ETA: 0s - loss: 0.4964 - accuracy: 0.75 - ETA: 0s - loss: 0.4969 - accuracy: 0.75 - ETA: 0s - loss: 0.4972 - accuracy: 0.75 - ETA: 0s - loss: 0.4976 - accuracy: 0.75 - ETA: 0s - loss: 0.4967 - accuracy: 0.75 - ETA: 0s - loss: 0.4955 - accuracy: 0.75 - ETA: 0s - loss: 0.4955 - accuracy: 0.75 - ETA: 0s - loss: 0.4943 - accuracy: 0.75 - ETA: 0s - loss: 0.4950 - accuracy: 0.75 - ETA: 0s - loss: 0.4939 - accuracy: 0.75 - ETA: 0s - loss: 0.4926 - accuracy: 0.75 - ETA: 0s - loss: 0.4920 - accuracy: 0.75 - ETA: 0s - loss: 0.4919 - accuracy: 0.75 - 4s 335us/step - loss: 0.4919 - accuracy: 0.7575 - val_loss: 0.4745 - val_accuracy: 0.7515\n",
      "Epoch 4/20\n"
     ]
    },
    {
     "name": "stdout",
     "output_type": "stream",
     "text": [
      "12107/12107 [==============================] - ETA: 4s - loss: 0.5087 - accuracy: 0.73 - ETA: 4s - loss: 0.4510 - accuracy: 0.77 - ETA: 3s - loss: 0.4550 - accuracy: 0.76 - ETA: 3s - loss: 0.4703 - accuracy: 0.76 - ETA: 3s - loss: 0.4602 - accuracy: 0.77 - ETA: 3s - loss: 0.4680 - accuracy: 0.76 - ETA: 3s - loss: 0.4804 - accuracy: 0.76 - ETA: 3s - loss: 0.4764 - accuracy: 0.76 - ETA: 3s - loss: 0.4714 - accuracy: 0.77 - ETA: 2s - loss: 0.4609 - accuracy: 0.77 - ETA: 2s - loss: 0.4581 - accuracy: 0.77 - ETA: 2s - loss: 0.4598 - accuracy: 0.77 - ETA: 2s - loss: 0.4597 - accuracy: 0.76 - ETA: 2s - loss: 0.4709 - accuracy: 0.76 - ETA: 2s - loss: 0.4773 - accuracy: 0.76 - ETA: 2s - loss: 0.4753 - accuracy: 0.76 - ETA: 2s - loss: 0.4750 - accuracy: 0.76 - ETA: 2s - loss: 0.4725 - accuracy: 0.76 - ETA: 2s - loss: 0.4695 - accuracy: 0.76 - ETA: 2s - loss: 0.4662 - accuracy: 0.77 - ETA: 2s - loss: 0.4605 - accuracy: 0.77 - ETA: 2s - loss: 0.4646 - accuracy: 0.77 - ETA: 1s - loss: 0.4617 - accuracy: 0.77 - ETA: 1s - loss: 0.4637 - accuracy: 0.77 - ETA: 1s - loss: 0.4629 - accuracy: 0.77 - ETA: 1s - loss: 0.4633 - accuracy: 0.77 - ETA: 1s - loss: 0.4647 - accuracy: 0.77 - ETA: 1s - loss: 0.4641 - accuracy: 0.77 - ETA: 1s - loss: 0.4635 - accuracy: 0.77 - ETA: 1s - loss: 0.4624 - accuracy: 0.77 - ETA: 1s - loss: 0.4645 - accuracy: 0.77 - ETA: 1s - loss: 0.4639 - accuracy: 0.77 - ETA: 1s - loss: 0.4625 - accuracy: 0.77 - ETA: 1s - loss: 0.4622 - accuracy: 0.77 - ETA: 1s - loss: 0.4620 - accuracy: 0.77 - ETA: 1s - loss: 0.4627 - accuracy: 0.77 - ETA: 0s - loss: 0.4623 - accuracy: 0.77 - ETA: 0s - loss: 0.4624 - accuracy: 0.77 - ETA: 0s - loss: 0.4607 - accuracy: 0.77 - ETA: 0s - loss: 0.4595 - accuracy: 0.77 - ETA: 0s - loss: 0.4595 - accuracy: 0.77 - ETA: 0s - loss: 0.4591 - accuracy: 0.77 - ETA: 0s - loss: 0.4582 - accuracy: 0.77 - ETA: 0s - loss: 0.4576 - accuracy: 0.77 - ETA: 0s - loss: 0.4555 - accuracy: 0.77 - ETA: 0s - loss: 0.4559 - accuracy: 0.77 - ETA: 0s - loss: 0.4562 - accuracy: 0.77 - ETA: 0s - loss: 0.4559 - accuracy: 0.77 - ETA: 0s - loss: 0.4562 - accuracy: 0.77 - 4s 332us/step - loss: 0.4563 - accuracy: 0.7776 - val_loss: 0.4864 - val_accuracy: 0.7766\n",
      "Epoch 5/20\n",
      "12107/12107 [==============================] - ETA: 3s - loss: 0.5393 - accuracy: 0.74 - ETA: 3s - loss: 0.4974 - accuracy: 0.75 - ETA: 3s - loss: 0.4900 - accuracy: 0.74 - ETA: 3s - loss: 0.4984 - accuracy: 0.75 - ETA: 3s - loss: 0.4834 - accuracy: 0.76 - ETA: 3s - loss: 0.4751 - accuracy: 0.76 - ETA: 3s - loss: 0.4723 - accuracy: 0.77 - ETA: 3s - loss: 0.4684 - accuracy: 0.76 - ETA: 2s - loss: 0.4591 - accuracy: 0.77 - ETA: 2s - loss: 0.4569 - accuracy: 0.77 - ETA: 2s - loss: 0.4555 - accuracy: 0.77 - ETA: 2s - loss: 0.4624 - accuracy: 0.77 - ETA: 2s - loss: 0.4609 - accuracy: 0.77 - ETA: 2s - loss: 0.4599 - accuracy: 0.77 - ETA: 2s - loss: 0.4599 - accuracy: 0.77 - ETA: 2s - loss: 0.4563 - accuracy: 0.77 - ETA: 2s - loss: 0.4564 - accuracy: 0.77 - ETA: 2s - loss: 0.4551 - accuracy: 0.77 - ETA: 2s - loss: 0.4541 - accuracy: 0.77 - ETA: 2s - loss: 0.4546 - accuracy: 0.77 - ETA: 2s - loss: 0.4544 - accuracy: 0.77 - ETA: 1s - loss: 0.4503 - accuracy: 0.77 - ETA: 1s - loss: 0.4500 - accuracy: 0.78 - ETA: 1s - loss: 0.4511 - accuracy: 0.77 - ETA: 1s - loss: 0.4518 - accuracy: 0.77 - ETA: 1s - loss: 0.4513 - accuracy: 0.77 - ETA: 1s - loss: 0.4510 - accuracy: 0.77 - ETA: 1s - loss: 0.4528 - accuracy: 0.77 - ETA: 1s - loss: 0.4510 - accuracy: 0.77 - ETA: 1s - loss: 0.4529 - accuracy: 0.77 - ETA: 1s - loss: 0.4510 - accuracy: 0.77 - ETA: 1s - loss: 0.4514 - accuracy: 0.77 - ETA: 1s - loss: 0.4495 - accuracy: 0.77 - ETA: 1s - loss: 0.4494 - accuracy: 0.78 - ETA: 0s - loss: 0.4475 - accuracy: 0.78 - ETA: 0s - loss: 0.4451 - accuracy: 0.78 - ETA: 0s - loss: 0.4460 - accuracy: 0.78 - ETA: 0s - loss: 0.4466 - accuracy: 0.78 - ETA: 0s - loss: 0.4465 - accuracy: 0.78 - ETA: 0s - loss: 0.4470 - accuracy: 0.78 - ETA: 0s - loss: 0.4479 - accuracy: 0.78 - ETA: 0s - loss: 0.4480 - accuracy: 0.78 - ETA: 0s - loss: 0.4480 - accuracy: 0.78 - ETA: 0s - loss: 0.4483 - accuracy: 0.78 - ETA: 0s - loss: 0.4481 - accuracy: 0.78 - ETA: 0s - loss: 0.4476 - accuracy: 0.78 - ETA: 0s - loss: 0.4490 - accuracy: 0.77 - 4s 326us/step - loss: 0.4480 - accuracy: 0.7805 - val_loss: 0.4695 - val_accuracy: 0.7886\n",
      "Epoch 6/20\n",
      "12107/12107 [==============================] - ETA: 3s - loss: 0.4717 - accuracy: 0.77 - ETA: 3s - loss: 0.4657 - accuracy: 0.76 - ETA: 3s - loss: 0.4477 - accuracy: 0.77 - ETA: 3s - loss: 0.4549 - accuracy: 0.77 - ETA: 3s - loss: 0.4640 - accuracy: 0.77 - ETA: 3s - loss: 0.4712 - accuracy: 0.77 - ETA: 2s - loss: 0.4610 - accuracy: 0.77 - ETA: 2s - loss: 0.4628 - accuracy: 0.77 - ETA: 2s - loss: 0.4631 - accuracy: 0.77 - ETA: 2s - loss: 0.4631 - accuracy: 0.77 - ETA: 2s - loss: 0.4599 - accuracy: 0.77 - ETA: 2s - loss: 0.4533 - accuracy: 0.78 - ETA: 2s - loss: 0.4517 - accuracy: 0.78 - ETA: 2s - loss: 0.4594 - accuracy: 0.78 - ETA: 2s - loss: 0.4573 - accuracy: 0.78 - ETA: 2s - loss: 0.4616 - accuracy: 0.77 - ETA: 2s - loss: 0.4569 - accuracy: 0.78 - ETA: 2s - loss: 0.4532 - accuracy: 0.78 - ETA: 2s - loss: 0.4503 - accuracy: 0.78 - ETA: 2s - loss: 0.4550 - accuracy: 0.78 - ETA: 2s - loss: 0.4511 - accuracy: 0.78 - ETA: 2s - loss: 0.4506 - accuracy: 0.78 - ETA: 1s - loss: 0.4490 - accuracy: 0.78 - ETA: 1s - loss: 0.4462 - accuracy: 0.79 - ETA: 1s - loss: 0.4483 - accuracy: 0.78 - ETA: 1s - loss: 0.4484 - accuracy: 0.78 - ETA: 1s - loss: 0.4465 - accuracy: 0.78 - ETA: 1s - loss: 0.4453 - accuracy: 0.78 - ETA: 1s - loss: 0.4462 - accuracy: 0.78 - ETA: 1s - loss: 0.4486 - accuracy: 0.78 - ETA: 1s - loss: 0.4505 - accuracy: 0.78 - ETA: 1s - loss: 0.4491 - accuracy: 0.78 - ETA: 1s - loss: 0.4503 - accuracy: 0.78 - ETA: 1s - loss: 0.4498 - accuracy: 0.78 - ETA: 1s - loss: 0.4498 - accuracy: 0.78 - ETA: 0s - loss: 0.4496 - accuracy: 0.78 - ETA: 0s - loss: 0.4488 - accuracy: 0.78 - ETA: 0s - loss: 0.4493 - accuracy: 0.78 - ETA: 0s - loss: 0.4496 - accuracy: 0.78 - ETA: 0s - loss: 0.4494 - accuracy: 0.78 - ETA: 0s - loss: 0.4493 - accuracy: 0.78 - ETA: 0s - loss: 0.4488 - accuracy: 0.78 - ETA: 0s - loss: 0.4480 - accuracy: 0.78 - ETA: 0s - loss: 0.4471 - accuracy: 0.78 - ETA: 0s - loss: 0.4467 - accuracy: 0.78 - ETA: 0s - loss: 0.4482 - accuracy: 0.78 - ETA: 0s - loss: 0.4463 - accuracy: 0.78 - ETA: 0s - loss: 0.4462 - accuracy: 0.78 - ETA: 0s - loss: 0.4458 - accuracy: 0.78 - 4s 322us/step - loss: 0.4452 - accuracy: 0.7876 - val_loss: 0.4606 - val_accuracy: 0.7818\n",
      "Epoch 7/20\n"
     ]
    },
    {
     "name": "stdout",
     "output_type": "stream",
     "text": [
      "12107/12107 [==============================] - ETA: 3s - loss: 0.4619 - accuracy: 0.79 - ETA: 3s - loss: 0.4405 - accuracy: 0.79 - ETA: 3s - loss: 0.4360 - accuracy: 0.79 - ETA: 3s - loss: 0.4178 - accuracy: 0.80 - ETA: 3s - loss: 0.4101 - accuracy: 0.80 - ETA: 3s - loss: 0.4136 - accuracy: 0.80 - ETA: 3s - loss: 0.4233 - accuracy: 0.79 - ETA: 3s - loss: 0.4191 - accuracy: 0.80 - ETA: 3s - loss: 0.4182 - accuracy: 0.80 - ETA: 3s - loss: 0.4233 - accuracy: 0.79 - ETA: 3s - loss: 0.4243 - accuracy: 0.79 - ETA: 2s - loss: 0.4288 - accuracy: 0.79 - ETA: 2s - loss: 0.4320 - accuracy: 0.79 - ETA: 2s - loss: 0.4314 - accuracy: 0.79 - ETA: 2s - loss: 0.4299 - accuracy: 0.79 - ETA: 2s - loss: 0.4252 - accuracy: 0.79 - ETA: 2s - loss: 0.4232 - accuracy: 0.79 - ETA: 2s - loss: 0.4204 - accuracy: 0.79 - ETA: 2s - loss: 0.4259 - accuracy: 0.79 - ETA: 2s - loss: 0.4264 - accuracy: 0.79 - ETA: 2s - loss: 0.4277 - accuracy: 0.79 - ETA: 2s - loss: 0.4268 - accuracy: 0.79 - ETA: 2s - loss: 0.4270 - accuracy: 0.79 - ETA: 1s - loss: 0.4279 - accuracy: 0.79 - ETA: 1s - loss: 0.4281 - accuracy: 0.79 - ETA: 1s - loss: 0.4297 - accuracy: 0.79 - ETA: 1s - loss: 0.4304 - accuracy: 0.79 - ETA: 1s - loss: 0.4312 - accuracy: 0.79 - ETA: 1s - loss: 0.4342 - accuracy: 0.78 - ETA: 1s - loss: 0.4365 - accuracy: 0.78 - ETA: 1s - loss: 0.4369 - accuracy: 0.78 - ETA: 1s - loss: 0.4374 - accuracy: 0.78 - ETA: 1s - loss: 0.4360 - accuracy: 0.78 - ETA: 1s - loss: 0.4373 - accuracy: 0.78 - ETA: 1s - loss: 0.4374 - accuracy: 0.78 - ETA: 1s - loss: 0.4387 - accuracy: 0.78 - ETA: 0s - loss: 0.4398 - accuracy: 0.78 - ETA: 0s - loss: 0.4386 - accuracy: 0.78 - ETA: 0s - loss: 0.4380 - accuracy: 0.78 - ETA: 0s - loss: 0.4389 - accuracy: 0.78 - ETA: 0s - loss: 0.4418 - accuracy: 0.78 - ETA: 0s - loss: 0.4413 - accuracy: 0.78 - ETA: 0s - loss: 0.4418 - accuracy: 0.78 - ETA: 0s - loss: 0.4412 - accuracy: 0.78 - ETA: 0s - loss: 0.4413 - accuracy: 0.78 - ETA: 0s - loss: 0.4419 - accuracy: 0.78 - ETA: 0s - loss: 0.4428 - accuracy: 0.78 - ETA: 0s - loss: 0.4419 - accuracy: 0.78 - ETA: 0s - loss: 0.4421 - accuracy: 0.78 - 4s 329us/step - loss: 0.4417 - accuracy: 0.7873 - val_loss: 0.4386 - val_accuracy: 0.7814\n",
      "Epoch 8/20\n",
      "12107/12107 [==============================] - ETA: 3s - loss: 0.4831 - accuracy: 0.78 - ETA: 3s - loss: 0.4788 - accuracy: 0.76 - ETA: 3s - loss: 0.4657 - accuracy: 0.76 - ETA: 3s - loss: 0.4573 - accuracy: 0.77 - ETA: 3s - loss: 0.4442 - accuracy: 0.78 - ETA: 3s - loss: 0.4604 - accuracy: 0.78 - ETA: 3s - loss: 0.4557 - accuracy: 0.79 - ETA: 2s - loss: 0.4545 - accuracy: 0.79 - ETA: 2s - loss: 0.4506 - accuracy: 0.79 - ETA: 2s - loss: 0.4521 - accuracy: 0.78 - ETA: 2s - loss: 0.4483 - accuracy: 0.79 - ETA: 2s - loss: 0.4425 - accuracy: 0.79 - ETA: 2s - loss: 0.4395 - accuracy: 0.79 - ETA: 2s - loss: 0.4404 - accuracy: 0.79 - ETA: 2s - loss: 0.4413 - accuracy: 0.79 - ETA: 2s - loss: 0.4395 - accuracy: 0.78 - ETA: 2s - loss: 0.4416 - accuracy: 0.78 - ETA: 2s - loss: 0.4423 - accuracy: 0.78 - ETA: 2s - loss: 0.4392 - accuracy: 0.78 - ETA: 2s - loss: 0.4394 - accuracy: 0.78 - ETA: 2s - loss: 0.4392 - accuracy: 0.79 - ETA: 2s - loss: 0.4383 - accuracy: 0.78 - ETA: 1s - loss: 0.4380 - accuracy: 0.78 - ETA: 1s - loss: 0.4390 - accuracy: 0.78 - ETA: 1s - loss: 0.4416 - accuracy: 0.78 - ETA: 1s - loss: 0.4421 - accuracy: 0.78 - ETA: 1s - loss: 0.4406 - accuracy: 0.78 - ETA: 1s - loss: 0.4426 - accuracy: 0.78 - ETA: 1s - loss: 0.4414 - accuracy: 0.78 - ETA: 1s - loss: 0.4411 - accuracy: 0.78 - ETA: 1s - loss: 0.4388 - accuracy: 0.79 - ETA: 1s - loss: 0.4397 - accuracy: 0.78 - ETA: 1s - loss: 0.4401 - accuracy: 0.78 - ETA: 1s - loss: 0.4398 - accuracy: 0.78 - ETA: 1s - loss: 0.4393 - accuracy: 0.78 - ETA: 1s - loss: 0.4385 - accuracy: 0.79 - ETA: 0s - loss: 0.4387 - accuracy: 0.78 - ETA: 0s - loss: 0.4396 - accuracy: 0.78 - ETA: 0s - loss: 0.4400 - accuracy: 0.78 - ETA: 0s - loss: 0.4408 - accuracy: 0.78 - ETA: 0s - loss: 0.4407 - accuracy: 0.78 - ETA: 0s - loss: 0.4399 - accuracy: 0.78 - ETA: 0s - loss: 0.4392 - accuracy: 0.78 - ETA: 0s - loss: 0.4392 - accuracy: 0.78 - ETA: 0s - loss: 0.4377 - accuracy: 0.78 - ETA: 0s - loss: 0.4393 - accuracy: 0.78 - ETA: 0s - loss: 0.4387 - accuracy: 0.78 - ETA: 0s - loss: 0.4387 - accuracy: 0.78 - ETA: 0s - loss: 0.4388 - accuracy: 0.78 - ETA: 0s - loss: 0.4390 - accuracy: 0.78 - 4s 327us/step - loss: 0.4388 - accuracy: 0.7874 - val_loss: 0.4370 - val_accuracy: 0.7753\n",
      "Epoch 9/20\n",
      "12107/12107 [==============================] - ETA: 3s - loss: 0.4165 - accuracy: 0.75 - ETA: 3s - loss: 0.4859 - accuracy: 0.73 - ETA: 3s - loss: 0.4729 - accuracy: 0.74 - ETA: 3s - loss: 0.4679 - accuracy: 0.75 - ETA: 3s - loss: 0.4569 - accuracy: 0.76 - ETA: 3s - loss: 0.4534 - accuracy: 0.76 - ETA: 2s - loss: 0.4490 - accuracy: 0.76 - ETA: 2s - loss: 0.4417 - accuracy: 0.77 - ETA: 2s - loss: 0.4369 - accuracy: 0.77 - ETA: 2s - loss: 0.4367 - accuracy: 0.78 - ETA: 2s - loss: 0.4377 - accuracy: 0.78 - ETA: 2s - loss: 0.4361 - accuracy: 0.78 - ETA: 2s - loss: 0.4357 - accuracy: 0.78 - ETA: 2s - loss: 0.4304 - accuracy: 0.78 - ETA: 2s - loss: 0.4307 - accuracy: 0.78 - ETA: 2s - loss: 0.4310 - accuracy: 0.78 - ETA: 2s - loss: 0.4341 - accuracy: 0.78 - ETA: 2s - loss: 0.4349 - accuracy: 0.78 - ETA: 2s - loss: 0.4300 - accuracy: 0.78 - ETA: 2s - loss: 0.4295 - accuracy: 0.78 - ETA: 2s - loss: 0.4324 - accuracy: 0.78 - ETA: 2s - loss: 0.4315 - accuracy: 0.78 - ETA: 1s - loss: 0.4299 - accuracy: 0.79 - ETA: 1s - loss: 0.4320 - accuracy: 0.79 - ETA: 1s - loss: 0.4333 - accuracy: 0.78 - ETA: 1s - loss: 0.4335 - accuracy: 0.78 - ETA: 1s - loss: 0.4328 - accuracy: 0.78 - ETA: 1s - loss: 0.4311 - accuracy: 0.78 - ETA: 1s - loss: 0.4310 - accuracy: 0.78 - ETA: 1s - loss: 0.4317 - accuracy: 0.78 - ETA: 1s - loss: 0.4322 - accuracy: 0.78 - ETA: 1s - loss: 0.4309 - accuracy: 0.78 - ETA: 1s - loss: 0.4299 - accuracy: 0.78 - ETA: 1s - loss: 0.4302 - accuracy: 0.79 - ETA: 1s - loss: 0.4291 - accuracy: 0.79 - ETA: 1s - loss: 0.4291 - accuracy: 0.78 - ETA: 0s - loss: 0.4276 - accuracy: 0.79 - ETA: 0s - loss: 0.4271 - accuracy: 0.79 - ETA: 0s - loss: 0.4276 - accuracy: 0.79 - ETA: 0s - loss: 0.4280 - accuracy: 0.79 - ETA: 0s - loss: 0.4292 - accuracy: 0.79 - ETA: 0s - loss: 0.4302 - accuracy: 0.79 - ETA: 0s - loss: 0.4308 - accuracy: 0.79 - ETA: 0s - loss: 0.4304 - accuracy: 0.79 - ETA: 0s - loss: 0.4308 - accuracy: 0.79 - ETA: 0s - loss: 0.4322 - accuracy: 0.79 - ETA: 0s - loss: 0.4341 - accuracy: 0.78 - ETA: 0s - loss: 0.4352 - accuracy: 0.78 - ETA: 0s - loss: 0.4348 - accuracy: 0.78 - 4s 329us/step - loss: 0.4349 - accuracy: 0.7876 - val_loss: 0.4345 - val_accuracy: 0.7926\n",
      "Epoch 10/20\n"
     ]
    },
    {
     "name": "stdout",
     "output_type": "stream",
     "text": [
      "12107/12107 [==============================] - ETA: 3s - loss: 0.4327 - accuracy: 0.78 - ETA: 3s - loss: 0.4337 - accuracy: 0.79 - ETA: 3s - loss: 0.4368 - accuracy: 0.79 - ETA: 3s - loss: 0.4311 - accuracy: 0.79 - ETA: 3s - loss: 0.4293 - accuracy: 0.78 - ETA: 3s - loss: 0.4330 - accuracy: 0.78 - ETA: 3s - loss: 0.4348 - accuracy: 0.78 - ETA: 3s - loss: 0.4338 - accuracy: 0.78 - ETA: 3s - loss: 0.4370 - accuracy: 0.77 - ETA: 3s - loss: 0.4399 - accuracy: 0.77 - ETA: 2s - loss: 0.4402 - accuracy: 0.77 - ETA: 2s - loss: 0.4446 - accuracy: 0.77 - ETA: 2s - loss: 0.4412 - accuracy: 0.78 - ETA: 2s - loss: 0.4416 - accuracy: 0.78 - ETA: 2s - loss: 0.4409 - accuracy: 0.77 - ETA: 2s - loss: 0.4393 - accuracy: 0.78 - ETA: 2s - loss: 0.4426 - accuracy: 0.77 - ETA: 2s - loss: 0.4389 - accuracy: 0.78 - ETA: 2s - loss: 0.4394 - accuracy: 0.78 - ETA: 2s - loss: 0.4368 - accuracy: 0.78 - ETA: 2s - loss: 0.4394 - accuracy: 0.78 - ETA: 2s - loss: 0.4381 - accuracy: 0.78 - ETA: 1s - loss: 0.4362 - accuracy: 0.78 - ETA: 1s - loss: 0.4361 - accuracy: 0.78 - ETA: 1s - loss: 0.4357 - accuracy: 0.78 - ETA: 1s - loss: 0.4350 - accuracy: 0.78 - ETA: 1s - loss: 0.4351 - accuracy: 0.78 - ETA: 1s - loss: 0.4347 - accuracy: 0.78 - ETA: 1s - loss: 0.4362 - accuracy: 0.78 - ETA: 1s - loss: 0.4358 - accuracy: 0.78 - ETA: 1s - loss: 0.4345 - accuracy: 0.78 - ETA: 1s - loss: 0.4371 - accuracy: 0.78 - ETA: 1s - loss: 0.4369 - accuracy: 0.78 - ETA: 1s - loss: 0.4362 - accuracy: 0.78 - ETA: 1s - loss: 0.4355 - accuracy: 0.78 - ETA: 0s - loss: 0.4341 - accuracy: 0.78 - ETA: 0s - loss: 0.4345 - accuracy: 0.78 - ETA: 0s - loss: 0.4351 - accuracy: 0.78 - ETA: 0s - loss: 0.4362 - accuracy: 0.78 - ETA: 0s - loss: 0.4333 - accuracy: 0.79 - ETA: 0s - loss: 0.4348 - accuracy: 0.78 - ETA: 0s - loss: 0.4357 - accuracy: 0.78 - ETA: 0s - loss: 0.4351 - accuracy: 0.78 - ETA: 0s - loss: 0.4346 - accuracy: 0.78 - ETA: 0s - loss: 0.4341 - accuracy: 0.79 - ETA: 0s - loss: 0.4338 - accuracy: 0.79 - ETA: 0s - loss: 0.4336 - accuracy: 0.79 - ETA: 0s - loss: 0.4328 - accuracy: 0.79 - 4s 322us/step - loss: 0.4335 - accuracy: 0.7905 - val_loss: 0.4435 - val_accuracy: 0.7860\n",
      "Epoch 11/20\n",
      "12107/12107 [==============================] - ETA: 4s - loss: 0.4420 - accuracy: 0.82 - ETA: 3s - loss: 0.4388 - accuracy: 0.80 - ETA: 3s - loss: 0.4598 - accuracy: 0.78 - ETA: 3s - loss: 0.4490 - accuracy: 0.79 - ETA: 3s - loss: 0.4393 - accuracy: 0.79 - ETA: 2s - loss: 0.4379 - accuracy: 0.79 - ETA: 2s - loss: 0.4304 - accuracy: 0.79 - ETA: 2s - loss: 0.4347 - accuracy: 0.79 - ETA: 2s - loss: 0.4298 - accuracy: 0.79 - ETA: 2s - loss: 0.4254 - accuracy: 0.80 - ETA: 2s - loss: 0.4243 - accuracy: 0.80 - ETA: 2s - loss: 0.4271 - accuracy: 0.79 - ETA: 2s - loss: 0.4292 - accuracy: 0.79 - ETA: 2s - loss: 0.4299 - accuracy: 0.79 - ETA: 2s - loss: 0.4296 - accuracy: 0.79 - ETA: 2s - loss: 0.4308 - accuracy: 0.79 - ETA: 2s - loss: 0.4325 - accuracy: 0.79 - ETA: 2s - loss: 0.4313 - accuracy: 0.79 - ETA: 2s - loss: 0.4296 - accuracy: 0.79 - ETA: 2s - loss: 0.4307 - accuracy: 0.79 - ETA: 2s - loss: 0.4293 - accuracy: 0.79 - ETA: 1s - loss: 0.4291 - accuracy: 0.79 - ETA: 1s - loss: 0.4302 - accuracy: 0.79 - ETA: 1s - loss: 0.4306 - accuracy: 0.79 - ETA: 1s - loss: 0.4293 - accuracy: 0.79 - ETA: 1s - loss: 0.4306 - accuracy: 0.79 - ETA: 1s - loss: 0.4334 - accuracy: 0.79 - ETA: 1s - loss: 0.4339 - accuracy: 0.79 - ETA: 1s - loss: 0.4338 - accuracy: 0.79 - ETA: 1s - loss: 0.4330 - accuracy: 0.79 - ETA: 1s - loss: 0.4331 - accuracy: 0.79 - ETA: 1s - loss: 0.4339 - accuracy: 0.78 - ETA: 1s - loss: 0.4342 - accuracy: 0.78 - ETA: 1s - loss: 0.4338 - accuracy: 0.78 - ETA: 1s - loss: 0.4333 - accuracy: 0.79 - ETA: 0s - loss: 0.4323 - accuracy: 0.79 - ETA: 0s - loss: 0.4324 - accuracy: 0.79 - ETA: 0s - loss: 0.4336 - accuracy: 0.78 - ETA: 0s - loss: 0.4332 - accuracy: 0.78 - ETA: 0s - loss: 0.4340 - accuracy: 0.78 - ETA: 0s - loss: 0.4340 - accuracy: 0.78 - ETA: 0s - loss: 0.4336 - accuracy: 0.78 - ETA: 0s - loss: 0.4340 - accuracy: 0.78 - ETA: 0s - loss: 0.4344 - accuracy: 0.78 - ETA: 0s - loss: 0.4339 - accuracy: 0.78 - ETA: 0s - loss: 0.4333 - accuracy: 0.78 - ETA: 0s - loss: 0.4337 - accuracy: 0.78 - ETA: 0s - loss: 0.4336 - accuracy: 0.78 - 4s 320us/step - loss: 0.4338 - accuracy: 0.7890 - val_loss: 0.4467 - val_accuracy: 0.7878\n",
      "Epoch 12/20\n",
      "12107/12107 [==============================] - ETA: 3s - loss: 0.4919 - accuracy: 0.75 - ETA: 3s - loss: 0.4712 - accuracy: 0.78 - ETA: 3s - loss: 0.4537 - accuracy: 0.78 - ETA: 3s - loss: 0.4554 - accuracy: 0.78 - ETA: 3s - loss: 0.4431 - accuracy: 0.79 - ETA: 3s - loss: 0.4425 - accuracy: 0.79 - ETA: 3s - loss: 0.4404 - accuracy: 0.79 - ETA: 3s - loss: 0.4387 - accuracy: 0.79 - ETA: 3s - loss: 0.4358 - accuracy: 0.79 - ETA: 2s - loss: 0.4292 - accuracy: 0.80 - ETA: 2s - loss: 0.4296 - accuracy: 0.80 - ETA: 2s - loss: 0.4295 - accuracy: 0.79 - ETA: 2s - loss: 0.4305 - accuracy: 0.79 - ETA: 2s - loss: 0.4253 - accuracy: 0.80 - ETA: 2s - loss: 0.4222 - accuracy: 0.80 - ETA: 2s - loss: 0.4212 - accuracy: 0.80 - ETA: 2s - loss: 0.4224 - accuracy: 0.80 - ETA: 2s - loss: 0.4283 - accuracy: 0.79 - ETA: 2s - loss: 0.4302 - accuracy: 0.79 - ETA: 2s - loss: 0.4286 - accuracy: 0.79 - ETA: 2s - loss: 0.4289 - accuracy: 0.79 - ETA: 2s - loss: 0.4295 - accuracy: 0.79 - ETA: 2s - loss: 0.4296 - accuracy: 0.79 - ETA: 1s - loss: 0.4293 - accuracy: 0.79 - ETA: 1s - loss: 0.4287 - accuracy: 0.79 - ETA: 1s - loss: 0.4252 - accuracy: 0.79 - ETA: 1s - loss: 0.4261 - accuracy: 0.79 - ETA: 1s - loss: 0.4297 - accuracy: 0.79 - ETA: 1s - loss: 0.4294 - accuracy: 0.79 - ETA: 1s - loss: 0.4297 - accuracy: 0.79 - ETA: 1s - loss: 0.4295 - accuracy: 0.79 - ETA: 1s - loss: 0.4296 - accuracy: 0.79 - ETA: 1s - loss: 0.4293 - accuracy: 0.79 - ETA: 1s - loss: 0.4271 - accuracy: 0.79 - ETA: 1s - loss: 0.4263 - accuracy: 0.79 - ETA: 1s - loss: 0.4285 - accuracy: 0.79 - ETA: 0s - loss: 0.4286 - accuracy: 0.79 - ETA: 0s - loss: 0.4300 - accuracy: 0.79 - ETA: 0s - loss: 0.4286 - accuracy: 0.79 - ETA: 0s - loss: 0.4275 - accuracy: 0.79 - ETA: 0s - loss: 0.4283 - accuracy: 0.79 - ETA: 0s - loss: 0.4277 - accuracy: 0.79 - ETA: 0s - loss: 0.4281 - accuracy: 0.79 - ETA: 0s - loss: 0.4284 - accuracy: 0.79 - ETA: 0s - loss: 0.4295 - accuracy: 0.79 - ETA: 0s - loss: 0.4292 - accuracy: 0.79 - ETA: 0s - loss: 0.4303 - accuracy: 0.79 - ETA: 0s - loss: 0.4303 - accuracy: 0.79 - ETA: 0s - loss: 0.4315 - accuracy: 0.79 - 4s 328us/step - loss: 0.4314 - accuracy: 0.7914 - val_loss: 0.4338 - val_accuracy: 0.7880\n",
      "Epoch 13/20\n"
     ]
    },
    {
     "name": "stdout",
     "output_type": "stream",
     "text": [
      "12107/12107 [==============================] - ETA: 3s - loss: 0.3699 - accuracy: 0.82 - ETA: 3s - loss: 0.4355 - accuracy: 0.80 - ETA: 3s - loss: 0.4326 - accuracy: 0.79 - ETA: 3s - loss: 0.4250 - accuracy: 0.80 - ETA: 3s - loss: 0.4321 - accuracy: 0.78 - ETA: 3s - loss: 0.4309 - accuracy: 0.78 - ETA: 2s - loss: 0.4312 - accuracy: 0.78 - ETA: 2s - loss: 0.4310 - accuracy: 0.78 - ETA: 2s - loss: 0.4332 - accuracy: 0.78 - ETA: 2s - loss: 0.4322 - accuracy: 0.78 - ETA: 2s - loss: 0.4351 - accuracy: 0.78 - ETA: 2s - loss: 0.4377 - accuracy: 0.78 - ETA: 2s - loss: 0.4398 - accuracy: 0.78 - ETA: 2s - loss: 0.4371 - accuracy: 0.78 - ETA: 2s - loss: 0.4376 - accuracy: 0.78 - ETA: 2s - loss: 0.4408 - accuracy: 0.78 - ETA: 2s - loss: 0.4383 - accuracy: 0.78 - ETA: 2s - loss: 0.4377 - accuracy: 0.78 - ETA: 2s - loss: 0.4368 - accuracy: 0.78 - ETA: 2s - loss: 0.4376 - accuracy: 0.78 - ETA: 2s - loss: 0.4364 - accuracy: 0.78 - ETA: 1s - loss: 0.4350 - accuracy: 0.79 - ETA: 1s - loss: 0.4325 - accuracy: 0.79 - ETA: 1s - loss: 0.4319 - accuracy: 0.79 - ETA: 1s - loss: 0.4346 - accuracy: 0.79 - ETA: 1s - loss: 0.4354 - accuracy: 0.79 - ETA: 1s - loss: 0.4342 - accuracy: 0.79 - ETA: 1s - loss: 0.4354 - accuracy: 0.79 - ETA: 1s - loss: 0.4370 - accuracy: 0.79 - ETA: 1s - loss: 0.4377 - accuracy: 0.78 - ETA: 1s - loss: 0.4373 - accuracy: 0.78 - ETA: 1s - loss: 0.4356 - accuracy: 0.79 - ETA: 1s - loss: 0.4357 - accuracy: 0.79 - ETA: 1s - loss: 0.4344 - accuracy: 0.79 - ETA: 1s - loss: 0.4321 - accuracy: 0.79 - ETA: 0s - loss: 0.4336 - accuracy: 0.79 - ETA: 0s - loss: 0.4335 - accuracy: 0.79 - ETA: 0s - loss: 0.4333 - accuracy: 0.79 - ETA: 0s - loss: 0.4345 - accuracy: 0.79 - ETA: 0s - loss: 0.4333 - accuracy: 0.79 - ETA: 0s - loss: 0.4338 - accuracy: 0.79 - ETA: 0s - loss: 0.4349 - accuracy: 0.79 - ETA: 0s - loss: 0.4372 - accuracy: 0.78 - ETA: 0s - loss: 0.4359 - accuracy: 0.79 - ETA: 0s - loss: 0.4342 - accuracy: 0.79 - ETA: 0s - loss: 0.4343 - accuracy: 0.79 - ETA: 0s - loss: 0.4340 - accuracy: 0.79 - ETA: 0s - loss: 0.4345 - accuracy: 0.79 - ETA: 0s - loss: 0.4340 - accuracy: 0.79 - 4s 326us/step - loss: 0.4337 - accuracy: 0.7910 - val_loss: 0.4400 - val_accuracy: 0.7868\n",
      "Epoch 14/20\n",
      "12107/12107 [==============================] - ETA: 3s - loss: 0.4409 - accuracy: 0.79 - ETA: 3s - loss: 0.4338 - accuracy: 0.77 - ETA: 3s - loss: 0.4454 - accuracy: 0.77 - ETA: 3s - loss: 0.4433 - accuracy: 0.77 - ETA: 3s - loss: 0.4291 - accuracy: 0.79 - ETA: 3s - loss: 0.4236 - accuracy: 0.79 - ETA: 3s - loss: 0.4182 - accuracy: 0.79 - ETA: 3s - loss: 0.4247 - accuracy: 0.79 - ETA: 3s - loss: 0.4236 - accuracy: 0.79 - ETA: 3s - loss: 0.4214 - accuracy: 0.79 - ETA: 3s - loss: 0.4236 - accuracy: 0.79 - ETA: 2s - loss: 0.4217 - accuracy: 0.79 - ETA: 2s - loss: 0.4234 - accuracy: 0.79 - ETA: 2s - loss: 0.4223 - accuracy: 0.79 - ETA: 2s - loss: 0.4231 - accuracy: 0.79 - ETA: 2s - loss: 0.4214 - accuracy: 0.79 - ETA: 2s - loss: 0.4203 - accuracy: 0.79 - ETA: 2s - loss: 0.4211 - accuracy: 0.79 - ETA: 2s - loss: 0.4206 - accuracy: 0.79 - ETA: 2s - loss: 0.4220 - accuracy: 0.79 - ETA: 2s - loss: 0.4201 - accuracy: 0.79 - ETA: 2s - loss: 0.4227 - accuracy: 0.79 - ETA: 2s - loss: 0.4222 - accuracy: 0.79 - ETA: 2s - loss: 0.4244 - accuracy: 0.79 - ETA: 2s - loss: 0.4226 - accuracy: 0.79 - ETA: 2s - loss: 0.4239 - accuracy: 0.79 - ETA: 2s - loss: 0.4255 - accuracy: 0.79 - ETA: 1s - loss: 0.4265 - accuracy: 0.79 - ETA: 1s - loss: 0.4256 - accuracy: 0.79 - ETA: 1s - loss: 0.4275 - accuracy: 0.79 - ETA: 1s - loss: 0.4270 - accuracy: 0.79 - ETA: 1s - loss: 0.4292 - accuracy: 0.79 - ETA: 1s - loss: 0.4281 - accuracy: 0.79 - ETA: 1s - loss: 0.4270 - accuracy: 0.79 - ETA: 1s - loss: 0.4280 - accuracy: 0.79 - ETA: 1s - loss: 0.4277 - accuracy: 0.79 - ETA: 1s - loss: 0.4286 - accuracy: 0.79 - ETA: 1s - loss: 0.4266 - accuracy: 0.79 - ETA: 1s - loss: 0.4290 - accuracy: 0.79 - ETA: 0s - loss: 0.4293 - accuracy: 0.79 - ETA: 0s - loss: 0.4280 - accuracy: 0.79 - ETA: 0s - loss: 0.4283 - accuracy: 0.79 - ETA: 0s - loss: 0.4289 - accuracy: 0.79 - ETA: 0s - loss: 0.4298 - accuracy: 0.79 - ETA: 0s - loss: 0.4294 - accuracy: 0.79 - ETA: 0s - loss: 0.4287 - accuracy: 0.79 - ETA: 0s - loss: 0.4279 - accuracy: 0.79 - ETA: 0s - loss: 0.4284 - accuracy: 0.79 - ETA: 0s - loss: 0.4302 - accuracy: 0.79 - ETA: 0s - loss: 0.4295 - accuracy: 0.79 - ETA: 0s - loss: 0.4310 - accuracy: 0.79 - ETA: 0s - loss: 0.4303 - accuracy: 0.79 - 4s 347us/step - loss: 0.4302 - accuracy: 0.7931 - val_loss: 0.4333 - val_accuracy: 0.7874\n",
      "Epoch 15/20\n",
      "12107/12107 [==============================] - ETA: 3s - loss: 0.4597 - accuracy: 0.72 - ETA: 3s - loss: 0.4781 - accuracy: 0.73 - ETA: 3s - loss: 0.4511 - accuracy: 0.77 - ETA: 3s - loss: 0.4499 - accuracy: 0.77 - ETA: 3s - loss: 0.4334 - accuracy: 0.78 - ETA: 3s - loss: 0.4264 - accuracy: 0.79 - ETA: 3s - loss: 0.4345 - accuracy: 0.79 - ETA: 3s - loss: 0.4276 - accuracy: 0.80 - ETA: 2s - loss: 0.4309 - accuracy: 0.79 - ETA: 2s - loss: 0.4340 - accuracy: 0.79 - ETA: 2s - loss: 0.4338 - accuracy: 0.79 - ETA: 2s - loss: 0.4334 - accuracy: 0.79 - ETA: 2s - loss: 0.4313 - accuracy: 0.79 - ETA: 2s - loss: 0.4301 - accuracy: 0.79 - ETA: 2s - loss: 0.4308 - accuracy: 0.79 - ETA: 2s - loss: 0.4287 - accuracy: 0.79 - ETA: 2s - loss: 0.4277 - accuracy: 0.79 - ETA: 2s - loss: 0.4290 - accuracy: 0.79 - ETA: 2s - loss: 0.4301 - accuracy: 0.79 - ETA: 2s - loss: 0.4294 - accuracy: 0.79 - ETA: 2s - loss: 0.4294 - accuracy: 0.79 - ETA: 2s - loss: 0.4290 - accuracy: 0.79 - ETA: 1s - loss: 0.4278 - accuracy: 0.79 - ETA: 1s - loss: 0.4276 - accuracy: 0.79 - ETA: 1s - loss: 0.4281 - accuracy: 0.79 - ETA: 1s - loss: 0.4267 - accuracy: 0.79 - ETA: 1s - loss: 0.4297 - accuracy: 0.79 - ETA: 1s - loss: 0.4304 - accuracy: 0.79 - ETA: 1s - loss: 0.4292 - accuracy: 0.79 - ETA: 1s - loss: 0.4296 - accuracy: 0.79 - ETA: 1s - loss: 0.4292 - accuracy: 0.79 - ETA: 1s - loss: 0.4297 - accuracy: 0.79 - ETA: 1s - loss: 0.4304 - accuracy: 0.79 - ETA: 1s - loss: 0.4294 - accuracy: 0.79 - ETA: 1s - loss: 0.4297 - accuracy: 0.79 - ETA: 0s - loss: 0.4297 - accuracy: 0.79 - ETA: 0s - loss: 0.4292 - accuracy: 0.79 - ETA: 0s - loss: 0.4293 - accuracy: 0.79 - ETA: 0s - loss: 0.4290 - accuracy: 0.79 - ETA: 0s - loss: 0.4301 - accuracy: 0.79 - ETA: 0s - loss: 0.4308 - accuracy: 0.79 - ETA: 0s - loss: 0.4303 - accuracy: 0.79 - ETA: 0s - loss: 0.4318 - accuracy: 0.79 - ETA: 0s - loss: 0.4326 - accuracy: 0.79 - ETA: 0s - loss: 0.4311 - accuracy: 0.79 - ETA: 0s - loss: 0.4296 - accuracy: 0.79 - ETA: 0s - loss: 0.4307 - accuracy: 0.79 - ETA: 0s - loss: 0.4310 - accuracy: 0.79 - 4s 325us/step - loss: 0.4313 - accuracy: 0.7917 - val_loss: 0.4331 - val_accuracy: 0.7886\n",
      "Epoch 16/20\n"
     ]
    },
    {
     "name": "stdout",
     "output_type": "stream",
     "text": [
      "12107/12107 [==============================] - ETA: 3s - loss: 0.3882 - accuracy: 0.80 - ETA: 3s - loss: 0.4144 - accuracy: 0.81 - ETA: 3s - loss: 0.4152 - accuracy: 0.81 - ETA: 3s - loss: 0.4080 - accuracy: 0.81 - ETA: 3s - loss: 0.4243 - accuracy: 0.80 - ETA: 3s - loss: 0.4188 - accuracy: 0.80 - ETA: 2s - loss: 0.4155 - accuracy: 0.80 - ETA: 2s - loss: 0.4210 - accuracy: 0.80 - ETA: 2s - loss: 0.4210 - accuracy: 0.80 - ETA: 2s - loss: 0.4286 - accuracy: 0.79 - ETA: 2s - loss: 0.4321 - accuracy: 0.79 - ETA: 2s - loss: 0.4325 - accuracy: 0.79 - ETA: 2s - loss: 0.4278 - accuracy: 0.79 - ETA: 2s - loss: 0.4250 - accuracy: 0.79 - ETA: 2s - loss: 0.4236 - accuracy: 0.79 - ETA: 2s - loss: 0.4235 - accuracy: 0.79 - ETA: 2s - loss: 0.4280 - accuracy: 0.79 - ETA: 2s - loss: 0.4248 - accuracy: 0.79 - ETA: 2s - loss: 0.4288 - accuracy: 0.79 - ETA: 2s - loss: 0.4294 - accuracy: 0.79 - ETA: 2s - loss: 0.4277 - accuracy: 0.79 - ETA: 1s - loss: 0.4305 - accuracy: 0.79 - ETA: 1s - loss: 0.4315 - accuracy: 0.79 - ETA: 1s - loss: 0.4318 - accuracy: 0.79 - ETA: 1s - loss: 0.4303 - accuracy: 0.79 - ETA: 1s - loss: 0.4295 - accuracy: 0.79 - ETA: 1s - loss: 0.4301 - accuracy: 0.79 - ETA: 1s - loss: 0.4306 - accuracy: 0.79 - ETA: 1s - loss: 0.4284 - accuracy: 0.79 - ETA: 1s - loss: 0.4288 - accuracy: 0.79 - ETA: 1s - loss: 0.4281 - accuracy: 0.79 - ETA: 1s - loss: 0.4284 - accuracy: 0.79 - ETA: 1s - loss: 0.4284 - accuracy: 0.79 - ETA: 1s - loss: 0.4278 - accuracy: 0.79 - ETA: 1s - loss: 0.4283 - accuracy: 0.79 - ETA: 0s - loss: 0.4284 - accuracy: 0.79 - ETA: 0s - loss: 0.4271 - accuracy: 0.79 - ETA: 0s - loss: 0.4268 - accuracy: 0.79 - ETA: 0s - loss: 0.4285 - accuracy: 0.79 - ETA: 0s - loss: 0.4305 - accuracy: 0.79 - ETA: 0s - loss: 0.4305 - accuracy: 0.79 - ETA: 0s - loss: 0.4307 - accuracy: 0.79 - ETA: 0s - loss: 0.4303 - accuracy: 0.79 - ETA: 0s - loss: 0.4305 - accuracy: 0.79 - ETA: 0s - loss: 0.4311 - accuracy: 0.79 - ETA: 0s - loss: 0.4303 - accuracy: 0.79 - ETA: 0s - loss: 0.4298 - accuracy: 0.79 - ETA: 0s - loss: 0.4298 - accuracy: 0.79 - ETA: 0s - loss: 0.4306 - accuracy: 0.79 - 4s 329us/step - loss: 0.4303 - accuracy: 0.7912 - val_loss: 0.4394 - val_accuracy: 0.7745\n",
      "Epoch 17/20\n",
      "12107/12107 [==============================] - ETA: 3s - loss: 0.4062 - accuracy: 0.81 - ETA: 3s - loss: 0.3994 - accuracy: 0.79 - ETA: 3s - loss: 0.4121 - accuracy: 0.79 - ETA: 3s - loss: 0.4300 - accuracy: 0.78 - ETA: 3s - loss: 0.4314 - accuracy: 0.78 - ETA: 3s - loss: 0.4272 - accuracy: 0.78 - ETA: 3s - loss: 0.4261 - accuracy: 0.78 - ETA: 3s - loss: 0.4274 - accuracy: 0.78 - ETA: 2s - loss: 0.4286 - accuracy: 0.78 - ETA: 2s - loss: 0.4231 - accuracy: 0.79 - ETA: 2s - loss: 0.4304 - accuracy: 0.78 - ETA: 2s - loss: 0.4278 - accuracy: 0.78 - ETA: 2s - loss: 0.4314 - accuracy: 0.78 - ETA: 2s - loss: 0.4317 - accuracy: 0.78 - ETA: 2s - loss: 0.4318 - accuracy: 0.78 - ETA: 2s - loss: 0.4317 - accuracy: 0.78 - ETA: 2s - loss: 0.4272 - accuracy: 0.79 - ETA: 2s - loss: 0.4306 - accuracy: 0.78 - ETA: 2s - loss: 0.4295 - accuracy: 0.78 - ETA: 2s - loss: 0.4295 - accuracy: 0.78 - ETA: 2s - loss: 0.4283 - accuracy: 0.78 - ETA: 2s - loss: 0.4285 - accuracy: 0.79 - ETA: 1s - loss: 0.4286 - accuracy: 0.79 - ETA: 1s - loss: 0.4279 - accuracy: 0.79 - ETA: 1s - loss: 0.4273 - accuracy: 0.79 - ETA: 1s - loss: 0.4282 - accuracy: 0.79 - ETA: 1s - loss: 0.4285 - accuracy: 0.79 - ETA: 1s - loss: 0.4293 - accuracy: 0.79 - ETA: 1s - loss: 0.4301 - accuracy: 0.79 - ETA: 1s - loss: 0.4304 - accuracy: 0.79 - ETA: 1s - loss: 0.4288 - accuracy: 0.79 - ETA: 1s - loss: 0.4279 - accuracy: 0.79 - ETA: 1s - loss: 0.4256 - accuracy: 0.79 - ETA: 1s - loss: 0.4249 - accuracy: 0.79 - ETA: 1s - loss: 0.4260 - accuracy: 0.79 - ETA: 0s - loss: 0.4267 - accuracy: 0.79 - ETA: 0s - loss: 0.4261 - accuracy: 0.79 - ETA: 0s - loss: 0.4278 - accuracy: 0.79 - ETA: 0s - loss: 0.4270 - accuracy: 0.79 - ETA: 0s - loss: 0.4274 - accuracy: 0.79 - ETA: 0s - loss: 0.4265 - accuracy: 0.79 - ETA: 0s - loss: 0.4259 - accuracy: 0.79 - ETA: 0s - loss: 0.4256 - accuracy: 0.79 - ETA: 0s - loss: 0.4263 - accuracy: 0.79 - ETA: 0s - loss: 0.4264 - accuracy: 0.79 - ETA: 0s - loss: 0.4270 - accuracy: 0.79 - ETA: 0s - loss: 0.4273 - accuracy: 0.79 - ETA: 0s - loss: 0.4283 - accuracy: 0.79 - 4s 327us/step - loss: 0.4287 - accuracy: 0.7937 - val_loss: 0.4326 - val_accuracy: 0.7882\n",
      "Epoch 18/20\n",
      "12107/12107 [==============================] - ETA: 3s - loss: 0.3778 - accuracy: 0.85 - ETA: 3s - loss: 0.4038 - accuracy: 0.82 - ETA: 3s - loss: 0.4214 - accuracy: 0.79 - ETA: 3s - loss: 0.4129 - accuracy: 0.80 - ETA: 3s - loss: 0.4150 - accuracy: 0.80 - ETA: 3s - loss: 0.4158 - accuracy: 0.80 - ETA: 3s - loss: 0.4207 - accuracy: 0.80 - ETA: 3s - loss: 0.4282 - accuracy: 0.79 - ETA: 3s - loss: 0.4252 - accuracy: 0.80 - ETA: 3s - loss: 0.4222 - accuracy: 0.80 - ETA: 2s - loss: 0.4228 - accuracy: 0.79 - ETA: 2s - loss: 0.4204 - accuracy: 0.80 - ETA: 2s - loss: 0.4186 - accuracy: 0.80 - ETA: 2s - loss: 0.4226 - accuracy: 0.80 - ETA: 2s - loss: 0.4202 - accuracy: 0.80 - ETA: 2s - loss: 0.4226 - accuracy: 0.80 - ETA: 2s - loss: 0.4253 - accuracy: 0.80 - ETA: 2s - loss: 0.4244 - accuracy: 0.80 - ETA: 2s - loss: 0.4247 - accuracy: 0.79 - ETA: 2s - loss: 0.4254 - accuracy: 0.79 - ETA: 2s - loss: 0.4254 - accuracy: 0.79 - ETA: 2s - loss: 0.4239 - accuracy: 0.79 - ETA: 2s - loss: 0.4240 - accuracy: 0.79 - ETA: 2s - loss: 0.4233 - accuracy: 0.79 - ETA: 2s - loss: 0.4233 - accuracy: 0.79 - ETA: 2s - loss: 0.4211 - accuracy: 0.80 - ETA: 2s - loss: 0.4227 - accuracy: 0.79 - ETA: 2s - loss: 0.4216 - accuracy: 0.79 - ETA: 2s - loss: 0.4215 - accuracy: 0.79 - ETA: 1s - loss: 0.4217 - accuracy: 0.79 - ETA: 1s - loss: 0.4234 - accuracy: 0.79 - ETA: 1s - loss: 0.4246 - accuracy: 0.79 - ETA: 1s - loss: 0.4236 - accuracy: 0.79 - ETA: 1s - loss: 0.4215 - accuracy: 0.79 - ETA: 1s - loss: 0.4237 - accuracy: 0.79 - ETA: 1s - loss: 0.4239 - accuracy: 0.79 - ETA: 1s - loss: 0.4232 - accuracy: 0.79 - ETA: 1s - loss: 0.4253 - accuracy: 0.79 - ETA: 1s - loss: 0.4248 - accuracy: 0.79 - ETA: 1s - loss: 0.4246 - accuracy: 0.79 - ETA: 1s - loss: 0.4234 - accuracy: 0.79 - ETA: 0s - loss: 0.4231 - accuracy: 0.79 - ETA: 0s - loss: 0.4239 - accuracy: 0.79 - ETA: 0s - loss: 0.4242 - accuracy: 0.79 - ETA: 0s - loss: 0.4249 - accuracy: 0.79 - ETA: 0s - loss: 0.4253 - accuracy: 0.79 - ETA: 0s - loss: 0.4250 - accuracy: 0.79 - ETA: 0s - loss: 0.4254 - accuracy: 0.79 - ETA: 0s - loss: 0.4247 - accuracy: 0.79 - ETA: 0s - loss: 0.4251 - accuracy: 0.79 - ETA: 0s - loss: 0.4258 - accuracy: 0.79 - ETA: 0s - loss: 0.4272 - accuracy: 0.79 - ETA: 0s - loss: 0.4275 - accuracy: 0.79 - ETA: 0s - loss: 0.4289 - accuracy: 0.79 - 4s 348us/step - loss: 0.4289 - accuracy: 0.7944 - val_loss: 0.4302 - val_accuracy: 0.7905\n",
      "Epoch 19/20\n"
     ]
    },
    {
     "name": "stdout",
     "output_type": "stream",
     "text": [
      "12107/12107 [==============================] - ETA: 3s - loss: 0.4050 - accuracy: 0.82 - ETA: 3s - loss: 0.3850 - accuracy: 0.83 - ETA: 3s - loss: 0.4158 - accuracy: 0.81 - ETA: 3s - loss: 0.4078 - accuracy: 0.82 - ETA: 3s - loss: 0.4124 - accuracy: 0.81 - ETA: 3s - loss: 0.4085 - accuracy: 0.81 - ETA: 3s - loss: 0.4022 - accuracy: 0.81 - ETA: 3s - loss: 0.4135 - accuracy: 0.80 - ETA: 2s - loss: 0.4148 - accuracy: 0.80 - ETA: 3s - loss: 0.4128 - accuracy: 0.81 - ETA: 2s - loss: 0.4161 - accuracy: 0.80 - ETA: 2s - loss: 0.4144 - accuracy: 0.80 - ETA: 2s - loss: 0.4167 - accuracy: 0.80 - ETA: 2s - loss: 0.4195 - accuracy: 0.80 - ETA: 2s - loss: 0.4192 - accuracy: 0.80 - ETA: 2s - loss: 0.4234 - accuracy: 0.80 - ETA: 2s - loss: 0.4240 - accuracy: 0.80 - ETA: 2s - loss: 0.4236 - accuracy: 0.80 - ETA: 2s - loss: 0.4278 - accuracy: 0.80 - ETA: 2s - loss: 0.4281 - accuracy: 0.79 - ETA: 2s - loss: 0.4302 - accuracy: 0.79 - ETA: 2s - loss: 0.4295 - accuracy: 0.79 - ETA: 1s - loss: 0.4301 - accuracy: 0.79 - ETA: 1s - loss: 0.4293 - accuracy: 0.79 - ETA: 1s - loss: 0.4314 - accuracy: 0.79 - ETA: 1s - loss: 0.4319 - accuracy: 0.79 - ETA: 1s - loss: 0.4297 - accuracy: 0.79 - ETA: 1s - loss: 0.4303 - accuracy: 0.79 - ETA: 1s - loss: 0.4296 - accuracy: 0.79 - ETA: 1s - loss: 0.4321 - accuracy: 0.79 - ETA: 1s - loss: 0.4334 - accuracy: 0.79 - ETA: 1s - loss: 0.4327 - accuracy: 0.79 - ETA: 1s - loss: 0.4307 - accuracy: 0.79 - ETA: 1s - loss: 0.4325 - accuracy: 0.79 - ETA: 1s - loss: 0.4320 - accuracy: 0.79 - ETA: 0s - loss: 0.4302 - accuracy: 0.79 - ETA: 0s - loss: 0.4293 - accuracy: 0.79 - ETA: 0s - loss: 0.4301 - accuracy: 0.79 - ETA: 0s - loss: 0.4292 - accuracy: 0.79 - ETA: 0s - loss: 0.4310 - accuracy: 0.79 - ETA: 0s - loss: 0.4324 - accuracy: 0.79 - ETA: 0s - loss: 0.4324 - accuracy: 0.79 - ETA: 0s - loss: 0.4308 - accuracy: 0.79 - ETA: 0s - loss: 0.4299 - accuracy: 0.79 - ETA: 0s - loss: 0.4289 - accuracy: 0.79 - ETA: 0s - loss: 0.4304 - accuracy: 0.79 - ETA: 0s - loss: 0.4310 - accuracy: 0.79 - ETA: 0s - loss: 0.4301 - accuracy: 0.79 - ETA: 0s - loss: 0.4294 - accuracy: 0.79 - 4s 331us/step - loss: 0.4287 - accuracy: 0.7940 - val_loss: 0.4471 - val_accuracy: 0.7843\n",
      "Epoch 20/20\n",
      "12107/12107 [==============================] - ETA: 3s - loss: 0.5188 - accuracy: 0.72 - ETA: 3s - loss: 0.4622 - accuracy: 0.76 - ETA: 3s - loss: 0.4262 - accuracy: 0.79 - ETA: 3s - loss: 0.4434 - accuracy: 0.78 - ETA: 3s - loss: 0.4382 - accuracy: 0.78 - ETA: 3s - loss: 0.4429 - accuracy: 0.78 - ETA: 3s - loss: 0.4493 - accuracy: 0.78 - ETA: 2s - loss: 0.4426 - accuracy: 0.78 - ETA: 2s - loss: 0.4442 - accuracy: 0.78 - ETA: 2s - loss: 0.4391 - accuracy: 0.78 - ETA: 2s - loss: 0.4374 - accuracy: 0.79 - ETA: 2s - loss: 0.4329 - accuracy: 0.79 - ETA: 2s - loss: 0.4290 - accuracy: 0.79 - ETA: 2s - loss: 0.4344 - accuracy: 0.78 - ETA: 2s - loss: 0.4335 - accuracy: 0.78 - ETA: 2s - loss: 0.4341 - accuracy: 0.78 - ETA: 2s - loss: 0.4322 - accuracy: 0.79 - ETA: 2s - loss: 0.4300 - accuracy: 0.79 - ETA: 2s - loss: 0.4297 - accuracy: 0.79 - ETA: 2s - loss: 0.4319 - accuracy: 0.79 - ETA: 2s - loss: 0.4307 - accuracy: 0.79 - ETA: 2s - loss: 0.4326 - accuracy: 0.79 - ETA: 1s - loss: 0.4315 - accuracy: 0.79 - ETA: 1s - loss: 0.4333 - accuracy: 0.78 - ETA: 1s - loss: 0.4357 - accuracy: 0.78 - ETA: 1s - loss: 0.4309 - accuracy: 0.79 - ETA: 1s - loss: 0.4307 - accuracy: 0.79 - ETA: 1s - loss: 0.4299 - accuracy: 0.79 - ETA: 1s - loss: 0.4275 - accuracy: 0.79 - ETA: 1s - loss: 0.4280 - accuracy: 0.79 - ETA: 1s - loss: 0.4282 - accuracy: 0.79 - ETA: 1s - loss: 0.4276 - accuracy: 0.79 - ETA: 1s - loss: 0.4307 - accuracy: 0.79 - ETA: 1s - loss: 0.4299 - accuracy: 0.79 - ETA: 1s - loss: 0.4298 - accuracy: 0.79 - ETA: 1s - loss: 0.4303 - accuracy: 0.79 - ETA: 0s - loss: 0.4304 - accuracy: 0.79 - ETA: 0s - loss: 0.4289 - accuracy: 0.79 - ETA: 0s - loss: 0.4294 - accuracy: 0.79 - ETA: 0s - loss: 0.4284 - accuracy: 0.79 - ETA: 0s - loss: 0.4295 - accuracy: 0.79 - ETA: 0s - loss: 0.4299 - accuracy: 0.79 - ETA: 0s - loss: 0.4308 - accuracy: 0.79 - ETA: 0s - loss: 0.4308 - accuracy: 0.79 - ETA: 0s - loss: 0.4300 - accuracy: 0.79 - ETA: 0s - loss: 0.4290 - accuracy: 0.79 - ETA: 0s - loss: 0.4278 - accuracy: 0.79 - ETA: 0s - loss: 0.4282 - accuracy: 0.79 - ETA: 0s - loss: 0.4296 - accuracy: 0.79 - 4s 326us/step - loss: 0.4302 - accuracy: 0.7953 - val_loss: 0.4321 - val_accuracy: 0.7882\n"
     ]
    }
   ],
   "source": [
    "model.compile(loss='categorical_crossentropy', optimizer= RMSprop(), metrics=['accuracy'])\n",
    "history_TTBOX.append( model.fit(x_train_pca, y_train, batch_size=batch_size, epochs=epochs, verbose=1, validation_data=(x_test_pca, y_test) ))"
   ]
  },
  {
   "cell_type": "code",
   "execution_count": null,
   "metadata": {},
   "outputs": [],
   "source": []
  },
  {
   "cell_type": "markdown",
   "metadata": {},
   "source": [
    "# TTBOX+DNN_LDA:"
   ]
  },
  {
   "cell_type": "code",
   "execution_count": 160,
   "metadata": {},
   "outputs": [
    {
     "name": "stdout",
     "output_type": "stream",
     "text": [
      "[2020-07-20 16:38:45 RAM71.5% 0.42GB] 6053 6054 5188 6053 6054 5188\n",
      "[2020-07-20 16:38:45 RAM71.9% 0.46GB] (12107, 1, 164) (5188, 1, 164) (12107,) (5188,)\n"
     ]
    }
   ],
   "source": [
    "path_save_audio= 'C:\\\\Users\\\\PC\\\\python\\\\Stage\\\\dataset_BeeNoBee_2_second'+str(block_size)+'sec'+'\\\\ttb_mat'+os.sep \n",
    "#x_train, x_valid, x_test, y_train, y_valid, y_test = get_list_samples_name_TTBOX(path_save_audio, sample_ids_test, sample_ids_val, sample_ids_train)\n",
    "x_test,y_test,labels_test, x_train,y_train,labels_train,  x_valid,y_valid,labels_valid, val_test, val_train, val_valid= get_list_samples_name_benetos( 'ttb_vec', path_save_audio ,sample_ids_test, sample_ids_val, sample_ids_train )\n",
    "\n",
    "print(len(x_train), len(x_valid), len(x_test) , len(y_train), len(y_valid), len(y_test))\n",
    "x_train= np.array(x_train)\n",
    "x_valid= np.array(x_valid)\n",
    "x_test= np.array(x_test)\n",
    "y_test=np.array(y_test)\n",
    "y_train=np.array(y_train)\n",
    "y_valid=np.array(y_valid)\n",
    "\n",
    "\n",
    "X_train= np.concatenate((x_train, x_valid))\n",
    "Y_train= np.concatenate((y_train, y_valid))\n",
    "\n",
    "print(X_train.shape, x_test.shape, Y_train.shape, y_test.shape )\n"
   ]
  },
  {
   "cell_type": "code",
   "execution_count": 161,
   "metadata": {},
   "outputs": [
    {
     "name": "stdout",
     "output_type": "stream",
     "text": [
      "[2020-07-20 16:38:45 RAM71.6% 0.44GB] (12107, 164) (5188, 164) (12107,) (5188,)\n",
      "[2020-07-20 16:38:45 RAM71.6% 0.44GB] calculate LDA\n",
      "[2020-07-20 16:38:46 RAM71.1% 0.44GB] (12107, 1) (5188, 1)\n",
      "[2020-07-20 16:38:46 RAM71.1% 0.44GB] (12107, 2) (5188, 2)\n"
     ]
    }
   ],
   "source": [
    "X_train_flat=X_train.reshape(-1, 164)\n",
    "x_test_flat= x_test.reshape(-1, 164)\n",
    "print(X_train_flat.shape, x_test_flat.shape, Y_train.shape, y_test.shape )\n",
    "print(\"calculate LDA\")\n",
    "\n",
    "sc = StandardScaler()\n",
    "X_train = sc.fit_transform(X_train_flat)\n",
    "X_test = sc.transform(x_test_flat)\n",
    "\n",
    "lda = LDA(n_components=1)\n",
    "X_train = lda.fit_transform(X_train, Y_train)\n",
    "X_test = lda.transform(X_test)\n",
    "print(X_train.shape, X_test.shape)\n",
    "\n",
    "y_train = np_utils.to_categorical(Y_train)\n",
    "y_test = np_utils.to_categorical(y_test)\n",
    "print(y_train.shape, y_test.shape)"
   ]
  },
  {
   "cell_type": "code",
   "execution_count": 162,
   "metadata": {},
   "outputs": [
    {
     "name": "stdout",
     "output_type": "stream",
     "text": [
      "Model: \"sequential_9\"\n",
      "_________________________________________________________________\n",
      "Layer (type)                 Output Shape              Param #   \n",
      "=================================================================\n",
      "dense_41 (Dense)             (None, 1024)              2048      \n",
      "_________________________________________________________________\n",
      "dense_42 (Dense)             (None, 1024)              1049600   \n",
      "_________________________________________________________________\n",
      "dense_43 (Dense)             (None, 512)               524800    \n",
      "_________________________________________________________________\n",
      "dense_44 (Dense)             (None, 256)               131328    \n",
      "_________________________________________________________________\n",
      "dense_45 (Dense)             (None, 2)                 514       \n",
      "=================================================================\n",
      "Total params: 1,708,290\n",
      "Trainable params: 1,708,290\n",
      "Non-trainable params: 0\n",
      "_________________________________________________________________\n"
     ]
    }
   ],
   "source": [
    "batch_size=128\n",
    "num_classes=2\n",
    "epochs=20\n",
    "\n",
    "model=Sequential()\n",
    "model.add(Dense(1024, activation='relu', input_shape=(1, )))\n",
    "model.add(Dense(1024, activation='relu'))\n",
    "model.add(Dense(512, activation='relu'))\n",
    "model.add(Dense(256, activation='relu'))\n",
    "model.add(Dense(num_classes, activation='softmax'))\n",
    "model.summary()"
   ]
  },
  {
   "cell_type": "code",
   "execution_count": 163,
   "metadata": {},
   "outputs": [
    {
     "name": "stdout",
     "output_type": "stream",
     "text": [
      "Train on 12107 samples, validate on 5188 samples\n",
      "Epoch 1/20\n",
      "12107/12107 [==============================] - ETA: 16s - loss: 0.7008 - accuracy: 0.539 - ETA: 7s - loss: 0.3777 - accuracy: 0.786 - ETA: 5s - loss: 0.2865 - accuracy: 0.84 - ETA: 5s - loss: 0.2544 - accuracy: 0.87 - ETA: 4s - loss: 0.2348 - accuracy: 0.88 - ETA: 4s - loss: 0.2143 - accuracy: 0.89 - ETA: 3s - loss: 0.2009 - accuracy: 0.90 - ETA: 3s - loss: 0.2002 - accuracy: 0.90 - ETA: 3s - loss: 0.2033 - accuracy: 0.90 - ETA: 3s - loss: 0.2004 - accuracy: 0.90 - ETA: 3s - loss: 0.1993 - accuracy: 0.90 - ETA: 3s - loss: 0.1983 - accuracy: 0.91 - ETA: 3s - loss: 0.1988 - accuracy: 0.91 - ETA: 2s - loss: 0.1988 - accuracy: 0.91 - ETA: 2s - loss: 0.1975 - accuracy: 0.91 - ETA: 2s - loss: 0.1955 - accuracy: 0.91 - ETA: 2s - loss: 0.1971 - accuracy: 0.91 - ETA: 2s - loss: 0.1953 - accuracy: 0.91 - ETA: 2s - loss: 0.1946 - accuracy: 0.91 - ETA: 2s - loss: 0.1894 - accuracy: 0.91 - ETA: 2s - loss: 0.1907 - accuracy: 0.92 - ETA: 2s - loss: 0.1903 - accuracy: 0.92 - ETA: 2s - loss: 0.1904 - accuracy: 0.92 - ETA: 2s - loss: 0.1902 - accuracy: 0.92 - ETA: 1s - loss: 0.1892 - accuracy: 0.92 - ETA: 1s - loss: 0.1896 - accuracy: 0.92 - ETA: 1s - loss: 0.1882 - accuracy: 0.92 - ETA: 1s - loss: 0.1879 - accuracy: 0.92 - ETA: 1s - loss: 0.1872 - accuracy: 0.92 - ETA: 1s - loss: 0.1855 - accuracy: 0.92 - ETA: 1s - loss: 0.1849 - accuracy: 0.92 - ETA: 1s - loss: 0.1840 - accuracy: 0.92 - ETA: 1s - loss: 0.1847 - accuracy: 0.92 - ETA: 1s - loss: 0.1852 - accuracy: 0.92 - ETA: 1s - loss: 0.1879 - accuracy: 0.92 - ETA: 1s - loss: 0.1875 - accuracy: 0.92 - ETA: 1s - loss: 0.1869 - accuracy: 0.92 - ETA: 0s - loss: 0.1863 - accuracy: 0.92 - ETA: 0s - loss: 0.1843 - accuracy: 0.92 - ETA: 0s - loss: 0.1844 - accuracy: 0.92 - ETA: 0s - loss: 0.1850 - accuracy: 0.92 - ETA: 0s - loss: 0.1862 - accuracy: 0.92 - ETA: 0s - loss: 0.1881 - accuracy: 0.92 - ETA: 0s - loss: 0.1864 - accuracy: 0.92 - ETA: 0s - loss: 0.1857 - accuracy: 0.92 - ETA: 0s - loss: 0.1852 - accuracy: 0.92 - ETA: 0s - loss: 0.1846 - accuracy: 0.92 - ETA: 0s - loss: 0.1838 - accuracy: 0.92 - ETA: 0s - loss: 0.1865 - accuracy: 0.92 - 4s 345us/step - loss: 0.1858 - accuracy: 0.9258 - val_loss: 0.1961 - val_accuracy: 0.9281\n",
      "Epoch 2/20\n",
      "12107/12107 [==============================] - ETA: 3s - loss: 0.0903 - accuracy: 0.96 - ETA: 3s - loss: 0.1701 - accuracy: 0.91 - ETA: 3s - loss: 0.1797 - accuracy: 0.92 - ETA: 3s - loss: 0.1648 - accuracy: 0.92 - ETA: 3s - loss: 0.1681 - accuracy: 0.92 - ETA: 3s - loss: 0.1804 - accuracy: 0.92 - ETA: 3s - loss: 0.1806 - accuracy: 0.92 - ETA: 2s - loss: 0.1754 - accuracy: 0.92 - ETA: 2s - loss: 0.1739 - accuracy: 0.92 - ETA: 2s - loss: 0.1786 - accuracy: 0.92 - ETA: 2s - loss: 0.1796 - accuracy: 0.92 - ETA: 2s - loss: 0.1793 - accuracy: 0.92 - ETA: 2s - loss: 0.1857 - accuracy: 0.92 - ETA: 2s - loss: 0.1809 - accuracy: 0.92 - ETA: 2s - loss: 0.1854 - accuracy: 0.92 - ETA: 2s - loss: 0.1860 - accuracy: 0.92 - ETA: 2s - loss: 0.1828 - accuracy: 0.92 - ETA: 2s - loss: 0.1843 - accuracy: 0.92 - ETA: 2s - loss: 0.1842 - accuracy: 0.92 - ETA: 2s - loss: 0.1878 - accuracy: 0.92 - ETA: 2s - loss: 0.1880 - accuracy: 0.92 - ETA: 2s - loss: 0.1843 - accuracy: 0.92 - ETA: 1s - loss: 0.1839 - accuracy: 0.92 - ETA: 1s - loss: 0.1839 - accuracy: 0.92 - ETA: 1s - loss: 0.1832 - accuracy: 0.92 - ETA: 1s - loss: 0.1831 - accuracy: 0.92 - ETA: 1s - loss: 0.1809 - accuracy: 0.92 - ETA: 1s - loss: 0.1799 - accuracy: 0.92 - ETA: 1s - loss: 0.1786 - accuracy: 0.92 - ETA: 1s - loss: 0.1763 - accuracy: 0.93 - ETA: 1s - loss: 0.1757 - accuracy: 0.93 - ETA: 1s - loss: 0.1732 - accuracy: 0.93 - ETA: 1s - loss: 0.1762 - accuracy: 0.93 - ETA: 1s - loss: 0.1760 - accuracy: 0.93 - ETA: 1s - loss: 0.1799 - accuracy: 0.93 - ETA: 0s - loss: 0.1789 - accuracy: 0.93 - ETA: 0s - loss: 0.1783 - accuracy: 0.93 - ETA: 0s - loss: 0.1778 - accuracy: 0.93 - ETA: 0s - loss: 0.1764 - accuracy: 0.93 - ETA: 0s - loss: 0.1763 - accuracy: 0.93 - ETA: 0s - loss: 0.1774 - accuracy: 0.93 - ETA: 0s - loss: 0.1775 - accuracy: 0.93 - ETA: 0s - loss: 0.1773 - accuracy: 0.93 - ETA: 0s - loss: 0.1780 - accuracy: 0.92 - ETA: 0s - loss: 0.1763 - accuracy: 0.93 - ETA: 0s - loss: 0.1761 - accuracy: 0.93 - ETA: 0s - loss: 0.1760 - accuracy: 0.93 - ETA: 0s - loss: 0.1776 - accuracy: 0.93 - 4s 327us/step - loss: 0.1777 - accuracy: 0.9300 - val_loss: 0.1889 - val_accuracy: 0.9281\n",
      "Epoch 3/20\n",
      "12107/12107 [==============================] - ETA: 3s - loss: 0.2085 - accuracy: 0.91 - ETA: 3s - loss: 0.1829 - accuracy: 0.92 - ETA: 3s - loss: 0.1748 - accuracy: 0.92 - ETA: 3s - loss: 0.1654 - accuracy: 0.93 - ETA: 3s - loss: 0.1865 - accuracy: 0.91 - ETA: 3s - loss: 0.1811 - accuracy: 0.92 - ETA: 3s - loss: 0.1720 - accuracy: 0.92 - ETA: 3s - loss: 0.1657 - accuracy: 0.93 - ETA: 3s - loss: 0.1688 - accuracy: 0.93 - ETA: 3s - loss: 0.1654 - accuracy: 0.93 - ETA: 2s - loss: 0.1684 - accuracy: 0.93 - ETA: 2s - loss: 0.1695 - accuracy: 0.93 - ETA: 2s - loss: 0.1673 - accuracy: 0.93 - ETA: 2s - loss: 0.1693 - accuracy: 0.93 - ETA: 2s - loss: 0.1705 - accuracy: 0.93 - ETA: 2s - loss: 0.1682 - accuracy: 0.93 - ETA: 2s - loss: 0.1691 - accuracy: 0.93 - ETA: 2s - loss: 0.1674 - accuracy: 0.93 - ETA: 2s - loss: 0.1707 - accuracy: 0.92 - ETA: 2s - loss: 0.1746 - accuracy: 0.92 - ETA: 2s - loss: 0.1765 - accuracy: 0.92 - ETA: 2s - loss: 0.1773 - accuracy: 0.92 - ETA: 2s - loss: 0.1750 - accuracy: 0.93 - ETA: 1s - loss: 0.1760 - accuracy: 0.92 - ETA: 1s - loss: 0.1760 - accuracy: 0.93 - ETA: 1s - loss: 0.1780 - accuracy: 0.92 - ETA: 1s - loss: 0.1764 - accuracy: 0.93 - ETA: 1s - loss: 0.1751 - accuracy: 0.93 - ETA: 1s - loss: 0.1760 - accuracy: 0.93 - ETA: 1s - loss: 0.1744 - accuracy: 0.93 - ETA: 1s - loss: 0.1735 - accuracy: 0.93 - ETA: 1s - loss: 0.1727 - accuracy: 0.93 - ETA: 1s - loss: 0.1711 - accuracy: 0.93 - ETA: 1s - loss: 0.1703 - accuracy: 0.93 - ETA: 1s - loss: 0.1713 - accuracy: 0.93 - ETA: 0s - loss: 0.1717 - accuracy: 0.93 - ETA: 0s - loss: 0.1729 - accuracy: 0.93 - ETA: 0s - loss: 0.1742 - accuracy: 0.93 - ETA: 0s - loss: 0.1737 - accuracy: 0.93 - ETA: 0s - loss: 0.1728 - accuracy: 0.93 - ETA: 0s - loss: 0.1731 - accuracy: 0.93 - ETA: 0s - loss: 0.1728 - accuracy: 0.93 - ETA: 0s - loss: 0.1730 - accuracy: 0.93 - ETA: 0s - loss: 0.1739 - accuracy: 0.93 - ETA: 0s - loss: 0.1740 - accuracy: 0.93 - ETA: 0s - loss: 0.1734 - accuracy: 0.93 - ETA: 0s - loss: 0.1740 - accuracy: 0.93 - ETA: 0s - loss: 0.1747 - accuracy: 0.92 - 4s 327us/step - loss: 0.1756 - accuracy: 0.9298 - val_loss: 0.1865 - val_accuracy: 0.9264\n",
      "Epoch 4/20\n"
     ]
    },
    {
     "name": "stdout",
     "output_type": "stream",
     "text": [
      "12107/12107 [==============================] - ETA: 3s - loss: 0.1494 - accuracy: 0.92 - ETA: 3s - loss: 0.1773 - accuracy: 0.93 - ETA: 3s - loss: 0.1909 - accuracy: 0.93 - ETA: 3s - loss: 0.1863 - accuracy: 0.92 - ETA: 3s - loss: 0.1771 - accuracy: 0.92 - ETA: 3s - loss: 0.1814 - accuracy: 0.92 - ETA: 3s - loss: 0.1851 - accuracy: 0.92 - ETA: 2s - loss: 0.1813 - accuracy: 0.92 - ETA: 3s - loss: 0.1807 - accuracy: 0.92 - ETA: 2s - loss: 0.1769 - accuracy: 0.93 - ETA: 2s - loss: 0.1769 - accuracy: 0.92 - ETA: 2s - loss: 0.1799 - accuracy: 0.92 - ETA: 2s - loss: 0.1799 - accuracy: 0.92 - ETA: 2s - loss: 0.1851 - accuracy: 0.92 - ETA: 2s - loss: 0.1841 - accuracy: 0.92 - ETA: 2s - loss: 0.1821 - accuracy: 0.92 - ETA: 2s - loss: 0.1821 - accuracy: 0.92 - ETA: 2s - loss: 0.1797 - accuracy: 0.92 - ETA: 2s - loss: 0.1857 - accuracy: 0.92 - ETA: 2s - loss: 0.1851 - accuracy: 0.92 - ETA: 2s - loss: 0.1852 - accuracy: 0.92 - ETA: 2s - loss: 0.1830 - accuracy: 0.92 - ETA: 2s - loss: 0.1819 - accuracy: 0.92 - ETA: 1s - loss: 0.1799 - accuracy: 0.92 - ETA: 1s - loss: 0.1795 - accuracy: 0.93 - ETA: 1s - loss: 0.1789 - accuracy: 0.93 - ETA: 1s - loss: 0.1761 - accuracy: 0.93 - ETA: 1s - loss: 0.1764 - accuracy: 0.93 - ETA: 1s - loss: 0.1751 - accuracy: 0.93 - ETA: 1s - loss: 0.1746 - accuracy: 0.93 - ETA: 1s - loss: 0.1750 - accuracy: 0.93 - ETA: 1s - loss: 0.1740 - accuracy: 0.93 - ETA: 1s - loss: 0.1731 - accuracy: 0.93 - ETA: 1s - loss: 0.1737 - accuracy: 0.93 - ETA: 1s - loss: 0.1744 - accuracy: 0.93 - ETA: 0s - loss: 0.1744 - accuracy: 0.93 - ETA: 0s - loss: 0.1752 - accuracy: 0.93 - ETA: 0s - loss: 0.1742 - accuracy: 0.93 - ETA: 0s - loss: 0.1735 - accuracy: 0.93 - ETA: 0s - loss: 0.1747 - accuracy: 0.93 - ETA: 0s - loss: 0.1738 - accuracy: 0.93 - ETA: 0s - loss: 0.1739 - accuracy: 0.93 - ETA: 0s - loss: 0.1729 - accuracy: 0.93 - ETA: 0s - loss: 0.1738 - accuracy: 0.93 - ETA: 0s - loss: 0.1741 - accuracy: 0.93 - ETA: 0s - loss: 0.1749 - accuracy: 0.93 - ETA: 0s - loss: 0.1747 - accuracy: 0.93 - ETA: 0s - loss: 0.1749 - accuracy: 0.93 - ETA: 0s - loss: 0.1747 - accuracy: 0.93 - 4s 328us/step - loss: 0.1748 - accuracy: 0.9299 - val_loss: 0.1944 - val_accuracy: 0.9279\n",
      "Epoch 5/20\n",
      "12107/12107 [==============================] - ETA: 3s - loss: 0.1404 - accuracy: 0.95 - ETA: 3s - loss: 0.1581 - accuracy: 0.93 - ETA: 3s - loss: 0.1646 - accuracy: 0.93 - ETA: 3s - loss: 0.1685 - accuracy: 0.92 - ETA: 3s - loss: 0.1925 - accuracy: 0.92 - ETA: 3s - loss: 0.1961 - accuracy: 0.92 - ETA: 3s - loss: 0.1963 - accuracy: 0.92 - ETA: 2s - loss: 0.1868 - accuracy: 0.92 - ETA: 2s - loss: 0.1876 - accuracy: 0.92 - ETA: 2s - loss: 0.1817 - accuracy: 0.92 - ETA: 2s - loss: 0.1847 - accuracy: 0.92 - ETA: 2s - loss: 0.1863 - accuracy: 0.92 - ETA: 2s - loss: 0.1828 - accuracy: 0.92 - ETA: 2s - loss: 0.1830 - accuracy: 0.92 - ETA: 2s - loss: 0.1783 - accuracy: 0.92 - ETA: 2s - loss: 0.1747 - accuracy: 0.92 - ETA: 2s - loss: 0.1758 - accuracy: 0.92 - ETA: 2s - loss: 0.1760 - accuracy: 0.92 - ETA: 2s - loss: 0.1758 - accuracy: 0.92 - ETA: 2s - loss: 0.1729 - accuracy: 0.92 - ETA: 2s - loss: 0.1754 - accuracy: 0.92 - ETA: 1s - loss: 0.1757 - accuracy: 0.92 - ETA: 1s - loss: 0.1740 - accuracy: 0.92 - ETA: 1s - loss: 0.1761 - accuracy: 0.92 - ETA: 1s - loss: 0.1766 - accuracy: 0.92 - ETA: 1s - loss: 0.1744 - accuracy: 0.92 - ETA: 1s - loss: 0.1732 - accuracy: 0.92 - ETA: 1s - loss: 0.1709 - accuracy: 0.92 - ETA: 1s - loss: 0.1718 - accuracy: 0.92 - ETA: 1s - loss: 0.1722 - accuracy: 0.92 - ETA: 1s - loss: 0.1712 - accuracy: 0.92 - ETA: 1s - loss: 0.1720 - accuracy: 0.92 - ETA: 1s - loss: 0.1723 - accuracy: 0.92 - ETA: 1s - loss: 0.1738 - accuracy: 0.92 - ETA: 0s - loss: 0.1750 - accuracy: 0.92 - ETA: 0s - loss: 0.1759 - accuracy: 0.92 - ETA: 0s - loss: 0.1769 - accuracy: 0.92 - ETA: 0s - loss: 0.1773 - accuracy: 0.92 - ETA: 0s - loss: 0.1764 - accuracy: 0.92 - ETA: 0s - loss: 0.1762 - accuracy: 0.92 - ETA: 0s - loss: 0.1761 - accuracy: 0.92 - ETA: 0s - loss: 0.1763 - accuracy: 0.92 - ETA: 0s - loss: 0.1761 - accuracy: 0.92 - ETA: 0s - loss: 0.1754 - accuracy: 0.92 - ETA: 0s - loss: 0.1748 - accuracy: 0.92 - ETA: 0s - loss: 0.1756 - accuracy: 0.92 - ETA: 0s - loss: 0.1749 - accuracy: 0.92 - ETA: 0s - loss: 0.1756 - accuracy: 0.92 - 4s 323us/step - loss: 0.1754 - accuracy: 0.9295 - val_loss: 0.1873 - val_accuracy: 0.9281\n",
      "Epoch 6/20\n",
      "12107/12107 [==============================] - ETA: 3s - loss: 0.1137 - accuracy: 0.95 - ETA: 3s - loss: 0.1909 - accuracy: 0.92 - ETA: 3s - loss: 0.1819 - accuracy: 0.92 - ETA: 3s - loss: 0.1797 - accuracy: 0.92 - ETA: 3s - loss: 0.1728 - accuracy: 0.92 - ETA: 3s - loss: 0.1714 - accuracy: 0.92 - ETA: 3s - loss: 0.1796 - accuracy: 0.92 - ETA: 3s - loss: 0.1791 - accuracy: 0.92 - ETA: 3s - loss: 0.1800 - accuracy: 0.92 - ETA: 2s - loss: 0.1798 - accuracy: 0.92 - ETA: 2s - loss: 0.1753 - accuracy: 0.92 - ETA: 2s - loss: 0.1722 - accuracy: 0.92 - ETA: 2s - loss: 0.1694 - accuracy: 0.93 - ETA: 2s - loss: 0.1716 - accuracy: 0.93 - ETA: 2s - loss: 0.1737 - accuracy: 0.93 - ETA: 2s - loss: 0.1730 - accuracy: 0.93 - ETA: 2s - loss: 0.1768 - accuracy: 0.92 - ETA: 2s - loss: 0.1752 - accuracy: 0.93 - ETA: 2s - loss: 0.1701 - accuracy: 0.93 - ETA: 2s - loss: 0.1709 - accuracy: 0.93 - ETA: 2s - loss: 0.1718 - accuracy: 0.93 - ETA: 2s - loss: 0.1724 - accuracy: 0.93 - ETA: 1s - loss: 0.1777 - accuracy: 0.93 - ETA: 1s - loss: 0.1774 - accuracy: 0.93 - ETA: 1s - loss: 0.1753 - accuracy: 0.93 - ETA: 1s - loss: 0.1753 - accuracy: 0.93 - ETA: 1s - loss: 0.1750 - accuracy: 0.93 - ETA: 1s - loss: 0.1766 - accuracy: 0.92 - ETA: 1s - loss: 0.1779 - accuracy: 0.92 - ETA: 1s - loss: 0.1779 - accuracy: 0.92 - ETA: 1s - loss: 0.1778 - accuracy: 0.92 - ETA: 1s - loss: 0.1770 - accuracy: 0.92 - ETA: 1s - loss: 0.1775 - accuracy: 0.92 - ETA: 1s - loss: 0.1773 - accuracy: 0.92 - ETA: 1s - loss: 0.1765 - accuracy: 0.92 - ETA: 1s - loss: 0.1761 - accuracy: 0.92 - ETA: 0s - loss: 0.1771 - accuracy: 0.92 - ETA: 0s - loss: 0.1770 - accuracy: 0.92 - ETA: 0s - loss: 0.1769 - accuracy: 0.92 - ETA: 0s - loss: 0.1765 - accuracy: 0.92 - ETA: 0s - loss: 0.1764 - accuracy: 0.92 - ETA: 0s - loss: 0.1763 - accuracy: 0.92 - ETA: 0s - loss: 0.1775 - accuracy: 0.92 - ETA: 0s - loss: 0.1762 - accuracy: 0.92 - ETA: 0s - loss: 0.1758 - accuracy: 0.92 - ETA: 0s - loss: 0.1756 - accuracy: 0.92 - ETA: 0s - loss: 0.1766 - accuracy: 0.92 - ETA: 0s - loss: 0.1758 - accuracy: 0.92 - ETA: 0s - loss: 0.1751 - accuracy: 0.92 - 4s 325us/step - loss: 0.1752 - accuracy: 0.9288 - val_loss: 0.1905 - val_accuracy: 0.9296\n",
      "Epoch 7/20\n"
     ]
    },
    {
     "name": "stdout",
     "output_type": "stream",
     "text": [
      "12107/12107 [==============================] - ETA: 3s - loss: 0.1731 - accuracy: 0.92 - ETA: 3s - loss: 0.1512 - accuracy: 0.93 - ETA: 3s - loss: 0.1594 - accuracy: 0.93 - ETA: 3s - loss: 0.1539 - accuracy: 0.93 - ETA: 3s - loss: 0.1401 - accuracy: 0.94 - ETA: 3s - loss: 0.1558 - accuracy: 0.93 - ETA: 2s - loss: 0.1638 - accuracy: 0.93 - ETA: 2s - loss: 0.1648 - accuracy: 0.93 - ETA: 2s - loss: 0.1617 - accuracy: 0.93 - ETA: 2s - loss: 0.1622 - accuracy: 0.93 - ETA: 2s - loss: 0.1648 - accuracy: 0.93 - ETA: 2s - loss: 0.1648 - accuracy: 0.93 - ETA: 2s - loss: 0.1666 - accuracy: 0.93 - ETA: 2s - loss: 0.1635 - accuracy: 0.93 - ETA: 2s - loss: 0.1624 - accuracy: 0.93 - ETA: 2s - loss: 0.1652 - accuracy: 0.93 - ETA: 2s - loss: 0.1650 - accuracy: 0.93 - ETA: 2s - loss: 0.1663 - accuracy: 0.93 - ETA: 2s - loss: 0.1659 - accuracy: 0.93 - ETA: 2s - loss: 0.1636 - accuracy: 0.93 - ETA: 2s - loss: 0.1661 - accuracy: 0.93 - ETA: 1s - loss: 0.1663 - accuracy: 0.93 - ETA: 1s - loss: 0.1671 - accuracy: 0.93 - ETA: 1s - loss: 0.1686 - accuracy: 0.93 - ETA: 1s - loss: 0.1685 - accuracy: 0.93 - ETA: 1s - loss: 0.1685 - accuracy: 0.93 - ETA: 1s - loss: 0.1700 - accuracy: 0.93 - ETA: 1s - loss: 0.1704 - accuracy: 0.93 - ETA: 1s - loss: 0.1699 - accuracy: 0.93 - ETA: 1s - loss: 0.1705 - accuracy: 0.93 - ETA: 1s - loss: 0.1705 - accuracy: 0.93 - ETA: 1s - loss: 0.1705 - accuracy: 0.93 - ETA: 1s - loss: 0.1701 - accuracy: 0.93 - ETA: 1s - loss: 0.1704 - accuracy: 0.93 - ETA: 1s - loss: 0.1711 - accuracy: 0.93 - ETA: 1s - loss: 0.1723 - accuracy: 0.93 - ETA: 0s - loss: 0.1728 - accuracy: 0.93 - ETA: 0s - loss: 0.1726 - accuracy: 0.93 - ETA: 0s - loss: 0.1721 - accuracy: 0.93 - ETA: 0s - loss: 0.1721 - accuracy: 0.93 - ETA: 0s - loss: 0.1717 - accuracy: 0.93 - ETA: 0s - loss: 0.1721 - accuracy: 0.93 - ETA: 0s - loss: 0.1716 - accuracy: 0.93 - ETA: 0s - loss: 0.1716 - accuracy: 0.93 - ETA: 0s - loss: 0.1725 - accuracy: 0.93 - ETA: 0s - loss: 0.1721 - accuracy: 0.93 - ETA: 0s - loss: 0.1723 - accuracy: 0.93 - ETA: 0s - loss: 0.1729 - accuracy: 0.93 - ETA: 0s - loss: 0.1735 - accuracy: 0.93 - 4s 324us/step - loss: 0.1744 - accuracy: 0.9306 - val_loss: 0.1857 - val_accuracy: 0.9291\n",
      "Epoch 8/20\n",
      "12107/12107 [==============================] - ETA: 3s - loss: 0.1618 - accuracy: 0.95 - ETA: 3s - loss: 0.1997 - accuracy: 0.92 - ETA: 3s - loss: 0.1722 - accuracy: 0.93 - ETA: 3s - loss: 0.1774 - accuracy: 0.93 - ETA: 3s - loss: 0.1750 - accuracy: 0.93 - ETA: 3s - loss: 0.1687 - accuracy: 0.93 - ETA: 3s - loss: 0.1620 - accuracy: 0.93 - ETA: 3s - loss: 0.1606 - accuracy: 0.94 - ETA: 3s - loss: 0.1596 - accuracy: 0.93 - ETA: 2s - loss: 0.1595 - accuracy: 0.93 - ETA: 2s - loss: 0.1573 - accuracy: 0.93 - ETA: 2s - loss: 0.1566 - accuracy: 0.93 - ETA: 2s - loss: 0.1576 - accuracy: 0.93 - ETA: 2s - loss: 0.1581 - accuracy: 0.93 - ETA: 2s - loss: 0.1611 - accuracy: 0.93 - ETA: 2s - loss: 0.1615 - accuracy: 0.93 - ETA: 2s - loss: 0.1625 - accuracy: 0.93 - ETA: 2s - loss: 0.1634 - accuracy: 0.93 - ETA: 2s - loss: 0.1608 - accuracy: 0.93 - ETA: 2s - loss: 0.1631 - accuracy: 0.93 - ETA: 2s - loss: 0.1646 - accuracy: 0.93 - ETA: 2s - loss: 0.1657 - accuracy: 0.93 - ETA: 1s - loss: 0.1700 - accuracy: 0.93 - ETA: 1s - loss: 0.1697 - accuracy: 0.93 - ETA: 1s - loss: 0.1720 - accuracy: 0.93 - ETA: 1s - loss: 0.1726 - accuracy: 0.93 - ETA: 1s - loss: 0.1728 - accuracy: 0.93 - ETA: 1s - loss: 0.1720 - accuracy: 0.93 - ETA: 1s - loss: 0.1711 - accuracy: 0.93 - ETA: 1s - loss: 0.1719 - accuracy: 0.93 - ETA: 1s - loss: 0.1731 - accuracy: 0.93 - ETA: 1s - loss: 0.1731 - accuracy: 0.93 - ETA: 1s - loss: 0.1720 - accuracy: 0.93 - ETA: 1s - loss: 0.1738 - accuracy: 0.93 - ETA: 1s - loss: 0.1730 - accuracy: 0.93 - ETA: 1s - loss: 0.1737 - accuracy: 0.93 - ETA: 0s - loss: 0.1735 - accuracy: 0.93 - ETA: 0s - loss: 0.1721 - accuracy: 0.93 - ETA: 0s - loss: 0.1728 - accuracy: 0.93 - ETA: 0s - loss: 0.1728 - accuracy: 0.93 - ETA: 0s - loss: 0.1723 - accuracy: 0.93 - ETA: 0s - loss: 0.1733 - accuracy: 0.93 - ETA: 0s - loss: 0.1727 - accuracy: 0.93 - ETA: 0s - loss: 0.1734 - accuracy: 0.93 - ETA: 0s - loss: 0.1736 - accuracy: 0.93 - ETA: 0s - loss: 0.1743 - accuracy: 0.93 - ETA: 0s - loss: 0.1744 - accuracy: 0.93 - ETA: 0s - loss: 0.1743 - accuracy: 0.93 - ETA: 0s - loss: 0.1738 - accuracy: 0.93 - ETA: 0s - loss: 0.1741 - accuracy: 0.93 - 4s 328us/step - loss: 0.1738 - accuracy: 0.9307 - val_loss: 0.1891 - val_accuracy: 0.9281\n",
      "Epoch 9/20\n",
      "12107/12107 [==============================] - ETA: 3s - loss: 0.1742 - accuracy: 0.90 - ETA: 3s - loss: 0.1670 - accuracy: 0.92 - ETA: 3s - loss: 0.1580 - accuracy: 0.92 - ETA: 3s - loss: 0.1572 - accuracy: 0.92 - ETA: 3s - loss: 0.1618 - accuracy: 0.92 - ETA: 3s - loss: 0.1692 - accuracy: 0.92 - ETA: 3s - loss: 0.1629 - accuracy: 0.93 - ETA: 3s - loss: 0.1727 - accuracy: 0.92 - ETA: 3s - loss: 0.1700 - accuracy: 0.92 - ETA: 3s - loss: 0.1770 - accuracy: 0.92 - ETA: 3s - loss: 0.1725 - accuracy: 0.92 - ETA: 2s - loss: 0.1740 - accuracy: 0.92 - ETA: 2s - loss: 0.1744 - accuracy: 0.92 - ETA: 2s - loss: 0.1744 - accuracy: 0.92 - ETA: 2s - loss: 0.1726 - accuracy: 0.92 - ETA: 2s - loss: 0.1701 - accuracy: 0.92 - ETA: 2s - loss: 0.1740 - accuracy: 0.92 - ETA: 2s - loss: 0.1753 - accuracy: 0.92 - ETA: 2s - loss: 0.1751 - accuracy: 0.92 - ETA: 2s - loss: 0.1724 - accuracy: 0.92 - ETA: 2s - loss: 0.1711 - accuracy: 0.93 - ETA: 2s - loss: 0.1736 - accuracy: 0.92 - ETA: 2s - loss: 0.1737 - accuracy: 0.92 - ETA: 2s - loss: 0.1748 - accuracy: 0.92 - ETA: 1s - loss: 0.1754 - accuracy: 0.92 - ETA: 1s - loss: 0.1761 - accuracy: 0.92 - ETA: 1s - loss: 0.1760 - accuracy: 0.92 - ETA: 1s - loss: 0.1757 - accuracy: 0.92 - ETA: 1s - loss: 0.1759 - accuracy: 0.92 - ETA: 1s - loss: 0.1747 - accuracy: 0.92 - ETA: 1s - loss: 0.1742 - accuracy: 0.92 - ETA: 1s - loss: 0.1735 - accuracy: 0.92 - ETA: 1s - loss: 0.1733 - accuracy: 0.92 - ETA: 1s - loss: 0.1731 - accuracy: 0.92 - ETA: 1s - loss: 0.1735 - accuracy: 0.92 - ETA: 1s - loss: 0.1724 - accuracy: 0.93 - ETA: 0s - loss: 0.1733 - accuracy: 0.92 - ETA: 0s - loss: 0.1730 - accuracy: 0.92 - ETA: 0s - loss: 0.1738 - accuracy: 0.92 - ETA: 0s - loss: 0.1732 - accuracy: 0.93 - ETA: 0s - loss: 0.1724 - accuracy: 0.93 - ETA: 0s - loss: 0.1744 - accuracy: 0.93 - ETA: 0s - loss: 0.1746 - accuracy: 0.92 - ETA: 0s - loss: 0.1745 - accuracy: 0.93 - ETA: 0s - loss: 0.1747 - accuracy: 0.93 - ETA: 0s - loss: 0.1753 - accuracy: 0.93 - ETA: 0s - loss: 0.1757 - accuracy: 0.92 - ETA: 0s - loss: 0.1753 - accuracy: 0.93 - ETA: 0s - loss: 0.1746 - accuracy: 0.93 - ETA: 0s - loss: 0.1746 - accuracy: 0.93 - 4s 355us/step - loss: 0.1746 - accuracy: 0.9306 - val_loss: 0.1951 - val_accuracy: 0.9287\n",
      "Epoch 10/20\n"
     ]
    },
    {
     "name": "stdout",
     "output_type": "stream",
     "text": [
      "12107/12107 [==============================] - ETA: 3s - loss: 0.1179 - accuracy: 0.96 - ETA: 3s - loss: 0.1791 - accuracy: 0.92 - ETA: 3s - loss: 0.1542 - accuracy: 0.93 - ETA: 3s - loss: 0.1659 - accuracy: 0.93 - ETA: 3s - loss: 0.1578 - accuracy: 0.93 - ETA: 3s - loss: 0.1633 - accuracy: 0.93 - ETA: 3s - loss: 0.1672 - accuracy: 0.93 - ETA: 3s - loss: 0.1645 - accuracy: 0.93 - ETA: 3s - loss: 0.1621 - accuracy: 0.93 - ETA: 3s - loss: 0.1650 - accuracy: 0.93 - ETA: 3s - loss: 0.1646 - accuracy: 0.93 - ETA: 3s - loss: 0.1656 - accuracy: 0.93 - ETA: 2s - loss: 0.1691 - accuracy: 0.93 - ETA: 2s - loss: 0.1722 - accuracy: 0.93 - ETA: 2s - loss: 0.1711 - accuracy: 0.92 - ETA: 2s - loss: 0.1721 - accuracy: 0.92 - ETA: 2s - loss: 0.1705 - accuracy: 0.93 - ETA: 2s - loss: 0.1693 - accuracy: 0.93 - ETA: 2s - loss: 0.1712 - accuracy: 0.93 - ETA: 2s - loss: 0.1706 - accuracy: 0.93 - ETA: 2s - loss: 0.1732 - accuracy: 0.92 - ETA: 2s - loss: 0.1724 - accuracy: 0.92 - ETA: 2s - loss: 0.1725 - accuracy: 0.92 - ETA: 2s - loss: 0.1709 - accuracy: 0.93 - ETA: 2s - loss: 0.1701 - accuracy: 0.93 - ETA: 2s - loss: 0.1691 - accuracy: 0.93 - ETA: 2s - loss: 0.1694 - accuracy: 0.93 - ETA: 2s - loss: 0.1703 - accuracy: 0.93 - ETA: 2s - loss: 0.1697 - accuracy: 0.93 - ETA: 1s - loss: 0.1724 - accuracy: 0.93 - ETA: 1s - loss: 0.1743 - accuracy: 0.92 - ETA: 1s - loss: 0.1740 - accuracy: 0.92 - ETA: 1s - loss: 0.1762 - accuracy: 0.92 - ETA: 1s - loss: 0.1771 - accuracy: 0.92 - ETA: 1s - loss: 0.1771 - accuracy: 0.92 - ETA: 1s - loss: 0.1768 - accuracy: 0.92 - ETA: 1s - loss: 0.1770 - accuracy: 0.92 - ETA: 1s - loss: 0.1777 - accuracy: 0.92 - ETA: 1s - loss: 0.1779 - accuracy: 0.92 - ETA: 1s - loss: 0.1783 - accuracy: 0.92 - ETA: 1s - loss: 0.1780 - accuracy: 0.92 - ETA: 1s - loss: 0.1770 - accuracy: 0.92 - ETA: 0s - loss: 0.1762 - accuracy: 0.92 - ETA: 0s - loss: 0.1760 - accuracy: 0.92 - ETA: 0s - loss: 0.1761 - accuracy: 0.92 - ETA: 0s - loss: 0.1746 - accuracy: 0.92 - ETA: 0s - loss: 0.1742 - accuracy: 0.92 - ETA: 0s - loss: 0.1734 - accuracy: 0.92 - ETA: 0s - loss: 0.1745 - accuracy: 0.92 - ETA: 0s - loss: 0.1739 - accuracy: 0.92 - ETA: 0s - loss: 0.1737 - accuracy: 0.92 - ETA: 0s - loss: 0.1742 - accuracy: 0.92 - ETA: 0s - loss: 0.1735 - accuracy: 0.93 - ETA: 0s - loss: 0.1731 - accuracy: 0.93 - ETA: 0s - loss: 0.1738 - accuracy: 0.93 - ETA: 0s - loss: 0.1734 - accuracy: 0.93 - 5s 383us/step - loss: 0.1729 - accuracy: 0.9304 - val_loss: 0.1902 - val_accuracy: 0.9281\n",
      "Epoch 11/20\n",
      "12107/12107 [==============================] - ETA: 3s - loss: 0.1205 - accuracy: 0.94 - ETA: 3s - loss: 0.1350 - accuracy: 0.94 - ETA: 3s - loss: 0.1485 - accuracy: 0.93 - ETA: 3s - loss: 0.1784 - accuracy: 0.92 - ETA: 3s - loss: 0.1778 - accuracy: 0.93 - ETA: 3s - loss: 0.1831 - accuracy: 0.92 - ETA: 3s - loss: 0.1818 - accuracy: 0.92 - ETA: 3s - loss: 0.1795 - accuracy: 0.92 - ETA: 3s - loss: 0.1817 - accuracy: 0.92 - ETA: 3s - loss: 0.1819 - accuracy: 0.92 - ETA: 3s - loss: 0.1833 - accuracy: 0.92 - ETA: 2s - loss: 0.1835 - accuracy: 0.92 - ETA: 2s - loss: 0.1871 - accuracy: 0.92 - ETA: 2s - loss: 0.1842 - accuracy: 0.92 - ETA: 2s - loss: 0.1847 - accuracy: 0.92 - ETA: 2s - loss: 0.1836 - accuracy: 0.92 - ETA: 2s - loss: 0.1869 - accuracy: 0.92 - ETA: 2s - loss: 0.1855 - accuracy: 0.92 - ETA: 2s - loss: 0.1833 - accuracy: 0.92 - ETA: 2s - loss: 0.1815 - accuracy: 0.92 - ETA: 2s - loss: 0.1807 - accuracy: 0.92 - ETA: 2s - loss: 0.1815 - accuracy: 0.92 - ETA: 2s - loss: 0.1810 - accuracy: 0.92 - ETA: 2s - loss: 0.1791 - accuracy: 0.92 - ETA: 2s - loss: 0.1779 - accuracy: 0.92 - ETA: 1s - loss: 0.1770 - accuracy: 0.92 - ETA: 1s - loss: 0.1789 - accuracy: 0.92 - ETA: 1s - loss: 0.1778 - accuracy: 0.92 - ETA: 1s - loss: 0.1781 - accuracy: 0.92 - ETA: 1s - loss: 0.1767 - accuracy: 0.92 - ETA: 1s - loss: 0.1770 - accuracy: 0.92 - ETA: 1s - loss: 0.1772 - accuracy: 0.92 - ETA: 1s - loss: 0.1767 - accuracy: 0.92 - ETA: 1s - loss: 0.1758 - accuracy: 0.92 - ETA: 1s - loss: 0.1745 - accuracy: 0.92 - ETA: 1s - loss: 0.1737 - accuracy: 0.93 - ETA: 1s - loss: 0.1741 - accuracy: 0.92 - ETA: 1s - loss: 0.1740 - accuracy: 0.92 - ETA: 1s - loss: 0.1757 - accuracy: 0.92 - ETA: 1s - loss: 0.1755 - accuracy: 0.92 - ETA: 1s - loss: 0.1755 - accuracy: 0.92 - ETA: 0s - loss: 0.1743 - accuracy: 0.92 - ETA: 0s - loss: 0.1749 - accuracy: 0.92 - ETA: 0s - loss: 0.1758 - accuracy: 0.92 - ETA: 0s - loss: 0.1753 - accuracy: 0.92 - ETA: 0s - loss: 0.1756 - accuracy: 0.92 - ETA: 0s - loss: 0.1762 - accuracy: 0.92 - ETA: 0s - loss: 0.1760 - accuracy: 0.92 - ETA: 0s - loss: 0.1763 - accuracy: 0.92 - ETA: 0s - loss: 0.1760 - accuracy: 0.92 - ETA: 0s - loss: 0.1744 - accuracy: 0.93 - ETA: 0s - loss: 0.1743 - accuracy: 0.92 - 4s 361us/step - loss: 0.1736 - accuracy: 0.9300 - val_loss: 0.1935 - val_accuracy: 0.9283\n",
      "Epoch 12/20\n",
      "12107/12107 [==============================] - ETA: 3s - loss: 0.1177 - accuracy: 0.95 - ETA: 3s - loss: 0.1693 - accuracy: 0.93 - ETA: 3s - loss: 0.1889 - accuracy: 0.92 - ETA: 3s - loss: 0.1827 - accuracy: 0.92 - ETA: 3s - loss: 0.1742 - accuracy: 0.92 - ETA: 3s - loss: 0.1927 - accuracy: 0.92 - ETA: 3s - loss: 0.1819 - accuracy: 0.92 - ETA: 3s - loss: 0.1832 - accuracy: 0.92 - ETA: 3s - loss: 0.1849 - accuracy: 0.92 - ETA: 3s - loss: 0.1840 - accuracy: 0.92 - ETA: 3s - loss: 0.1821 - accuracy: 0.92 - ETA: 3s - loss: 0.1876 - accuracy: 0.92 - ETA: 3s - loss: 0.1928 - accuracy: 0.91 - ETA: 2s - loss: 0.1864 - accuracy: 0.92 - ETA: 2s - loss: 0.1829 - accuracy: 0.92 - ETA: 2s - loss: 0.1854 - accuracy: 0.92 - ETA: 2s - loss: 0.1862 - accuracy: 0.92 - ETA: 2s - loss: 0.1850 - accuracy: 0.92 - ETA: 2s - loss: 0.1854 - accuracy: 0.92 - ETA: 2s - loss: 0.1811 - accuracy: 0.92 - ETA: 2s - loss: 0.1824 - accuracy: 0.92 - ETA: 2s - loss: 0.1809 - accuracy: 0.92 - ETA: 2s - loss: 0.1808 - accuracy: 0.92 - ETA: 2s - loss: 0.1805 - accuracy: 0.92 - ETA: 2s - loss: 0.1807 - accuracy: 0.92 - ETA: 2s - loss: 0.1798 - accuracy: 0.92 - ETA: 2s - loss: 0.1803 - accuracy: 0.92 - ETA: 1s - loss: 0.1804 - accuracy: 0.92 - ETA: 1s - loss: 0.1797 - accuracy: 0.92 - ETA: 1s - loss: 0.1788 - accuracy: 0.92 - ETA: 1s - loss: 0.1789 - accuracy: 0.92 - ETA: 1s - loss: 0.1781 - accuracy: 0.92 - ETA: 1s - loss: 0.1780 - accuracy: 0.92 - ETA: 1s - loss: 0.1772 - accuracy: 0.92 - ETA: 1s - loss: 0.1774 - accuracy: 0.92 - ETA: 1s - loss: 0.1774 - accuracy: 0.92 - ETA: 1s - loss: 0.1778 - accuracy: 0.92 - ETA: 1s - loss: 0.1762 - accuracy: 0.92 - ETA: 1s - loss: 0.1768 - accuracy: 0.92 - ETA: 1s - loss: 0.1764 - accuracy: 0.92 - ETA: 1s - loss: 0.1762 - accuracy: 0.92 - ETA: 0s - loss: 0.1753 - accuracy: 0.92 - ETA: 0s - loss: 0.1757 - accuracy: 0.92 - ETA: 0s - loss: 0.1747 - accuracy: 0.92 - ETA: 0s - loss: 0.1735 - accuracy: 0.92 - ETA: 0s - loss: 0.1734 - accuracy: 0.92 - ETA: 0s - loss: 0.1734 - accuracy: 0.93 - ETA: 0s - loss: 0.1744 - accuracy: 0.93 - ETA: 0s - loss: 0.1734 - accuracy: 0.93 - ETA: 0s - loss: 0.1728 - accuracy: 0.93 - ETA: 0s - loss: 0.1739 - accuracy: 0.93 - ETA: 0s - loss: 0.1738 - accuracy: 0.93 - ETA: 0s - loss: 0.1737 - accuracy: 0.93 - 5s 381us/step - loss: 0.1736 - accuracy: 0.9300 - val_loss: 0.1860 - val_accuracy: 0.9281\n",
      "Epoch 13/20\n"
     ]
    },
    {
     "name": "stdout",
     "output_type": "stream",
     "text": [
      "12107/12107 [==============================] - ETA: 3s - loss: 0.1951 - accuracy: 0.90 - ETA: 3s - loss: 0.2120 - accuracy: 0.90 - ETA: 3s - loss: 0.2039 - accuracy: 0.91 - ETA: 3s - loss: 0.1915 - accuracy: 0.91 - ETA: 3s - loss: 0.1733 - accuracy: 0.92 - ETA: 3s - loss: 0.1721 - accuracy: 0.92 - ETA: 3s - loss: 0.1695 - accuracy: 0.92 - ETA: 3s - loss: 0.1688 - accuracy: 0.92 - ETA: 3s - loss: 0.1747 - accuracy: 0.92 - ETA: 3s - loss: 0.1741 - accuracy: 0.92 - ETA: 3s - loss: 0.1708 - accuracy: 0.92 - ETA: 3s - loss: 0.1703 - accuracy: 0.92 - ETA: 3s - loss: 0.1701 - accuracy: 0.93 - ETA: 2s - loss: 0.1741 - accuracy: 0.92 - ETA: 2s - loss: 0.1747 - accuracy: 0.93 - ETA: 2s - loss: 0.1736 - accuracy: 0.93 - ETA: 2s - loss: 0.1719 - accuracy: 0.93 - ETA: 2s - loss: 0.1741 - accuracy: 0.93 - ETA: 2s - loss: 0.1755 - accuracy: 0.92 - ETA: 2s - loss: 0.1757 - accuracy: 0.92 - ETA: 2s - loss: 0.1747 - accuracy: 0.92 - ETA: 2s - loss: 0.1737 - accuracy: 0.92 - ETA: 2s - loss: 0.1713 - accuracy: 0.93 - ETA: 2s - loss: 0.1729 - accuracy: 0.92 - ETA: 2s - loss: 0.1741 - accuracy: 0.92 - ETA: 2s - loss: 0.1739 - accuracy: 0.92 - ETA: 2s - loss: 0.1738 - accuracy: 0.92 - ETA: 1s - loss: 0.1747 - accuracy: 0.92 - ETA: 1s - loss: 0.1735 - accuracy: 0.92 - ETA: 1s - loss: 0.1744 - accuracy: 0.92 - ETA: 1s - loss: 0.1751 - accuracy: 0.92 - ETA: 1s - loss: 0.1749 - accuracy: 0.92 - ETA: 1s - loss: 0.1749 - accuracy: 0.92 - ETA: 1s - loss: 0.1747 - accuracy: 0.92 - ETA: 1s - loss: 0.1743 - accuracy: 0.92 - ETA: 1s - loss: 0.1736 - accuracy: 0.93 - ETA: 1s - loss: 0.1735 - accuracy: 0.93 - ETA: 1s - loss: 0.1731 - accuracy: 0.93 - ETA: 1s - loss: 0.1725 - accuracy: 0.93 - ETA: 1s - loss: 0.1725 - accuracy: 0.93 - ETA: 0s - loss: 0.1748 - accuracy: 0.92 - ETA: 0s - loss: 0.1742 - accuracy: 0.92 - ETA: 0s - loss: 0.1743 - accuracy: 0.92 - ETA: 0s - loss: 0.1745 - accuracy: 0.93 - ETA: 0s - loss: 0.1744 - accuracy: 0.92 - ETA: 0s - loss: 0.1746 - accuracy: 0.92 - ETA: 0s - loss: 0.1735 - accuracy: 0.92 - ETA: 0s - loss: 0.1723 - accuracy: 0.93 - ETA: 0s - loss: 0.1725 - accuracy: 0.93 - ETA: 0s - loss: 0.1722 - accuracy: 0.93 - ETA: 0s - loss: 0.1720 - accuracy: 0.93 - ETA: 0s - loss: 0.1719 - accuracy: 0.93 - ETA: 0s - loss: 0.1721 - accuracy: 0.93 - ETA: 0s - loss: 0.1729 - accuracy: 0.93 - ETA: 0s - loss: 0.1727 - accuracy: 0.93 - 5s 375us/step - loss: 0.1728 - accuracy: 0.9303 - val_loss: 0.1957 - val_accuracy: 0.9283\n",
      "Epoch 14/20\n",
      "12107/12107 [==============================] - ETA: 3s - loss: 0.2068 - accuracy: 0.93 - ETA: 4s - loss: 0.2463 - accuracy: 0.91 - ETA: 3s - loss: 0.1895 - accuracy: 0.93 - ETA: 3s - loss: 0.1820 - accuracy: 0.93 - ETA: 3s - loss: 0.1800 - accuracy: 0.93 - ETA: 3s - loss: 0.1794 - accuracy: 0.92 - ETA: 3s - loss: 0.1829 - accuracy: 0.92 - ETA: 3s - loss: 0.1843 - accuracy: 0.92 - ETA: 3s - loss: 0.1811 - accuracy: 0.92 - ETA: 3s - loss: 0.1817 - accuracy: 0.92 - ETA: 3s - loss: 0.1917 - accuracy: 0.92 - ETA: 3s - loss: 0.1943 - accuracy: 0.92 - ETA: 3s - loss: 0.1929 - accuracy: 0.92 - ETA: 3s - loss: 0.1876 - accuracy: 0.92 - ETA: 3s - loss: 0.1851 - accuracy: 0.92 - ETA: 3s - loss: 0.1856 - accuracy: 0.92 - ETA: 3s - loss: 0.1832 - accuracy: 0.92 - ETA: 2s - loss: 0.1809 - accuracy: 0.92 - ETA: 2s - loss: 0.1824 - accuracy: 0.92 - ETA: 2s - loss: 0.1804 - accuracy: 0.92 - ETA: 2s - loss: 0.1815 - accuracy: 0.92 - ETA: 2s - loss: 0.1771 - accuracy: 0.92 - ETA: 2s - loss: 0.1754 - accuracy: 0.93 - ETA: 2s - loss: 0.1749 - accuracy: 0.93 - ETA: 2s - loss: 0.1749 - accuracy: 0.92 - ETA: 2s - loss: 0.1756 - accuracy: 0.92 - ETA: 2s - loss: 0.1755 - accuracy: 0.92 - ETA: 2s - loss: 0.1753 - accuracy: 0.92 - ETA: 2s - loss: 0.1751 - accuracy: 0.92 - ETA: 1s - loss: 0.1749 - accuracy: 0.93 - ETA: 1s - loss: 0.1762 - accuracy: 0.92 - ETA: 1s - loss: 0.1778 - accuracy: 0.92 - ETA: 1s - loss: 0.1766 - accuracy: 0.92 - ETA: 1s - loss: 0.1759 - accuracy: 0.92 - ETA: 1s - loss: 0.1756 - accuracy: 0.92 - ETA: 1s - loss: 0.1759 - accuracy: 0.92 - ETA: 1s - loss: 0.1745 - accuracy: 0.92 - ETA: 1s - loss: 0.1743 - accuracy: 0.92 - ETA: 1s - loss: 0.1732 - accuracy: 0.93 - ETA: 1s - loss: 0.1729 - accuracy: 0.93 - ETA: 1s - loss: 0.1739 - accuracy: 0.92 - ETA: 1s - loss: 0.1738 - accuracy: 0.92 - ETA: 0s - loss: 0.1742 - accuracy: 0.92 - ETA: 0s - loss: 0.1741 - accuracy: 0.92 - ETA: 0s - loss: 0.1754 - accuracy: 0.92 - ETA: 0s - loss: 0.1771 - accuracy: 0.92 - ETA: 0s - loss: 0.1776 - accuracy: 0.92 - ETA: 0s - loss: 0.1762 - accuracy: 0.92 - ETA: 0s - loss: 0.1770 - accuracy: 0.92 - ETA: 0s - loss: 0.1756 - accuracy: 0.92 - ETA: 0s - loss: 0.1755 - accuracy: 0.92 - ETA: 0s - loss: 0.1749 - accuracy: 0.92 - ETA: 0s - loss: 0.1733 - accuracy: 0.93 - ETA: 0s - loss: 0.1735 - accuracy: 0.93 - 4s 368us/step - loss: 0.1728 - accuracy: 0.9312 - val_loss: 0.1893 - val_accuracy: 0.9283\n",
      "Epoch 15/20\n",
      "12107/12107 [==============================] - ETA: 3s - loss: 0.1916 - accuracy: 0.92 - ETA: 3s - loss: 0.1637 - accuracy: 0.93 - ETA: 3s - loss: 0.1710 - accuracy: 0.93 - ETA: 3s - loss: 0.1589 - accuracy: 0.94 - ETA: 3s - loss: 0.1655 - accuracy: 0.93 - ETA: 3s - loss: 0.1696 - accuracy: 0.93 - ETA: 3s - loss: 0.1706 - accuracy: 0.93 - ETA: 3s - loss: 0.1757 - accuracy: 0.93 - ETA: 3s - loss: 0.1700 - accuracy: 0.93 - ETA: 3s - loss: 0.1673 - accuracy: 0.93 - ETA: 3s - loss: 0.1707 - accuracy: 0.93 - ETA: 3s - loss: 0.1693 - accuracy: 0.93 - ETA: 3s - loss: 0.1684 - accuracy: 0.93 - ETA: 2s - loss: 0.1666 - accuracy: 0.93 - ETA: 2s - loss: 0.1680 - accuracy: 0.93 - ETA: 2s - loss: 0.1697 - accuracy: 0.93 - ETA: 2s - loss: 0.1696 - accuracy: 0.93 - ETA: 2s - loss: 0.1686 - accuracy: 0.93 - ETA: 2s - loss: 0.1699 - accuracy: 0.93 - ETA: 2s - loss: 0.1720 - accuracy: 0.93 - ETA: 2s - loss: 0.1722 - accuracy: 0.93 - ETA: 2s - loss: 0.1725 - accuracy: 0.93 - ETA: 2s - loss: 0.1723 - accuracy: 0.93 - ETA: 2s - loss: 0.1713 - accuracy: 0.93 - ETA: 2s - loss: 0.1717 - accuracy: 0.93 - ETA: 2s - loss: 0.1707 - accuracy: 0.93 - ETA: 2s - loss: 0.1694 - accuracy: 0.93 - ETA: 2s - loss: 0.1686 - accuracy: 0.93 - ETA: 2s - loss: 0.1679 - accuracy: 0.93 - ETA: 1s - loss: 0.1688 - accuracy: 0.93 - ETA: 1s - loss: 0.1690 - accuracy: 0.93 - ETA: 1s - loss: 0.1690 - accuracy: 0.93 - ETA: 1s - loss: 0.1687 - accuracy: 0.93 - ETA: 1s - loss: 0.1682 - accuracy: 0.93 - ETA: 1s - loss: 0.1684 - accuracy: 0.93 - ETA: 1s - loss: 0.1701 - accuracy: 0.93 - ETA: 1s - loss: 0.1714 - accuracy: 0.93 - ETA: 1s - loss: 0.1722 - accuracy: 0.93 - ETA: 1s - loss: 0.1714 - accuracy: 0.93 - ETA: 1s - loss: 0.1711 - accuracy: 0.93 - ETA: 1s - loss: 0.1714 - accuracy: 0.93 - ETA: 1s - loss: 0.1714 - accuracy: 0.93 - ETA: 0s - loss: 0.1707 - accuracy: 0.93 - ETA: 0s - loss: 0.1711 - accuracy: 0.93 - ETA: 0s - loss: 0.1715 - accuracy: 0.93 - ETA: 0s - loss: 0.1728 - accuracy: 0.93 - ETA: 0s - loss: 0.1717 - accuracy: 0.93 - ETA: 0s - loss: 0.1711 - accuracy: 0.93 - ETA: 0s - loss: 0.1721 - accuracy: 0.93 - ETA: 0s - loss: 0.1734 - accuracy: 0.93 - ETA: 0s - loss: 0.1737 - accuracy: 0.93 - ETA: 0s - loss: 0.1730 - accuracy: 0.93 - ETA: 0s - loss: 0.1725 - accuracy: 0.93 - ETA: 0s - loss: 0.1731 - accuracy: 0.93 - 5s 380us/step - loss: 0.1728 - accuracy: 0.9306 - val_loss: 0.1886 - val_accuracy: 0.9285\n",
      "Epoch 16/20\n"
     ]
    },
    {
     "name": "stdout",
     "output_type": "stream",
     "text": [
      "12107/12107 [==============================] - ETA: 3s - loss: 0.1766 - accuracy: 0.92 - ETA: 3s - loss: 0.1687 - accuracy: 0.93 - ETA: 3s - loss: 0.1823 - accuracy: 0.92 - ETA: 3s - loss: 0.2009 - accuracy: 0.91 - ETA: 3s - loss: 0.2044 - accuracy: 0.91 - ETA: 3s - loss: 0.1961 - accuracy: 0.91 - ETA: 3s - loss: 0.1904 - accuracy: 0.91 - ETA: 3s - loss: 0.1885 - accuracy: 0.92 - ETA: 3s - loss: 0.1878 - accuracy: 0.92 - ETA: 3s - loss: 0.1884 - accuracy: 0.92 - ETA: 3s - loss: 0.1825 - accuracy: 0.92 - ETA: 3s - loss: 0.1853 - accuracy: 0.92 - ETA: 3s - loss: 0.1860 - accuracy: 0.92 - ETA: 2s - loss: 0.1875 - accuracy: 0.92 - ETA: 2s - loss: 0.1883 - accuracy: 0.92 - ETA: 2s - loss: 0.1911 - accuracy: 0.91 - ETA: 2s - loss: 0.1887 - accuracy: 0.91 - ETA: 2s - loss: 0.1864 - accuracy: 0.92 - ETA: 2s - loss: 0.1833 - accuracy: 0.92 - ETA: 2s - loss: 0.1826 - accuracy: 0.92 - ETA: 2s - loss: 0.1797 - accuracy: 0.92 - ETA: 2s - loss: 0.1798 - accuracy: 0.92 - ETA: 2s - loss: 0.1804 - accuracy: 0.92 - ETA: 2s - loss: 0.1792 - accuracy: 0.92 - ETA: 2s - loss: 0.1814 - accuracy: 0.92 - ETA: 2s - loss: 0.1805 - accuracy: 0.92 - ETA: 1s - loss: 0.1788 - accuracy: 0.92 - ETA: 1s - loss: 0.1791 - accuracy: 0.92 - ETA: 1s - loss: 0.1781 - accuracy: 0.92 - ETA: 1s - loss: 0.1784 - accuracy: 0.92 - ETA: 1s - loss: 0.1770 - accuracy: 0.92 - ETA: 1s - loss: 0.1761 - accuracy: 0.92 - ETA: 1s - loss: 0.1764 - accuracy: 0.92 - ETA: 1s - loss: 0.1779 - accuracy: 0.92 - ETA: 1s - loss: 0.1780 - accuracy: 0.92 - ETA: 1s - loss: 0.1776 - accuracy: 0.92 - ETA: 1s - loss: 0.1782 - accuracy: 0.92 - ETA: 1s - loss: 0.1769 - accuracy: 0.92 - ETA: 0s - loss: 0.1765 - accuracy: 0.92 - ETA: 0s - loss: 0.1759 - accuracy: 0.92 - ETA: 0s - loss: 0.1773 - accuracy: 0.92 - ETA: 0s - loss: 0.1758 - accuracy: 0.92 - ETA: 0s - loss: 0.1740 - accuracy: 0.92 - ETA: 0s - loss: 0.1740 - accuracy: 0.92 - ETA: 0s - loss: 0.1733 - accuracy: 0.92 - ETA: 0s - loss: 0.1735 - accuracy: 0.92 - ETA: 0s - loss: 0.1726 - accuracy: 0.92 - ETA: 0s - loss: 0.1721 - accuracy: 0.92 - ETA: 0s - loss: 0.1723 - accuracy: 0.92 - ETA: 0s - loss: 0.1726 - accuracy: 0.92 - ETA: 0s - loss: 0.1721 - accuracy: 0.92 - 4s 354us/step - loss: 0.1724 - accuracy: 0.9295 - val_loss: 0.1934 - val_accuracy: 0.9289\n",
      "Epoch 17/20\n",
      "12107/12107 [==============================] - ETA: 3s - loss: 0.1618 - accuracy: 0.94 - ETA: 3s - loss: 0.1267 - accuracy: 0.95 - ETA: 3s - loss: 0.1462 - accuracy: 0.94 - ETA: 3s - loss: 0.1633 - accuracy: 0.93 - ETA: 3s - loss: 0.1563 - accuracy: 0.93 - ETA: 3s - loss: 0.1585 - accuracy: 0.93 - ETA: 3s - loss: 0.1664 - accuracy: 0.93 - ETA: 3s - loss: 0.1728 - accuracy: 0.93 - ETA: 3s - loss: 0.1743 - accuracy: 0.93 - ETA: 3s - loss: 0.1712 - accuracy: 0.93 - ETA: 3s - loss: 0.1735 - accuracy: 0.92 - ETA: 3s - loss: 0.1724 - accuracy: 0.92 - ETA: 2s - loss: 0.1750 - accuracy: 0.92 - ETA: 2s - loss: 0.1762 - accuracy: 0.92 - ETA: 2s - loss: 0.1767 - accuracy: 0.92 - ETA: 2s - loss: 0.1754 - accuracy: 0.92 - ETA: 2s - loss: 0.1785 - accuracy: 0.92 - ETA: 2s - loss: 0.1815 - accuracy: 0.92 - ETA: 2s - loss: 0.1813 - accuracy: 0.92 - ETA: 2s - loss: 0.1811 - accuracy: 0.92 - ETA: 2s - loss: 0.1816 - accuracy: 0.92 - ETA: 2s - loss: 0.1819 - accuracy: 0.92 - ETA: 2s - loss: 0.1812 - accuracy: 0.92 - ETA: 2s - loss: 0.1820 - accuracy: 0.92 - ETA: 1s - loss: 0.1841 - accuracy: 0.92 - ETA: 1s - loss: 0.1841 - accuracy: 0.92 - ETA: 1s - loss: 0.1837 - accuracy: 0.92 - ETA: 1s - loss: 0.1825 - accuracy: 0.92 - ETA: 1s - loss: 0.1836 - accuracy: 0.92 - ETA: 1s - loss: 0.1835 - accuracy: 0.92 - ETA: 1s - loss: 0.1818 - accuracy: 0.92 - ETA: 1s - loss: 0.1803 - accuracy: 0.92 - ETA: 1s - loss: 0.1795 - accuracy: 0.92 - ETA: 1s - loss: 0.1796 - accuracy: 0.92 - ETA: 1s - loss: 0.1799 - accuracy: 0.92 - ETA: 1s - loss: 0.1788 - accuracy: 0.92 - ETA: 1s - loss: 0.1784 - accuracy: 0.92 - ETA: 0s - loss: 0.1780 - accuracy: 0.92 - ETA: 0s - loss: 0.1785 - accuracy: 0.92 - ETA: 0s - loss: 0.1796 - accuracy: 0.92 - ETA: 0s - loss: 0.1783 - accuracy: 0.92 - ETA: 0s - loss: 0.1774 - accuracy: 0.92 - ETA: 0s - loss: 0.1770 - accuracy: 0.92 - ETA: 0s - loss: 0.1776 - accuracy: 0.92 - ETA: 0s - loss: 0.1770 - accuracy: 0.92 - ETA: 0s - loss: 0.1764 - accuracy: 0.92 - ETA: 0s - loss: 0.1762 - accuracy: 0.92 - ETA: 0s - loss: 0.1757 - accuracy: 0.92 - ETA: 0s - loss: 0.1745 - accuracy: 0.92 - ETA: 0s - loss: 0.1738 - accuracy: 0.92 - 4s 349us/step - loss: 0.1724 - accuracy: 0.9303 - val_loss: 0.1991 - val_accuracy: 0.9289\n",
      "Epoch 18/20\n",
      "12107/12107 [==============================] - ETA: 3s - loss: 0.2651 - accuracy: 0.89 - ETA: 3s - loss: 0.1846 - accuracy: 0.92 - ETA: 3s - loss: 0.1988 - accuracy: 0.92 - ETA: 3s - loss: 0.1926 - accuracy: 0.92 - ETA: 3s - loss: 0.1878 - accuracy: 0.92 - ETA: 3s - loss: 0.1819 - accuracy: 0.92 - ETA: 3s - loss: 0.1776 - accuracy: 0.93 - ETA: 3s - loss: 0.1766 - accuracy: 0.93 - ETA: 3s - loss: 0.1747 - accuracy: 0.93 - ETA: 3s - loss: 0.1730 - accuracy: 0.93 - ETA: 3s - loss: 0.1700 - accuracy: 0.93 - ETA: 2s - loss: 0.1684 - accuracy: 0.93 - ETA: 2s - loss: 0.1721 - accuracy: 0.93 - ETA: 2s - loss: 0.1737 - accuracy: 0.92 - ETA: 2s - loss: 0.1803 - accuracy: 0.92 - ETA: 2s - loss: 0.1788 - accuracy: 0.92 - ETA: 2s - loss: 0.1760 - accuracy: 0.92 - ETA: 2s - loss: 0.1768 - accuracy: 0.92 - ETA: 2s - loss: 0.1783 - accuracy: 0.92 - ETA: 2s - loss: 0.1785 - accuracy: 0.92 - ETA: 2s - loss: 0.1773 - accuracy: 0.92 - ETA: 2s - loss: 0.1805 - accuracy: 0.92 - ETA: 2s - loss: 0.1813 - accuracy: 0.92 - ETA: 2s - loss: 0.1802 - accuracy: 0.92 - ETA: 2s - loss: 0.1790 - accuracy: 0.92 - ETA: 2s - loss: 0.1775 - accuracy: 0.93 - ETA: 1s - loss: 0.1761 - accuracy: 0.93 - ETA: 1s - loss: 0.1749 - accuracy: 0.93 - ETA: 1s - loss: 0.1771 - accuracy: 0.92 - ETA: 1s - loss: 0.1757 - accuracy: 0.93 - ETA: 1s - loss: 0.1749 - accuracy: 0.93 - ETA: 1s - loss: 0.1728 - accuracy: 0.93 - ETA: 1s - loss: 0.1703 - accuracy: 0.93 - ETA: 1s - loss: 0.1711 - accuracy: 0.93 - ETA: 1s - loss: 0.1708 - accuracy: 0.93 - ETA: 1s - loss: 0.1709 - accuracy: 0.93 - ETA: 1s - loss: 0.1696 - accuracy: 0.93 - ETA: 1s - loss: 0.1697 - accuracy: 0.93 - ETA: 0s - loss: 0.1693 - accuracy: 0.93 - ETA: 0s - loss: 0.1706 - accuracy: 0.93 - ETA: 0s - loss: 0.1696 - accuracy: 0.93 - ETA: 0s - loss: 0.1715 - accuracy: 0.93 - ETA: 0s - loss: 0.1721 - accuracy: 0.93 - ETA: 0s - loss: 0.1715 - accuracy: 0.93 - ETA: 0s - loss: 0.1727 - accuracy: 0.92 - ETA: 0s - loss: 0.1723 - accuracy: 0.93 - ETA: 0s - loss: 0.1717 - accuracy: 0.93 - ETA: 0s - loss: 0.1714 - accuracy: 0.93 - ETA: 0s - loss: 0.1711 - accuracy: 0.93 - ETA: 0s - loss: 0.1722 - accuracy: 0.92 - 4s 351us/step - loss: 0.1724 - accuracy: 0.9298 - val_loss: 0.1844 - val_accuracy: 0.9296\n",
      "Epoch 19/20\n"
     ]
    },
    {
     "name": "stdout",
     "output_type": "stream",
     "text": [
      "12107/12107 [==============================] - ETA: 3s - loss: 0.1488 - accuracy: 0.93 - ETA: 3s - loss: 0.1905 - accuracy: 0.92 - ETA: 3s - loss: 0.1659 - accuracy: 0.93 - ETA: 3s - loss: 0.1655 - accuracy: 0.92 - ETA: 3s - loss: 0.1631 - accuracy: 0.93 - ETA: 3s - loss: 0.1606 - accuracy: 0.93 - ETA: 3s - loss: 0.1642 - accuracy: 0.93 - ETA: 3s - loss: 0.1662 - accuracy: 0.92 - ETA: 3s - loss: 0.1687 - accuracy: 0.92 - ETA: 3s - loss: 0.1695 - accuracy: 0.92 - ETA: 2s - loss: 0.1726 - accuracy: 0.92 - ETA: 2s - loss: 0.1798 - accuracy: 0.92 - ETA: 2s - loss: 0.1781 - accuracy: 0.92 - ETA: 2s - loss: 0.1786 - accuracy: 0.92 - ETA: 2s - loss: 0.1766 - accuracy: 0.92 - ETA: 2s - loss: 0.1748 - accuracy: 0.92 - ETA: 2s - loss: 0.1770 - accuracy: 0.92 - ETA: 2s - loss: 0.1781 - accuracy: 0.92 - ETA: 2s - loss: 0.1777 - accuracy: 0.92 - ETA: 2s - loss: 0.1771 - accuracy: 0.92 - ETA: 2s - loss: 0.1752 - accuracy: 0.92 - ETA: 2s - loss: 0.1774 - accuracy: 0.92 - ETA: 2s - loss: 0.1782 - accuracy: 0.92 - ETA: 1s - loss: 0.1764 - accuracy: 0.92 - ETA: 1s - loss: 0.1771 - accuracy: 0.92 - ETA: 1s - loss: 0.1756 - accuracy: 0.92 - ETA: 1s - loss: 0.1747 - accuracy: 0.92 - ETA: 1s - loss: 0.1738 - accuracy: 0.92 - ETA: 1s - loss: 0.1732 - accuracy: 0.92 - ETA: 1s - loss: 0.1725 - accuracy: 0.92 - ETA: 1s - loss: 0.1718 - accuracy: 0.93 - ETA: 1s - loss: 0.1720 - accuracy: 0.93 - ETA: 1s - loss: 0.1736 - accuracy: 0.93 - ETA: 1s - loss: 0.1739 - accuracy: 0.93 - ETA: 1s - loss: 0.1751 - accuracy: 0.92 - ETA: 1s - loss: 0.1757 - accuracy: 0.92 - ETA: 0s - loss: 0.1780 - accuracy: 0.92 - ETA: 0s - loss: 0.1765 - accuracy: 0.92 - ETA: 0s - loss: 0.1754 - accuracy: 0.92 - ETA: 0s - loss: 0.1759 - accuracy: 0.92 - ETA: 0s - loss: 0.1757 - accuracy: 0.92 - ETA: 0s - loss: 0.1758 - accuracy: 0.92 - ETA: 0s - loss: 0.1759 - accuracy: 0.92 - ETA: 0s - loss: 0.1765 - accuracy: 0.92 - ETA: 0s - loss: 0.1753 - accuracy: 0.92 - ETA: 0s - loss: 0.1744 - accuracy: 0.93 - ETA: 0s - loss: 0.1735 - accuracy: 0.93 - ETA: 0s - loss: 0.1731 - accuracy: 0.93 - 4s 345us/step - loss: 0.1727 - accuracy: 0.9305 - val_loss: 0.1853 - val_accuracy: 0.9273\n",
      "Epoch 20/20\n",
      "12107/12107 [==============================] - ETA: 5s - loss: 0.1227 - accuracy: 0.95 - ETA: 4s - loss: 0.1444 - accuracy: 0.94 - ETA: 4s - loss: 0.1477 - accuracy: 0.93 - ETA: 4s - loss: 0.1543 - accuracy: 0.94 - ETA: 3s - loss: 0.1466 - accuracy: 0.94 - ETA: 3s - loss: 0.1458 - accuracy: 0.94 - ETA: 3s - loss: 0.1439 - accuracy: 0.94 - ETA: 3s - loss: 0.1437 - accuracy: 0.94 - ETA: 3s - loss: 0.1469 - accuracy: 0.93 - ETA: 3s - loss: 0.1464 - accuracy: 0.93 - ETA: 3s - loss: 0.1478 - accuracy: 0.93 - ETA: 3s - loss: 0.1477 - accuracy: 0.93 - ETA: 2s - loss: 0.1552 - accuracy: 0.93 - ETA: 2s - loss: 0.1567 - accuracy: 0.93 - ETA: 2s - loss: 0.1592 - accuracy: 0.93 - ETA: 2s - loss: 0.1597 - accuracy: 0.93 - ETA: 2s - loss: 0.1625 - accuracy: 0.93 - ETA: 2s - loss: 0.1610 - accuracy: 0.93 - ETA: 2s - loss: 0.1623 - accuracy: 0.93 - ETA: 2s - loss: 0.1605 - accuracy: 0.93 - ETA: 2s - loss: 0.1608 - accuracy: 0.93 - ETA: 2s - loss: 0.1638 - accuracy: 0.93 - ETA: 2s - loss: 0.1629 - accuracy: 0.93 - ETA: 2s - loss: 0.1640 - accuracy: 0.93 - ETA: 1s - loss: 0.1632 - accuracy: 0.93 - ETA: 1s - loss: 0.1673 - accuracy: 0.93 - ETA: 1s - loss: 0.1680 - accuracy: 0.93 - ETA: 1s - loss: 0.1670 - accuracy: 0.93 - ETA: 1s - loss: 0.1666 - accuracy: 0.93 - ETA: 1s - loss: 0.1668 - accuracy: 0.93 - ETA: 1s - loss: 0.1664 - accuracy: 0.93 - ETA: 1s - loss: 0.1669 - accuracy: 0.93 - ETA: 1s - loss: 0.1680 - accuracy: 0.93 - ETA: 1s - loss: 0.1700 - accuracy: 0.93 - ETA: 1s - loss: 0.1711 - accuracy: 0.93 - ETA: 1s - loss: 0.1704 - accuracy: 0.93 - ETA: 1s - loss: 0.1713 - accuracy: 0.93 - ETA: 1s - loss: 0.1723 - accuracy: 0.93 - ETA: 0s - loss: 0.1718 - accuracy: 0.93 - ETA: 0s - loss: 0.1714 - accuracy: 0.93 - ETA: 0s - loss: 0.1717 - accuracy: 0.93 - ETA: 0s - loss: 0.1708 - accuracy: 0.93 - ETA: 0s - loss: 0.1709 - accuracy: 0.93 - ETA: 0s - loss: 0.1726 - accuracy: 0.93 - ETA: 0s - loss: 0.1732 - accuracy: 0.92 - ETA: 0s - loss: 0.1737 - accuracy: 0.92 - ETA: 0s - loss: 0.1730 - accuracy: 0.92 - ETA: 0s - loss: 0.1722 - accuracy: 0.92 - ETA: 0s - loss: 0.1720 - accuracy: 0.92 - ETA: 0s - loss: 0.1711 - accuracy: 0.93 - ETA: 0s - loss: 0.1713 - accuracy: 0.93 - 4s 356us/step - loss: 0.1719 - accuracy: 0.9300 - val_loss: 0.1851 - val_accuracy: 0.9291\n"
     ]
    }
   ],
   "source": [
    "model.compile(loss='categorical_crossentropy', optimizer= RMSprop(), metrics=['accuracy'])\n",
    "history_TTBOX.append( model.fit(X_train, y_train, batch_size=batch_size, epochs=epochs, verbose=1, validation_data=(X_test, y_test)))"
   ]
  },
  {
   "cell_type": "code",
   "execution_count": 164,
   "metadata": {},
   "outputs": [
    {
     "name": "stdout",
     "output_type": "stream",
     "text": [
      "[2020-07-20 16:40:12 RAM72.1% 0.45GB] test loss:  0.18506029347186145\n",
      "[2020-07-20 16:40:12 RAM72.2% 0.45GB] test accuracy:  0.929067075252533\n"
     ]
    }
   ],
   "source": [
    "test_eval= model.evaluate(X_test, y_test, verbose=0)\n",
    "print('test loss: ', test_eval[0])\n",
    "print('test accuracy: ', test_eval[1])"
   ]
  },
  {
   "cell_type": "code",
   "execution_count": 170,
   "metadata": {},
   "outputs": [
    {
     "data": {
      "image/png": "[encoded data removed]",
      "text/plain": [
       "<Figure size 432x288 with 1 Axes>"
      ]
     },
     "metadata": {
      "needs_background": "light"
     },
     "output_type": "display_data"
    },
    {
     "data": {
      "image/png": "[encoded data removed]",
      "text/plain": [
       "<Figure size 432x288 with 1 Axes>"
      ]
     },
     "metadata": {
      "needs_background": "light"
     },
     "output_type": "display_data"
    }
   ],
   "source": [
    "plt.title('Accuracies vs Epochs ')\n",
    "plt.plot(history_TTBOX[0].history['accuracy'], label='Training Accuracy PCA  ')\n",
    "plt.plot(history_TTBOX[1].history['accuracy'], label='Training Accuracy LDA ')\n",
    "plt.legend()\n",
    "plt.show()\n",
    "plt.title('Train Accuracy vs Val Accuracy for TTBOX + DNN ')\n",
    "plt.plot(history_TTBOX[0].history['accuracy'], label='Train Accuracy_PCA', color='red')\n",
    "plt.plot(history_TTBOX[1].history['accuracy'], label='Train Accuracy_LDA' , color='green')\n",
    "plt.plot(history_TTBOX[0].history['val_accuracy'], label='Val Accuracy_PCA',color='red', linestyle = \"dashdot\")\n",
    "plt.plot(history_TTBOX[1].history['val_accuracy'], label='Val Accuracy_LDA', color='green', linestyle = \"dashdot\")\n",
    "\n",
    "plt.legend()\n",
    "plt.show()"
   ]
  }
 ],
 "metadata": {
  "kernelspec": {
   "display_name": "Python 3",
   "language": "python",
   "name": "python3"
  },
  "language_info": {
   "codemirror_mode": {
    "name": "ipython",
    "version": 3
   },
   "file_extension": ".py",
   "mimetype": "text/x-python",
   "name": "python",
   "nbconvert_exporter": "python",
   "pygments_lexer": "ipython3",
   "version": "3.7.6"
  }
 },
 "nbformat": 4,
 "nbformat_minor": 4
}
