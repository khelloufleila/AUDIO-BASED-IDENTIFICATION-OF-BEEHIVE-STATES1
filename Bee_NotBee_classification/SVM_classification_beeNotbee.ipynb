{
 "cells": [
  {
   "cell_type": "code",
   "execution_count": 171,
   "metadata": {},
   "outputs": [],
   "source": [
    "import os\n",
    "\n",
    "import numpy as np\n",
    "from info import i, printb, printr, printp, print\n",
    "from utils import get_samples_id_perSet, get_features_from_samples, get_GT_labels_fromFiles, labels2binary, SVM_Classification_inSplittedSets\n",
    "# get_samples_id_perSet, get_features_from_samples, get_GT_labels_fromFiles, labels2binary, SVM_Classification_inSplittedSets\n"
   ]
  },
  {
   "cell_type": "code",
   "execution_count": 30,
   "metadata": {},
   "outputs": [],
   "source": [
    "#def main():\n",
    "#----------------------------------- parameters to change-----------------------------------#\n",
    "block_size=60 # blocks of 60 seconds\n",
    "path_workingFolder='C:\\\\Users\\\\PC\\\\python\\\\Stage\\\\dataset_BeeNoBee_'+str(block_size)+'sec'+os.sep  # path where to save audio segments and labels files.\n",
    "labels2read= 'labels_BeeNotBee_th0'\n",
    "feature = 'MFCCs20'\n",
    "#-------------------------------------------------------------------------------------------#\n",
    "\n",
    "\n",
    "\n",
    "#Feature extraction: \n",
    "sample_ids_test, sample_ids_train, sample_ids_val = get_samples_id_perSet(path_workingFolder+'split_random_0.json') \n",
    "\n",
    "X_train = get_features_from_samples(path_workingFolder, sample_ids_train, 'MFCCs20', 'NO', 1)\n",
    "X_val = get_features_from_samples(path_workingFolder, sample_ids_val, 'MFCCs20', 'NO', 1)\n",
    "X_test = get_features_from_samples(path_workingFolder, sample_ids_test, 'MFCCs20', 'NO', 1)\n",
    "\n",
    "\n",
    "labels_train = get_GT_labels_fromFiles(path_workingFolder, sample_ids_train, labels2read)\n",
    "Y_train= labels2binary('nobee', labels_train)\n",
    "labels_val = get_GT_labels_fromFiles(path_workingFolder, sample_ids_val, labels2read)\n",
    "Y_val= labels2binary('nobee', labels_val)\n",
    "labels_test = get_GT_labels_fromFiles(path_workingFolder, sample_ids_test, labels2read)\n",
    "Y_test= labels2binary('nobee', labels_test)\n",
    "\n"
   ]
  },
  {
   "cell_type": "code",
   "execution_count": 146,
   "metadata": {},
   "outputs": [
    {
     "name": "stdout",
     "output_type": "stream",
     "text": [
      "[2020-04-09 22:35:53 RAM80.3% 1.66GB] X_flat_train:  (337, 51680)\n",
      "[2020-04-09 22:35:53 RAM80.3% 1.66GB] Y_train :  (337,)\n"
     ]
    }
   ],
   "source": [
    "X_flat_train=np.concatenate((X_train , X_val))\n",
    "Y_flat_train=np.concatenate((Y_train , Y_val))\n",
    "nsamples, nx, ny= X_flat_train.shape\n",
    "X_flat_train= X_flat_train.reshape(nsamples, nx*ny)\n",
    "print(\"X_flat_train: \",X_flat_train.shape)\n",
    "Y_flat_train= np.array(Y_flat_train)\n",
    "print(\"Y_train : \", Y_flat_train.shape )"
   ]
  },
  {
   "cell_type": "code",
   "execution_count": 147,
   "metadata": {},
   "outputs": [
    {
     "data": {
      "text/plain": [
       "(337, 51680)"
      ]
     },
     "execution_count": 147,
     "metadata": {},
     "output_type": "execute_result"
    }
   ],
   "source": [
    "X_flat_train.shape"
   ]
  },
  {
   "cell_type": "code",
   "execution_count": 164,
   "metadata": {},
   "outputs": [
    {
     "data": {
      "text/plain": [
       "(38, 51680)"
      ]
     },
     "execution_count": 164,
     "metadata": {},
     "output_type": "execute_result"
    }
   ],
   "source": [
    "X_test_=np.array(X_test).reshape(38,51680)\n",
    "X_test_.shape"
   ]
  },
  {
   "cell_type": "code",
   "execution_count": 165,
   "metadata": {},
   "outputs": [
    {
     "name": "stdout",
     "output_type": "stream",
     "text": [
      "[2020-04-09 22:46:00 RAM75.4% 1.49GB] Starting classification with SVM:\n"
     ]
    }
   ],
   "source": [
    "clf, y_pred_proba_train, y_pred_train, y_pred_proba_test, y_pred_test= SVM_Classification_inSplittedSets(X_flat_train, Y_flat_train, X_test_, Y_test, kerneloption='rbf')\n"
   ]
  },
  {
   "cell_type": "code",
   "execution_count": 177,
   "metadata": {},
   "outputs": [
    {
     "name": "stdout",
     "output_type": "stream",
     "text": [
      "[2020-04-09 23:15:13 RAM65.9% 0.72GB] Accuracy:  0.7894736842105263\n",
      "[2020-04-09 23:15:13 RAM65.9% 0.72GB] Precision: 0.7894736842105263\n",
      "[2020-04-09 23:15:13 RAM65.9% 0.72GB] Recall: 1.0\n"
     ]
    }
   ],
   "source": [
    "from sklearn import metrics\n",
    "print(\"Accuracy: \", metrics.accuracy_score( Y_test, y_pred_test))\n",
    "\n",
    "# Model Precision: what percentage of positive tuples are labeled as such?\n",
    "print(\"Precision:\",metrics.precision_score(Y_test, y_pred_test))\n",
    "\n",
    "# Model Recall: what percentage of positive tuples are labelled as such?\n",
    "print(\"Recall:\",metrics.recall_score(Y_test, y_pred_test))"
   ]
  },
  {
   "cell_type": "code",
   "execution_count": 178,
   "metadata": {},
   "outputs": [
    {
     "data": {
      "image/png": "[encoded data removed]",
      "text/plain": [
       "<Figure size 432x432 with 1 Axes>"
      ]
     },
     "metadata": {
      "needs_background": "light"
     },
     "output_type": "display_data"
    }
   ],
   "source": [
    "# construire la courbe ROC\n",
    "from sklearn import metrics\n",
    "fpr, tpr, thr = metrics.roc_curve(Y_test, y_pred_test)\n",
    "\n",
    "# calculer l'aire sous la courbe ROC\n",
    "auc = metrics.auc(fpr, tpr)\n",
    "\n",
    "# créer une figure\n",
    "from matplotlib import pyplot as plt\n",
    "fig = plt.figure(figsize=(6, 6))\n",
    "\n",
    "# afficher la courbe ROC\n",
    "plt.plot(fpr, tpr, '-', lw=2, label='gamma=0.01, AUC=%.2f' % auc)\n",
    "\n",
    "# donner un titre aux axes et au graphique\n",
    "plt.xlabel('False Positive Rate', fontsize=16)\n",
    "plt.ylabel('True Positive Rate', fontsize=16)\n",
    "plt.title('SVM ROC Curve', fontsize=16)\n",
    "\n",
    "# afficher la légende\n",
    "plt.legend(loc=\"lower right\", fontsize=14)\n",
    "\n",
    "# afficher l'image\n",
    "plt.show()"
   ]
  }
 ],
 "metadata": {
  "kernelspec": {
   "display_name": "Python 3",
   "language": "python",
   "name": "python3"
  },
  "language_info": {
   "codemirror_mode": {
    "name": "ipython",
    "version": 3
   },
   "file_extension": ".py",
   "mimetype": "text/x-python",
   "name": "python",
   "nbconvert_exporter": "python",
   "pygments_lexer": "ipython3",
   "version": "3.7.3"
  }
 },
 "nbformat": 4,
 "nbformat_minor": 2
}
