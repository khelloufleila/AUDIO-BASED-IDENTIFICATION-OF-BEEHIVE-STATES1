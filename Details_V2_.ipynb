{
 "cells": [
  {
   "cell_type": "code",
   "execution_count": 1,
   "metadata": {},
   "outputs": [
    {
     "name": "stderr",
     "output_type": "stream",
     "text": [
      "Using TensorFlow backend.\n"
     ]
    }
   ],
   "source": [
    "# python -m pip install SoundFile\n",
    "import glob\n",
    "import os\n",
    "from info import i, printb, printr, printp, print\n",
    "import glob\n",
    "import os\n",
    "import librosa\n",
    "import pdb\n",
    "import csv\n",
    "import json\n",
    "import re\n",
    "import numpy as np\n",
    "import random\n",
    "import librosa.display\n",
    "import IPython.display as ipd\n",
    "from sklearn import preprocessing\n",
    "from collections import Counter\n",
    "from matplotlib import pyplot as plt\n",
    "from info import i, printb, printr, printp, print\n",
    "import muda\n",
    "import jams\n",
    "from sklearn import svm\n",
    "import librosa\n",
    "import keras"
   ]
  },
  {
   "cell_type": "code",
   "execution_count": 10,
   "metadata": {},
   "outputs": [],
   "source": [
    "#----------------------------------- parameters to change-----------------------------------#\n",
    "block_size=1 # blocks of 60 seconds\n",
    "thresholds=[0, 0.5]  # minimum length for nobee intervals: 0 or 5 seconds (creates one label file per threshold value)\n",
    "path_audioFiles=\"C:\\\\Users\\PC\\python\\Stage\\To Bee or not to Bee_the annotated dataset\"+os.sep  # path to audio files\n",
    "annotations_path=\"C:\\\\Users\\PC\\python\\Stage\\To Bee or not to Bee_the annotated dataset\"+os.sep # path to .lab files\n",
    "path_save_audio_labels= 'C:\\\\Users\\\\PC\\\\python\\\\Stage\\\\dataset_BeeNoBee_1_second'+str(block_size)+'sec'+os.sep  # path where to save audio segments and labels files.\n",
    "#-------------------------------------------------------------------------------------------#\n"
   ]
  },
  {
   "cell_type": "code",
   "execution_count": 11,
   "metadata": {},
   "outputs": [],
   "source": [
    "# if path doesn't exist then create one !!!\n",
    "if not os.path.exists(path_save_audio_labels):\n",
    "    os.makedirs(path_save_audio_labels)"
   ]
  },
  {
   "cell_type": "code",
   "execution_count": 12,
   "metadata": {},
   "outputs": [],
   "source": [
    "def read_beeNotBee_annotations_saves_labels(audiofilename, block_name,  blockStart, blockfinish, annotations_path, threshold=0):\n",
    "  \n",
    "    block_length=blockfinish-blockStart\n",
    "    #print(\"block_length: \", block_length)\n",
    "    if audiofilename.startswith('#'):\n",
    "        annotation_filename=audiofilename[1:-4]+'.lab'\n",
    "    else :\n",
    "        annotation_filename=audiofilename[0:-4]+'.lab'\n",
    "        \n",
    "        \n",
    "    try:    \n",
    "        with open(annotations_path + os.sep + annotation_filename,'r') as f:\n",
    "            # EXAMPLE FILE:\n",
    "            \n",
    "            # CF003 - Active - Day - (223)\n",
    "            # 0\t8.0\tbee\n",
    "            # 8.01\t15.05\tnobee\n",
    "            # 15.06\t300.0\tbee \n",
    "            # .\n",
    "            #\n",
    "            \n",
    "            # all files end with a dot followed by an empty line.\n",
    "\n",
    "            print(annotations_path + os.sep + annotation_filename)\n",
    "            lines = f.read().split('\\n')\n",
    "        \n",
    "            labels_th=['bee', 0.0]\n",
    "            label2assign='bee'\n",
    "            label_strength=0\n",
    "            intersected_s=0\n",
    "                            \n",
    "            for line in lines:\n",
    "                if (line == annotation_filename[0:-4]) or (line == '.') or (line ==''):\n",
    "                    #ignores title, '.', or empty line on the file.\n",
    "                    continue\n",
    "                \n",
    "               ## print(\"#############################  line \",line)\n",
    "                parsed_line= line.split('\\t')    \n",
    "                \n",
    "                assert (len(parsed_line)==3), ('expected 3 fields in each line, got: '+str(len(parsed_line))) \n",
    "                \n",
    "                \n",
    "                tp0=float(parsed_line[0])\n",
    "               ## print(\"tp0: \",tp0)\n",
    "                tp1=float(parsed_line[1])\n",
    "               ## print(\"tp1: \",tp1)\n",
    "                annotation_label=parsed_line[2]\n",
    "                if blockfinish < tp0: # no need to read further nobee intervals since annotation line is already after block finishes\n",
    "                    break\n",
    "                    \n",
    "                if annotation_label== 'nobee':\n",
    "               \n",
    "                   ## print(\"...............annotation_label=='nobee'..........................\")    \n",
    "                        \n",
    "                    if tp1-tp0 >= threshold:  # only progress if nobee interval is longer than defined threshold.\n",
    "                    \n",
    "                        if tp0 > blockStart and tp0 <= blockfinish and tp1 >= blockfinish:\n",
    "                            \n",
    "                            intersected_s=intersected_s + (blockfinish-tp0)  \n",
    "                           ## print(\" # bs          tp0 ######## bf########tp1\")\n",
    "                            # |____________########|########\n",
    "                            # bs          tp0      bf      tp1 \n",
    "                        \n",
    "                        elif tp1 >= blockStart and tp1 < blockfinish and tp0 <= blockStart:\n",
    "                            \n",
    "                            intersected_s=intersected_s+ (tp1-blockStart)\n",
    "                           ## print(\"# tp0 ######## bs  ########   tp1    bf\")\n",
    "                            # #####|########_____|\n",
    "                            # tp0  bs     tp1    bf\n",
    "                            \n",
    "                            \n",
    "                        elif tp1 >= blockStart and tp1 <= blockfinish and tp0 >= blockStart and tp0 <= blockfinish:\n",
    "                            \n",
    "                            intersected_s=intersected_s+ (tp1-tp0)\n",
    "                          ##  print(\"#bs   tp0  ########  tp1    bf\")\n",
    "                            # |_____########_____|\n",
    "                            # bs   tp0    tp1    bf\n",
    "                        \n",
    "                        elif tp0 <= blockStart and tp1 >= blockfinish:\n",
    "                            \n",
    "                            intersected_s=intersected_s + (blockfinish-blockStart)\n",
    "                          ##  print(\"tp0 #### bs############bf #### tp1\")\n",
    "                            #  ####|############|####\n",
    "                            # tp0  bs           bf  tp1\n",
    "                            \n",
    "                    if intersected_s > 0:\n",
    "                        label2assign='nobee'\n",
    "                    label_strength= intersected_s/block_length # proportion of nobee length in the block\n",
    "                    \n",
    "                    \n",
    "                    labels_th= [label2assign, round(label_strength,3)]  # if label_strehgth ==0 --> bee segment \n",
    "                    \n",
    "                    \n",
    "            assert (blockfinish <=tp1 ), ('the end of the request block falls outside the file: block ending: '+ str(blockfinish)+' end of file at: '+ str(tp1))\n",
    "            \n",
    "                \n",
    "    except FileNotFoundError as e:\n",
    "        print(e, '--Anotation file does not exist! label as unknown')\n",
    "        #print(annotation_filename=audiofilename[0:-4]+'.lab')\n",
    "            \n",
    "        label2assign = 'unknown'\n",
    "        label_strength=-1\n",
    "        \n",
    "        labels_th = [label2assign, label_strength]\n",
    "            \n",
    "    except Exception as e1:\n",
    "        print('unknown exception: '+str(e1))\n",
    "        #quit\n",
    "    \n",
    "    \n",
    "    return labels_th"
   ]
  },
  {
   "cell_type": "code",
   "execution_count": 13,
   "metadata": {},
   "outputs": [],
   "source": [
    "def load_audioFiles_saves_segments( path_audioFiles,path_save_audio_labels, block_size , thresholds, annotations_path, read_beeNotBee_annotations ='yes', save_audioSegments='yes'):\n",
    "\n",
    "    \n",
    "    audiofilenames_list = [os.path.basename(x) for x in glob.glob(path_audioFiles+'*.mp3')]\n",
    "    audiofilenames_list.extend([os.path.basename(x) for x in glob.glob(path_audioFiles+'*.wav')])\n",
    "    \n",
    "    printb(\"Number of audiofiles in folder: \"+str(len(audiofilenames_list)))\n",
    "   # print(\"audiofilenames_list \",audiofilenames_list)\n",
    "    \n",
    "    fi=0\n",
    "    for file_name in audiofilenames_list:\n",
    "        fi=fi+1\n",
    "       # print('\\n')\n",
    "       # printb('Processing '+ file_name+'          :::file number:  '+str(fi)+' --------->of '+str(len(audiofilenames_list)))\n",
    "          \n",
    "\n",
    "        offset=0\n",
    "        block_id =0\n",
    "        \n",
    "        \n",
    "        while 1:\n",
    "                    \n",
    "            # READ ONE BLOCK OF THE AUDIO FILE\n",
    "            try:\n",
    "                ## Read one block of 60 seconds \n",
    "                block,sr = librosa.core.load(path_audioFiles+file_name, offset=offset, duration=block_size)\n",
    "               # print(block.shape , sr)\n",
    "               # print('-----------------Reading segment '+str(block_id))\n",
    "            except ValueError as e:\n",
    "                e\n",
    "                if 'Input signal length' in str(e):\n",
    "                    block=np.arange(0)\n",
    "            except FileNotFoundError as e1:\n",
    "                print(e1, ' but continuing anyway')\n",
    "                \n",
    "            ##print(\"test\")\n",
    "            if block.shape[0] > 0:    #when total length = multiple of blocksize, results that last block is 0-lenght, this if bypasses those cases.\n",
    "                \n",
    "                block_name=file_name[0:-4]+'__segment'+str(block_id)\n",
    "               ## print(block_name)\n",
    "                \n",
    "                # READ BEE NOT_BEE ANNOTATIONS:\n",
    "                if read_beeNotBee_annotations == 'yes':\n",
    "                   # print('---------------------Will read BeeNotbee anotations and create labels for segment'+str(block_id))\n",
    "                    blockStart=offset\n",
    "                    ##print(\"blockStart: \",blockStart)\n",
    "                    blockfinish=offset+block_size\n",
    "                    ##print(\"blockfinish: \",blockfinish)\n",
    "                    \n",
    "                    for th in thresholds:\n",
    "                        #print(\"th::::::::::\", th)\n",
    "                        label_file_exists = os.path.isfile(path_save_audio_labels+'labels_BeeNotBee_th'+str(th)+'.csv')\n",
    "                        with open(path_save_audio_labels+'labels_BeeNotBee_th'+str(th)+'.csv','a', newline='') as label_file:\n",
    "                            writer =csv.DictWriter(label_file, fieldnames=['sample_name', 'segment_start','segment_finish', 'label_strength', 'label'], delimiter=',')\n",
    "                            if not label_file_exists:\n",
    "                                writer.writeheader()\n",
    "                          ##  print(\"start read_beeNotBee_annotation_saves_labels\")\n",
    "                            label_block_th=read_beeNotBee_annotations_saves_labels(file_name, block_name,  blockStart, blockfinish, annotations_path, th)                            \n",
    "                           # print(\"label_block_th : \", label_block_th)                           \n",
    "                            writer.writerow({'sample_name': block_name, 'segment_start': blockStart, 'segment_finish': blockfinish , 'label_strength': label_block_th[1],  'label': label_block_th[0]} )\n",
    "                           # print('-----------------Wrote label for th '+ str(th)+' seconds of segment'+str(block_id)  ) \n",
    "                    \n",
    "               \n",
    "                # MAKE BLOCK OF THE SAME SIZE:\n",
    "                if block.shape[0] < block_size*sr:   \n",
    "                    block = uniform_block_size(block, block_size*sr, 'repeat')\n",
    "                   # print('-----------------Uniformizing block length of segment'+str(block_id)  ) \n",
    "\n",
    "                        \n",
    "            \n",
    "                # Save audio segment:\n",
    "                if save_audioSegments=='yes' and (not os.path.exists(path_save_audio_labels+block_name+'.wav')): #saves only if option is chosen and if block file doesn't already exist.\n",
    "                    librosa.output.write_wav(path_save_audio_labels+block_name+'.wav', block, sr)\n",
    "                    #print( '-----------------Saved wav file for segment '+str(block_id))\n",
    "                \n",
    "                    \n",
    "                    \n",
    "            else :\n",
    "                #print('----------------- no more segments for this file--------------------------------------')\n",
    "               # print('\\n')\n",
    "                break\n",
    "            offset += block_size\n",
    "            block_id += 1\n",
    "    printb('______________________________No more audioFiles___________________________________________________')\n",
    "       \n",
    "    return \n"
   ]
  },
  {
   "cell_type": "code",
   "execution_count": 14,
   "metadata": {},
   "outputs": [],
   "source": [
    "def uniform_block_size(undersized_block, block_size_samples, method='repeat' ):\n",
    "\n",
    "    lengthTofill=(block_size_samples)-(undersized_block.size)\n",
    "    if method == 'zero_padding':\n",
    "        new_block=np.pad(undersized_block, (0,lengthTofill), 'constant', constant_values=(0) )\n",
    "\n",
    "    elif method=='mean_padding':\n",
    "        new_block=np.pad(undersized_block, (0,lengthTofill), 'mean' )\n",
    "    \n",
    "    elif method=='repeat':        \n",
    "        new_block= np.pad(undersized_block, (0,lengthTofill), 'reflect')\n",
    "    else:\n",
    "       # print('methods to choose are: \\'zero_padding\\' ,\\'mean_padding\\' and \\'repeat\\' ' )\n",
    "        new_block=0\n",
    "              \n",
    "    return new_block"
   ]
  },
  {
   "cell_type": "code",
   "execution_count": 149,
   "metadata": {},
   "outputs": [],
   "source": [
    "load_audioFiles_saves_segments( path_audioFiles, path_save_audio_labels, block_size , thresholds, annotations_path, read_beeNotBee_annotations='yes', save_audioSegments='yes')    "
   ]
  },
  {
   "cell_type": "code",
   "execution_count": 17,
   "metadata": {},
   "outputs": [
    {
     "name": "stdout",
     "output_type": "stream",
     "text": [
      "[2020-05-02 15:31:18 RAM61.0% 0.08GB] path_beeNotbee_labels:  C:\\Users\\PC\\python\\Stage\\dataset_BeeNoBee_1_second1sec\\labels_BeeNotBee_th0.5.csv\n"
     ]
    }
   ],
   "source": [
    "# read only labels_BeeNotBee_th0.5\n",
    "path_beeNotbee_labels = path_save_audio_labels + 'labels_BeeNotBee_th'+str(thresholds[1])+'.csv'\n",
    "print(\"path_beeNotbee_labels: \",path_beeNotbee_labels)"
   ]
  },
  {
   "cell_type": "code",
   "execution_count": 18,
   "metadata": {},
   "outputs": [],
   "source": [
    "def read_HiveState_fromSampleName( filename, states):   #states: state_labels=['active','missing queen','swarm' ]\n",
    "    label_state='other'\n",
    "    for state in states:\n",
    "        if state in filename.lower():\n",
    "           # print(\"1 \", filename)\n",
    "            label_state = state\n",
    "    #incorporate condition for Nu-hive recordings which do not follow the same annotation: 'QueenBee' or 'NO_QueenBee'\n",
    "    \n",
    "    if label_state=='other':\n",
    "        if 'NO_QueenBee' in filename:\n",
    "            ##print(\"NO_QueenBee\",label_state )\n",
    "            label_state = states[1]\n",
    "        else:\n",
    "            label_state=states[0]\n",
    "    return label_state"
   ]
  },
  {
   "cell_type": "code",
   "execution_count": 57,
   "metadata": {},
   "outputs": [],
   "source": [
    "def write_Statelabels_from_beeNotBeelabels(path_save, path_labels_BeeNotBee, states=['active','missing queen','swarm' ]):\n",
    "    \n",
    "    #label_file_exists = os.path.isfile(path_save+'state_labels.csv')\n",
    "    liste=[]\n",
    "    with open(path_labels_BeeNotBee, 'r' ) as rfile, \\\n",
    "    open(path_save+'state_labels.csv', 'w', newline='') as f_out:\n",
    "        csvreader = csv.reader(rfile, delimiter=',')\n",
    "        writer= csv.DictWriter(f_out, fieldnames=['sample_name', 'label'], delimiter=',') \n",
    "        #if not label_file_exists:\n",
    "        writer.writeheader()\n",
    "        \n",
    "        for row in csvreader:\n",
    "            if not row[0]=='sample_name':\n",
    "                if row[4]=='bee':\n",
    "                    label_state=read_HiveState_fromSampleName(row[0], states)\n",
    "                    print(row[0],\"label_state : \", label_state)\n",
    "                    writer.writerow({'sample_name':row[0], 'label':label_state})\n",
    "                else:   liste.append(row[0])  \n",
    "    return liste"
   ]
  },
  {
   "cell_type": "code",
   "execution_count": 150,
   "metadata": {},
   "outputs": [],
   "source": [
    " # reads labels beeNotBee files and creates corresponding states label file\n",
    "liste= write_Statelabels_from_beeNotBeelabels(path_save_audio_labels, path_beeNotbee_labels, states=['active','missing queen','swarm' ])\n",
    "    "
   ]
  },
  {
   "cell_type": "code",
   "execution_count": 70,
   "metadata": {},
   "outputs": [],
   "source": [
    "import os\n",
    "for i in range(len(liste)):\n",
    "    os.remove(path_save_audio_labels+liste[i]+'.wav')\n",
    "#liste[0]  "
   ]
  },
  {
   "cell_type": "code",
   "execution_count": 71,
   "metadata": {},
   "outputs": [],
   "source": [
    "def get_list_samples_names(path_audioSegments_folder, extension='.wav'):\n",
    "    # Recupèrer tout les audios d'extention .wav\"\"\"\"\"\" glob.glob(path_audioSegments_folder+'*'+extension)\"\"\"\"\"\"\n",
    "    sample_ids=[os.path.basename(x) for x in glob.glob(path_audioSegments_folder+'*'+extension)]\n",
    "    return sample_ids\n",
    "    "
   ]
  },
  {
   "cell_type": "code",
   "execution_count": 72,
   "metadata": {},
   "outputs": [
    {
     "name": "stdout",
     "output_type": "stream",
     "text": [
      "[2020-05-02 16:32:14 RAM67.5% 0.19GB] 17295\n"
     ]
    },
    {
     "data": {
      "text/plain": [
       "['CF001 - Missing Queen - Day -__segment0.wav',\n",
       " 'CF001 - Missing Queen - Day -__segment1.wav',\n",
       " 'CF001 - Missing Queen - Day -__segment10.wav',\n",
       " 'CF001 - Missing Queen - Day -__segment11.wav',\n",
       " 'CF001 - Missing Queen - Day -__segment12.wav',\n",
       " 'CF001 - Missing Queen - Day -__segment13.wav',\n",
       " 'CF001 - Missing Queen - Day -__segment14.wav',\n",
       " 'CF001 - Missing Queen - Day -__segment15.wav',\n",
       " 'CF001 - Missing Queen - Day -__segment2.wav',\n",
       " 'CF001 - Missing Queen - Day -__segment3.wav']"
      ]
     },
     "execution_count": 72,
     "metadata": {},
     "output_type": "execute_result"
    }
   ],
   "source": [
    "sample_ids=get_list_samples_names(path_save_audio_labels) # get sample ids from audio segments folder.\n",
    "print(len(sample_ids) ) \n",
    "sample_ids[0:10]"
   ]
  },
  {
   "cell_type": "code",
   "execution_count": 153,
   "metadata": {},
   "outputs": [],
   "source": [
    "#----------------------------------- parameters to change-----------------------------------#\n",
    "block_size=1 # blocks of 60 seconds\n",
    "path_workingFolder='C:\\\\Users\\\\PC\\\\python\\\\Stage\\\\dataset_BeeNoBee_1_second'+str(block_size)+'sec'+os.sep  # path where to save audio segments and labels files.\n",
    "labels2read= 'state_labels'\n",
    "feature = 'MFCCs20'\n",
    "#-----------------------------------parameters for TTBOX -----------------------------------#\n",
    "import timbre_descriptor as td\n",
    "import numpy as np\n",
    "import scipy as sc\n",
    "import my_tools as mt\n",
    "from collections import namedtuple\n",
    "import scipy\n",
    "import scipy.signal\n",
    "from scipy.io import wavfile\n",
    "\n",
    "import matplotlib\n",
    "import swipep as swp             # used for sing le-F0 estimation\n",
    "import warnings                 # used for warning removal\n",
    "import time               # used performance benchmark\n",
    "import librosa\n",
    "nbits = 16;\n",
    "MAX_VAL = pow(2,(nbits-1)) * 1.0;"
   ]
  },
  {
   "cell_type": "code",
   "execution_count": 161,
   "metadata": {},
   "outputs": [],
   "source": [
    "    \n",
    "def raw_feature_fromSample( path_audio_sample, feature2extract ):\n",
    "        \n",
    "    s, Fs = librosa.core.load(path_audio_sample) # sr= 22050\n",
    "    #m = re.match(r\"\\w+s(\\d+)\", feature2extract) #  m:  <re.Match object; span=(0, 7), match='MFCCs20'>\n",
    "    #n_freqs=int(m.groups()[0]) ## n_freqs= 20\n",
    "    #Melspec = librosa.feature.melspectrogram(audio_sample, n_mels = n_freqs) # computes mel spectrograms from audio sample, \n",
    "    \n",
    "    if 'MFCCs' in feature2extract:\n",
    "        n_freqs = int(feature2extract[5:len(feature2extract)]) ## n_freqs==20\n",
    "       # Melspec = librosa.feature.melspectrogram(audio_sample, sr=sr)\n",
    "       # x = librosa.feature.mfcc(S=librosa.power_to_db(Melspec),sr=sr, n_mfcc = n_freqs)\n",
    "        x = librosa.feature.mfcc(s ,Fs=Fs, n_mfcc = n_freqs)\n",
    "        #print(x.shape)\n",
    "    elif 'TTBOX' in feature2extract:\n",
    "        r_Fs = librosa.resample(s, Fs, 44100)\n",
    "        r_Fs=44100\n",
    "        s= s/MAX_VAL;\n",
    "        N = len(s);\n",
    "       \n",
    "        desc_TEE, desc_AS, desc_STFTmag, desc_STFTpow, desc_Har, desc_ERB, desc_GAM =td.compute_all_descriptor(s, r_Fs);\n",
    "        desc  = [desc_TEE, desc_AS, desc_STFTmag, desc_STFTpow, desc_Har, desc_ERB, desc_GAM];\n",
    "\n",
    "        ### Time serie integration\n",
    "        param_val, field_name = td.temporalmodeling(desc);\n",
    "        x=param_val\n",
    "    else:\n",
    "        x = Melspec\n",
    "\n",
    "    return x "
   ]
  },
  {
   "cell_type": "code",
   "execution_count": 162,
   "metadata": {},
   "outputs": [],
   "source": [
    "def get_features_from_samples(path_audio_samples, sample_ids, raw_feature, normalization, high_level_features ): \n",
    "    #normalization = NO, z_norm, min_max\n",
    "    ## function to extract features \n",
    "    #high_level_features = 0 or 1 \n",
    "    \n",
    "    n_samples_set = len(sample_ids) # 4\n",
    "    feature_Maps = []\n",
    "    \n",
    "    for sample in sample_ids:\n",
    "        # raw feature extraction:\n",
    "       # print(\"sample: \",sample)\n",
    "        x = raw_feature_fromSample( path_audio_samples+sample, raw_feature ) # x.shape: (4, 20, 2584)\n",
    "       # print(\"x.shape: \",x.shape)\n",
    "        \n",
    "        ##normalization here:si on veut les résultats pour Conv1D on utlise la normalisation \n",
    "        ##normalization here:\n",
    "        if not normalization == 'NO':\n",
    "             x_norm = featureMap_normalization_block_level(x, normalizationType = normalization) \n",
    "        else: x_norm = x\n",
    "        \n",
    "        if high_level_features:\n",
    "            # high level feature extraction:\n",
    "            if 'MFCCs' in raw_feature:\n",
    "                X = compute_statistics_overMFCCs(x_norm, 'yes') # X.shape: (4 , 120)\n",
    "            else: \n",
    "                X = compute_statistics_overSpectogram(x_norm)\n",
    "                \n",
    "            feature_map=X\n",
    "        else:\n",
    "            feature_map=x_norm\n",
    "        \n",
    "        \n",
    "        feature_Maps.append(feature_map)\n",
    "        \n",
    "    return feature_Maps"
   ]
  },
  {
   "cell_type": "code",
   "execution_count": 85,
   "metadata": {},
   "outputs": [],
   "source": [
    "X=get_features_from_samples(path_workingFolder, sample_ids, 'MFCCs20', 'NO', 0)"
   ]
  },
  {
   "cell_type": "code",
   "execution_count": 86,
   "metadata": {},
   "outputs": [],
   "source": [
    "def labels2binary(pos_label, list_labels):  # pos_label = missing queen / nobee\n",
    "    list_binary_labels=[]\n",
    "    for l in list_labels:\n",
    "        #print(\"l=\", l, \"pos_label= \", pos_label)\n",
    "        if l == pos_label:\n",
    "            list_binary_labels.append(1)\n",
    "        else:\n",
    "            list_binary_labels.append(0)\n",
    "    return list_binary_labels"
   ]
  },
  {
   "cell_type": "code",
   "execution_count": 87,
   "metadata": {},
   "outputs": [],
   "source": [
    "def get_GT_labels_fromFiles(path_labels, sample_ids, labels2read) : #labels2read =  name of the label file    \n",
    "    \n",
    "    ##reads labels files and retreives labels for a sample set given by sample_ids\n",
    "    # input:  path_labels: where label file is \n",
    "    #         sample_ids: list of sample names that we want the label\n",
    "    #         labels2read: name of the labels file: state_labels, labels_BeeNotBee_th0 ...\n",
    "    \n",
    "    # output: list of string labels, in same order as sample_ids list\n",
    "    \n",
    "    labels = []\n",
    "    fileAsdict={}\n",
    "    \n",
    "    with open(path_labels + labels2read+'.csv', 'r') as labfile:\n",
    "        csvreader = csv.reader(labfile, delimiter=',')    \n",
    "        for row in csvreader:\n",
    "            if not row[0] == 'sample_name':\n",
    "               # print(\"row[0]\",row[0]) # CF001 - Missing Queen - Day -__segment0\n",
    "               # print(\"row[-1]:\", row[-1])  # bee or nobee\n",
    "                fileAsdict[row[0]]=row[-1]   # row[-1] = '/missing queen/active' or 'bee/nobee'\n",
    "            \n",
    "    for sample in sample_ids:\n",
    "        #print(sample)\n",
    "        #print(fileAsdict[sample[0:-4]]) # bee nobee or unknown \n",
    "        labels.append(fileAsdict[sample[0:-4]])  #remove .wav extension\n",
    "    \n",
    "       \n",
    "    return labels  \n"
   ]
  },
  {
   "cell_type": "code",
   "execution_count": 89,
   "metadata": {},
   "outputs": [
    {
     "data": {
      "text/plain": [
       "(['missing queen',\n",
       "  'missing queen',\n",
       "  'missing queen',\n",
       "  'missing queen',\n",
       "  'missing queen',\n",
       "  'missing queen',\n",
       "  'missing queen',\n",
       "  'missing queen',\n",
       "  'missing queen',\n",
       "  'missing queen'],\n",
       " [0, 0, 0, 0, 0, 0, 0, 0, 0, 0])"
      ]
     },
     "execution_count": 89,
     "metadata": {},
     "output_type": "execute_result"
    }
   ],
   "source": [
    "labels = get_GT_labels_fromFiles(path_workingFolder, sample_ids, labels2read)\n",
    "Y= labels2binary('active', labels)\n",
    "labels[0:10], Y[0:10]"
   ]
  },
  {
   "cell_type": "code",
   "execution_count": 90,
   "metadata": {},
   "outputs": [],
   "source": [
    "def get_items2replicate(list_Binary_labels, list_sample_ids):\n",
    "    \n",
    "    # get the samples to be replicated.\n",
    "    # input: list of labels and sample_ids with same oreder!\n",
    "    # ouptut: dictionary keys:name of samples to be replicated,  value: Number of times to replicate that sample.\n",
    "    \n",
    "    #assert( len(list_Binary_labels) - len(list_sample_ids) == 0), ('arguments should have the same number of elements)\n",
    "    dict_items_replicate={}\n",
    "    \n",
    "    n_samples = len(list_Binary_labels)# 193\n",
    "    #print(\"n_samples: \", list_Binary_labels)\n",
    "    n_positive_labels = sum(list_Binary_labels)#158 = le nbr de 1\n",
    "    #print(\"n_positive_labels: \",n_positive_labels)\n",
    "    n_negative_labels = n_samples - n_positive_labels #35= le nbr de 0\n",
    "    #print(\"n_negative_labels: \",n_negative_labels)\n",
    "    \n",
    "    pos_samples=[]\n",
    "    neg_samples=[]\n",
    "    \n",
    "    for i in range(n_samples):\n",
    "        if list_Binary_labels[i] == 1 :\n",
    "            #print(\"list_sample_ids[i]= : \", list_sample_ids[i])\n",
    "            pos_samples.append(list_sample_ids[i])\n",
    "        else: \n",
    "            neg_samples.append(list_sample_ids[i])\n",
    "            \n",
    "    if n_positive_labels > n_negative_labels:\n",
    "        #print(n_positive_labels, n_negative_labels)\n",
    "        # Replicate negative samples as needed:\n",
    "        dif=n_positive_labels-n_negative_labels\n",
    "        items_replicate=random.choices(neg_samples, k=dif)\n",
    "       # print(\"neg_samples= \",neg_samples, \"items_replicate=\",items_replicate)\n",
    " \n",
    "    elif n_positive_labels < n_negative_labels:\n",
    "        dif=n_negative_labels-n_positive_labels\n",
    "        items_replicate=random.choices(pos_samples, k=dif)\n",
    "              \n",
    "    dict_items_replicate=Counter(items_replicate)\n",
    "    #print(dict_items_replicate)\n",
    "    return dict_items_replicate\n"
   ]
  },
  {
   "cell_type": "code",
   "execution_count": 91,
   "metadata": {},
   "outputs": [],
   "source": [
    "def BalanceData_online(y_set, x_set, sample_ids_set):\n",
    "    \n",
    "    ## balances already processed data (X and Y, just before classifier) by replicating samples of the least represented class.\n",
    "    # input: y_set - binary labels of set, x_set - feature_maps of set, sample_ids_set - sample names in set, ( all have the same order!)\n",
    "    # output: X, Y and sample_ids with replicated samples concatenated \n",
    "    \n",
    " \n",
    "    printb( 'Balancing training data:' )\n",
    "    print('will randomly replicate samples from least represented class')\n",
    "    \n",
    "    x2concatenate = x_set\n",
    "    y2concatenate = y_set\n",
    "    sample_ids2concatenate = sample_ids_set\n",
    "    \n",
    "    dict_items_replicate = get_items2replicate(y_set,sample_ids_set )\n",
    "    #print(\"dict_items_replicate: \",dict_items_replicate)\n",
    "    \n",
    "    for i in range(len(sample_ids_set)):\n",
    "        if sample_ids_set[i] in dict_items_replicate.keys() :\n",
    "            \n",
    "            sample_ids2concatenate =np.concatenate([sample_ids2concatenate, [sample_ids_set[i]]*dict_items_replicate[sample_ids_set[i]]])\n",
    "            y2concatenate = np.concatenate([y2concatenate, [y_set[i]]*dict_items_replicate[sample_ids_set[i]]])\n",
    "            x2concatenate = np.concatenate([x2concatenate, [x_set[i]]*dict_items_replicate[sample_ids_set[i]]])\n",
    "            \n",
    "    return y2concatenate, x2concatenate, sample_ids2concatenate"
   ]
  },
  {
   "cell_type": "code",
   "execution_count": 92,
   "metadata": {},
   "outputs": [
    {
     "name": "stdout",
     "output_type": "stream",
     "text": [
      "[2020-05-02 17:48:39 RAM74.4% 0.82GB] Balancing training data:\n",
      "[2020-05-02 17:48:39 RAM74.4% 0.82GB] will randomly replicate samples from least represented class\n"
     ]
    }
   ],
   "source": [
    "y_concat, x_concat, sample_ids_concat= BalanceData_online(Y, X, sample_ids)"
   ]
  },
  {
   "cell_type": "code",
   "execution_count": 110,
   "metadata": {},
   "outputs": [
    {
     "data": {
      "text/plain": [
       "((17702,), (17702, 880))"
      ]
     },
     "execution_count": 110,
     "metadata": {},
     "output_type": "execute_result"
    }
   ],
   "source": [
    "x, y, z= x_concat.shape\n",
    "X=x_concat.reshape(x, y*z)\n",
    "Y=y_concat\n",
    "Y.shape,X.shape"
   ]
  },
  {
   "cell_type": "code",
   "execution_count": 112,
   "metadata": {},
   "outputs": [
    {
     "data": {
      "text/plain": [
       "((15931, 880), (1771, 880), (15931,), (1771,))"
      ]
     },
     "execution_count": 112,
     "metadata": {},
     "output_type": "execute_result"
    }
   ],
   "source": [
    "from sklearn.preprocessing import LabelEncoder\n",
    "from keras.utils import to_categorical\n",
    "# split the dataset \n",
    "from sklearn.model_selection import train_test_split \n",
    "x_train, x_test, y_train, y_test = train_test_split(X, Y, test_size=0.1, random_state = 42)\n",
    "x_train.shape, x_test.shape, y_train.shape, y_test.shape "
   ]
  },
  {
   "cell_type": "code",
   "execution_count": 115,
   "metadata": {},
   "outputs": [],
   "source": [
    "def SVM_Classification_BeehiveSTATE(X_flat_train, y_train, X_flat_test, y_test, kerneloption='rbf'):\n",
    "\n",
    "    print('\\n')\n",
    "    printb('Starting classification with SVM:')\n",
    "    Test_Preds=[]\n",
    "    Train_Preds=[]\n",
    "    Test_Preds_Proba=[]\n",
    "    Train_Preds_Proba=[]\n",
    "    Test_GroundT=[]\n",
    "    Train_GroundT=[]\n",
    "   \n",
    "    print('\\n')\n",
    "    printb('classification Beehive State into : Active or Missing Queen')\n",
    "        \n",
    "    #train :\n",
    "    CLF = svm.SVC(kernel=kerneloption, probability=True)\n",
    "    CLF.fit(X_flat_train, y_train)\n",
    "    y_pred_train = CLF.predict(X_flat_train)\n",
    "    y_pred_proba_train = CLF.predict_proba(X_flat_train)\n",
    "    \n",
    "    Train_GroundT = y_train\n",
    "    Train_Preds = y_pred_train\n",
    "    Train_Preds_Proba = y_pred_proba_train[:,1]\n",
    "    \n",
    "    # test:\n",
    "    y_pred_test = CLF.predict(X_flat_test)\n",
    "    y_pred_proba_test = CLF.predict_proba(X_flat_test)\n",
    "    Test_GroundT= y_test\n",
    "    Test_Preds = y_pred_test\n",
    "    Test_Preds_Proba = y_pred_proba_test[:,1]\n",
    "\n",
    "    return CLF, Test_GroundT, Train_GroundT, Test_Preds, Train_Preds, Test_Preds_Proba, Train_Preds_Proba "
   ]
  },
  {
   "cell_type": "code",
   "execution_count": 116,
   "metadata": {},
   "outputs": [
    {
     "name": "stdout",
     "output_type": "stream",
     "text": [
      "[2020-05-02 17:57:12 RAM68.1% 0.49GB] \n",
      "\n",
      "[2020-05-02 17:57:12 RAM68.1% 0.49GB] Starting classification with SVM:\n",
      "[2020-05-02 17:57:12 RAM68.1% 0.49GB] \n",
      "\n",
      "[2020-05-02 17:57:12 RAM68.1% 0.49GB] classification Beehive State into : Active or Missing Queen\n"
     ]
    }
   ],
   "source": [
    "CLF, Test_GroundT, Train_GroundT, Test_Preds, Train_Preds, Test_Preds_Proba, Train_Preds_Proba = SVM_Classification_BeehiveSTATE(x_train, y_train , x_test, y_test, kerneloption='rbf')"
   ]
  },
  {
   "cell_type": "code",
   "execution_count": 117,
   "metadata": {},
   "outputs": [
    {
     "data": {
      "text/plain": [
       "((1771,), (15931,), (1771,), (15931,), (1771,), (15931,))"
      ]
     },
     "execution_count": 117,
     "metadata": {},
     "output_type": "execute_result"
    }
   ],
   "source": [
    "Test_GroundT.shape, Train_GroundT.shape, Test_Preds.shape, Train_Preds.shape, Test_Preds_Proba.shape, Train_Preds_Proba.shape"
   ]
  },
  {
   "cell_type": "code",
   "execution_count": 118,
   "metadata": {},
   "outputs": [
    {
     "name": "stdout",
     "output_type": "stream",
     "text": [
      "[2020-05-02 18:32:01 RAM66.1% 0.55GB] Accuracy:  0.9023150762281197\n",
      "[2020-05-02 18:32:01 RAM66.1% 0.55GB] Precision: 0.9093959731543624\n",
      "[2020-05-02 18:32:02 RAM66.1% 0.55GB] Recall: 0.8983425414364641\n"
     ]
    }
   ],
   "source": [
    "from sklearn import metrics\n",
    "print(\"Accuracy: \", metrics.accuracy_score( Test_GroundT, Test_Preds))\n",
    "\n",
    "# Model Precision: what percentage of positive tuples are labeled as such?\n",
    "print(\"Precision:\",metrics.precision_score(Test_GroundT, Test_Preds))\n",
    "\n",
    "# Model Recall: what percentage of positive tuples are labelled as such?\n",
    "print(\"Recall:\",metrics.recall_score(Test_GroundT, Test_Preds))"
   ]
  },
  {
   "cell_type": "code",
   "execution_count": 119,
   "metadata": {},
   "outputs": [],
   "source": [
    "from sklearn.metrics import confusion_matrix\n",
    "import itertools\n",
    "from sklearn.metrics import classification_report\n",
    "from sklearn.metrics import precision_recall_curve\n",
    "from sklearn.metrics import plot_precision_recall_curve\n",
    "from sklearn.metrics import plot_confusion_matrix\n",
    "import matplotlib.pyplot as plt\n",
    "\n",
    "class_names= ['missing queen', 'active' ]\n",
    "\n",
    "\n",
    "def plot_confusion_matrix(cm, classes,\n",
    "                          normalize=False,\n",
    "                          title='Confusion matrix',\n",
    "                          cmap=plt.cm.Blues):\n",
    "    \"\"\"\n",
    "    This function prints and plots the confusion matrix.\n",
    "    Normalization can be applied by setting `normalize=True`.\n",
    "    \"\"\"\n",
    "    plt.imshow(cm, interpolation='nearest', cmap=cmap)\n",
    "    plt.title(title)\n",
    "    plt.colorbar()\n",
    "    tick_marks = np.arange(len(classes))\n",
    "    plt.xticks(tick_marks, classes, rotation=25)\n",
    "    plt.yticks(tick_marks, classes)\n",
    "\n",
    "    if normalize:\n",
    "        cm = cm.astype('float') / cm.sum(axis=1)[:, np.newaxis]\n",
    "        print(\"Normalized confusion matrix\")\n",
    "    else:\n",
    "        print('Confusion matrix, without normalization')\n",
    "\n",
    "    print(cm)\n",
    "\n",
    "    thresh = cm.max() / 2.\n",
    "    for i, j in itertools.product(range(cm.shape[0]), range(cm.shape[1])):\n",
    "        plt.text(j, i, cm[i, j],\n",
    "                 horizontalalignment=\"center\",\n",
    "                 color=\"white\" if cm[i, j] > thresh else \"black\")\n",
    "\n",
    "    plt.tight_layout()\n",
    "    plt.ylabel('True label')\n",
    "    plt.xlabel('Predicted label')\n",
    "\n"
   ]
  },
  {
   "cell_type": "code",
   "execution_count": 120,
   "metadata": {},
   "outputs": [
    {
     "name": "stdout",
     "output_type": "stream",
     "text": [
      "[2020-05-02 18:32:17 RAM66.9% 0.55GB] Confusion matrix, without normalization\n",
      "[2020-05-02 18:32:17 RAM66.9% 0.55GB] [[785  81]\n",
      " [ 92 813]]\n",
      "[2020-05-02 18:32:17 RAM66.9% 0.55GB] Normalized confusion matrix\n",
      "[2020-05-02 18:32:17 RAM66.9% 0.55GB] [[0.91 0.09]\n",
      " [0.1  0.9 ]]\n"
     ]
    },
    {
     "data": {
      "image/png": "[encoded data removed]",
      "text/plain": [
       "<Figure size 432x288 with 2 Axes>"
      ]
     },
     "metadata": {
      "needs_background": "light"
     },
     "output_type": "display_data"
    },
    {
     "data": {
      "image/png": "[encoded data removed]",
      "text/plain": [
       "<Figure size 432x288 with 2 Axes>"
      ]
     },
     "metadata": {
      "needs_background": "light"
     },
     "output_type": "display_data"
    },
    {
     "name": "stdout",
     "output_type": "stream",
     "text": [
      "[2020-05-02 18:32:18 RAM67.0% 0.55GB] \n",
      "Clasification report SVM:\n",
      "                precision    recall  f1-score   support\n",
      "\n",
      "missing_queen       0.90      0.91      0.90       866\n",
      "       active       0.91      0.90      0.90       905\n",
      "\n",
      "     accuracy                           0.90      1771\n",
      "    macro avg       0.90      0.90      0.90      1771\n",
      " weighted avg       0.90      0.90      0.90      1771\n",
      "\n"
     ]
    }
   ],
   "source": [
    "# Compute confusion matrix\n",
    "cnf_matrix = confusion_matrix(Test_GroundT, Test_Preds )\n",
    "np.set_printoptions(precision=2)\n",
    "\n",
    "# Plot non-normalized confusion matrix\n",
    "\n",
    "plot_confusion_matrix(cnf_matrix, classes=class_names,\n",
    "                      title='SVM Confusion matrix, without normalization')\n",
    "\n",
    "# Plot normalized confusion matrix\n",
    "plt.figure()\n",
    "plot_confusion_matrix(cnf_matrix, classes=class_names, normalize=True,\n",
    "                      title='Normalized confusion matrix')\n",
    "\n",
    "plt.show()\n",
    "target_names=['missing_queen', 'active']\n",
    "print ('\\nClasification report SVM:\\n', classification_report(Test_GroundT, Test_Preds , target_names=target_names))"
   ]
  },
  {
   "cell_type": "markdown",
   "metadata": {},
   "source": [
    "# CNN Classification "
   ]
  },
  {
   "cell_type": "code",
   "execution_count": 121,
   "metadata": {},
   "outputs": [
    {
     "data": {
      "text/plain": [
       "((17702, 20, 44, 1), (17702, 1))"
      ]
     },
     "execution_count": 121,
     "metadata": {},
     "output_type": "execute_result"
    }
   ],
   "source": [
    "X= X.reshape(-1, 20, 44, 1)\n",
    "Y=Y.reshape(-1, 1)\n",
    "X.shape, Y.shape"
   ]
  },
  {
   "cell_type": "code",
   "execution_count": 122,
   "metadata": {},
   "outputs": [
    {
     "name": "stderr",
     "output_type": "stream",
     "text": [
      "C:\\Users\\PC\\anaconda3\\lib\\site-packages\\sklearn\\preprocessing\\_label.py:251: DataConversionWarning: A column-vector y was passed when a 1d array was expected. Please change the shape of y to (n_samples, ), for example using ravel().\n",
      "  y = column_or_1d(y, warn=True)\n"
     ]
    }
   ],
   "source": [
    "from sklearn.preprocessing import LabelEncoder\n",
    "from keras.utils import to_categorical\n",
    "\n",
    "# Convert features and corresponding classification labels into numpy arrays\n",
    "\n",
    "X = np.array(X.tolist())\n",
    "y = np.array(Y.tolist())\n",
    "# Encode the classification labels\n",
    "le = LabelEncoder()\n",
    "yy = to_categorical(le.fit_transform(y)) \n",
    "\n",
    "# split the dataset \n",
    "from sklearn.model_selection import train_test_split \n",
    "x_train, x_test, y_train, y_test = train_test_split(X, yy, test_size=0.1, random_state = 42)"
   ]
  },
  {
   "cell_type": "code",
   "execution_count": 123,
   "metadata": {},
   "outputs": [
    {
     "data": {
      "text/plain": [
       "((15931, 20, 44, 1), (1771, 20, 44, 1), (15931, 2), (1771, 2))"
      ]
     },
     "execution_count": 123,
     "metadata": {},
     "output_type": "execute_result"
    }
   ],
   "source": [
    "x_train.shape, x_test.shape, y_train.shape, y_test.shape"
   ]
  },
  {
   "cell_type": "code",
   "execution_count": 127,
   "metadata": {},
   "outputs": [],
   "source": [
    "import keras \n",
    "from keras.models import Sequential, Input, Model \n",
    "from keras.layers import Dense, Dropout, Flatten\n",
    "from keras.layers import Conv2D , MaxPooling2D\n",
    "from keras.layers.normalization import BatchNormalization \n",
    "from keras.layers.advanced_activations import LeakyReLU\n",
    "from keras.optimizers import RMSprop\n",
    "\n",
    "\n",
    "\n",
    "# Neural Network Architecture \n",
    "model=Sequential()\n",
    "\n",
    "model.add(Conv2D(16, kernel_size=(3,3), activation='relu', input_shape=( 20,44, 1), padding='same'))\n",
    "model.add(LeakyReLU(alpha=0.1))\n",
    "model.add(MaxPooling2D((2, 2), padding='same'))\n",
    "# we add the dropout to skip the overfitting \n",
    "# model.add(Dropout(0.25))\n",
    "\n",
    "\n",
    "\n",
    "model.add(Conv2D(16, kernel_size=(3,3), activation='relu', padding='same'))\n",
    "model.add(LeakyReLU(alpha=0.1))\n",
    "model.add(MaxPooling2D((2, 2), padding='same'))\n",
    "\n",
    "# we add the dropout to skip the overfitting \n",
    "# model.add(Dropout(0.25))\n",
    "\n",
    "model.add(Conv2D(16, kernel_size=(3,1), activation='relu', padding='same'))\n",
    "model.add(LeakyReLU(alpha=0.1))\n",
    "model.add(MaxPooling2D((2, 2), padding='same'))\n",
    "#model.add(Dropout(0.25))\n",
    "\n",
    "model.add(Conv2D(16, kernel_size=(3,1), activation='relu', padding='same'))\n",
    "model.add(LeakyReLU(alpha=0.1))\n",
    "model.add(MaxPooling2D((2, 2), padding='same'))\n",
    "\n",
    "# we add the dropout to skip the overfitting \n",
    "model.add(Dropout(0.25))\n",
    "\n",
    "model.add(Flatten())\n",
    "\n",
    "model.add(Dense(256, activation='relu'))\n",
    "model.add(LeakyReLU(alpha=0.1))\n",
    "model.add(Dropout(0.25))\n",
    "\n",
    "model.add(Dense(32 , activation='relu'))\n",
    "model.add(LeakyReLU(alpha=0.1))\n",
    "#model.add(Dropout(0.5))\n",
    "\n",
    "model.add(Dense(2, activation='softmax'))"
   ]
  },
  {
   "cell_type": "code",
   "execution_count": 128,
   "metadata": {},
   "outputs": [],
   "source": [
    "model.compile(loss='categorical_crossentropy', optimizer=RMSprop(), metrics=['accuracy'])"
   ]
  },
  {
   "cell_type": "code",
   "execution_count": 129,
   "metadata": {},
   "outputs": [
    {
     "name": "stdout",
     "output_type": "stream",
     "text": [
      "Model: \"sequential_2\"\n",
      "_________________________________________________________________\n",
      "Layer (type)                 Output Shape              Param #   \n",
      "=================================================================\n",
      "conv2d_5 (Conv2D)            (None, 20, 44, 16)        160       \n",
      "_________________________________________________________________\n",
      "leaky_re_lu_7 (LeakyReLU)    (None, 20, 44, 16)        0         \n",
      "_________________________________________________________________\n",
      "max_pooling2d_5 (MaxPooling2 (None, 10, 22, 16)        0         \n",
      "_________________________________________________________________\n",
      "conv2d_6 (Conv2D)            (None, 10, 22, 16)        2320      \n",
      "_________________________________________________________________\n",
      "leaky_re_lu_8 (LeakyReLU)    (None, 10, 22, 16)        0         \n",
      "_________________________________________________________________\n",
      "max_pooling2d_6 (MaxPooling2 (None, 5, 11, 16)         0         \n",
      "_________________________________________________________________\n",
      "conv2d_7 (Conv2D)            (None, 5, 11, 16)         784       \n",
      "_________________________________________________________________\n",
      "leaky_re_lu_9 (LeakyReLU)    (None, 5, 11, 16)         0         \n",
      "_________________________________________________________________\n",
      "max_pooling2d_7 (MaxPooling2 (None, 3, 6, 16)          0         \n",
      "_________________________________________________________________\n",
      "conv2d_8 (Conv2D)            (None, 3, 6, 16)          784       \n",
      "_________________________________________________________________\n",
      "leaky_re_lu_10 (LeakyReLU)   (None, 3, 6, 16)          0         \n",
      "_________________________________________________________________\n",
      "max_pooling2d_8 (MaxPooling2 (None, 2, 3, 16)          0         \n",
      "_________________________________________________________________\n",
      "dropout_3 (Dropout)          (None, 2, 3, 16)          0         \n",
      "_________________________________________________________________\n",
      "flatten_2 (Flatten)          (None, 96)                0         \n",
      "_________________________________________________________________\n",
      "dense_4 (Dense)              (None, 256)               24832     \n",
      "_________________________________________________________________\n",
      "leaky_re_lu_11 (LeakyReLU)   (None, 256)               0         \n",
      "_________________________________________________________________\n",
      "dropout_4 (Dropout)          (None, 256)               0         \n",
      "_________________________________________________________________\n",
      "dense_5 (Dense)              (None, 32)                8224      \n",
      "_________________________________________________________________\n",
      "leaky_re_lu_12 (LeakyReLU)   (None, 32)                0         \n",
      "_________________________________________________________________\n",
      "dense_6 (Dense)              (None, 2)                 66        \n",
      "=================================================================\n",
      "Total params: 37,170\n",
      "Trainable params: 37,170\n",
      "Non-trainable params: 0\n",
      "_________________________________________________________________\n"
     ]
    }
   ],
   "source": [
    "model.summary()"
   ]
  },
  {
   "cell_type": "code",
   "execution_count": 130,
   "metadata": {},
   "outputs": [
    {
     "name": "stdout",
     "output_type": "stream",
     "text": [
      "1771/1771 [==============================] - ETA: 19 - ETA: 3 - ETA:  - ETA:  - ETA:  - ETA:  - ETA:  - ETA:  - ETA:  - ETA:  - ETA:  - ETA:  - ETA:  - 1s 587us/step\n"
     ]
    }
   ],
   "source": [
    "# Calculate pre-training accuracy \n",
    "score = model.evaluate(x_test, y_test, verbose=1)\n",
    "accuracy = 100*score[1] "
   ]
  },
  {
   "cell_type": "code",
   "execution_count": 131,
   "metadata": {},
   "outputs": [
    {
     "name": "stdout",
     "output_type": "stream",
     "text": [
      "[2020-05-02 18:35:34 RAM63.3% 0.68GB] Pre-training accuracy: 51.1011%\n"
     ]
    }
   ],
   "source": [
    "print(\"Pre-training accuracy: %.4f%%\" % accuracy)"
   ]
  },
  {
   "cell_type": "code",
   "execution_count": 151,
   "metadata": {},
   "outputs": [
    {
     "name": "stdout",
     "output_type": "stream",
     "text": [
      "[2020-05-04 10:44:38 RAM64.9% 0.47GB] Training completed in time:  0:00:00\n"
     ]
    }
   ],
   "source": [
    "from keras.callbacks import ModelCheckpoint \n",
    "from datetime import datetime \n",
    "from keras.callbacks import EarlyStopping\n",
    "\n",
    "num_epochs = 50\n",
    "num_batch_size = 145\n",
    "\n",
    "# simple early stopping\n",
    "es = EarlyStopping(monitor='val_loss', mode='min', verbose=1)\n",
    "\n",
    "#checkpointer = ModelCheckpoint(filepath='saved_models/weights.best.basic_cnn.hdf5', \n",
    "                              # verbose=1, save_best_only=True)\n",
    "start = datetime.now()\n",
    "\n",
    "adam= model.fit(x_train, y_train, batch_size=num_batch_size, epochs=num_epochs, validation_data=(x_test, y_test), verbose=1)\n",
    "\n",
    "\n",
    "duration = datetime.now() - start\n",
    "print(\"Training completed in time: \", duration)"
   ]
  },
  {
   "cell_type": "code",
   "execution_count": 141,
   "metadata": {},
   "outputs": [
    {
     "name": "stdout",
     "output_type": "stream",
     "text": [
      "15931/15931 [==============================] - ETA:  - ETA:  - ETA:  - ETA:  - ETA:  - ETA:  - ETA:  - ETA:  - ETA:  - ETA:  - ETA:  - ETA:  - ETA:  - ETA:  - ETA:  - ETA:  - ETA:  - ETA:  - ETA:  - ETA:  - ETA:  - ETA:  - ETA:  - ETA:  - ETA:  - ETA:  - ETA:  - ETA:  - ETA:  - ETA:  - ETA:  - ETA:  - ETA:  - ETA:  - ETA:  - ETA:  - ETA:  - ETA:  - ETA:  - ETA:  - ETA:  - ETA:  - ETA:  - ETA:  - ETA:  - ETA:  - ETA:  - ETA:  - ETA:  - ETA:  - ETA:  - ETA:  - ETA:  - ETA:  - ETA:  - ETA:  - ETA:  - ETA:  - ETA:  - ETA:  - ETA:  - ETA:  - ETA:  - ETA:  - ETA:  - ETA:  - ETA:  - ETA:  - ETA:  - ETA:  - ETA:  - ETA:  - ETA:  - ETA:  - ETA:  - ETA:  - ETA:  - ETA:  - ETA:  - ETA:  - ETA:  - ETA:  - ETA:  - ETA:  - ETA:  - ETA:  - ETA:  - ETA:  - ETA:  - ETA:  - ETA:  - ETA:  - ETA:  - ETA:  - ETA:  - ETA:  - ETA:  - ETA:  - 5s 336us/step\n",
      "[2020-05-02 18:51:22 RAM62.0% 0.7GB] Training Accuracy:  0.9984307289123535\n"
     ]
    }
   ],
   "source": [
    "# Evaluating the model on the training and testing set\n",
    "score1 = model.evaluate(x_train, y_train, verbose=1)\n",
    "print(\"Training Accuracy: \", score1[1])\n",
    "# save the model \n",
    "#model.save(\"model_benotos.h5py\")"
   ]
  },
  {
   "cell_type": "code",
   "execution_count": 142,
   "metadata": {},
   "outputs": [
    {
     "name": "stdout",
     "output_type": "stream",
     "text": [
      "1771/1771 [==============================] - ETA:  - ETA:  - ETA:  - ETA:  - ETA:  - ETA:  - ETA:  - ETA:  - ETA:  - ETA:  - ETA:  - 1s 342us/step\n",
      "[2020-05-02 18:51:25 RAM61.9% 0.7GB] Testing Accuracy:  0.9954828023910522\n"
     ]
    }
   ],
   "source": [
    "score = model.evaluate(x_test, y_test, verbose=1)\n",
    "print(\"Testing Accuracy: \", score[1])"
   ]
  },
  {
   "cell_type": "code",
   "execution_count": 143,
   "metadata": {},
   "outputs": [
    {
     "name": "stdout",
     "output_type": "stream",
     "text": [
      "[2020-05-02 18:51:28 RAM62.0% 0.7GB] Testing Accuracy:  0.9954828023910522\n"
     ]
    }
   ],
   "source": [
    "print(\"Testing Accuracy: \", score[1])"
   ]
  },
  {
   "cell_type": "code",
   "execution_count": 144,
   "metadata": {},
   "outputs": [
    {
     "name": "stdout",
     "output_type": "stream",
     "text": [
      "[2020-05-02 18:51:31 RAM62.0% 0.7GB] dict_keys(['val_loss', 'val_accuracy', 'loss', 'accuracy'])\n"
     ]
    },
    {
     "data": {
      "image/png": "[encoded data removed]",
      "text/plain": [
       "<Figure size 432x288 with 1 Axes>"
      ]
     },
     "metadata": {
      "needs_background": "light"
     },
     "output_type": "display_data"
    },
    {
     "data": {
      "image/png": "[encoded data removed]",
      "text/plain": [
       "<Figure size 432x288 with 1 Axes>"
      ]
     },
     "metadata": {
      "needs_background": "light"
     },
     "output_type": "display_data"
    }
   ],
   "source": [
    "# Visualise and list all data in history\n",
    "# ---------------------------------------------------    \n",
    "print(adam.history.keys())\n",
    "\n",
    "accuracy= adam.history['accuracy']\n",
    "val_accuracy=adam.history['val_accuracy']\n",
    "loss=adam.history['loss']\n",
    "\n",
    "val_loss=adam.history['val_loss']\n",
    "\n",
    "epochs=range(len(accuracy))\n",
    "fig = plt.figure()\n",
    "plt.plot(epochs, accuracy,'ro',  label='Training accuracy')\n",
    "plt.plot(epochs, val_accuracy, 'b', label='Validation accuracy')\n",
    "plt.title('Training and validation accuracy')\n",
    "plt.ylabel('Accuracy')\n",
    "plt.xlabel('Epoch')\n",
    "fig.savefig('accuracy.png')\n",
    "plt.legend()\n",
    "fig = plt.figure()\n",
    "plt.plot(epochs, loss, 'ro', label='Training loss')\n",
    "plt.plot(epochs, val_loss, 'b', label='Validation loss')\n",
    "plt.title('Training and validation loss')\n",
    "plt.ylabel('Loss')\n",
    "plt.xlabel('Epoch')\n",
    "fig.savefig('loss.png')\n",
    "#plt.legend()\n",
    "plt.show()"
   ]
  },
  {
   "cell_type": "code",
   "execution_count": 145,
   "metadata": {},
   "outputs": [],
   "source": [
    "# Predict labels: \n",
    "predicted_classes= model.predict(x_test)\n",
    "\n",
    "predicted_classes=np.argmax(np.round(predicted_classes), axis=1)"
   ]
  },
  {
   "cell_type": "code",
   "execution_count": 146,
   "metadata": {},
   "outputs": [
    {
     "data": {
      "text/plain": [
       "1"
      ]
     },
     "execution_count": 146,
     "metadata": {},
     "output_type": "execute_result"
    }
   ],
   "source": [
    "rounded_predictions = model.predict_classes(x_test, batch_size=128, verbose=0)\n",
    "rounded_predictions[1]"
   ]
  },
  {
   "cell_type": "code",
   "execution_count": 147,
   "metadata": {},
   "outputs": [
    {
     "data": {
      "text/plain": [
       "1"
      ]
     },
     "execution_count": 147,
     "metadata": {},
     "output_type": "execute_result"
    }
   ],
   "source": [
    "import numpy as np\n",
    "rounded_labels=np.argmax(y_test, axis=1)\n",
    "rounded_labels[1]"
   ]
  },
  {
   "cell_type": "code",
   "execution_count": 148,
   "metadata": {},
   "outputs": [
    {
     "name": "stdout",
     "output_type": "stream",
     "text": [
      "[2020-05-02 18:52:15 RAM62.9% 0.7GB] Confusion matrix, without normalization\n",
      "[2020-05-02 18:52:15 RAM62.9% 0.7GB] [[865   1]\n",
      " [  7 898]]\n",
      "[2020-05-02 18:52:15 RAM62.9% 0.7GB] Normalized confusion matrix\n",
      "[2020-05-02 18:52:15 RAM62.9% 0.7GB] [[1.   0.  ]\n",
      " [0.01 0.99]]\n"
     ]
    },
    {
     "data": {
      "image/png": "[encoded data removed]",
      "text/plain": [
       "<Figure size 432x288 with 2 Axes>"
      ]
     },
     "metadata": {
      "needs_background": "light"
     },
     "output_type": "display_data"
    },
    {
     "data": {
      "image/png": "[encoded data removed]",
      "text/plain": [
       "<Figure size 432x288 with 2 Axes>"
      ]
     },
     "metadata": {
      "needs_background": "light"
     },
     "output_type": "display_data"
    },
    {
     "name": "stdout",
     "output_type": "stream",
     "text": [
      "[2020-05-02 18:52:16 RAM62.9% 0.7GB] \n",
      "Clasification report CNN:\n",
      "                precision    recall  f1-score   support\n",
      "\n",
      "missing_queen       0.99      1.00      1.00       866\n",
      "       active       1.00      0.99      1.00       905\n",
      "\n",
      "     accuracy                           1.00      1771\n",
      "    macro avg       1.00      1.00      1.00      1771\n",
      " weighted avg       1.00      1.00      1.00      1771\n",
      "\n"
     ]
    }
   ],
   "source": [
    "from sklearn.metrics import confusion_matrix\n",
    "#cm = confusion_matrix(rounded_labels, rounded_predictions)\n",
    "#cm\n",
    "fig = plt.figure()\n",
    "# Compute confusion matrix\n",
    "cnf_matrix = confusion_matrix(rounded_labels, rounded_predictions)\n",
    "np.set_printoptions(precision=2)\n",
    "\n",
    "# Plot non-normalized confusion matrix\n",
    "\n",
    "plot_confusion_matrix(cnf_matrix, classes=class_names,\n",
    "                      title='CNN Confusion matrix, without normalization')\n",
    "\n",
    "# Plot normalized confusion matrix\n",
    "plt.figure()\n",
    "plot_confusion_matrix(cnf_matrix, classes=class_names, normalize=True,\n",
    "                      title='Normalized confusion matrix')\n",
    "\n",
    "plt.show()\n",
    "target_names=['missing_queen', 'active']\n",
    "print ('\\nClasification report CNN:\\n', classification_report(rounded_labels, rounded_predictions, target_names=target_names ))"
   ]
  },
  {
   "cell_type": "markdown",
   "metadata": {},
   "source": [
    "# Method 3: TTBOX:"
   ]
  },
  {
   "cell_type": "code",
   "execution_count": null,
   "metadata": {},
   "outputs": [],
   "source": [
    "from keras.models import Sequantial \n",
    "from keras.layers import Dense, Dropout\n",
    "from keras.layers import BatchNormalization, Activation"
   ]
  },
  {
   "cell_type": "code",
   "execution_count": null,
   "metadata": {},
   "outputs": [],
   "source": [
    "X=get_features_from_samples(path_workingFolder, sample_ids, 'TTBOX', 'NO', 0)"
   ]
  },
  {
   "cell_type": "code",
   "execution_count": null,
   "metadata": {},
   "outputs": [],
   "source": [
    "labels = get_GT_labels_fromFiles(path_workingFolder, sample_ids, labels2read)\n",
    "Y= labels2binary('active', labels)\n",
    "labels[0:10], Y[0:10]"
   ]
  },
  {
   "cell_type": "code",
   "execution_count": null,
   "metadata": {},
   "outputs": [],
   "source": [
    "#y_concat_ttbox, x_concat_ttbox, sample_ids_concat_ttbox= BalanceData_online(Y, X, sample_ids)\n",
    "X.shape, Y.shape"
   ]
  },
  {
   "cell_type": "code",
   "execution_count": null,
   "metadata": {},
   "outputs": [],
   "source": [
    "from sklearn.preprocessing import LabelEncoder\n",
    "from keras.utils import to_categorical\n",
    "# split the dataset \n",
    "from sklearn.model_selection import train_test_split \n",
    "x_train, x_test, y_train, y_test = train_test_split(X, Y, test_size=0.1, random_state = 42)\n",
    "x_train.shape, x_test.shape, y_train.shape, y_test.shape "
   ]
  },
  {
   "cell_type": "code",
   "execution_count": null,
   "metadata": {},
   "outputs": [],
   "source": [
    "# Create the model\n",
    "model=sequential()\n",
    "# the first Dense layer\n",
    "model.add(Dense(50, input_shape=(164, )))\n",
    "model.add(Activation(\"relu\"))\n",
    "model.add(BatchNormalization())\n",
    "model.add(Dropout(0.25))\n",
    "\n",
    "# the second dense layer \n",
    "model.add(Dense(10))\n",
    "model.add(Activation(\"relu\"))\n",
    "model.add(BatchNormalization())\n",
    "model.add(Dropout(0.5))\n",
    "# the output layer \n",
    "model.add(Dense(2), activation=\"softmax\")\n",
    "\n",
    "model.compile (loss='binary_crossentropy', optimizer='adam', metrics=[\"accuracy\"])\n",
    "model.summary()\n"
   ]
  },
  {
   "cell_type": "code",
   "execution_count": null,
   "metadata": {},
   "outputs": [],
   "source": [
    "model.fit(x_train, y_train, batch_size=100, epochs=100)"
   ]
  },
  {
   "cell_type": "code",
   "execution_count": null,
   "metadata": {},
   "outputs": [],
   "source": [
    "# Evaluating the model on the training and testing set\n",
    "score1 = model.evaluate(x_train, y_train, verbose=1)\n",
    "print(\"Training Accuracy: \", score1[1])"
   ]
  },
  {
   "cell_type": "code",
   "execution_count": null,
   "metadata": {},
   "outputs": [],
   "source": [
    "score = model.evaluate(x_test, y_test, verbose=1)\n",
    "print(\"Testing Accuracy: \", score[1])"
   ]
  },
  {
   "cell_type": "code",
   "execution_count": null,
   "metadata": {},
   "outputs": [],
   "source": [
    "from sklearn.metrics import roc_auc_score\n",
    "print(\"Auc pour TTBOX:\", roc_auc_score(y_test, model.predict_prob(x_test, verbose=0).reshape(-1),))\n"
   ]
  },
  {
   "cell_type": "code",
   "execution_count": null,
   "metadata": {},
   "outputs": [],
   "source": [
    "Test_Preds=model.predict_prob(x_test, verbose=0).reshape(-1)\n",
    "# Compute confusion matrix\n",
    "cnf_matrix = confusion_matrix(y_test, Test_Preds )\n",
    "np.set_printoptions(precision=2)\n",
    "\n",
    "# Plot non-normalized confusion matrix\n",
    "\n",
    "plot_confusion_matrix(cnf_matrix, classes=class_names,\n",
    "                      title='SVM Confusion matrix, without normalization')\n",
    "\n",
    "# Plot normalized confusion matrix\n",
    "plt.figure()\n",
    "plot_confusion_matrix(cnf_matrix, classes=class_names, normalize=True,\n",
    "                      title='Normalized confusion matrix')\n",
    "\n",
    "plt.show()\n",
    "\n",
    "target_names=['missing_queen', 'active']\n",
    "print ('\\nClasification report SVM:\\n', classification_report(y_test, Test_Preds , target_names=target_names))"
   ]
  }
 ],
 "metadata": {
  "kernelspec": {
   "display_name": "Python 3",
   "language": "python",
   "name": "python3"
  },
  "language_info": {
   "codemirror_mode": {
    "name": "ipython",
    "version": 3
   },
   "file_extension": ".py",
   "mimetype": "text/x-python",
   "name": "python",
   "nbconvert_exporter": "python",
   "pygments_lexer": "ipython3",
   "version": "3.7.6"
  }
 },
 "nbformat": 4,
 "nbformat_minor": 4
}
